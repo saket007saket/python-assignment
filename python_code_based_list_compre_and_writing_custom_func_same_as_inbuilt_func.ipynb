{
 "cells": [
  {
   "cell_type": "code",
   "execution_count": 1,
   "metadata": {},
   "outputs": [],
   "source": [
    "import numpy as np\n",
    "import pandas as pd"
   ]
  },
  {
   "cell_type": "markdown",
   "metadata": {},
   "source": [
    "# TASK 1"
   ]
  },
  {
   "cell_type": "markdown",
   "metadata": {},
   "source": [
    "### 1.1)Write a Python Program to implement your own myreduce() function which works exactly like\n",
    "\n",
    "###    Python's built-in function reduce()"
   ]
  },
  {
   "cell_type": "code",
   "execution_count": 2,
   "metadata": {},
   "outputs": [],
   "source": [
    "# custom function definition to apply reduce function for concatenation if string\n",
    "def reduce_concat(l):\n",
    "    p=''\n",
    "    count=0\n",
    "    for i in list(range(0,l,2)):\n",
    "        \n",
    "        if count!=l-1:\n",
    "             p=p+list_string[i]+list_string[i+1]\n",
    "        else:\n",
    "            p=p+list_string[i]\n",
    "            \n",
    "        count=count+2\n",
    "                \n",
    "    \n",
    "    return p"
   ]
  },
  {
   "cell_type": "code",
   "execution_count": 3,
   "metadata": {},
   "outputs": [],
   "source": [
    "#custom function to apply reduce function for sum of integers in list\n",
    "def reduce_sum(l):\n",
    "    p=0\n",
    "    count=0\n",
    "    for i in list(range(0,l,2)):\n",
    "        if count!=l-1:\n",
    "             p=p+list_numbers[i]+list_numbers[i+1]\n",
    "        else:\n",
    "            p=p+list_numbers[i]\n",
    "            \n",
    "        count=count+2\n",
    "        \n",
    "    return p"
   ]
  },
  {
   "cell_type": "code",
   "execution_count": 4,
   "metadata": {},
   "outputs": [],
   "source": [
    "list_string=['i','neuron','is','best','in','ml','Great!']\n",
    "list_numbers=[1,2,3,4,5,6]"
   ]
  },
  {
   "cell_type": "code",
   "execution_count": 5,
   "metadata": {},
   "outputs": [
    {
     "name": "stdout",
     "output_type": "stream",
     "text": [
      "ineuronisbestinmlGreat!\n"
     ]
    }
   ],
   "source": [
    "\n",
    "print(reduce_concat(len(list_string))) # call of custom function similar to reduce function to do concatenation of string"
   ]
  },
  {
   "cell_type": "code",
   "execution_count": 6,
   "metadata": {},
   "outputs": [
    {
     "name": "stdout",
     "output_type": "stream",
     "text": [
      "21\n"
     ]
    }
   ],
   "source": [
    "print(reduce_sum(len(list_numbers)))# call of custom function similar to reduce function to do sum of numbers in list"
   ]
  },
  {
   "cell_type": "markdown",
   "metadata": {},
   "source": [
    "### 1.2)Write a Python program to implement your own myfilter() function which works exactly like\n",
    "\n",
    "  ### Python's built-in function filter()"
   ]
  },
  {
   "cell_type": "code",
   "execution_count": 7,
   "metadata": {},
   "outputs": [],
   "source": [
    "#method1"
   ]
  },
  {
   "cell_type": "code",
   "execution_count": 8,
   "metadata": {},
   "outputs": [],
   "source": [
    "def even_check(p):\n",
    "    if p%2==0:\n",
    "        return p"
   ]
  },
  {
   "cell_type": "code",
   "execution_count": 9,
   "metadata": {},
   "outputs": [],
   "source": [
    "my_list=[1,2,3,4,5,6]#suppose if we want to to filter only even nos in our new_list"
   ]
  },
  {
   "cell_type": "code",
   "execution_count": 10,
   "metadata": {},
   "outputs": [
    {
     "data": {
      "text/plain": [
       "[2, 4, 6]"
      ]
     },
     "execution_count": 10,
     "metadata": {},
     "output_type": "execute_result"
    }
   ],
   "source": [
    "new_list=[]\n",
    "\n",
    "for i in range(0,len(my_list)):\n",
    "    k=even_check(my_list[i])\n",
    "    if k!=None:\n",
    "         new_list.append(k)\n",
    "    else:\n",
    "        new_list=new_list\n",
    "        \n",
    "new_list"
   ]
  },
  {
   "cell_type": "code",
   "execution_count": 11,
   "metadata": {},
   "outputs": [],
   "source": [
    "#method2"
   ]
  },
  {
   "cell_type": "code",
   "execution_count": 12,
   "metadata": {},
   "outputs": [],
   "source": [
    "my_list=[1,2,3,4,5,6]#suppose if we want to filter only even nos in our new_list"
   ]
  },
  {
   "cell_type": "code",
   "execution_count": 13,
   "metadata": {},
   "outputs": [],
   "source": [
    "def even_check(p):\n",
    "    k=[]\n",
    "    for i in p:\n",
    "        if i%2==0:\n",
    "            k.append(i)\n",
    "        else:\n",
    "            k=k\n",
    "        \n",
    "    return k \n",
    "        "
   ]
  },
  {
   "cell_type": "code",
   "execution_count": 14,
   "metadata": {},
   "outputs": [],
   "source": [
    "my_list=[1,2,3,4,5,6]#suppose if we want to filter only even nos in our new_list"
   ]
  },
  {
   "cell_type": "code",
   "execution_count": 15,
   "metadata": {},
   "outputs": [
    {
     "data": {
      "text/plain": [
       "[2, 4, 6]"
      ]
     },
     "execution_count": 15,
     "metadata": {},
     "output_type": "execute_result"
    }
   ],
   "source": [
    "m=even_check(my_list)\n",
    "m"
   ]
  },
  {
   "cell_type": "markdown",
   "metadata": {},
   "source": [
    "### 2. Implement List comprehensions to produce the following lists.\n",
    "\n",
    "###   Write List comprehensions to produce the following Lists\n",
    "\n",
    "###   ['A', 'C', 'A', 'D', 'G', 'I', ’L’, ‘ D’]\n",
    "\n",
    "###   ['x', 'xx', 'xxx', 'xxxx', 'y', 'yy', 'yyy', 'yyyy', 'z', 'zz', 'zzz', 'zzzz']\n",
    "\n",
    "###   ['x', 'y', 'z', 'xx', 'yy', 'zz', 'xx', 'yy', 'zz', 'xxxx', 'yyyy', 'zzzz']\n",
    "\n",
    "###   [[2], [3], [4], [3], [4], [5], [4], [5], [6]]\n",
    "    \n",
    "###   [[2, 3, 4, 5], [3, 4, 5, 6], [4, 5, 6, 7], [5, 6, 7, 8]]\n",
    "\n",
    "###   [(1, 1), (2, 1), (3, 1), (1, 2), (2, 2), (3, 2), (1, 3), (2, 3), (3, 3)]"
   ]
  },
  {
   "cell_type": "markdown",
   "metadata": {},
   "source": [
    "### (a)"
   ]
  },
  {
   "cell_type": "code",
   "execution_count": 16,
   "metadata": {},
   "outputs": [],
   "source": [
    "#method1"
   ]
  },
  {
   "cell_type": "code",
   "execution_count": 17,
   "metadata": {},
   "outputs": [],
   "source": [
    "my_list = [] \n",
    "alpha = 'A'\n",
    "for i in range(0, 26): \n",
    "    my_list.append(alpha) \n",
    "    alpha = chr(ord(alpha) + 1)  \n",
    "\n",
    "#my_list    "
   ]
  },
  {
   "cell_type": "code",
   "execution_count": 18,
   "metadata": {},
   "outputs": [],
   "source": [
    "def f(i):\n",
    "    if i==0:\n",
    "        return my_list[i]\n",
    "    elif i==1:\n",
    "        return my_list[i]\n",
    "    elif i==2:\n",
    "        return my_list[i-i]\n",
    "    elif i==3:\n",
    "        return my_list[i]\n",
    "    elif i==4:\n",
    "        return my_list[i+2]\n",
    "    elif i==5:\n",
    "        return my_list[i+3]\n",
    "    elif i==6:\n",
    "        return my_list[i+5]\n",
    "    else:\n",
    "        return my_list[i-4]\n",
    "        "
   ]
  },
  {
   "cell_type": "code",
   "execution_count": 19,
   "metadata": {},
   "outputs": [
    {
     "data": {
      "text/plain": [
       "['A', 'B', 'A', 'D', 'G', 'I', 'L', 'D']"
      ]
     },
     "execution_count": 19,
     "metadata": {},
     "output_type": "execute_result"
    }
   ],
   "source": [
    "l=[f(i) for i in range(0,8)]\n",
    "l"
   ]
  },
  {
   "cell_type": "code",
   "execution_count": 20,
   "metadata": {},
   "outputs": [],
   "source": [
    "#method2"
   ]
  },
  {
   "cell_type": "code",
   "execution_count": 21,
   "metadata": {},
   "outputs": [
    {
     "data": {
      "text/plain": [
       "['A', 'C', 'A', 'D', 'G', 'I', 'L', 'D']"
      ]
     },
     "execution_count": 21,
     "metadata": {},
     "output_type": "execute_result"
    }
   ],
   "source": [
    "word = \"ACADGILD\"\n",
    "alphabet_list = [ alphabet for alphabet in word ]\n",
    "alphabet_list"
   ]
  },
  {
   "cell_type": "markdown",
   "metadata": {},
   "source": [
    "### (b)."
   ]
  },
  {
   "cell_type": "code",
   "execution_count": 22,
   "metadata": {},
   "outputs": [],
   "source": [
    "#method1"
   ]
  },
  {
   "cell_type": "code",
   "execution_count": 23,
   "metadata": {},
   "outputs": [],
   "source": [
    "def func(p):\n",
    "    list1=[]\n",
    "    list2=[]\n",
    "    for val in p:\n",
    "        list1.append(val)\n",
    "    for k in range(0,3):\n",
    "        for i in range(1,5):\n",
    "            list2.append(list1[k]*i)\n",
    "    return list2"
   ]
  },
  {
   "cell_type": "code",
   "execution_count": 24,
   "metadata": {},
   "outputs": [
    {
     "data": {
      "text/plain": [
       "['x', 'xx', 'xxx', 'xxxx', 'y', 'yy', 'yyy', 'yyyy', 'z', 'zz', 'zzz', 'zzzz']"
      ]
     },
     "execution_count": 24,
     "metadata": {},
     "output_type": "execute_result"
    }
   ],
   "source": [
    "l=func('xyz')\n",
    "l"
   ]
  },
  {
   "cell_type": "code",
   "execution_count": 25,
   "metadata": {},
   "outputs": [],
   "source": [
    "#method2"
   ]
  },
  {
   "cell_type": "code",
   "execution_count": 26,
   "metadata": {},
   "outputs": [
    {
     "data": {
      "text/plain": [
       "['x', 'xx', 'xxx', 'xxxx', 'y', 'yy', 'yyy', 'yyyy', 'z', 'zz', 'zzz', 'zzzz']"
      ]
     },
     "execution_count": 26,
     "metadata": {},
     "output_type": "execute_result"
    }
   ],
   "source": [
    "input_list = ['x','y','z']\n",
    "result = [ item*num for item in input_list for num in range(1,5)  ]\n",
    "result"
   ]
  },
  {
   "cell_type": "markdown",
   "metadata": {},
   "source": [
    "### (c)"
   ]
  },
  {
   "cell_type": "code",
   "execution_count": 27,
   "metadata": {},
   "outputs": [],
   "source": [
    "#method1"
   ]
  },
  {
   "cell_type": "code",
   "execution_count": 28,
   "metadata": {},
   "outputs": [],
   "source": [
    "def func1(p):\n",
    "    list1=[]\n",
    "    list2=[]\n",
    "    for val in p:\n",
    "        list1.append(val)\n",
    "    for k in list1:\n",
    "        list2.append(k)\n",
    "    for k in range(0,3):\n",
    "        if k !=2:\n",
    "             for j in list1:\n",
    "                    list2.append(j*2)\n",
    "        else:\n",
    "            for j in list1:\n",
    "                list2.append(j*4)\n",
    "    return list2\n",
    "        "
   ]
  },
  {
   "cell_type": "code",
   "execution_count": 29,
   "metadata": {},
   "outputs": [
    {
     "data": {
      "text/plain": [
       "['x', 'y', 'z', 'xx', 'yy', 'zz', 'xx', 'yy', 'zz', 'xxxx', 'yyyy', 'zzzz']"
      ]
     },
     "execution_count": 29,
     "metadata": {},
     "output_type": "execute_result"
    }
   ],
   "source": [
    "l=func1('xyz')\n",
    "l"
   ]
  },
  {
   "cell_type": "code",
   "execution_count": 30,
   "metadata": {},
   "outputs": [],
   "source": [
    "#method2"
   ]
  },
  {
   "cell_type": "code",
   "execution_count": 31,
   "metadata": {},
   "outputs": [
    {
     "data": {
      "text/plain": [
       "['x', 'y', 'z', 'xx', 'yy', 'zz', 'xxx', 'yyy', 'zzz', 'xxxx', 'yyyy', 'zzzz']"
      ]
     },
     "execution_count": 31,
     "metadata": {},
     "output_type": "execute_result"
    }
   ],
   "source": [
    "input_list = ['x','y','z']\n",
    "result = [ item*num for num in range(1,5) for item in input_list  ]\n",
    "result"
   ]
  },
  {
   "cell_type": "markdown",
   "metadata": {},
   "source": [
    "### (d)"
   ]
  },
  {
   "cell_type": "code",
   "execution_count": 32,
   "metadata": {},
   "outputs": [],
   "source": [
    "list1 = [[x+y] for x in range(2,5) for y in range(3)]"
   ]
  },
  {
   "cell_type": "code",
   "execution_count": 33,
   "metadata": {},
   "outputs": [
    {
     "data": {
      "text/plain": [
       "[[2], [3], [4], [3], [4], [5], [4], [5], [6]]"
      ]
     },
     "execution_count": 33,
     "metadata": {},
     "output_type": "execute_result"
    }
   ],
   "source": [
    "list1"
   ]
  },
  {
   "cell_type": "markdown",
   "metadata": {},
   "source": [
    "### (e)"
   ]
  },
  {
   "cell_type": "code",
   "execution_count": 34,
   "metadata": {},
   "outputs": [
    {
     "data": {
      "text/plain": [
       "[[2, 3, 4, 5], [3, 4, 5, 6], [4, 5, 6, 7], [5, 6, 7, 8]]"
      ]
     },
     "execution_count": 34,
     "metadata": {},
     "output_type": "execute_result"
    }
   ],
   "source": [
    "input_list = [2,3,4,5]\n",
    "result = [ [item+num for item in input_list] for num in range(0,4)  ]\n",
    "result\n"
   ]
  },
  {
   "cell_type": "markdown",
   "metadata": {},
   "source": [
    "### (f)"
   ]
  },
  {
   "cell_type": "code",
   "execution_count": 35,
   "metadata": {},
   "outputs": [
    {
     "data": {
      "text/plain": [
       "[(1, 1), (2, 1), (3, 1), (1, 2), (2, 2), (3, 2), (1, 3), (2, 3), (3, 3)]"
      ]
     },
     "execution_count": 35,
     "metadata": {},
     "output_type": "execute_result"
    }
   ],
   "source": [
    "input_list=[1,2,3]\n",
    "result = [ (b,a) for a in input_list for b in input_list]\n",
    "result"
   ]
  },
  {
   "cell_type": "markdown",
   "metadata": {},
   "source": [
    "### 3)Implement a function longestWord() that takes a list of words and returns the longest one.\n"
   ]
  },
  {
   "cell_type": "code",
   "execution_count": 36,
   "metadata": {},
   "outputs": [],
   "source": [
    "def longestWord(p):\n",
    "    k=[]\n",
    "    v=[]\n",
    "    for i in p:\n",
    "        k.append(len(i))\n",
    "    g=max(k)\n",
    "    for j in range(0,len(k)):\n",
    "        if g==k[j]:\n",
    "            v.append(j)\n",
    "        else:\n",
    "            v=v\n",
    "    k=[]\n",
    "    for r in v:\n",
    "        k.append(p[r])\n",
    "        \n",
    "    return k "
   ]
  },
  {
   "cell_type": "code",
   "execution_count": 37,
   "metadata": {},
   "outputs": [],
   "source": [
    "list_string=['i','neuron','is','best','in','ml','Great!']"
   ]
  },
  {
   "cell_type": "code",
   "execution_count": 38,
   "metadata": {},
   "outputs": [
    {
     "data": {
      "text/plain": [
       "['neuron', 'Great!']"
      ]
     },
     "execution_count": 38,
     "metadata": {},
     "output_type": "execute_result"
    }
   ],
   "source": [
    "j=longestWord(list_string)#calling longestWord()function to find the longest word of the list\n",
    "j"
   ]
  },
  {
   "cell_type": "markdown",
   "metadata": {},
   "source": [
    "# TASK 2"
   ]
  },
  {
   "cell_type": "markdown",
   "metadata": {},
   "source": [
    "###### 1.1)Write a Python Program(with class concepts) to find the area of the triangle using the below\n",
    "\n",
    "######    formula.\n",
    "    \n",
    "###### area = (s*(s-a)*(s-b)*(s-c)) ** 0.5\n",
    "    \n",
    "######    Function to take the length of the sides of triangle from user should be defined in the parent\n",
    "    \n",
    "######    class and function to calculate the area should be defined in subcla"
   ]
  },
  {
   "cell_type": "code",
   "execution_count": 39,
   "metadata": {},
   "outputs": [],
   "source": [
    "#method1"
   ]
  },
  {
   "cell_type": "code",
   "execution_count": 40,
   "metadata": {},
   "outputs": [],
   "source": [
    "import math\n",
    "\n",
    "class Area_Triangle():\n",
    "    \n",
    "    def __init__(self):\n",
    "        self.a=int(input(\"enter the 1st side\"))\n",
    "        self.b=int(input(\"enter the 2nd side\"))\n",
    "        self.c=int(input(\"enter the 3rd side\"))"
   ]
  },
  {
   "cell_type": "code",
   "execution_count": 43,
   "metadata": {},
   "outputs": [],
   "source": [
    "class area(Area_Triangle):\n",
    "        \n",
    "    def get_area(self):\n",
    "        self.s= (self.a+self.b+self.c)/2\n",
    "        return math.sqrt(self.s*(self.s-self.a)*(self.s-self.b)*(self.s-self.c))"
   ]
  },
  {
   "cell_type": "code",
   "execution_count": 44,
   "metadata": {},
   "outputs": [
    {
     "name": "stdout",
     "output_type": "stream",
     "text": [
      "enter the 1st side25\n",
      "enter the 2nd side36\n",
      "enter the 3rd side14\n",
      "area of the triangle 128.54352375751958\n"
     ]
    }
   ],
   "source": [
    "saket=area()\n",
    "print(\"area of the triangle\" ,saket.get_area())"
   ]
  },
  {
   "cell_type": "code",
   "execution_count": 45,
   "metadata": {},
   "outputs": [],
   "source": [
    "#method2"
   ]
  },
  {
   "cell_type": "code",
   "execution_count": 46,
   "metadata": {},
   "outputs": [],
   "source": [
    "import math\n",
    "class Area_Triangle():\n",
    "    \n",
    "    def __init__(self,a,b,c):\n",
    "        self.a=a\n",
    "        self.b=b\n",
    "        self.c=c\n",
    " "
   ]
  },
  {
   "cell_type": "code",
   "execution_count": 47,
   "metadata": {},
   "outputs": [],
   "source": [
    "class area(Area_Triangle):\n",
    "        \n",
    "    def get_area(self):\n",
    "        self.s= (self.a+self.b+self.c)/2\n",
    "        return math.sqrt(self.s*(self.s-self.a)*(self.s-self.b)*(self.s-self.c))"
   ]
  },
  {
   "cell_type": "code",
   "execution_count": 48,
   "metadata": {},
   "outputs": [
    {
     "name": "stdout",
     "output_type": "stream",
     "text": [
      "2.9047375096555625\n"
     ]
    }
   ],
   "source": [
    "a=area(4,2,3)\n",
    "print(a.get_area())"
   ]
  },
  {
   "cell_type": "markdown",
   "metadata": {},
   "source": [
    "###### 1.2)Write a function filter_long_words() that takes a list of words and an integer n and returns the list\n",
    "\n",
    "######    of words that are longer than n.\n"
   ]
  },
  {
   "cell_type": "code",
   "execution_count": 49,
   "metadata": {},
   "outputs": [],
   "source": [
    "#method1"
   ]
  },
  {
   "cell_type": "code",
   "execution_count": 50,
   "metadata": {},
   "outputs": [],
   "source": [
    "def filterlongword(string,number):\n",
    "    return [word for word in string if len(word) > number]\n"
   ]
  },
  {
   "cell_type": "code",
   "execution_count": 51,
   "metadata": {},
   "outputs": [
    {
     "data": {
      "text/plain": [
       "['self',\n",
       " 'realization',\n",
       " 'first',\n",
       " 'step',\n",
       " 'live',\n",
       " 'happily',\n",
       " 'connect',\n",
       " 'with',\n",
       " 'god(lord_Krishna)']"
      ]
     },
     "execution_count": 51,
     "metadata": {},
     "output_type": "execute_result"
    }
   ],
   "source": [
    "string=list(\"self realization is the first step to live happily and connect with god(lord_Krishna) \".split())\n",
    "filterlongword(string,3)"
   ]
  },
  {
   "cell_type": "code",
   "execution_count": 52,
   "metadata": {},
   "outputs": [],
   "source": [
    "#method2"
   ]
  },
  {
   "cell_type": "code",
   "execution_count": 53,
   "metadata": {},
   "outputs": [],
   "source": [
    "def filter_long_words(a,b):\n",
    "    return list(filter(lambda x:len(x)>b,a))"
   ]
  },
  {
   "cell_type": "code",
   "execution_count": 54,
   "metadata": {},
   "outputs": [
    {
     "data": {
      "text/plain": [
       "['realization', 'happily', 'connect', 'god(lord_Krishna)']"
      ]
     },
     "execution_count": 54,
     "metadata": {},
     "output_type": "execute_result"
    }
   ],
   "source": [
    "filter_long_words(list(\"self realization is the first step to live happily and connect with god(lord_Krishna) \".split()),5)\n"
   ]
  },
  {
   "cell_type": "markdown",
   "metadata": {},
   "source": [
    "###### 2.1)Write a Python program using function concept that maps list of words into a list of integers\n",
    "    \n",
    "######     representing the lengths of the corresponding words.\n",
    "        \n",
    "######     Hint: If a list [ ab,cde,erty] is passed on to the python function output should come as [2,3,4]\n",
    "        \n",
    "######     Here 2,3 and 4 are the lengths of the words in the list."
   ]
  },
  {
   "cell_type": "code",
   "execution_count": 55,
   "metadata": {},
   "outputs": [],
   "source": [
    "#method1"
   ]
  },
  {
   "cell_type": "code",
   "execution_count": 56,
   "metadata": {},
   "outputs": [],
   "source": [
    "def map_to_length(a):\n",
    "    return list(len(x)for x in a)"
   ]
  },
  {
   "cell_type": "code",
   "execution_count": 57,
   "metadata": {},
   "outputs": [
    {
     "data": {
      "text/plain": [
       "[4, 11, 2, 3, 5, 4, 2, 4, 7, 3, 7, 4, 17]"
      ]
     },
     "execution_count": 57,
     "metadata": {},
     "output_type": "execute_result"
    }
   ],
   "source": [
    "map_to_length(list(\"self realization is the first step to live happily and connect with god(lord_Krishna) \".split()))"
   ]
  },
  {
   "cell_type": "code",
   "execution_count": 58,
   "metadata": {},
   "outputs": [],
   "source": [
    "#method2"
   ]
  },
  {
   "cell_type": "code",
   "execution_count": 59,
   "metadata": {},
   "outputs": [],
   "source": [
    "def map_to_length(a):\n",
    "    return list(map(lambda x:len(x),a))\n"
   ]
  },
  {
   "cell_type": "code",
   "execution_count": 60,
   "metadata": {},
   "outputs": [
    {
     "data": {
      "text/plain": [
       "[4, 11, 2, 3, 5, 4, 2, 4, 7, 3, 7, 4, 17]"
      ]
     },
     "execution_count": 60,
     "metadata": {},
     "output_type": "execute_result"
    }
   ],
   "source": [
    "map_to_length(list(\"self realization is the first step to live happily and connect with god(lord_Krishna) \".split()))"
   ]
  },
  {
   "cell_type": "markdown",
   "metadata": {},
   "source": [
    "###### 2.2)Write a Python function which takes a character (i.e. a string of length 1) and returns True if it is\n",
    "\n",
    "######    a vowel, False otherwise.\n"
   ]
  },
  {
   "cell_type": "code",
   "execution_count": 61,
   "metadata": {},
   "outputs": [],
   "source": [
    "def check_vowel_conso(a):\n",
    "    return True if len(a)==1 and a in ['a','e','i','o','u'] else False"
   ]
  },
  {
   "cell_type": "code",
   "execution_count": 62,
   "metadata": {},
   "outputs": [
    {
     "name": "stdout",
     "output_type": "stream",
     "text": [
      "input a character\n",
      "m\n",
      "False\n"
     ]
    }
   ],
   "source": [
    "print(\"input a character\")\n",
    "print(check_vowel_conso(input()))"
   ]
  },
  {
   "cell_type": "code",
   "execution_count": null,
   "metadata": {},
   "outputs": [],
   "source": []
  }
 ],
 "metadata": {
  "kernelspec": {
   "display_name": "Python 3",
   "language": "python",
   "name": "python3"
  },
  "language_info": {
   "codemirror_mode": {
    "name": "ipython",
    "version": 3
   },
   "file_extension": ".py",
   "mimetype": "text/x-python",
   "name": "python",
   "nbconvert_exporter": "python",
   "pygments_lexer": "ipython3",
   "version": "3.7.4"
  }
 },
 "nbformat": 4,
 "nbformat_minor": 2
}
