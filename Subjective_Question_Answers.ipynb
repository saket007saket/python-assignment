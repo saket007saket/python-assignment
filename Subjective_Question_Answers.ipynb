{
  "nbformat": 4,
  "nbformat_minor": 0,
  "metadata": {
    "kernelspec": {
      "display_name": "Python 3",
      "language": "python",
      "name": "python3"
    },
    "language_info": {
      "codemirror_mode": {
        "name": "ipython",
        "version": 3
      },
      "file_extension": ".py",
      "mimetype": "text/x-python",
      "name": "python",
      "nbconvert_exporter": "python",
      "pygments_lexer": "ipython3",
      "version": "3.7.4"
    },
    "colab": {
      "name": "Copy of Subjective Answers.ipynb",
      "provenance": [],
      "collapsed_sections": [
        "jHmhIiPdh7y0",
        "HJWJWHegiFbM",
        "SsNey2cwir8C",
        "ANRIAz3ii1Q0",
        "gp6U0efKjEbn",
        "5v7VQQ59jRIV",
        "e6K0D1hmjbBg",
        "yJVLEqPpjhNY",
        "kvwsKkOhjwRZ",
        "fV4ZqPLakBX6",
        "eHpaZ4xYkrp7",
        "f9BVI0CHk-h6",
        "fK_MBrEllNGT",
        "H4eV_WxDlbp5",
        "YZ7o_ILelqVX",
        "UiP34kxBmDvK",
        "w8z2lEkCmKpv",
        "HNMFOeAKmUSP",
        "31Jwqvx5m3-x",
        "FLO5LoQYnzog",
        "hvGBk1nln76Z",
        "TkrhLgYYoB4N",
        "VI-GoNwxoMZ3",
        "y3ObT6kXocfK",
        "ZGWEU7WJopQQ",
        "1axSXaTSoyIj",
        "Tdk2foJKo3qX",
        "rcI_UBYtpCsx",
        "kumxq3_JpLyg",
        "IEal2eCSpVsE",
        "N4pZHdEHpbj5",
        "T7cT0lb2pqNH",
        "ZcAkHXABqG2P",
        "9V6NGyNgwuhX",
        "y-hQpB9ow7nm",
        "YHVGmBFjxFZR",
        "jPlBX5UlxQM6",
        "9xqA3yT_xgo8",
        "IARHKGxmxuGD",
        "KtzatmLDx2CC",
        "5xQRRnLRyHjb",
        "78sY20N_ybPT",
        "ZMPWXUxJynUI",
        "pZZeuA_KyxOb",
        "nP8BkIZby7bz",
        "7Q64cinLzHmw",
        "j5knUvLWzOjC",
        "xL-mf0gC07lR",
        "iiCmWWDX1CzZ",
        "d_TRnlXZ52eP",
        "3v3lU6qr59mm",
        "CMfY6Jr86EoA",
        "SCtS_r8n6WVp",
        "roEW4uJ_6frV",
        "oRvkbCDe6rRE",
        "HbX4o9iB7xwr",
        "iLZCF5aM79oG",
        "TpEPh3zT8GzY",
        "gmJLTZwa8OcP",
        "YFAgRreP8dk5",
        "uy0eFJtj8npG",
        "x6xAH_Jf82qz",
        "Nz_3-Kze9AhZ",
        "5so1rud5-pi_",
        "yM47gy0p-0Aj",
        "BRX9Pb9f_F83",
        "IAW_WM7c_RhY",
        "Wvie4dGA_cF2"
      ]
    }
  },
  "cells": [
    {
      "cell_type": "markdown",
      "metadata": {
        "id": "5msu-xHqe4sW",
        "colab_type": "text"
      },
      "source": [
        "#Q1. Write a Python program to get the string from the given string where all the occurrence of its first char has been changed to '$,' except first char itself?"
      ]
    },
    {
      "cell_type": "markdown",
      "metadata": {
        "id": "7fAW0PtGfB8-",
        "colab_type": "text"
      },
      "source": [
        "Sample String: 'prospect'\n",
        "\n",
        " Expected Result : 'pros$ect'\n"
      ]
    },
    {
      "cell_type": "code",
      "metadata": {
        "id": "MFturW97euEe",
        "colab_type": "code",
        "colab": {},
        "outputId": "b1605d53-2689-4c15-e009-10721bcccae2"
      },
      "source": [
        "# Ans. 1\n",
        "def replace_char(str2):\n",
        "    str1 = str2[0]\n",
        "    str2 = str2.replace(str1, '$')\n",
        "    str2 = str1 + str2[1:]\n",
        "    \n",
        "    return str2\n",
        "print(replace_char('return'))"
      ],
      "execution_count": null,
      "outputs": [
        {
          "output_type": "stream",
          "text": [
            "retu$n\n"
          ],
          "name": "stdout"
        }
      ]
    },
    {
      "cell_type": "markdown",
      "metadata": {
        "id": "ExI3src5fKuF",
        "colab_type": "text"
      },
      "source": [
        "#Q2. Write a Python program to get the single string from the two given strings, and separated by the space and swap the first two characters of each string?\n",
        "\n",
        "Sample String : 'abc', 'xyz'.\n",
        "\n",
        "Expected Result: 'xyc abz'"
      ]
    },
    {
      "cell_type": "code",
      "metadata": {
        "id": "BocFwnfzeuEl",
        "colab_type": "code",
        "colab": {},
        "outputId": "2ea5cf51-d0f4-469d-8bf9-3d16379fe8c3"
      },
      "source": [
        "# ans 2 \n",
        "def swap(a, b):\n",
        "    new_a = b[:2] + a[2:]\n",
        "    new_b = a[:2] + b[2:]\n",
        "    \n",
        "    return new_a + ' ' + new_b\n",
        "print(swap('sat', 'var'))"
      ],
      "execution_count": null,
      "outputs": [
        {
          "output_type": "stream",
          "text": [
            "vat sar\n"
          ],
          "name": "stdout"
        }
      ]
    },
    {
      "cell_type": "markdown",
      "metadata": {
        "id": "mn8PBEq0foQ2",
        "colab_type": "text"
      },
      "source": [
        "#Q3. Write the Python program to add 'ing' at the end of the given strin (length of the string should be at least 3). If given string already ends with 'ing,' then add 'ly' instead. If string length of the given string is less than 3, leave it unchanged?\n",
        "\n",
        "Sample string: ' abc '\n",
        "\n",
        "Expected result: ' abcing '\n",
        "\n",
        "Sample string: ' string '\n",
        "\n",
        "Expected result: ' stringly '\n"
      ]
    },
    {
      "cell_type": "code",
      "metadata": {
        "id": "IBL2fvh-euEr",
        "colab_type": "code",
        "colab": {},
        "outputId": "90b101df-d7a2-4218-da02-580fe2b3f24e"
      },
      "source": [
        "# ans 3.\n",
        "def add_string(str1):\n",
        "    length = len(str1)\n",
        "    if length > 2:\n",
        "        if str1[-3:] == 'ing':\n",
        "            str1 += 'ly'     \n",
        "        else: \n",
        "            str1 += 'ing'  \n",
        "    return str1\n",
        "print(add_string('ab'))\n",
        "print(add_string('abc'))\n",
        "print(add_string('string'))"
      ],
      "execution_count": null,
      "outputs": [
        {
          "output_type": "stream",
          "text": [
            "ab\n",
            "abcing\n",
            "stringly\n"
          ],
          "name": "stdout"
        }
      ]
    },
    {
      "cell_type": "markdown",
      "metadata": {
        "id": "QtbLUK7KgCxY",
        "colab_type": "text"
      },
      "source": [
        "#Q4. Write the Python program to find the first appearance of the substring 'not' and 'poor' from the given string, if 'not' follows the 'poor', replace the whole 'not'...' poor' substring with 'good'.Return the resulting string.\n",
        "\n",
        "Sample string: 'The lyrics are not that poor!'\n",
        "\n",
        "'The lyrics are poor!'\n",
        "\n",
        "Expected Result: 'The lyrics are good!'\n",
        "\n",
        "'The lyrics are poor!'"
      ]
    },
    {
      "cell_type": "code",
      "metadata": {
        "id": "bMGrhlP9euEv",
        "colab_type": "code",
        "colab": {},
        "outputId": "deef6530-a170-4a71-cf98-f5cb705d9711"
      },
      "source": [
        "# ans 4.\n",
        "def not_poor(str1): \n",
        "    snot = str1.find('not') \n",
        "    spoor = str1.find('poor')  \n",
        "    \n",
        "    if spoor > snot and snot>0 and spoor>0: \n",
        "        str1 = str1.replace(str1[snot:(spoor+4)], 'good')     \n",
        "        return str1   \n",
        "    else:    \n",
        "        return str1 \n",
        "print(not_poor('The lyrics are not that poor!')) \n",
        "print(not_poor('The lyrics are poor!'))"
      ],
      "execution_count": null,
      "outputs": [
        {
          "output_type": "stream",
          "text": [
            "The lyrics are good!\n",
            "The lyrics are poor!\n"
          ],
          "name": "stdout"
        }
      ]
    },
    {
      "cell_type": "markdown",
      "metadata": {
        "id": "JmME8XoQgVzC",
        "colab_type": "text"
      },
      "source": [
        "#Q5. Write the Python program to remove the characters which have odd index values of a given string."
      ]
    },
    {
      "cell_type": "code",
      "metadata": {
        "id": "boHtaE7heuE0",
        "colab_type": "code",
        "colab": {},
        "outputId": "5e2084ca-8725-4f31-fb6b-3a98738370b6"
      },
      "source": [
        "# ans 5\n",
        "def odd_values_string(str): \n",
        "    result = \"\"    \n",
        "    for i in range(len(str)):\n",
        "        if i % 2 == 0:      \n",
        "            result = result + str[i]  \n",
        "    return result  \n",
        "print(odd_values_string('abcdef')) \n",
        "print(odd_values_string('python')) "
      ],
      "execution_count": null,
      "outputs": [
        {
          "output_type": "stream",
          "text": [
            "ace\n",
            "pto\n"
          ],
          "name": "stdout"
        }
      ]
    },
    {
      "cell_type": "markdown",
      "metadata": {
        "id": "oLsdDyBHhILL",
        "colab_type": "text"
      },
      "source": [
        "#Q6. Write the Python function to get a string made of 4 copies of the last two characters of the specified string (length must be at least 2).\n",
        "Sample function and result :\n",
        "\n",
        "insert-end ('Python') -> abababab\n",
        "\n",
        "insert-end('Exercises') -> jkjkjkjk\n"
      ]
    },
    {
      "cell_type": "code",
      "metadata": {
        "id": "Yvqsq6cDeuE4",
        "colab_type": "code",
        "colab": {},
        "outputId": "6e063855-860b-4113-e57a-2fe8dac9f20c"
      },
      "source": [
        "# ans 6\n",
        "def insert_end(str): \n",
        "    sub_str = str[-2:] \n",
        "    return sub_str * 4 \n",
        "print(insert_end('Python')) \n",
        "print(insert_end('Exercises'))"
      ],
      "execution_count": null,
      "outputs": [
        {
          "output_type": "stream",
          "text": [
            "onononon\n",
            "eseseses\n"
          ],
          "name": "stdout"
        }
      ]
    },
    {
      "cell_type": "markdown",
      "metadata": {
        "id": "FO4pVuLchpuS",
        "colab_type": "text"
      },
      "source": [
        "#Q7. Write the python function to get a string made of its first three characters of a specified string. If the length of the string is less than 3 then return the original string.\n",
        "\n",
        "Sample function and result :\n",
        "\n",
        "first-three('ipy') -> ipy\n",
        "\n",
        "first-three('python') -> pyt\n"
      ]
    },
    {
      "cell_type": "code",
      "metadata": {
        "id": "_s7KYIw2euE8",
        "colab_type": "code",
        "colab": {},
        "outputId": "21da0be2-c09e-4531-a7f0-ea050eff742f"
      },
      "source": [
        "# ans 7\n",
        "def first_three(str): \n",
        "    return str[:3] if len(str) > 3 else str  \n",
        "print(first_three('ipy')) \n",
        "print(first_three('python')) \n",
        "print(first_three('py'))"
      ],
      "execution_count": null,
      "outputs": [
        {
          "output_type": "stream",
          "text": [
            "ipy\n",
            "pyt\n",
            "py\n"
          ],
          "name": "stdout"
        }
      ]
    },
    {
      "cell_type": "markdown",
      "metadata": {
        "id": "jHmhIiPdh7y0",
        "colab_type": "text"
      },
      "source": [
        "#Q8. Write the python program to print the following floating numbers up to 2 decimal places?"
      ]
    },
    {
      "cell_type": "code",
      "metadata": {
        "id": "5cjliCOxeuFA",
        "colab_type": "code",
        "colab": {},
        "outputId": "57ed558f-e075-4318-8986-1f8e56e605d6"
      },
      "source": [
        "# ans 8\n",
        "x = 3.1415926 \n",
        "y = 12.9999 \n",
        "print(\"\\nOriginal Number: \", x) \n",
        "print(\"Formatted Number: \"+\"{:.2f}\".format(x)); \n",
        "print(\"Original Number: \", y) \n",
        "print(\"Formatted Number: \"+\"{:.2f}\".format(y)); \n",
        "print() "
      ],
      "execution_count": null,
      "outputs": [
        {
          "output_type": "stream",
          "text": [
            "\n",
            "Original Number:  3.1415926\n",
            "Formatted Number: 3.14\n",
            "Original Number:  12.9999\n",
            "Formatted Number: 13.00\n",
            "\n"
          ],
          "name": "stdout"
        }
      ]
    },
    {
      "cell_type": "markdown",
      "metadata": {
        "id": "HJWJWHegiFbM",
        "colab_type": "text"
      },
      "source": [
        "#Q9. Write the Python program to format a number with a percentage?"
      ]
    },
    {
      "cell_type": "code",
      "metadata": {
        "id": "1nj_gfQ0euFE",
        "colab_type": "code",
        "colab": {},
        "outputId": "2bcac84f-f038-478d-a330-3f3322a5a33c"
      },
      "source": [
        "# ans 9\n",
        "x = 0.25 \n",
        "y = -0.25 \n",
        "print(\"\\nOriginal Number: \", x)\n",
        "print(\"Formatted Number with percentage: \"+\"{:.2%}\".format(x));\n",
        "print(\"Original Number: \", y) \n",
        "print(\"Formatted Number with percentage: \"+\"{:.2%}\".format(y));\n",
        "print()"
      ],
      "execution_count": null,
      "outputs": [
        {
          "output_type": "stream",
          "text": [
            "\n",
            "Original Number:  0.25\n",
            "Formatted Number with percentage: 25.00%\n",
            "Original Number:  -0.25\n",
            "Formatted Number with percentage: -25.00%\n",
            "\n"
          ],
          "name": "stdout"
        }
      ]
    },
    {
      "cell_type": "markdown",
      "metadata": {
        "id": "SsNey2cwir8C",
        "colab_type": "text"
      },
      "source": [
        "#Q10. Write the Python program to count occurrences of a substring in a String?"
      ]
    },
    {
      "cell_type": "code",
      "metadata": {
        "id": "voIuLqFheuFH",
        "colab_type": "code",
        "colab": {},
        "outputId": "fcfb34a0-8c5e-4a73-eccd-6a25ce84ec14"
      },
      "source": [
        "# ans 10\n",
        "str1 = 'the quick brown fox jumps over the lazy dog.' \n",
        "print() \n",
        "print(str1.count(\"the\")) \n",
        "print()"
      ],
      "execution_count": null,
      "outputs": [
        {
          "output_type": "stream",
          "text": [
            "\n",
            "2\n",
            "\n"
          ],
          "name": "stdout"
        }
      ]
    },
    {
      "cell_type": "markdown",
      "metadata": {
        "id": "ANRIAz3ii1Q0",
        "colab_type": "text"
      },
      "source": [
        "#Q11. Write the Python program to count repeated characters in a string.\n",
        "\n",
        "Sample string: ' thequickbrownjumpsoverthelazydog '\n",
        "\n",
        "Expected output:\n",
        "\n",
        "o 3\n",
        "\n",
        "e 3\n",
        "\n",
        "u 2\n",
        "\n",
        "h 2"
      ]
    },
    {
      "cell_type": "code",
      "metadata": {
        "id": "NFSOgnSneuFM",
        "colab_type": "code",
        "colab": {},
        "outputId": "aa0b51b3-bf18-4049-8917-55eff0d4a436"
      },
      "source": [
        "# ans 11\n",
        "import collections\n",
        "str1 = 'thequickbrownfoxjumpsoverthelazydog' \n",
        "d = collections.defaultdict(int) \n",
        "for c in str1:   \n",
        "    d[c] += 1  \n",
        "    \n",
        "for c in sorted(d, key=d.get, reverse=True): \n",
        "    if d[c] > 1:    \n",
        "        print('%s %d' % (c, d[c]))"
      ],
      "execution_count": null,
      "outputs": [
        {
          "output_type": "stream",
          "text": [
            "o 4\n",
            "e 3\n",
            "t 2\n",
            "h 2\n",
            "u 2\n",
            "r 2\n"
          ],
          "name": "stdout"
        }
      ]
    },
    {
      "cell_type": "markdown",
      "metadata": {
        "id": "gp6U0efKjEbn",
        "colab_type": "text"
      },
      "source": [
        "#Q12. Write the Python program to print the square and cube symbol in the area of a rectangle and volume of a cylinder?\n",
        "\n",
        "Sample outputThe area of the rectangle is 1256.66cm2\n",
        "\n",
        "The volume of the cylinder is 1254.725cm3"
      ]
    },
    {
      "cell_type": "code",
      "metadata": {
        "id": "znCdWtm7euFR",
        "colab_type": "code",
        "colab": {},
        "outputId": "1f2ddff1-1414-45ec-eba8-62065dbd01fa"
      },
      "source": [
        "# ans 12\n",
        "area = 1256.66 \n",
        "volume = 1254.725\n",
        "decimals = 2\n",
        "print(\"The area of the rectangle is {0:.{1}f}cm\\u00b2\".format(area, decimals)) \n",
        "decimals = 3\n",
        "print(\"The volume of the cylinder is {0:.{1}f}cm\\u00b3\".format(volume, decimals)) "
      ],
      "execution_count": null,
      "outputs": [
        {
          "output_type": "stream",
          "text": [
            "The area of the rectangle is 1256.66cm²\n",
            "The volume of the cylinder is 1254.725cm³\n"
          ],
          "name": "stdout"
        }
      ]
    },
    {
      "cell_type": "markdown",
      "metadata": {
        "id": "5v7VQQ59jRIV",
        "colab_type": "text"
      },
      "source": [
        "#Q13. Write the Python program to check if a string contains all letters of the alphabet?"
      ]
    },
    {
      "cell_type": "code",
      "metadata": {
        "id": "a9TxFZYMeuFU",
        "colab_type": "code",
        "colab": {},
        "outputId": "8ef32169-dae9-4e01-8183-82de4699885c"
      },
      "source": [
        "# ans 13\n",
        "import string \n",
        "alphabet = set(string.ascii_lowercase) \n",
        "input_string = 'The quick brown fox jumps over the lazy dog' \n",
        "print(set(input_string.lower()) >= alphabet) \n",
        "input_string = 'The quick brown fox jumps over the lazy cat'\n",
        "print(set(input_string.lower()) >= alphabet)"
      ],
      "execution_count": null,
      "outputs": [
        {
          "output_type": "stream",
          "text": [
            "True\n",
            "False\n"
          ],
          "name": "stdout"
        }
      ]
    },
    {
      "cell_type": "markdown",
      "metadata": {
        "id": "e6K0D1hmjbBg",
        "colab_type": "text"
      },
      "source": [
        "#Q14. Write the Python program to find the second most repeated word in a given string?"
      ]
    },
    {
      "cell_type": "code",
      "metadata": {
        "id": "XAglub9XeuFY",
        "colab_type": "code",
        "colab": {}
      },
      "source": [
        "# ans 14\n",
        "def word_count(str): \n",
        "    counts = dict()     \n",
        "    words = str.split()  \n",
        "    \n",
        "    for word in words: \n",
        "        if word in counts:  \n",
        "            counts[word] += 1  \n",
        "        else:             \n",
        "            counts[word] = 1  \n",
        "    counts_x = sorted(counts.items(), key=lambda kv: kv[1]) \n",
        "    #print(counts_x)   \n",
        "    return counts_x[-2]\n",
        "\n"
      ],
      "execution_count": null,
      "outputs": []
    },
    {
      "cell_type": "markdown",
      "metadata": {
        "id": "yJVLEqPpjhNY",
        "colab_type": "text"
      },
      "source": [
        "#Q15. Write the Python program to find the minimum window in the given string, which will contains all the characters of another given strings?\n",
        "\n",
        "Example 1\n",
        "\n",
        "Input : string1 = \" PRWSOERIUSFK \"\n",
        "\n",
        "string2 = \" OSU \"\n",
        "\n",
        "Output: Minimum window is \"OERIUS\""
      ]
    },
    {
      "cell_type": "code",
      "metadata": {
        "id": "pMeQ5dYOeuFb",
        "colab_type": "code",
        "colab": {},
        "outputId": "e1cb7dc1-8ac7-4ff0-82a8-39386925f43c"
      },
      "source": [
        "# ans 15\n",
        "import collections\n",
        "def min_window(str1, str2):  \n",
        "    result_char, missing_char = collections.Counter(str2), len(str2)   \n",
        "    i = p = q = 0     \n",
        "    for j, c in enumerate(str1, 1):   \n",
        "        missing_char -= result_char[c] > 0   \n",
        "        result_char[c] -= 1        \n",
        "        if not missing_char:     \n",
        "            while i < q and result_char[str1[i]] < 0:  \n",
        "                result_char[str1[i]] += 1           \n",
        "                i += 1            \n",
        "            if not q or j - i <= q - p:        \n",
        "                p, q = i, j    \n",
        "    return str1[p:q]    \n",
        "str1 = \"PRWSOERIUSFK\" \n",
        "str2 = \"OSU\" \n",
        "print(\"Original Strings:\\n\",str1,\"\\n\",str2) \n",
        "print(\"Minimum window:\")\n",
        "print(min_window(str1,str2)) "
      ],
      "execution_count": null,
      "outputs": [
        {
          "output_type": "stream",
          "text": [
            "Original Strings:\n",
            " PRWSOERIUSFK \n",
            " OSU\n",
            "Minimum window:\n",
            "OERIUS\n"
          ],
          "name": "stdout"
        }
      ]
    },
    {
      "cell_type": "markdown",
      "metadata": {
        "id": "kvwsKkOhjwRZ",
        "colab_type": "text"
      },
      "source": [
        "#Q16. Write the Python program to find smallest window that contains all characters of the given string?\n",
        "\n",
        "Original Strings:\n",
        "\n",
        "asdaewsqgtwwsa\n",
        "\n",
        "Smallest window that contains all characters of the said string:\n",
        "\n",
        "Daewsqgt"
      ]
    },
    {
      "cell_type": "code",
      "metadata": {
        "id": "ZGrvzrBkeuFf",
        "colab_type": "code",
        "colab": {},
        "outputId": "a230537e-c0fd-464b-ecf7-808505631956"
      },
      "source": [
        "# ans 16\n",
        "from collections import defaultdict\n",
        "def find_sub_string(str): \n",
        "    str_len = len(str) \n",
        "\n",
        "     # Count all distinct characters.  \n",
        "    dist_count_char = len(set([x for x in str])) \n",
        "    \n",
        "    ctr, start_pos, start_pos_index, min_len = 0, 0, -1, 9999999999 \n",
        "    curr_count = defaultdict(lambda: 0)  \n",
        "    for i in range(str_len):  \n",
        "        curr_count[str[i]] += 1 \n",
        "        if curr_count[str[i]] == 1:  \n",
        "            ctr += 1 \n",
        "        if ctr == dist_count_char:  \n",
        "            while curr_count[str[start_pos]] > 1:  \n",
        "                if curr_count[str[start_pos]] > 1:  \n",
        "                    curr_count[str[start_pos]] -= 1 \n",
        "                start_pos += 1 \n",
        "            len_window = i - start_pos + 1\n",
        "            if min_len > len_window: \n",
        "                    min_len = len_window  \n",
        "                    start_pos_index = start_pos \n",
        "    return str[start_pos_index: start_pos_index + min_len] \n",
        "str1 = \"asdaewsqgtwwsa\" \n",
        "print(\"Original Strings:\\n\",str1) \n",
        "print(\"\\nSmallest window that contains all characters of the said string:\") \n",
        "print(find_sub_string(str1)) "
      ],
      "execution_count": null,
      "outputs": [
        {
          "output_type": "stream",
          "text": [
            "Original Strings:\n",
            " asdaewsqgtwwsa\n",
            "\n",
            "Smallest window that contains all characters of the said string:\n",
            "daewsqgt\n"
          ],
          "name": "stdout"
        }
      ]
    },
    {
      "cell_type": "markdown",
      "metadata": {
        "id": "fV4ZqPLakBX6",
        "colab_type": "text"
      },
      "source": [
        "#Write the Python program to count number of substrings from a given string of lowercase alphabets with exactly k distinct (given) characters?\n",
        "\n",
        "Input a string (lowercase alphabets): wolf\n",
        "\n",
        "Input k: 4\n",
        "\n",
        "Number of substrings with exactly 4 distinct characters: 1"
      ]
    },
    {
      "cell_type": "code",
      "metadata": {
        "id": "71SQi8OzeuFi",
        "colab_type": "code",
        "colab": {},
        "outputId": "af76bcd9-3291-451e-daef-5027a7783b01"
      },
      "source": [
        "# Ans 17 \n",
        "def count_k_dist(str1, k): \n",
        "    str_len = len(str1) \n",
        "    result = 0\n",
        "    ctr = [0] * 27  \n",
        "    for i in range(0, str_len):\n",
        "        dist_ctr = 0  \n",
        "        ctr = [0] * 27  \n",
        "        for j in range(i, str_len):  \n",
        "            if(ctr[ord(str1[j]) - 97] == 0):  \n",
        "                dist_ctr += 1  \n",
        "                ctr[ord(str1[j]) - 97] += 1  \n",
        "                if(dist_ctr == k):     \n",
        "                    result += 1  \n",
        "                    if(dist_ctr > k):  \n",
        "                        break  \n",
        "    return result   \n",
        "str1 = input(\"Input a string (lowercase alphabets):\")\n",
        "k = int(input(\"Input k: \"))\n",
        "print(\"Number of substrings with exactly\", k, \"distinct characters : \", end = \"\")  \n",
        "print(count_k_dist(str1, k))"
      ],
      "execution_count": null,
      "outputs": [
        {
          "output_type": "stream",
          "text": [
            "Input a string (lowercase alphabets):satya\n",
            "Input k: 34567\n",
            "Number of substrings with exactly 34567 distinct characters : 0\n"
          ],
          "name": "stdout"
        }
      ]
    },
    {
      "cell_type": "markdown",
      "metadata": {
        "id": "eHpaZ4xYkrp7",
        "colab_type": "text"
      },
      "source": [
        "#Q18. Write the Python program to count number of non-empty substrings of the given string?\n",
        "\n",
        "Input a string: w3resource\n",
        "\n",
        "Number of substrings:\n",
        "\n",
        "55"
      ]
    },
    {
      "cell_type": "code",
      "metadata": {
        "id": "pi8o-RIJeuFl",
        "colab_type": "code",
        "colab": {},
        "outputId": "00009dfb-5a18-4e97-917e-8dbe0fc26043"
      },
      "source": [
        "# ans 18\n",
        "def number_of_substrings(str): \n",
        "    str_len = len(str);   \n",
        "    return int(str_len * (str_len + 1) / 2);   \n",
        "str1 = input(\"Input a string: \") \n",
        "print(\"Number of substrings:\") \n",
        "print(number_of_substrings(str1)) "
      ],
      "execution_count": null,
      "outputs": [
        {
          "output_type": "stream",
          "text": [
            "Input a string: sat\n",
            "Number of substrings:\n",
            "6\n"
          ],
          "name": "stdout"
        }
      ]
    },
    {
      "cell_type": "markdown",
      "metadata": {
        "id": "f9BVI0CHk-h6",
        "colab_type": "text"
      },
      "source": [
        "#Q19. Write the Python program to count number of substrings with same first and last characters of the given string?\n",
        "\n",
        "Input a string: abcd\n",
        "4"
      ]
    },
    {
      "cell_type": "code",
      "metadata": {
        "id": "304gzNnOeuFq",
        "colab_type": "code",
        "colab": {},
        "outputId": "31e4e702-cbf7-46c4-ea60-8351567fda31"
      },
      "source": [
        "# ans 19\n",
        "def no_of_substring_with_equalEnds(str1):\n",
        "    result = 0;  \n",
        "    n = len(str1);  \n",
        "    for i in range(n):  \n",
        "        for j in range(i, n):  \n",
        "            if (str1[i] == str1[j]):  \n",
        "                result = result + 1 \n",
        "    return result  \n",
        "str1 = input(\"Input a string: \") \n",
        "print(no_of_substring_with_equalEnds(str1)) "
      ],
      "execution_count": null,
      "outputs": [
        {
          "output_type": "stream",
          "text": [
            "Input a string: dgf\n",
            "3\n"
          ],
          "name": "stdout"
        }
      ]
    },
    {
      "cell_type": "markdown",
      "metadata": {
        "id": "fK_MBrEllNGT",
        "colab_type": "text"
      },
      "source": [
        "#Q20. Write the Python program to count the number of strings where the string length is 2 or more, and first and last character are same from a given list of strings.\n",
        "\n",
        "Sample List : ['abc', 'xyz', 'wxw', '1331']\n",
        "\n",
        "Expected Result: 2"
      ]
    },
    {
      "cell_type": "code",
      "metadata": {
        "id": "SAfMcvRseuFu",
        "colab_type": "code",
        "colab": {},
        "outputId": "2076bba7-f4f7-4444-d7ca-42607e825a20"
      },
      "source": [
        "# ans 20 \n",
        "def match_words(words):   \n",
        "    ctr = 0 \n",
        "    for word in words: \n",
        "        if len(word) > 1 and word[0] == word[-1]:  \n",
        "            ctr += 1  \n",
        "    return ctr \n",
        "        \n",
        "print(match_words(['abc', 'xyz', 'aba', '1221'])) "
      ],
      "execution_count": null,
      "outputs": [
        {
          "output_type": "stream",
          "text": [
            "2\n"
          ],
          "name": "stdout"
        }
      ]
    },
    {
      "cell_type": "markdown",
      "metadata": {
        "id": "H4eV_WxDlbp5",
        "colab_type": "text"
      },
      "source": [
        "#Q21. Write the Python program to get a list, sorted in increasing order by the last element in each tuple from the given list of non-empty tuples?\n",
        "\n",
        "Sample List - [ (2, 5), (1, 2), (4, 4), (2, 3), (2, 1) ]\n",
        "\n",
        "Expected Result - [ (2, 1), (1, 2), (2, 3), (4, 4), (2, 5) ]"
      ]
    },
    {
      "cell_type": "code",
      "metadata": {
        "id": "q0mE5m-8euFy",
        "colab_type": "code",
        "colab": {},
        "outputId": "799b76f9-c254-4470-f618-130b2f1cf335"
      },
      "source": [
        "# ans 21\n",
        "def last(n): return n[-1]  \n",
        "def sort_list_last(tuples):\n",
        "    return sorted(tuples, key=last)\n",
        "print(sort_list_last([(2, 5), (1, 2), (4, 4), (2, 3), (2, 1)])) "
      ],
      "execution_count": null,
      "outputs": [
        {
          "output_type": "stream",
          "text": [
            "[(2, 1), (1, 2), (2, 3), (4, 4), (2, 5)]\n"
          ],
          "name": "stdout"
        }
      ]
    },
    {
      "cell_type": "markdown",
      "metadata": {
        "id": "YZ7o_ILelqVX",
        "colab_type": "text"
      },
      "source": [
        "#Q22. Write the Python program to remove duplicates from a list?\n"
      ]
    },
    {
      "cell_type": "code",
      "metadata": {
        "id": "aIBW_CH_euF2",
        "colab_type": "code",
        "colab": {},
        "outputId": "b868c94e-3105-4be2-9f6b-72670a73ca7b"
      },
      "source": [
        "# ans 22\n",
        "a = [10,20,30,20,10,50,60,40,80,50,40]  \n",
        "dup_items = set() \n",
        "uniq_items = [] \n",
        "for x in a: \n",
        "    if x not in dup_items: \n",
        "        uniq_items.append(x) \n",
        "        dup_items.add(x)  \n",
        "print(dup_items) "
      ],
      "execution_count": null,
      "outputs": [
        {
          "output_type": "stream",
          "text": [
            "{40, 10, 80, 50, 20, 60, 30}\n"
          ],
          "name": "stdout"
        }
      ]
    },
    {
      "cell_type": "markdown",
      "metadata": {
        "id": "UiP34kxBmDvK",
        "colab_type": "text"
      },
      "source": [
        "#Q23. Write the Python program to find the list of words that are longer than n from a given list of words?"
      ]
    },
    {
      "cell_type": "code",
      "metadata": {
        "id": "cp233q4xeuF6",
        "colab_type": "code",
        "colab": {},
        "outputId": "ddab644a-5af3-44a3-f537-728c27142569"
      },
      "source": [
        "# ans 23\n",
        "def long_words(n, str): \n",
        "    word_len = []    \n",
        "    txt = str.split(\" \")    \n",
        "    for x in txt:\n",
        "        if len(x) > n:  \n",
        "            word_len.append(x) \n",
        "    return word_len \n",
        "print(long_words(3, \"The quick brown fox jumps over the lazy dog\"))"
      ],
      "execution_count": null,
      "outputs": [
        {
          "output_type": "stream",
          "text": [
            "['quick', 'brown', 'jumps', 'over', 'lazy']\n"
          ],
          "name": "stdout"
        }
      ]
    },
    {
      "cell_type": "markdown",
      "metadata": {
        "id": "w8z2lEkCmKpv",
        "colab_type": "text"
      },
      "source": [
        "#Q24. Write the Python program to print a specified list after removing the 0th, 4th, and 5th elements?\n",
        "\n",
        "Sample List - ['Red', 'Green', 'White', 'Black', 'Pink', 'Yellow']\n",
        "\n",
        "Expected Output - ['Green', 'White', 'Black']"
      ]
    },
    {
      "cell_type": "code",
      "metadata": {
        "id": "dGnC2J_SeuF9",
        "colab_type": "code",
        "colab": {},
        "outputId": "232c7043-4f90-428a-cb83-38ab7ccb023e"
      },
      "source": [
        "# ans 24\n",
        "color = ['Red', 'Green', 'White', 'Black', 'Pink', 'Yellow'] \n",
        "color = [x for (i,x) in enumerate(color) if i not in (0,4,5)] \n",
        "print(color) "
      ],
      "execution_count": null,
      "outputs": [
        {
          "output_type": "stream",
          "text": [
            "['Green', 'White', 'Black']\n"
          ],
          "name": "stdout"
        }
      ]
    },
    {
      "cell_type": "markdown",
      "metadata": {
        "id": "HNMFOeAKmUSP",
        "colab_type": "text"
      },
      "source": [
        "#Q25. Write the Python program to generate all permutations of a list in Python?"
      ]
    },
    {
      "cell_type": "code",
      "metadata": {
        "id": "HWGs5Mb1euGB",
        "colab_type": "code",
        "colab": {},
        "outputId": "cef8c449-3e82-4759-89e7-543ba60d8f28"
      },
      "source": [
        "# ans 25\n",
        "import itertools\n",
        "print(list(itertools.permutations([1,2,3]))) "
      ],
      "execution_count": null,
      "outputs": [
        {
          "output_type": "stream",
          "text": [
            "[(1, 2, 3), (1, 3, 2), (2, 1, 3), (2, 3, 1), (3, 1, 2), (3, 2, 1)]\n"
          ],
          "name": "stdout"
        }
      ]
    },
    {
      "cell_type": "markdown",
      "metadata": {
        "id": "31Jwqvx5m3-x",
        "colab_type": "text"
      },
      "source": [
        "#Q26. Write the Python program to convert a pair of values into a sorted unique array?\n",
        "\n",
        "Original List- [ (1, 2), (3, 4), (1, 2), (5, 6), (7, 8), (1, 2), (3, 4), (3, 4), (7, 8), (9, 10) ]\n",
        "\n",
        " Sorted Unique Data- [ 1, 2, 3, 4, 5, 6, 7, 8, 9, 10 ] "
      ]
    },
    {
      "cell_type": "code",
      "metadata": {
        "id": "yOr650HjeuGF",
        "colab_type": "code",
        "colab": {},
        "outputId": "b8ff4fa7-ca32-4e30-987b-4cb8ae6afa66"
      },
      "source": [
        "# ans 26\n",
        "L = [(1, 2), (3, 4), (1, 2), (5, 6), (7, 8), (1, 2), (3, 4), (3, 4), \n",
        " (7, 8), (9, 10)] \n",
        "print(\"Original List: \", L) \n",
        "print(\"Sorted Unique Data:\",sorted(set().union(*L))) "
      ],
      "execution_count": null,
      "outputs": [
        {
          "output_type": "stream",
          "text": [
            "Original List:  [(1, 2), (3, 4), (1, 2), (5, 6), (7, 8), (1, 2), (3, 4), (3, 4), (7, 8), (9, 10)]\n",
            "Sorted Unique Data: [1, 2, 3, 4, 5, 6, 7, 8, 9, 10]\n"
          ],
          "name": "stdout"
        }
      ]
    },
    {
      "cell_type": "markdown",
      "metadata": {
        "id": "FLO5LoQYnzog",
        "colab_type": "text"
      },
      "source": [
        "#Q27. Write the Python class to convert an integer to a roman numeral?\n"
      ]
    },
    {
      "cell_type": "code",
      "metadata": {
        "id": "ahwy5OSgeuGJ",
        "colab_type": "code",
        "colab": {},
        "outputId": "3cd91ee0-ffcc-4ae6-cd83-96ec9dc4ec40"
      },
      "source": [
        "# ans 27\n",
        "class py_solution:\n",
        "    def int_to_Roman(self, num):\n",
        "        val = [ \n",
        "            1000, 900, 500, 400,    \n",
        "            100, 90, 50, 40,     \n",
        "            10, 9, 5, 4,    \n",
        "            1       \n",
        "        ]        \n",
        "        syb = [   \n",
        "            \"M\", \"CM\", \"D\", \"CD\",  \n",
        "            \"C\", \"XC\", \"L\", \"XL\",  \n",
        "            \"X\", \"IX\", \"V\", \"IV\", \n",
        "            \"I\"        \n",
        "        ]     \n",
        "        roman_num = ''\n",
        "        i = 0        \n",
        "        while  num > 0: \n",
        "            for _ in range(num // val[i]): \n",
        "                roman_num += syb[i]     \n",
        "                num -= val[i]         \n",
        "            i += 1\n",
        "        return roman_num   \n",
        "print(py_solution().int_to_Roman(1)) \n",
        "print(py_solution().int_to_Roman(4000)) "
      ],
      "execution_count": null,
      "outputs": [
        {
          "output_type": "stream",
          "text": [
            "I\n",
            "MMMM\n"
          ],
          "name": "stdout"
        }
      ]
    },
    {
      "cell_type": "markdown",
      "metadata": {
        "id": "hvGBk1nln76Z",
        "colab_type": "text"
      },
      "source": [
        "#Q28 Write the Python class to convert a Roman numeral to an integer?"
      ]
    },
    {
      "cell_type": "code",
      "metadata": {
        "id": "j4wXyQz2euGN",
        "colab_type": "code",
        "colab": {},
        "outputId": "c4e9d664-344f-4aed-c1cd-f7848cbd2307"
      },
      "source": [
        "# ans 28\n",
        "class py_solution:  \n",
        "    def roman_to_int(self, s):  \n",
        "        rom_val = {'I': 1, 'V': 5, 'X': 10, 'L': 50, 'C': 100, 'D': 500, 'M': 1000} \n",
        "        int_val = 0   \n",
        "        for i in range(len(s)):        \n",
        "            if i > 0 and rom_val[s[i]] > rom_val[s[i - 1]]:             \n",
        "                int_val += rom_val[s[i]] - 2 * rom_val[s[i - 1]]       \n",
        "            else:\n",
        "                int_val += rom_val[s[i]]    \n",
        "        return int_val  \n",
        "print(py_solution().roman_to_int('MMMCMLXXXVI')) \n",
        "print(py_solution().roman_to_int('MMMM')) \n",
        "print(py_solution().roman_to_int('C'))"
      ],
      "execution_count": null,
      "outputs": [
        {
          "output_type": "stream",
          "text": [
            "3986\n",
            "4000\n",
            "100\n"
          ],
          "name": "stdout"
        }
      ]
    },
    {
      "cell_type": "markdown",
      "metadata": {
        "id": "TkrhLgYYoB4N",
        "colab_type": "text"
      },
      "source": [
        "#Q29. Write the Python class to find the validity of the string of the parentheses, '(', ')', '{', '}', '[' and '] and the brackets must be closed in the correct order, example - \"()\" and \"()[]{}\" are valid but \"[)\", \"({[)]\" and \"{{{\" are invalid.\n",
        "\n"
      ]
    },
    {
      "cell_type": "code",
      "metadata": {
        "id": "WLRCINEYeuGQ",
        "colab_type": "code",
        "colab": {},
        "outputId": "9c04a856-1cec-435c-a764-763677a14c93"
      },
      "source": [
        "# ans 29\n",
        "class py_solution: \n",
        "    def is_valid_parenthese(self, str1): \n",
        "        stack, pchar = [], {\"(\": \")\", \"{\": \"}\", \"[\": \"]\"} \n",
        "        for parenthese in str1: \n",
        "            if parenthese in pchar: \n",
        "                stack.append(parenthese) \n",
        "            elif len(stack) == 0 or pchar[stack.pop()] != parenthese: \n",
        "                return False \n",
        "        return len(stack) == 0 \n",
        "print(py_solution().is_valid_parenthese(\"(){}[]\")) \n",
        "print(py_solution().is_valid_parenthese(\"()[{)}\")) \n",
        "print(py_solution().is_valid_parenthese(\"()\")) "
      ],
      "execution_count": null,
      "outputs": [
        {
          "output_type": "stream",
          "text": [
            "True\n",
            "False\n",
            "True\n"
          ],
          "name": "stdout"
        }
      ]
    },
    {
      "cell_type": "markdown",
      "metadata": {
        "id": "VI-GoNwxoMZ3",
        "colab_type": "text"
      },
      "source": [
        "#Q30. Write the Python class to get all possible unique subsets from a set of distinct integers?\n",
        "\n",
        "Input - [4, 5, 6]\n",
        "\n",
        "Output - [[], [6], [5], [5, 6], [4], [4, 6], [4, 5], [4, 5, 6]]"
      ]
    },
    {
      "cell_type": "code",
      "metadata": {
        "id": "pqFBoGIyeuGT",
        "colab_type": "code",
        "colab": {},
        "outputId": "8622ac73-904c-4bff-9421-b2be49b0e499"
      },
      "source": [
        "# ans 30\n",
        "class py_solution:\n",
        "    def sub_sets(self, sset): \n",
        "        return self.subsetsRecur([], sorted(sset))  \n",
        "    def subsetsRecur(self, current, sset):  \n",
        "        if sset:           \n",
        "            return self.subsetsRecur(current, sset[1:]) + self.subsetsRecur(current + [sset[0]], sset[1:])    \n",
        "        return [current]  \n",
        "print(py_solution().sub_sets([4,5,6])) "
      ],
      "execution_count": null,
      "outputs": [
        {
          "output_type": "stream",
          "text": [
            "[[], [6], [5], [5, 6], [4], [4, 6], [4, 5], [4, 5, 6]]\n"
          ],
          "name": "stdout"
        }
      ]
    },
    {
      "cell_type": "markdown",
      "metadata": {
        "id": "y3ObT6kXocfK",
        "colab_type": "text"
      },
      "source": [
        "#Q31. Write the Python class to find a pair of elements (indices of the two numbers) from a given array whose sum equals the specific target number?\n",
        "\n",
        "Input: numbers- [10,20,10,40,50,60,70], target=50\n",
        "\n",
        "Output- 3, 4"
      ]
    },
    {
      "cell_type": "code",
      "metadata": {
        "id": "aPKuo1DSeuGb",
        "colab_type": "code",
        "colab": {},
        "outputId": "3819e9d3-b450-4910-df3c-3987a34e707e"
      },
      "source": [
        "# ans 31\n",
        "class py_solution: \n",
        "    def twoSum(self, nums, target): \n",
        "        lookup = {} \n",
        "        for i, num in enumerate(nums): \n",
        "            if target - num in lookup: \n",
        "                return (lookup[target - num], i ) \n",
        "            lookup[num] = i \n",
        "print(\"index1=%d, index2=%d\" % \n",
        "      py_solution().twoSum((10,20,10,40,50,60,70),50))"
      ],
      "execution_count": null,
      "outputs": [
        {
          "output_type": "stream",
          "text": [
            "index1=2, index2=3\n"
          ],
          "name": "stdout"
        }
      ]
    },
    {
      "cell_type": "markdown",
      "metadata": {
        "id": "ZGWEU7WJopQQ",
        "colab_type": "text"
      },
      "source": [
        "#Q32. Write the Python class to find the three elements that sum to zero from the set of n real numbers?\n",
        "Input array- [-25, -10, -7, -3, 2, 4, 8, 10]\n",
        "\n",
        "Output - [[-10, 2, 8], [-7, -3, 10]]\n"
      ]
    },
    {
      "cell_type": "code",
      "metadata": {
        "id": "NjaAAjEmeuGi",
        "colab_type": "code",
        "colab": {},
        "outputId": "fd06e09d-2425-4acd-8ef0-ebfc745bd312"
      },
      "source": [
        "# ans 32\n",
        "class py_solution: \n",
        "    def threeSum(self, nums): \n",
        "        nums, result, i = sorted(nums), [], 0 \n",
        "        while i < len(nums) - 2: \n",
        "            j, k = i + 1, len(nums) - 1 \n",
        "            while j < k: \n",
        "                if nums[i] + nums[j] + nums[k] < 0: \n",
        "                    j += 1 \n",
        "                elif nums[i] + nums[j] + nums[k] > 0:\n",
        "                     k -= 1 \n",
        "                else: \n",
        "                    result.append([nums[i], nums[j], nums[k]]) \n",
        "                    j, k = j + 1, k - 1 \n",
        "                    while j < k and nums[j] == nums[j - 1]: \n",
        "                        j += 1 \n",
        "                    while j < k and nums[k] == nums[k + 1]: \n",
        "                        k -= 1 \n",
        "            i += 1 \n",
        "            while i < len(nums) - 2 and nums[i] == nums[i - 1]: \n",
        "                i += 1 \n",
        "        return result  \n",
        "print(py_solution().threeSum([-25, -10, -7, -3, 2, 4, 8, 10]))"
      ],
      "execution_count": null,
      "outputs": [
        {
          "output_type": "stream",
          "text": [
            "[[-10, 2, 8], [-7, -3, 10]]\n"
          ],
          "name": "stdout"
        }
      ]
    },
    {
      "cell_type": "markdown",
      "metadata": {
        "id": "1axSXaTSoyIj",
        "colab_type": "text"
      },
      "source": [
        "#Q33. Write the Python class to implement pow(x, n)?"
      ]
    },
    {
      "cell_type": "code",
      "metadata": {
        "id": "Grhqi9Q5euGn",
        "colab_type": "code",
        "colab": {},
        "outputId": "5b7b34f1-c5cc-4e53-ceac-e951ed1d7843"
      },
      "source": [
        "# ans 33\n",
        "class py_solution:\n",
        "    def pow(self, x, n): \n",
        "        if x==0 or x==1 or n==1: \n",
        "            return x   \n",
        "        if x==-1:     \n",
        "            if n%2 ==0: \n",
        "                return 1 \n",
        "            else:      \n",
        "                return -1  \n",
        "        if n==0: \n",
        "            return 1   \n",
        "        if n<0:\n",
        "            return 1/self.pow(x,-n) \n",
        "        val = self.pow(x,n//2)    \n",
        "        if n%2 ==0:\n",
        "            return val*val \n",
        "        return val*val*x \n",
        "print(py_solution().pow(2, -3)); \n",
        "print(py_solution().pow(3, 5)); \n",
        "print(py_solution().pow(100, 0)); \n",
        "                "
      ],
      "execution_count": null,
      "outputs": [
        {
          "output_type": "stream",
          "text": [
            "0.125\n",
            "243\n",
            "1\n"
          ],
          "name": "stdout"
        }
      ]
    },
    {
      "cell_type": "markdown",
      "metadata": {
        "id": "Tdk2foJKo3qX",
        "colab_type": "text"
      },
      "source": [
        "#Q34. Write the Python class which has two methods get_String and print_String. get_String accept the string from the user and print_String print the string in upper case."
      ]
    },
    {
      "cell_type": "code",
      "metadata": {
        "id": "40qxHm3NeuGs",
        "colab_type": "code",
        "colab": {},
        "outputId": "2ec526d3-4271-49ca-e760-134111e579f7"
      },
      "source": [
        "# Ans 34\n",
        "class IOString(): \n",
        "    def __init__(self): \n",
        "        self.str1 = \"\"  \n",
        "    def get_String(self):\n",
        "        self.str1 = input()  \n",
        "    def print_String(self):  \n",
        "        print(self.str1.upper())  \n",
        "str1 = IOString() \n",
        "str1.get_String() \n",
        "str1.print_String() "
      ],
      "execution_count": null,
      "outputs": [
        {
          "output_type": "stream",
          "text": [
            "satya\n",
            "SATYA\n"
          ],
          "name": "stdout"
        }
      ]
    },
    {
      "cell_type": "markdown",
      "metadata": {
        "id": "rcI_UBYtpCsx",
        "colab_type": "text"
      },
      "source": [
        "#Q35. Write the Python class named Rectangle constructed by a length and width and the method which will compute the area of the rectangle?"
      ]
    },
    {
      "cell_type": "code",
      "metadata": {
        "id": "Kamnq1hYeuGw",
        "colab_type": "code",
        "colab": {},
        "outputId": "acf36209-5ad7-4835-b67b-6a2df00efdbe"
      },
      "source": [
        "# ans 35 \n",
        "class Rectangle(): \n",
        "    def __init__(self, l, w): \n",
        "        self.length = l \n",
        "        self.width  = w  \n",
        "    def rectangle_area(self): \n",
        "        return self.length*self.width  \n",
        "newRectangle = Rectangle(12, 10) \n",
        "print(newRectangle.rectangle_area())"
      ],
      "execution_count": null,
      "outputs": [
        {
          "output_type": "stream",
          "text": [
            "120\n"
          ],
          "name": "stdout"
        }
      ]
    },
    {
      "cell_type": "markdown",
      "metadata": {
        "id": "kumxq3_JpLyg",
        "colab_type": "text"
      },
      "source": [
        "#Q36. Write the Python class named Circle constructed by the radius and two methods which will compute the area and perimeter of the circle?\n"
      ]
    },
    {
      "cell_type": "code",
      "metadata": {
        "id": "mlt1IIqVeuG0",
        "colab_type": "code",
        "colab": {},
        "outputId": "8b81e013-14f4-47b5-a9ce-9d7e789086eb"
      },
      "source": [
        "# ans 36 \n",
        "class Circle(): \n",
        "    def __init__(self, r): \n",
        "        self.radius = r  \n",
        "    def area(self):    \n",
        "        return self.radius**2*3.14     \n",
        "    def perimeter(self):       \n",
        "        return 2*self.radius*3.14  \n",
        "NewCircle = Circle(8) \n",
        "print(NewCircle.area()) \n",
        "print(NewCircle.perimeter()) "
      ],
      "execution_count": null,
      "outputs": [
        {
          "output_type": "stream",
          "text": [
            "200.96\n",
            "50.24\n"
          ],
          "name": "stdout"
        }
      ]
    },
    {
      "cell_type": "markdown",
      "metadata": {
        "id": "IEal2eCSpVsE",
        "colab_type": "text"
      },
      "source": [
        "#Q37. Write the Python program to get the class name of an instance in Python?"
      ]
    },
    {
      "cell_type": "code",
      "metadata": {
        "id": "7sZnKh8veuG4",
        "colab_type": "code",
        "colab": {},
        "outputId": "ce297d6a-1544-4e3a-ec73-569c3a6a97fd"
      },
      "source": [
        "# ans 37\n",
        "import itertools \n",
        "x = itertools.cycle('ABCD') \n",
        "print(type(x).__name__) "
      ],
      "execution_count": null,
      "outputs": [
        {
          "output_type": "stream",
          "text": [
            "cycle\n"
          ],
          "name": "stdout"
        }
      ]
    },
    {
      "cell_type": "markdown",
      "metadata": {
        "id": "N4pZHdEHpbj5",
        "colab_type": "text"
      },
      "source": [
        "#Q38. Write the Python program to count the number of students of individual class?\n",
        "\n",
        "Sample dataclasses = (\n",
        "\n",
        "('V', 1),\n",
        "\n",
        "('VI', 1),\n",
        "\n",
        "('V', 2),\n",
        "\n",
        "('VI', 2),\n",
        "\n",
        "('VI', 3),\n",
        "\n",
        "('VII', 1),\n",
        ")\n",
        "\n",
        "Expected OutputCounter({'VI': 3, 'V': 2, 'VII': 1})"
      ]
    },
    {
      "cell_type": "code",
      "metadata": {
        "id": "TGFHKOiUeuG7",
        "colab_type": "code",
        "colab": {},
        "outputId": "9a097018-13bb-4292-bf6f-79a1c87aa8ab"
      },
      "source": [
        "# ans 38\n",
        "from collections import Counter \n",
        "classes = ( \n",
        "    ('V', 1),  \n",
        "    ('VI', 1), \n",
        "    ('V', 2),  \n",
        "    ('VI', 2),  \n",
        "    ('VI', 3),   \n",
        "    ('VII', 1),\n",
        ") \n",
        "students = Counter(class_name for class_name, no_students in classes) \n",
        "print(students) "
      ],
      "execution_count": null,
      "outputs": [
        {
          "output_type": "stream",
          "text": [
            "Counter({'VI': 3, 'V': 2, 'VII': 1})\n"
          ],
          "name": "stdout"
        }
      ]
    },
    {
      "cell_type": "markdown",
      "metadata": {
        "id": "T7cT0lb2pqNH",
        "colab_type": "text"
      },
      "source": [
        "#Q39. Write the Python program to create an instance of an OrderedDict using the given dictionary and sort dictionary during the creation and print members of the dictionary in reverse order?\n",
        "\n",
        "Expected OutputAngola 244.\n",
        "\n",
        "Andorra 376.\n",
        "\n",
        "Algeria 213.\n",
        "\n",
        "Afghanistan 93.\n",
        "\n",
        "Albania 355.\n",
        "\n",
        "In reverse orderAlbania 355.\n",
        "\n",
        "Afghanistan 93.\n",
        "\n",
        "Algeria 213.\n",
        "\n",
        "Andorra 376.\n",
        "\n",
        "Angola 244.\n"
      ]
    },
    {
      "cell_type": "code",
      "metadata": {
        "id": "ZiEiYhWXeuG-",
        "colab_type": "code",
        "colab": {},
        "outputId": "39f4babd-9388-44ef-df0c-6bee2b7ae01a"
      },
      "source": [
        "# ans 39\n",
        "from collections import OrderedDict \n",
        "dict = {'Afghanistan': 93, 'Albania': 355, 'Algeria': 213, 'Andorra': 376, 'Angola': 244} \n",
        "new_dict = OrderedDict(dict.items()) \n",
        "for key in new_dict:     \n",
        "    print (key, new_dict[key])  \n",
        "print(\"\\nIn reverse order:\") \n",
        "for key in reversed(new_dict):\n",
        "    print (key, new_dict[key]) "
      ],
      "execution_count": null,
      "outputs": [
        {
          "output_type": "stream",
          "text": [
            "Afghanistan 93\n",
            "Albania 355\n",
            "Algeria 213\n",
            "Andorra 376\n",
            "Angola 244\n",
            "\n",
            "In reverse order:\n",
            "Angola 244\n",
            "Andorra 376\n",
            "Algeria 213\n",
            "Albania 355\n",
            "Afghanistan 93\n"
          ],
          "name": "stdout"
        }
      ]
    },
    {
      "cell_type": "markdown",
      "metadata": {
        "id": "ZcAkHXABqG2P",
        "colab_type": "text"
      },
      "source": [
        "#Q40. Write the Python program to compare two unordered lists (not sets)?\n",
        "\n",
        "Expected Output: False\n"
      ]
    },
    {
      "cell_type": "code",
      "metadata": {
        "id": "q8XqBSSBeuHB",
        "colab_type": "code",
        "colab": {},
        "outputId": "c9e01eb3-52c9-4b17-cbb5-9630958a804b"
      },
      "source": [
        "# ans 40\n",
        "from collections import Counter \n",
        "def compare_lists(x, y):  \n",
        "    return Counter(x) == Counter(y) \n",
        "n1 = [20, 10, 30, 10, 20, 30]\n",
        "n2 = [30, 20, 10, 30, 20, 50]\n",
        "print(compare_lists(n1, n2))"
      ],
      "execution_count": null,
      "outputs": [
        {
          "output_type": "stream",
          "text": [
            "False\n"
          ],
          "name": "stdout"
        }
      ]
    },
    {
      "cell_type": "markdown",
      "metadata": {
        "id": "9V6NGyNgwuhX",
        "colab_type": "text"
      },
      "source": [
        "#Q41. Write the Python program to get an array buffer information?\n",
        "\n",
        "Expected OutputArray buffer start address in memory and number of elements.\n",
        "\n",
        "(25855056, 2)"
      ]
    },
    {
      "cell_type": "code",
      "metadata": {
        "id": "xhP3oC76euHE",
        "colab_type": "code",
        "colab": {},
        "outputId": "d67407ae-a969-4003-c595-6f456279eb48"
      },
      "source": [
        "# ans 41\n",
        "from array import array \n",
        "a = array(\"I\", (12,25)) \n",
        "print(\"Array buffer start address in memory and number of elements.\") \n",
        "print(a.buffer_info()) "
      ],
      "execution_count": null,
      "outputs": [
        {
          "output_type": "stream",
          "text": [
            "Array buffer start address in memory and number of elements.\n",
            "(81831241664, 2)\n"
          ],
          "name": "stdout"
        }
      ]
    },
    {
      "cell_type": "markdown",
      "metadata": {
        "id": "y-hQpB9ow7nm",
        "colab_type": "text"
      },
      "source": [
        "#Q42. Write the Python program to convert an array to an array of machine values and return the bytes representation?\n",
        "\n",
        "Expected OutputOriginal arrayA1: array('i', [1, 2, 3, 4, 5, 6])\n",
        "\n",
        "Array of bytes:\n",
        "\n",
        "b'010000000200000003000000040000000500000006000000'"
      ]
    },
    {
      "cell_type": "code",
      "metadata": {
        "id": "SJV4m1c0euHL",
        "colab_type": "code",
        "colab": {},
        "outputId": "4a1eb90c-5cc6-486d-deaf-349f9ab66557"
      },
      "source": [
        "# ans 42\n",
        "import array \n",
        "import binascii \n",
        "a = array.array('i', [1,2,3,4,5,6]) \n",
        "print(\"Original array:\") \n",
        "print('A1:', a) \n",
        "bytes_array = a.tobytes() \n",
        "print('Array of bytes:', binascii.hexlify(bytes_array)) "
      ],
      "execution_count": null,
      "outputs": [
        {
          "output_type": "stream",
          "text": [
            "Original array:\n",
            "A1: array('i', [1, 2, 3, 4, 5, 6])\n",
            "Array of bytes: b'010000000200000003000000040000000500000006000000'\n"
          ],
          "name": "stdout"
        }
      ]
    },
    {
      "cell_type": "markdown",
      "metadata": {
        "id": "YHVGmBFjxFZR",
        "colab_type": "text"
      },
      "source": [
        "#Q43. Write the Python program to read a string and interpreting the string as an array of machine values?\n",
        "\n",
        "Expected Outputarray1- array('i', [7, 8, 9, 10])\n",
        "\n",
        "Bytes- b'0700000008000000090000000a000000'\n",
        "\n",
        "array2- array('i', [7, 8, 9, 10])"
      ]
    },
    {
      "cell_type": "code",
      "metadata": {
        "id": "KswsZ5q1euHP",
        "colab_type": "code",
        "colab": {},
        "outputId": "51fe8ebd-8c41-4679-e652-0f0ba219c316"
      },
      "source": [
        "# ans 43\n",
        "from array import array \n",
        "import binascii \n",
        "array1 = array('i', [7, 8, 9, 10]) \n",
        "print('array1:', array1) \n",
        "as_bytes = array1.tobytes()\n",
        "print('Bytes:', binascii.hexlify(as_bytes)) \n",
        "array2 = array('i') \n",
        "array2.frombytes(as_bytes)\n",
        "print('array2:', array2) "
      ],
      "execution_count": null,
      "outputs": [
        {
          "output_type": "stream",
          "text": [
            "array1: array('i', [7, 8, 9, 10])\n",
            "Bytes: b'0700000008000000090000000a000000'\n",
            "array2: array('i', [7, 8, 9, 10])\n"
          ],
          "name": "stdout"
        }
      ]
    },
    {
      "cell_type": "markdown",
      "metadata": {
        "id": "jPlBX5UlxQM6",
        "colab_type": "text"
      },
      "source": [
        "#Q44. Write the Python program to push three items into the heap and return the smallest item from the heap. Also, return and pop the smallest item from the heap?\n",
        "Expected OutputItems in the heap-\n",
        "\n",
        "('VI', 1).\n",
        "\n",
        "('VII', 3).\n",
        "\n",
        "('VIII', 2).\n",
        "\n",
        "----------------------\n",
        "\n",
        "The smallest item in the heap:\n",
        "\n",
        "('VI', 1).\n",
        "\n",
        " ----------------------\n",
        "\n",
        "Pop the smallest item in the heap:\n",
        "\n",
        "('VII', 2).\n",
        "\n",
        "('VIII', 3).\n"
      ]
    },
    {
      "cell_type": "code",
      "metadata": {
        "id": "yS_7rw7teuHS",
        "colab_type": "code",
        "colab": {},
        "outputId": "ff33bfbf-d9f9-411a-b68c-d58df4f72ed9"
      },
      "source": [
        "# ans 44\n",
        "import heapq\n",
        "heap = [] \n",
        "heapq.heappush(heap, ('V', 3))\n",
        "heapq.heappush(heap, ('V', 2)) \n",
        "heapq.heappush(heap, ('V', 1)) \n",
        "print(\"Items in the heap:\") \n",
        "for a in heap:  \n",
        "    print(a) \n",
        "print(\"----------------------\") \n",
        "print(\"The smallest item in the heap:\") \n",
        "print(heap[0])\n",
        "print(\"----------------------\") \n",
        "print(\"Pop the smallest item in the heap:\") \n",
        "heapq.heappop(heap) \n",
        "for a in heap:\n",
        "    print(a)"
      ],
      "execution_count": null,
      "outputs": [
        {
          "output_type": "stream",
          "text": [
            "Items in the heap:\n",
            "('V', 1)\n",
            "('V', 3)\n",
            "('V', 2)\n",
            "----------------------\n",
            "The smallest item in the heap:\n",
            "('V', 1)\n",
            "----------------------\n",
            "Pop the smallest item in the heap:\n",
            "('V', 2)\n",
            "('V', 3)\n"
          ],
          "name": "stdout"
        }
      ]
    },
    {
      "cell_type": "markdown",
      "metadata": {
        "id": "9xqA3yT_xgo8",
        "colab_type": "text"
      },
      "source": [
        "#Q45. Write the Python program to locate the left insertion point for specified value in sorted order?\n",
        "\n",
        "Expected Output:\n",
        "\n",
        "4\n",
        "\n",
        "2"
      ]
    },
    {
      "cell_type": "code",
      "metadata": {
        "id": "xTBDJNEGeuHY",
        "colab_type": "code",
        "colab": {},
        "outputId": "7267dbdd-5a29-4bb7-a216-7cdff361c99e"
      },
      "source": [
        "# ans 45\n",
        "import bisect \n",
        "def index(a, x): \n",
        "    i = bisect.bisect_left(a, x) \n",
        "    return i \n",
        "     \n",
        "a = [1,2,4,5] \n",
        "print(index(a, 6)) \n",
        "print(index(a, 3)) "
      ],
      "execution_count": null,
      "outputs": [
        {
          "output_type": "stream",
          "text": [
            "4\n",
            "2\n"
          ],
          "name": "stdout"
        }
      ]
    },
    {
      "cell_type": "markdown",
      "metadata": {
        "id": "IARHKGxmxuGD",
        "colab_type": "text"
      },
      "source": [
        "#Q46. Write the Python program to create the FIFO queue?\n",
        "\n",
        "Expected Output:\n",
        "\n",
        "0 1 2 3"
      ]
    },
    {
      "cell_type": "code",
      "metadata": {
        "id": "QsvvM6TyeuHd",
        "colab_type": "code",
        "colab": {},
        "outputId": "49735f2d-588d-453d-b337-8f8e7c45adbf"
      },
      "source": [
        "# ans 46\n",
        "import queue \n",
        "q = queue.Queue() \n",
        "#insert items at the end of the queue  \n",
        "for x in range(4): \n",
        "    q.put(str(x)) \n",
        "#remove items from the head of the queue  \n",
        "while not q.empty(): \n",
        "    print(q.get(), end=\" \") \n",
        "print(\"\\n\")"
      ],
      "execution_count": null,
      "outputs": [
        {
          "output_type": "stream",
          "text": [
            "0 1 2 3 \n",
            "\n"
          ],
          "name": "stdout"
        }
      ]
    },
    {
      "cell_type": "markdown",
      "metadata": {
        "id": "KtzatmLDx2CC",
        "colab_type": "text"
      },
      "source": [
        "#Q47. Write the Python program to calculate the harmonic sum of n-1. Note: The harmonic sum is the sum of reciprocals of the positive Integers?\n",
        "\n",
        " Example -\n",
        "\n",
        " 1+1/2+1/3+1/4....\n"
      ]
    },
    {
      "cell_type": "code",
      "metadata": {
        "id": "nW6wi0qQeuHg",
        "colab_type": "code",
        "colab": {},
        "outputId": "84b94113-4286-432f-875c-11d25d9bc80e"
      },
      "source": [
        "# ans 47\n",
        "def harmonic_sum(n): \n",
        "    if n < 2: \n",
        "        return 1 \n",
        "    else:\n",
        "        return (1 / n) + (harmonic_sum(n - 1)) \n",
        "     \n",
        "print(harmonic_sum(7)) \n",
        "print(harmonic_sum(4)) "
      ],
      "execution_count": null,
      "outputs": [
        {
          "output_type": "stream",
          "text": [
            "2.5928571428571425\n",
            "2.083333333333333\n"
          ],
          "name": "stdout"
        }
      ]
    },
    {
      "cell_type": "markdown",
      "metadata": {
        "id": "5xQRRnLRyHjb",
        "colab_type": "text"
      },
      "source": [
        "#Q48. Write the NumPy program to create a 2d array with 6 on the border and 0 inside?\n",
        "\n",
        "Expected OutputOriginal array-\n",
        "\n",
        "[ [6 6 6 6 6]\n",
        "\n",
        " [ 6 6 6 6 6]\n",
        "\n",
        " [ 6 6 6 6 6 ]\n",
        "\n",
        "[ 6 6 6 6 6 ]\n",
        "\n",
        "[ 6 6 6 6 ] ].\n",
        "\n",
        "6 on the border and 0 inside in the array-\n",
        "\n",
        "[[ 6 6 6 6 6]\n",
        "\n",
        "[ 6 0 0 0 6]\n",
        "\n",
        "[ 6 0 0 0 6]\n",
        "\n",
        "[ 6 0 0 0 6]\n",
        "\n",
        "[ 6 6 6 6 6]]."
      ]
    },
    {
      "cell_type": "code",
      "metadata": {
        "id": "Jb2sr4x3euHl",
        "colab_type": "code",
        "colab": {},
        "outputId": "eb9ad501-6333-4b38-cb3d-eb25d20517ce"
      },
      "source": [
        "# ans 48 \n",
        "import numpy as np\n",
        "x = np.ones((5,5)) \n",
        "print(\"Original array:\") \n",
        "print(x)\n",
        "print(\"1 on the border and 0 inside in the array\") \n",
        "x[1:-1,1:-1] = 0 \n",
        "print(x) "
      ],
      "execution_count": null,
      "outputs": [
        {
          "output_type": "stream",
          "text": [
            "Original array:\n",
            "[[1. 1. 1. 1. 1.]\n",
            " [1. 1. 1. 1. 1.]\n",
            " [1. 1. 1. 1. 1.]\n",
            " [1. 1. 1. 1. 1.]\n",
            " [1. 1. 1. 1. 1.]]\n",
            "1 on the border and 0 inside in the array\n",
            "[[1. 1. 1. 1. 1.]\n",
            " [1. 0. 0. 0. 1.]\n",
            " [1. 0. 0. 0. 1.]\n",
            " [1. 0. 0. 0. 1.]\n",
            " [1. 1. 1. 1. 1.]]\n"
          ],
          "name": "stdout"
        }
      ]
    },
    {
      "cell_type": "markdown",
      "metadata": {
        "id": "78sY20N_ybPT",
        "colab_type": "text"
      },
      "source": [
        "#Q49. Write the NumPy program to create a 8x8 matrix and fill it with the checkerboard pattern?\n",
        "Checkerboard pattern-\n",
        "\n",
        "[[3 9 3 9 3 9 3 9]\n",
        "\n",
        "[9 3 9 3 9 3 9 3]\n",
        "\n",
        "[3 9 3 9 3 9 3 9]\n",
        "\n",
        "[9 3 9 3 9 3 9 3]\n",
        "\n",
        "[3 9 3 9 3 9 3 9]\n",
        "\n",
        "[9 3 9 3 9 3 9 3]\n",
        "\n",
        "[3 9 3 9 3 9 3 9]\n",
        "\n",
        "[9 3 9 3 9 3 9 3]]."
      ]
    },
    {
      "cell_type": "code",
      "metadata": {
        "id": "NG7igZDueuHp",
        "colab_type": "code",
        "colab": {},
        "outputId": "90e78fd7-1d87-4201-b6b7-3f1e2b65fc5f"
      },
      "source": [
        "# ans 49\n",
        "import numpy as np \n",
        "x = np.ones((3,3)) \n",
        "print(\"Checkerboard pattern:\") \n",
        "x = np.zeros((8,8),dtype=int) \n",
        "x[1::2,::2] = 1 \n",
        "x[::2,1::2] = 1 \n",
        "print(x)"
      ],
      "execution_count": null,
      "outputs": [
        {
          "output_type": "stream",
          "text": [
            "Checkerboard pattern:\n",
            "[[0 1 0 1 0 1 0 1]\n",
            " [1 0 1 0 1 0 1 0]\n",
            " [0 1 0 1 0 1 0 1]\n",
            " [1 0 1 0 1 0 1 0]\n",
            " [0 1 0 1 0 1 0 1]\n",
            " [1 0 1 0 1 0 1 0]\n",
            " [0 1 0 1 0 1 0 1]\n",
            " [1 0 1 0 1 0 1 0]]\n"
          ],
          "name": "stdout"
        }
      ]
    },
    {
      "cell_type": "markdown",
      "metadata": {
        "id": "ZMPWXUxJynUI",
        "colab_type": "text"
      },
      "source": [
        "#Q50. Write the NumPy program to create an empty and a full array.\n",
        " Expected Output-\n",
        "\n",
        "[[4.45057637e-308 1.78021527e-306 8.45549797e-307 1.37962049e-306]\n",
        "\n",
        "[1.11260619e-306 1.78010255e-306 9.79054228e-307 4.45057637e-308]\n",
        "\n",
        "[8.45596650e-307 9.34602321e-307 4.94065646e-322 0.00000000e+000]]\n",
        "\n",
        "[[6 6 6]\n",
        "\n",
        "[6 6 6]\n",
        "\n",
        "[6 6 6]]"
      ]
    },
    {
      "cell_type": "code",
      "metadata": {
        "id": "GQN_oNCgeuHr",
        "colab_type": "code",
        "colab": {},
        "outputId": "028b63b8-9bdc-4f5c-d093-dc4f1a3abfe1"
      },
      "source": [
        "# ans 50\n",
        "import numpy as np\n",
        "# Create an empty array \n",
        "x = np.empty((3,4)) \n",
        "print(x) \n",
        "# Create a full array \n",
        "y = np.full((3,3),6) \n",
        "print(y) "
      ],
      "execution_count": null,
      "outputs": [
        {
          "output_type": "stream",
          "text": [
            "[[0. 0. 0. 0.]\n",
            " [0. 0. 0. 0.]\n",
            " [0. 0. 0. 0.]]\n",
            "[[6 6 6]\n",
            " [6 6 6]\n",
            " [6 6 6]]\n"
          ],
          "name": "stdout"
        }
      ]
    },
    {
      "cell_type": "markdown",
      "metadata": {
        "id": "pZZeuA_KyxOb",
        "colab_type": "text"
      },
      "source": [
        "#Q51. Write the NumPy program to convert the values of Centigrade degrees into the Fahrenheit degrees and the centigrade values are stored in the NumPy array.\n",
        "Sample Array -[0, 12, 45.21 ,34, 99.91]\n",
        "\n",
        "Expected OutputValues in Fahrenheit degrees-\n",
        "\n",
        "[ 0. 12. 45.21 34. 99.91]\n",
        "\n",
        "Values in Centigrade degrees-\n",
        "\n",
        "[-17.77777778 -11.11111111 7.33888889 1.11111111 37.72777778]"
      ]
    },
    {
      "cell_type": "code",
      "metadata": {
        "id": "IY8tEHEyeuHu",
        "colab_type": "code",
        "colab": {},
        "outputId": "3b7fdf7b-eae3-45f9-c4c6-4d66a9946a28"
      },
      "source": [
        "# ans 51\n",
        "import numpy as np\n",
        "fvalues = [0, 12, 45.21, 34, 99.91] \n",
        "F = np.array(fvalues) \n",
        "print(\"Values in Fahrenheit degrees:\") \n",
        "print(F)\n",
        "print(\"Values in  Centigrade degrees:\")  \n",
        "print(5*F/9 - 5*32/9)"
      ],
      "execution_count": null,
      "outputs": [
        {
          "output_type": "stream",
          "text": [
            "Values in Fahrenheit degrees:\n",
            "[ 0.   12.   45.21 34.   99.91]\n",
            "Values in  Centigrade degrees:\n",
            "[-17.77777778 -11.11111111   7.33888889   1.11111111  37.72777778]\n"
          ],
          "name": "stdout"
        }
      ]
    },
    {
      "cell_type": "markdown",
      "metadata": {
        "id": "nP8BkIZby7bz",
        "colab_type": "text"
      },
      "source": [
        "#Q52. Write the NumPy program to find the real and imaginary parts of an array of complex numbers?\n",
        "Expected OutputOriginal array [ 1.00000000+0.j 0.70710678+0.70710678j]\n",
        "\n",
        "Real part of the array-\n",
        "\n",
        "[ 1. 0.70710678]\n",
        "\n",
        "Imaginary part of the array-\n",
        "\n",
        "[ 0. 0.70710678]\n",
        "\n"
      ]
    },
    {
      "cell_type": "code",
      "metadata": {
        "id": "ViSnSCazeuHy",
        "colab_type": "code",
        "colab": {},
        "outputId": "e9d2e21f-3e3f-49f8-b3b4-9b3048c412a6"
      },
      "source": [
        "# ans 52\n",
        "import numpy as np\n",
        "x = np.sqrt([1+0j]) \n",
        "y = np.sqrt([0+1j]) \n",
        "print(\"Original array:x \",x) \n",
        "print(\"Original array:y \",y) \n",
        "print(\"Real part of the array:\")\n",
        "print(x.real) \n",
        "print(y.real) \n",
        "print(\"Imaginary part of the array:\") \n",
        "print(x.imag) \n",
        "print(y.imag) "
      ],
      "execution_count": null,
      "outputs": [
        {
          "output_type": "stream",
          "text": [
            "Original array:x  [1.+0.j]\n",
            "Original array:y  [0.70710678+0.70710678j]\n",
            "Real part of the array:\n",
            "[1.]\n",
            "[0.70710678]\n",
            "Imaginary part of the array:\n",
            "[0.]\n",
            "[0.70710678]\n"
          ],
          "name": "stdout"
        }
      ]
    },
    {
      "cell_type": "markdown",
      "metadata": {
        "id": "7Q64cinLzHmw",
        "colab_type": "text"
      },
      "source": [
        "#Q53. Write the NumPy program to test whether each element of a 1-D array is also present in the second array?\n",
        "\n",
        "Expected OutputArray1: [ 0 10 20 40 60]\n",
        "\n",
        "Array2: [0, 40]\n",
        "\n",
        "Compare each element of array1 and array2\n",
        "\n",
        "[ True False False True False]"
      ]
    },
    {
      "cell_type": "code",
      "metadata": {
        "id": "hcoPmU0ceuH5",
        "colab_type": "code",
        "colab": {},
        "outputId": "319308ae-b123-4ec4-b3ee-cdd0a6f63130"
      },
      "source": [
        "# ans 53\n",
        "import numpy as np \n",
        "array1 = np.array([0, 10, 20, 40, 60])\n",
        "print(\"Array1: \",array1)\n",
        "array2 = [0, 40] \n",
        "print(\"Array2: \",array2)\n",
        "print(\"Compare each element of array1 and array2\")\n",
        "print(np.in1d(array1, array2))"
      ],
      "execution_count": null,
      "outputs": [
        {
          "output_type": "stream",
          "text": [
            "Array1:  [ 0 10 20 40 60]\n",
            "Array2:  [0, 40]\n",
            "Compare each element of array1 and array2\n",
            "[ True False False  True False]\n"
          ],
          "name": "stdout"
        }
      ]
    },
    {
      "cell_type": "markdown",
      "metadata": {
        "id": "j5knUvLWzOjC",
        "colab_type": "text"
      },
      "source": [
        "#Q54. Write the NumPy program to find common values between two arrays?\n",
        "Expected OutputArray1: [ 0 10 20 40 60]\n",
        "\n",
        "Array2: [10, 30, 40]\n",
        "\n",
        "Common values between two arrays-\n",
        "\n",
        "[10 40]"
      ]
    },
    {
      "cell_type": "code",
      "metadata": {
        "id": "SeOfhsW0euH9",
        "colab_type": "code",
        "colab": {},
        "outputId": "80eec3a2-23b9-4a0d-cc30-1f9da3ec41b2"
      },
      "source": [
        "# ans 54\n",
        "import numpy as np \n",
        "array1 = np.array([0, 10, 20, 40, 60]) \n",
        "print(\"Array1: \",array1) \n",
        "array2 = [10, 30, 40] \n",
        "print(\"Array2: \",array2)\n",
        "print(\"Common values between two arrays:\") \n",
        "print(np.intersect1d(array1, array2)) "
      ],
      "execution_count": null,
      "outputs": [
        {
          "output_type": "stream",
          "text": [
            "Array1:  [ 0 10 20 40 60]\n",
            "Array2:  [10, 30, 40]\n",
            "Common values between two arrays:\n",
            "[10 40]\n"
          ],
          "name": "stdout"
        }
      ]
    },
    {
      "cell_type": "markdown",
      "metadata": {
        "id": "xL-mf0gC07lR",
        "colab_type": "text"
      },
      "source": [
        "#Q55. Write the NumPy program to get the unique elements of an array?\n",
        "Expected OutputOriginal array-\n",
        "\n",
        "[10 10 20 20 30 30]\n",
        "\n",
        "Unique elements of the above array-\n",
        "\n",
        "[10 20 30]\n",
        "\n",
        "Original array-\n",
        "\n",
        "[[1 1]\n",
        "\n",
        "[2 3]]\n",
        "\n",
        "Unique elements of the above array-\n",
        "\n",
        "[1 2 3]\n"
      ]
    },
    {
      "cell_type": "code",
      "metadata": {
        "id": "ptnJdL8MeuIB",
        "colab_type": "code",
        "colab": {},
        "outputId": "8fa4ef2a-6638-43ed-8180-4006c9395283"
      },
      "source": [
        "# ans 55\n",
        "import numpy as np \n",
        "x = np.array([10, 10, 20, 20, 30, 30])\n",
        "print(\"Original array:\") \n",
        "print(x) \n",
        "print(\"Unique elements of the above array:\") \n",
        "print(np.unique(x)) \n",
        "x = np.array([[1, 1], [2, 3]]) \n",
        "print(\"Original array:\") \n",
        "print(x) \n",
        "print(\"Unique elements of the above array:\") \n",
        "print(np.unique(x)) "
      ],
      "execution_count": null,
      "outputs": [
        {
          "output_type": "stream",
          "text": [
            "Original array:\n",
            "[10 10 20 20 30 30]\n",
            "Unique elements of the above array:\n",
            "[10 20 30]\n",
            "Original array:\n",
            "[[1 1]\n",
            " [2 3]]\n",
            "Unique elements of the above array:\n",
            "[1 2 3]\n"
          ],
          "name": "stdout"
        }
      ]
    },
    {
      "cell_type": "markdown",
      "metadata": {
        "id": "iiCmWWDX1CzZ",
        "colab_type": "text"
      },
      "source": [
        "#Q56. Write the NumPy program to find the set exclusive-or of two arrays. Set exclusive-or will return the sorted, unique values that are in only one (not both) of the input arrays?\n",
        "\n",
        "Array1- [ 0 10 20 40 60 80]\n",
        "\n",
        "Array2- [10, 30, 40, 50, 70]\n",
        "\n",
        "Unique values that are in only one (not both) of the input arrays-\n",
        "\n",
        "[ 0 20 30 50 60 70 80]\n"
      ]
    },
    {
      "cell_type": "code",
      "metadata": {
        "id": "ljXK0UAQeuIH",
        "colab_type": "code",
        "colab": {},
        "outputId": "972deb06-f59b-4bd8-9ef2-144fa6dad59f"
      },
      "source": [
        "# ans 56\n",
        "import numpy as np \n",
        "array1 = np.array([0, 10, 20, 40, 60, 80])\n",
        "print(\"Array1: \",array1) \n",
        "array2 = [10, 30, 40, 50, 70] \n",
        "print(\"Array2: \",array2) \n",
        "print(\"Unique values that are in only one (not both) of the input arrays:\") \n",
        "print(np.setxor1d(array1, array2))"
      ],
      "execution_count": null,
      "outputs": [
        {
          "output_type": "stream",
          "text": [
            "Array1:  [ 0 10 20 40 60 80]\n",
            "Array2:  [10, 30, 40, 50, 70]\n",
            "Unique values that are in only one (not both) of the input arrays:\n",
            "[ 0 20 30 50 60 70 80]\n"
          ],
          "name": "stdout"
        }
      ]
    },
    {
      "cell_type": "markdown",
      "metadata": {
        "id": "d_TRnlXZ52eP",
        "colab_type": "text"
      },
      "source": [
        "#Q57. Write the NumPy program to test if all elements in an array evaluate to True ?\n",
        "\n",
        " Note: 0 evaluates to False in NumPy.\n"
      ]
    },
    {
      "cell_type": "code",
      "metadata": {
        "id": "0nFHzcEGeuIN",
        "colab_type": "code",
        "colab": {},
        "outputId": "2fccf45f-fd62-4c15-ba69-06311d0fd54f"
      },
      "source": [
        "# ans 57\n",
        "import numpy as np \n",
        "print(np.all([[True,False],[True,True]])) \n",
        "print(np.all([[True,True],[True,True]])) \n",
        "print(np.all([10, 20, 0, -50]))\n",
        "print(np.all([10, 20, -50]))"
      ],
      "execution_count": null,
      "outputs": [
        {
          "output_type": "stream",
          "text": [
            "False\n",
            "True\n",
            "False\n",
            "True\n"
          ],
          "name": "stdout"
        }
      ]
    },
    {
      "cell_type": "markdown",
      "metadata": {
        "id": "3v3lU6qr59mm",
        "colab_type": "text"
      },
      "source": [
        "#Q58 Write the NumPy program to test whether any array element along the given axis evaluates to True?\n",
        "\n",
        " Note: 0 evaluates to False in NumPy.\n"
      ]
    },
    {
      "cell_type": "code",
      "metadata": {
        "id": "cn9t3IbVeuIR",
        "colab_type": "code",
        "colab": {},
        "outputId": "805d8b47-8ca4-423e-d541-ac7f9e335eeb"
      },
      "source": [
        "# ans 58\n",
        "import numpy as np \n",
        "print(np.any([[False,False],[False,False]])) \n",
        "print(np.any([[True,True],[True,True]])) \n",
        "print(np.any([10, 20, 0, -50])) \n",
        "print(np.any([10, 20, -50])) \n"
      ],
      "execution_count": null,
      "outputs": [
        {
          "output_type": "stream",
          "text": [
            "False\n",
            "True\n",
            "True\n",
            "True\n"
          ],
          "name": "stdout"
        }
      ]
    },
    {
      "cell_type": "markdown",
      "metadata": {
        "id": "CMfY6Jr86EoA",
        "colab_type": "text"
      },
      "source": [
        "#Q59. Write the NumPy program to construct an array by repeating?\n",
        "\n",
        "Sample array- [1, 2, 3, 4]\n",
        "\n",
        "Expected OutputOriginal array\n",
        "\n",
        "[1, 2, 3, 4]\n",
        "\n",
        "Repeating 2 times\n",
        "\n",
        "[1 2 3 4 1 2 3 4]\n",
        "\n",
        "\n",
        "Repeating 3 times\n",
        "\n",
        "[1 2 3 4 1 2 3 4 1 2 3 4]\n"
      ]
    },
    {
      "cell_type": "code",
      "metadata": {
        "id": "JQgAIRG6euIU",
        "colab_type": "code",
        "colab": {},
        "outputId": "2a286ee7-9abb-45a3-c922-d7db54c11bdb"
      },
      "source": [
        "# ans 59.\n",
        "import numpy as np \n",
        "a = [1, 2, 3, 4] \n",
        "print(\"Original array\") \n",
        "print(a) \n",
        "print(\"Repeating 2 times\") \n",
        "x = np.tile(a, 2) \n",
        "print(x) \n",
        "print(\"Repeating 3 times\") \n",
        "x = np.tile(a, 3) \n",
        "print(x)"
      ],
      "execution_count": null,
      "outputs": [
        {
          "output_type": "stream",
          "text": [
            "Original array\n",
            "[1, 2, 3, 4]\n",
            "Repeating 2 times\n",
            "[1 2 3 4 1 2 3 4]\n",
            "Repeating 3 times\n",
            "[1 2 3 4 1 2 3 4 1 2 3 4]\n"
          ],
          "name": "stdout"
        }
      ]
    },
    {
      "cell_type": "markdown",
      "metadata": {
        "id": "SCtS_r8n6WVp",
        "colab_type": "text"
      },
      "source": [
        "#Q60. Write the NumPy program to find the indices of the maximum and minimum values with the given axis of an array?\n",
        "\n",
        "Original array- [1 2 3 4 5 6]\n",
        "\n",
        "Maximum Values- 5\n",
        "\n",
        "Minimum Values- 0"
      ]
    },
    {
      "cell_type": "code",
      "metadata": {
        "id": "nnm3BHyzeuIY",
        "colab_type": "code",
        "colab": {},
        "outputId": "0e2ff3d5-cfca-4159-fa86-a94a392977e4"
      },
      "source": [
        "# ans 60\n",
        "import numpy as np \n",
        "x = np.array([1, 2, 3, 4, 5, 6]) \n",
        "print(\"Original array: \",x) \n",
        "print(\"Maximum Values: \",np.argmax(x)) \n",
        "print(\"Minimum Values: \",np.argmin(x))"
      ],
      "execution_count": null,
      "outputs": [
        {
          "output_type": "stream",
          "text": [
            "Original array:  [1 2 3 4 5 6]\n",
            "Maximum Values:  5\n",
            "Minimum Values:  0\n"
          ],
          "name": "stdout"
        }
      ]
    },
    {
      "cell_type": "markdown",
      "metadata": {
        "id": "roEW4uJ_6frV",
        "colab_type": "text"
      },
      "source": [
        "#Q61. Write the NumPy program compare two arrays using numpy?\n",
        "Array a- [1 2]\n",
        "\n",
        "Array b- [4 5]\n",
        "\n",
        "a > b\n",
        "\n",
        "[False False]\n",
        "\n",
        "a >= b\n",
        "\n",
        "[False False]\n",
        "\n",
        "a < b\n",
        "\n",
        "[ True True]\n",
        "\n",
        "a <= b\n",
        "\n",
        "[ True True]"
      ]
    },
    {
      "cell_type": "code",
      "metadata": {
        "id": "-1QAa8SweuIc",
        "colab_type": "code",
        "colab": {},
        "outputId": "fdf93d3c-a5bc-4745-80bc-07d42856cdd6"
      },
      "source": [
        "# ans 61\n",
        "import numpy as np \n",
        "a = np.array([1, 2]) \n",
        "b = np.array([4, 5]) \n",
        "print(\"Array a: \",a) \n",
        "print(\"Array b: \",b) \n",
        "print(\"a > b\") \n",
        "print(np.greater(a, b)) \n",
        "print(\"a >= b\")\n",
        "print(np.greater_equal(a, b)) \n",
        "print(\"a < b\") \n",
        "print(np.less(a, b)) \n",
        "print(\"a <= b\") \n",
        "print(np.less_equal(a, b)) "
      ],
      "execution_count": null,
      "outputs": [
        {
          "output_type": "stream",
          "text": [
            "Array a:  [1 2]\n",
            "Array b:  [4 5]\n",
            "a > b\n",
            "[False False]\n",
            "a >= b\n",
            "[False False]\n",
            "a < b\n",
            "[ True  True]\n",
            "a <= b\n",
            "[ True  True]\n"
          ],
          "name": "stdout"
        }
      ]
    },
    {
      "cell_type": "markdown",
      "metadata": {
        "id": "oRvkbCDe6rRE",
        "colab_type": "text"
      },
      "source": [
        "#Q62. Write the NumPy program to sort an along the first, last axis of an array?\n",
        "\n",
        "Sample array- [[2,5],[4,4]]\n",
        "\n",
        "Expected OutputOriginal array:\n",
        "\n",
        "[[4 6]\n",
        "\n",
        "[2 1]]\n",
        "\n",
        "Sort along the first axis:\n",
        "\n",
        "[[2 1]\n",
        "\n",
        "[4 6]]\n",
        "\n",
        "Sort along the last axis-\n",
        "\n",
        "[[1 2]\n",
        "\n",
        "[4 6]]\n"
      ]
    },
    {
      "cell_type": "code",
      "metadata": {
        "id": "T7ca-hgTeuIf",
        "colab_type": "code",
        "colab": {},
        "outputId": "a8fce6ab-bafb-42c6-fcf4-2d0f6d304fc8"
      },
      "source": [
        "# ans 62\n",
        "import numpy as np \n",
        "a = np.array([[4, 6],[2, 1]]) \n",
        "print(\"Original array: \") \n",
        "print(a) \n",
        "print(\"Sort along the first axis: \") \n",
        "x = np.sort(a, axis=0) \n",
        "print(x) \n",
        "print(\"Sort along the last axis: \") \n",
        "y = np.sort(x, axis=1) \n",
        "print(y)"
      ],
      "execution_count": null,
      "outputs": [
        {
          "output_type": "stream",
          "text": [
            "Original array: \n",
            "[[4 6]\n",
            " [2 1]]\n",
            "Sort along the first axis: \n",
            "[[2 1]\n",
            " [4 6]]\n",
            "Sort along the last axis: \n",
            "[[1 2]\n",
            " [4 6]]\n"
          ],
          "name": "stdout"
        }
      ]
    },
    {
      "cell_type": "markdown",
      "metadata": {
        "id": "HbX4o9iB7xwr",
        "colab_type": "text"
      },
      "source": [
        "#Q63. Write the NumPy program to sort pairs of first name and last name return their indices (first by last name, then by first name).\n",
        "\n",
        "first_names - ( Betsey, Shelley, Lanell, Genesis, Margery )\n",
        "\n",
        "last_names - ( Battle, Brien, Plotner, Stahl, Woolum )\n",
        "\n",
        "Expected Output-\n",
        "\n",
        "[1 3 2 4 0]\n"
      ]
    },
    {
      "cell_type": "code",
      "metadata": {
        "id": "lkYLm-a4euIh",
        "colab_type": "code",
        "colab": {},
        "outputId": "5dcba6a3-e2bc-4f1b-a984-acf1b5ffce01"
      },
      "source": [
        "# ans 63\n",
        "import numpy as np \n",
        "first_names =    ('Margery', 'Betsey', 'Shelley', 'Lanell', 'Genesis') \n",
        "last_names = ('Woolum', 'Battle', 'Plotner', 'Brien', 'Stahl') \n",
        "x = np.lexsort((first_names, last_names)) \n",
        "print(x) "
      ],
      "execution_count": null,
      "outputs": [
        {
          "output_type": "stream",
          "text": [
            "[1 3 2 4 0]\n"
          ],
          "name": "stdout"
        }
      ]
    },
    {
      "cell_type": "markdown",
      "metadata": {
        "id": "iLZCF5aM79oG",
        "colab_type": "text"
      },
      "source": [
        "#Q64. Write the NumPy program to get the values and indices of theelements that are bigger than 10 in the given array?\n",
        "\n",
        "Original array-\n",
        "\n",
        "[[ 0 10 20]\n",
        "\n",
        "[20 30 40]]\n",
        "\n",
        "Values bigger than 10 = [20 20 30 40]\n",
        "\n",
        "Their indices are (array([0, 1, 1, 1]), array([2, 0, 1, 2]))\n"
      ]
    },
    {
      "cell_type": "code",
      "metadata": {
        "id": "KQ8Tr1FweuIk",
        "colab_type": "code",
        "colab": {},
        "outputId": "038e82b4-256a-4b0a-f801-4a0da1f31a78"
      },
      "source": [
        "# ans 64\n",
        "import numpy as np \n",
        "x = np.array([[0, 10, 20], [20, 30, 40]]) \n",
        "print(\"Original array: \") \n",
        "print(x) \n",
        "print(\"Values bigger than 10 =\", x[x>10]) \n",
        "print(\"Their indices are \", np.nonzero(x > 10))"
      ],
      "execution_count": null,
      "outputs": [
        {
          "output_type": "stream",
          "text": [
            "Original array: \n",
            "[[ 0 10 20]\n",
            " [20 30 40]]\n",
            "Values bigger than 10 = [20 20 30 40]\n",
            "Their indices are  (array([0, 1, 1, 1], dtype=int64), array([2, 0, 1, 2], dtype=int64))\n"
          ],
          "name": "stdout"
        }
      ]
    },
    {
      "cell_type": "markdown",
      "metadata": {
        "id": "TpEPh3zT8GzY",
        "colab_type": "text"
      },
      "source": [
        "#Q65. Write the NumPy program to find the memory size of a NumPy array?\n",
        "\n",
        "Expected Output128 bytes\n",
        "\n"
      ]
    },
    {
      "cell_type": "code",
      "metadata": {
        "id": "8dMmZ4OLeuIm",
        "colab_type": "code",
        "colab": {},
        "outputId": "cb6b87d5-fc76-40ba-d5ee-ad8ce6ab8e51"
      },
      "source": [
        "# ans 65\n",
        "import numpy as np \n",
        "n = np.zeros((4,4)) \n",
        "print(\"%d bytes\" % (n.size * n.itemsize)) "
      ],
      "execution_count": null,
      "outputs": [
        {
          "output_type": "stream",
          "text": [
            "128 bytes\n"
          ],
          "name": "stdout"
        }
      ]
    },
    {
      "cell_type": "markdown",
      "metadata": {
        "id": "gmJLTZwa8OcP",
        "colab_type": "text"
      },
      "source": [
        "#Q66. Write the NumPy program to create an array of ones and an array of zeros?\n",
        "\n",
        "Expected OutputCreate an array of zeros\n",
        "\n",
        "Default type is float\n",
        "\n",
        "\n",
        "[[ 0. 0.]]\n",
        "\n",
        "Type changes to int\n",
        "\n",
        "[[0 0]]\n",
        "\n",
        "Create an array of ones\n",
        "\n",
        "Default type is float\n",
        "\n",
        "[[ 1. 1.]]\n",
        "\n",
        "Type changes to int\n",
        "\n",
        "[[1 1]]\n"
      ]
    },
    {
      "cell_type": "code",
      "metadata": {
        "id": "4xrWkrEBeuIp",
        "colab_type": "code",
        "colab": {},
        "outputId": "f48b8237-b933-4614-a07a-2ae5302789a6"
      },
      "source": [
        "# ans 66\n",
        "import numpy as np\n",
        "print(\"Create an array of zeros\") \n",
        "x = np.zeros((1,2)) \n",
        "print(\"Default type is float\") \n",
        "print(x) \n",
        "print(\"Type changes to int\") \n",
        "x = np.zeros((1,2), dtype = np.int) \n",
        "print(x) \n",
        "print(\"Create an array of ones\")\n",
        "y= np.ones((1,2))\n",
        "print(\"Default type is float\") \n",
        "print(y)\n",
        "print(\"Type changes to int\") \n",
        "y = np.ones((1,2), dtype = np.int) \n",
        "print(y)"
      ],
      "execution_count": null,
      "outputs": [
        {
          "output_type": "stream",
          "text": [
            "Create an array of zeros\n",
            "Default type is float\n",
            "[[0. 0.]]\n",
            "Type changes to int\n",
            "[[0 0]]\n",
            "Create an array of ones\n",
            "Default type is float\n",
            "[[1. 1.]]\n",
            "Type changes to int\n",
            "[[1 1]]\n"
          ],
          "name": "stdout"
        }
      ]
    },
    {
      "cell_type": "markdown",
      "metadata": {
        "id": "YFAgRreP8dk5",
        "colab_type": "text"
      },
      "source": [
        "#Q67. Write the NumPy program to change the dimension of an array?\n",
        "Expected Output6 rows and 0 columns\n",
        "\n",
        "(6,)\n",
        "\n",
        "(3, 3) -> 3 rows and 3 columns\n",
        "\n",
        "[[1 2 3]\n",
        "\n",
        "[4 5 6]\n",
        "\n",
        "[7 8 9]]\n",
        "\n",
        "Change array shape to (3, 3) -> 3 rows and 3 columns\n",
        "\n",
        "[[1 2 3]\n",
        "\n",
        "[4 5 6]\n",
        "\n",
        "[7 8 9]]"
      ]
    },
    {
      "cell_type": "code",
      "metadata": {
        "id": "qMqdeXb1euIs",
        "colab_type": "code",
        "colab": {},
        "outputId": "5152f59a-a1d1-432f-e13b-41b4c8d28dd9"
      },
      "source": [
        "# ans 67\n",
        "import numpy as np \n",
        "x = np.array([1, 2, 3, 4, 5, 6])\n",
        "print(\"6 rows and 0 columns\") \n",
        "print(x.shape) \n",
        "y = np.array([[1, 2, 3],[4, 5, 6],[7,8,9]]) \n",
        "print(\"(3, 3) -> 3 rows and 3 columns \") \n",
        "print(y)  \n",
        "x = np.array([1,2,3,4,5,6,7,8,9])\n",
        "print(\"Change array shape to (3, 3) -> 3 rows and 3 columns \")\n",
        "x.shape = (3, 3)\n",
        "print(x)"
      ],
      "execution_count": null,
      "outputs": [
        {
          "output_type": "stream",
          "text": [
            "6 rows and 0 columns\n",
            "(6,)\n",
            "(3, 3) -> 3 rows and 3 columns \n",
            "[[1 2 3]\n",
            " [4 5 6]\n",
            " [7 8 9]]\n",
            "Change array shape to (3, 3) -> 3 rows and 3 columns \n",
            "[[1 2 3]\n",
            " [4 5 6]\n",
            " [7 8 9]]\n"
          ],
          "name": "stdout"
        }
      ]
    },
    {
      "cell_type": "markdown",
      "metadata": {
        "id": "uy0eFJtj8npG",
        "colab_type": "text"
      },
      "source": [
        "#Q68. Write the NumPy program to create a new shape to an array without changing its data ?\n",
        "Reshape 3x2-\n",
        "\n",
        "[[1 2]\n",
        "\n",
        "[3 4]\n",
        "\n",
        "[5 6]]\n",
        "\n",
        "Reshape 2x3-\n",
        "\n",
        "[[1 2 3]\n",
        "\n",
        "[4 5 6]]\n"
      ]
    },
    {
      "cell_type": "code",
      "metadata": {
        "id": "iVOupOekeuIu",
        "colab_type": "code",
        "colab": {},
        "outputId": "c3f54e75-349c-489e-8b00-ca62cb4132d2"
      },
      "source": [
        "# ans 68\n",
        "import numpy as np \n",
        "x = np.array([1, 2, 3, 4, 5, 6]) \n",
        "y = np.reshape(x,(3,2)) \n",
        "print(\"Reshape 3x2:\") \n",
        "print(y) \n",
        "z = np.reshape(x,(2,3))\n",
        "print(\"Reshape 2x3:\") \n",
        "print(z)"
      ],
      "execution_count": null,
      "outputs": [
        {
          "output_type": "stream",
          "text": [
            "Reshape 3x2:\n",
            "[[1 2]\n",
            " [3 4]\n",
            " [5 6]]\n",
            "Reshape 2x3:\n",
            "[[1 2 3]\n",
            " [4 5 6]]\n"
          ],
          "name": "stdout"
        }
      ]
    },
    {
      "cell_type": "markdown",
      "metadata": {
        "id": "x6xAH_Jf82qz",
        "colab_type": "text"
      },
      "source": [
        "#Q69. Write the NumPy program to create a new array of 3*5, filled with2 ?\n",
        "Expected Output-\n",
        "\n",
        "[[2 2 2 2 2]\n",
        "\n",
        "[2 2 2 2 2]\n",
        "\n",
        "[2 2 2 2 2]]\n",
        "\n",
        "[[2 2 2 2 2]\n",
        "\n",
        "[2 2 2 2 2]\n",
        "\n",
        "[2 2 2 2 2]]"
      ]
    },
    {
      "cell_type": "code",
      "metadata": {
        "id": "TyPA9HqZeuIw",
        "colab_type": "code",
        "colab": {},
        "outputId": "0b032076-3fbd-478c-ad1f-da941d2fd5f1"
      },
      "source": [
        "# ans 69\n",
        "import numpy as np \n",
        "#using no.full \n",
        "x = np.full((3, 5), 2, dtype=np.uint) \n",
        "print(x) \n",
        "#using no.ones \n",
        "y = np.ones([3, 5], dtype=np.uint) *2 \n",
        "print(y)"
      ],
      "execution_count": null,
      "outputs": [
        {
          "output_type": "stream",
          "text": [
            "[[2 2 2 2 2]\n",
            " [2 2 2 2 2]\n",
            " [2 2 2 2 2]]\n",
            "[[2 2 2 2 2]\n",
            " [2 2 2 2 2]\n",
            " [2 2 2 2 2]]\n"
          ],
          "name": "stdout"
        }
      ]
    },
    {
      "cell_type": "markdown",
      "metadata": {
        "id": "Nz_3-Kze9AhZ",
        "colab_type": "text"
      },
      "source": [
        "#Q70. Write the NumPy program to create a 3-D array with ones on a diagonal and zeros elsewhere?\n",
        "Expected Output-\n",
        "\n",
        "[[ 1. 0. 0.]\n",
        "\n",
        "[ 0. 1. 0.]\n",
        "\n",
        "[ 0. 0. 1.]]"
      ]
    },
    {
      "cell_type": "code",
      "metadata": {
        "id": "sfZGjC9neuIz",
        "colab_type": "code",
        "colab": {},
        "outputId": "a113c95d-9e86-45eb-b340-27709f214c4c"
      },
      "source": [
        "# ans 70\n",
        "import numpy as np \n",
        "x = np.eye(3) \n",
        "print(x) "
      ],
      "execution_count": null,
      "outputs": [
        {
          "output_type": "stream",
          "text": [
            "[[1. 0. 0.]\n",
            " [0. 1. 0.]\n",
            " [0. 0. 1.]]\n"
          ],
          "name": "stdout"
        }
      ]
    },
    {
      "cell_type": "markdown",
      "metadata": {
        "id": "5so1rud5-pi_",
        "colab_type": "text"
      },
      "source": [
        "#Q71. Write the NumPy program to split an array of 14 elements into the 3 arrays and each of which has 2, 4, and 8 elements in original order?\n",
        "\n",
        "\n",
        "Expected OutputOriginal array- [ 1 2 3 4 5 6 7 8 9 10 11 12 13 14]\n",
        "\n",
        "After splitting-\n",
        "\n",
        "[array([1, 2]), array([3, 4, 5, 6]), array([ 7, 8, 9, 10, 11, 12, 13, 14])]\n"
      ]
    },
    {
      "cell_type": "code",
      "metadata": {
        "id": "r3zANshQeuI4",
        "colab_type": "code",
        "colab": {},
        "outputId": "bbc38147-a825-4b9e-815f-2a5638dad82a"
      },
      "source": [
        "# ans 71\n",
        "import numpy as np \n",
        "x = np.arange(1, 15) \n",
        "print(\"Original array:\",x) \n",
        "print(\"After splitting:\") \n",
        "print(np.split(x, [2, 6]))"
      ],
      "execution_count": null,
      "outputs": [
        {
          "output_type": "stream",
          "text": [
            "Original array: [ 1  2  3  4  5  6  7  8  9 10 11 12 13 14]\n",
            "After splitting:\n",
            "[array([1, 2]), array([3, 4, 5, 6]), array([ 7,  8,  9, 10, 11, 12, 13, 14])]\n"
          ],
          "name": "stdout"
        }
      ]
    },
    {
      "cell_type": "markdown",
      "metadata": {
        "id": "yM47gy0p-0Aj",
        "colab_type": "text"
      },
      "source": [
        "#Q72. Write the NumPy program to split of an array of shape 4x4 it into two arrays along the second axis ?\n",
        "\n",
        "\n",
        "Sample array -\n",
        "\n",
        "[[ 0 1 2 3]\n",
        "\n",
        "[ 4 5 6 7]\n",
        "\n",
        "[ 8 9 10 11]\n",
        "\n",
        "[12 13 14 15]]\n",
        "\n",
        "Expected Output-\n",
        "\n",
        "[array([[ 0, 1],\n",
        "\n",
        "[ 4, 5],\n",
        "\n",
        "[ 8, 9],\n",
        "\n",
        "[12, 13]]), array([[ 2, 3],\n",
        "\n",
        "[ 6, 7],\n",
        "\n",
        "[10, 11],\n",
        "\n",
        "[14, 15]]), array([], shape=(4, 0), dtype=int64)]"
      ]
    },
    {
      "cell_type": "code",
      "metadata": {
        "id": "gm8cAlZZeuI6",
        "colab_type": "code",
        "colab": {},
        "outputId": "53ed3681-a473-4417-c34e-4193f058feb9"
      },
      "source": [
        "# ans 72\n",
        "import numpy as np \n",
        "x = np.arange(16).reshape((4, 4)) \n",
        "print(\"Original array:\",x) \n",
        "print(\"After splitting horizontally:\")\n",
        "print(np.hsplit(x, [2, 6]))"
      ],
      "execution_count": null,
      "outputs": [
        {
          "output_type": "stream",
          "text": [
            "Original array: [[ 0  1  2  3]\n",
            " [ 4  5  6  7]\n",
            " [ 8  9 10 11]\n",
            " [12 13 14 15]]\n",
            "After splitting horizontally:\n",
            "[array([[ 0,  1],\n",
            "       [ 4,  5],\n",
            "       [ 8,  9],\n",
            "       [12, 13]]), array([[ 2,  3],\n",
            "       [ 6,  7],\n",
            "       [10, 11],\n",
            "       [14, 15]]), array([], shape=(4, 0), dtype=int32)]\n"
          ],
          "name": "stdout"
        }
      ]
    },
    {
      "cell_type": "markdown",
      "metadata": {
        "id": "BRX9Pb9f_F83",
        "colab_type": "text"
      },
      "source": [
        "#Q73. Write the NumPy program to create a 5x5 matrix with row values ranging from 0 to 4?\n",
        "Original array-\n",
        "\n",
        "[[ 0. 0. 0. 0. 0.]\n",
        "\n",
        "[ 0. 0. 0. 0. 0.]\n",
        "\n",
        "[ 0. 0. 0. 0. 0.]\n",
        "\n",
        "[ 0. 0. 0. 0. 0.]\n",
        "\n",
        "[ 0. 0. 0. 0. 0.]]\n",
        "\n",
        "Row values ranging from 0 to 4.\n",
        "\n",
        "[[ 0. 1. 2. 3. 4.]\n",
        "\n",
        "[ 0. 1. 2. 3. 4.]\n",
        "\n",
        "[ 0. 1. 2. 3. 4.]\n",
        "\n",
        "[ 0. 1. 2. 3. 4.]\n",
        "\n",
        "[ 0. 1. 2. 3. 4.]]\n"
      ]
    },
    {
      "cell_type": "code",
      "metadata": {
        "id": "aFmikoT9euI-",
        "colab_type": "code",
        "colab": {},
        "outputId": "1a08ddf6-c350-4ede-b11a-21f825ef1ca1"
      },
      "source": [
        "# ans 73\n",
        "x = np.zeros((5,5))\n",
        "print(\"Original array:\") \n",
        "print(x) \n",
        "print(\"Row values ranging from 0 to 4.\") \n",
        "x += np.arange(5) \n",
        "print(x) "
      ],
      "execution_count": null,
      "outputs": [
        {
          "output_type": "stream",
          "text": [
            "Original array:\n",
            "[[0. 0. 0. 0. 0.]\n",
            " [0. 0. 0. 0. 0.]\n",
            " [0. 0. 0. 0. 0.]\n",
            " [0. 0. 0. 0. 0.]\n",
            " [0. 0. 0. 0. 0.]]\n",
            "Row values ranging from 0 to 4.\n",
            "[[0. 1. 2. 3. 4.]\n",
            " [0. 1. 2. 3. 4.]\n",
            " [0. 1. 2. 3. 4.]\n",
            " [0. 1. 2. 3. 4.]\n",
            " [0. 1. 2. 3. 4.]]\n"
          ],
          "name": "stdout"
        }
      ]
    },
    {
      "cell_type": "markdown",
      "metadata": {
        "id": "IAW_WM7c_RhY",
        "colab_type": "text"
      },
      "source": [
        "#Q74. Write the NumPy program to create an array of zeros and three column types (integer, float, character)?\n",
        "\n",
        "Expected Output-\n",
        "\n",
        "[(1, 2., b'Albert Einstein') (2, 2., b'Edmond Halley')\n",
        "\n",
        "(3, 3., b'Gertrude B. Elion')]"
      ]
    },
    {
      "cell_type": "code",
      "metadata": {
        "id": "o_pvCmpTeuJA",
        "colab_type": "code",
        "colab": {},
        "outputId": "2aa3d75c-1a44-46d3-cd3f-e1a8c9a32520"
      },
      "source": [
        "# ans 74\n",
        "x = np.zeros((3,), dtype=('i4,f4,a40')) \n",
        "new_data = [(1, 2., \"Albert Einstein\"), (2, 2., \"Edmond Halley\"), (3, 3., \"Gertrude B. Elion\")] \n",
        "x[:] = new_data \n",
        "print(x) "
      ],
      "execution_count": null,
      "outputs": [
        {
          "output_type": "stream",
          "text": [
            "[(1, 2., b'Albert Einstein') (2, 2., b'Edmond Halley')\n",
            " (3, 3., b'Gertrude B. Elion')]\n"
          ],
          "name": "stdout"
        }
      ]
    },
    {
      "cell_type": "markdown",
      "metadata": {
        "id": "Wvie4dGA_cF2",
        "colab_type": "text"
      },
      "source": [
        "#Q75. Write the NumPy program to remove the negative values in the numpy array with 0?\n",
        "Expected OutputOriginal array:\n",
        "\n",
        "\n",
        "[-1 -4 0 2 3 4 5 -6]\n",
        "\n",
        "Replace the negative values of the said array with 0-\n",
        "\n",
        "[0 0 0 2 3 4 5 0]\n"
      ]
    },
    {
      "cell_type": "code",
      "metadata": {
        "id": "ZNkI37fIeuJD",
        "colab_type": "code",
        "colab": {},
        "outputId": "cc333394-81bf-412a-bbac-bcf700fa9051"
      },
      "source": [
        "# ans 75 \n",
        "x = np.array([-1, -4, 0, 2, 3, 4, 5, -6]) \n",
        "print(\"Original array:\") \n",
        "print(x) \n",
        "print(\"Replace the negative values of the said array with 0:\")\n",
        "x[x < 0] = 0 \n",
        "print(x)"
      ],
      "execution_count": null,
      "outputs": [
        {
          "output_type": "stream",
          "text": [
            "Original array:\n",
            "[-1 -4  0  2  3  4  5 -6]\n",
            "Replace the negative values of the said array with 0:\n",
            "[0 0 0 2 3 4 5 0]\n"
          ],
          "name": "stdout"
        }
      ]
    },
    {
      "cell_type": "markdown",
      "metadata": {
        "id": "ebQUUkbz_pbs",
        "colab_type": "text"
      },
      "source": [
        "#Q76. Write the NumPy program to compute the histogram of a set of data?"
      ]
    },
    {
      "cell_type": "code",
      "metadata": {
        "id": "4jyjkY29euJH",
        "colab_type": "code",
        "colab": {},
        "outputId": "a85a4c98-187d-4877-ff2d-2ae5b5a94828"
      },
      "source": [
        "# 76 \n",
        "import matplotlib.pyplot as plt \n",
        "%matplotlib inline\n",
        "plt.hist([1, 2, 1], bins=[0, 1, 2, 3, 5]) \n",
        "plt.show() "
      ],
      "execution_count": null,
      "outputs": [
        {
          "output_type": "display_data",
          "data": {
            "image/png": "[encoded data removed]",
            "text/plain": [
              "<Figure size 432x288 with 1 Axes>"
            ]
          },
          "metadata": {
            "tags": [],
            "needs_background": "light"
          }
        }
      ]
    },
    {
      "cell_type": "markdown",
      "metadata": {
        "id": "ES7duRuV4rW6",
        "colab_type": "text"
      },
      "source": [
        "#Q77. Write the NumPy program to compute the line graph of a set of data?\n"
      ]
    },
    {
      "cell_type": "code",
      "metadata": {
        "id": "SKX6JxuZeuJN",
        "colab_type": "code",
        "colab": {},
        "outputId": "27039ccd-33b2-450e-b10b-c043f5448c1f"
      },
      "source": [
        "# 77\n",
        "arr = np.random.randint(1, 50, 10) \n",
        "y, x = np.histogram(arr, bins=np.arange(51)) \n",
        "fig, ax = plt.subplots() \n",
        "ax.plot(x[:-1], y) \n",
        "fig.show() "
      ],
      "execution_count": null,
      "outputs": [
        {
          "output_type": "stream",
          "text": [
            "C:\\Users\\Satya\\Anaconda3\\lib\\site-packages\\ipykernel_launcher.py:6: UserWarning: Matplotlib is currently using module://ipykernel.pylab.backend_inline, which is a non-GUI backend, so cannot show the figure.\n",
            "  \n"
          ],
          "name": "stderr"
        },
        {
          "output_type": "display_data",
          "data": {
            "image/png": "[encoded data removed]",
            "text/plain": [
              "<Figure size 432x288 with 1 Axes>"
            ]
          },
          "metadata": {
            "tags": [],
            "needs_background": "light"
          }
        }
      ]
    },
    {
      "cell_type": "markdown",
      "metadata": {
        "id": "fAJT6ePE5RR2",
        "colab_type": "text"
      },
      "source": [
        "#78. Write the NumPy program to extracts all the elements from second row from given (4x4) array?\n",
        "\n",
        "Sample OutputOriginal array-\n",
        "\n",
        "[[ 0 1 2 3]\n",
        "\n",
        "[ 4 5 6 7]\n",
        "\n",
        "[ 8 9 10 11]\n",
        "\n",
        "[12 13 14 15]]\n",
        "\n",
        "Extracted data- Second row\n",
        "\n",
        "[4 5 6 7]"
      ]
    },
    {
      "cell_type": "code",
      "metadata": {
        "id": "IvlAlfcteuJP",
        "colab_type": "code",
        "colab": {},
        "outputId": "23ae8bfc-8ed9-4977-c6ba-8d348d4a875e"
      },
      "source": [
        "# 78\n",
        "arra_data = np.arange(0,16).reshape((4, 4)) \n",
        "print(\"Original array:\") \n",
        "print(arra_data) \n",
        "print(\"\\nExtracted data: Second row\") \n",
        "print(arra_data[1,:]) "
      ],
      "execution_count": null,
      "outputs": [
        {
          "output_type": "stream",
          "text": [
            "Original array:\n",
            "[[ 0  1  2  3]\n",
            " [ 4  5  6  7]\n",
            " [ 8  9 10 11]\n",
            " [12 13 14 15]]\n",
            "\n",
            "Extracted data: Second row\n",
            "[4 5 6 7]\n"
          ],
          "name": "stdout"
        }
      ]
    },
    {
      "cell_type": "markdown",
      "metadata": {
        "id": "_He5cYe85bNl",
        "colab_type": "text"
      },
      "source": [
        "#Q79. Write the NumPy program to extract first element of the second row and fourth element of fourth row from a given (4x4) array?\n",
        "\n",
        "\n",
        "Sample OutputOriginal array-\n",
        "\n",
        "[[ 0 1 2 3]\n",
        "\n",
        "[ 4 5 6 7]\n",
        "\n",
        "[ 8 9 10 11]\n",
        "\n",
        "[12 13 14 15]]\n",
        "\n",
        "Extracted data- First element of the second row and fourth element of fourth row\n",
        "\n",
        "[ 4 15]"
      ]
    },
    {
      "cell_type": "code",
      "metadata": {
        "id": "4ndYFZC6euJR",
        "colab_type": "code",
        "colab": {},
        "outputId": "a52a7c77-bde1-4f07-ee43-7b3ae0e29784"
      },
      "source": [
        "# 79\n",
        "arra_data = np.arange(0,16).reshape((4, 4))\n",
        "print(\"Original array:\") \n",
        "print(arra_data) \n",
        "print(\"\\nExtracted data: First element of the second row and fourth element of fourth row  \")\n",
        "print(arra_data[[1,3], [0,3]]) "
      ],
      "execution_count": null,
      "outputs": [
        {
          "output_type": "stream",
          "text": [
            "Original array:\n",
            "[[ 0  1  2  3]\n",
            " [ 4  5  6  7]\n",
            " [ 8  9 10 11]\n",
            " [12 13 14 15]]\n",
            "\n",
            "Extracted data: First element of the second row and fourth element of fourth row  \n",
            "[ 4 15]\n"
          ],
          "name": "stdout"
        }
      ]
    },
    {
      "cell_type": "markdown",
      "metadata": {
        "id": "RMqfcVTk5qqF",
        "colab_type": "text"
      },
      "source": [
        "#Q80. Write the NumPy program to add two arrays A and B of sizes (3,3) and (,3)?\n",
        "\n",
        "Sample OutputOriginal arrayArray-1\n",
        "\n",
        "[[1 1 1]\n",
        "\n",
        "[1 1 1]\n",
        "\n",
        "[1 1 1]]\n",
        "\n",
        "Array-2\n",
        "\n",
        "[0 1 2]\n",
        "\n",
        "A + B:\n",
        "\n",
        "[[1 2 3]\n",
        "\n",
        "[1 2 3]\n",
        "\n",
        "[1 2 3]]"
      ]
    },
    {
      "cell_type": "code",
      "metadata": {
        "id": "c41Sru4meuJT",
        "colab_type": "code",
        "colab": {},
        "outputId": "e95786a6-db71-4f77-ccd0-c4100d96c304"
      },
      "source": [
        "# 80\n",
        "A = np.ones((3,3)) \n",
        "B = np.arange(3) \n",
        "print(\"Original array:\")\n",
        "print(\"Array-1\") \n",
        "print(A) \n",
        "print(\"Array-2\") \n",
        "print(B) \n",
        "print(\"A + B:\") \n",
        "new_array = A + B \n",
        "print(new_array) "
      ],
      "execution_count": null,
      "outputs": [
        {
          "output_type": "stream",
          "text": [
            "Original array:\n",
            "Array-1\n",
            "[[1. 1. 1.]\n",
            " [1. 1. 1.]\n",
            " [1. 1. 1.]]\n",
            "Array-2\n",
            "[0 1 2]\n",
            "A + B:\n",
            "[[1. 2. 3.]\n",
            " [1. 2. 3.]\n",
            " [1. 2. 3.]]\n"
          ],
          "name": "stdout"
        }
      ]
    },
    {
      "cell_type": "markdown",
      "metadata": {
        "id": "G0cSkk6f50Bw",
        "colab_type": "text"
      },
      "source": [
        "#Q81. Write the NumPy program to copy data from a given array to another array?\n",
        "\n",
        "Sample OutputOriginal array-\n",
        "\n",
        "[24 27 30 29 18 14]\n",
        "\n",
        "Copy of the said array-\n",
        "\n",
        "[24 27 30 29 18 14]"
      ]
    },
    {
      "cell_type": "code",
      "metadata": {
        "id": "2RCVq0YTeuJV",
        "colab_type": "code",
        "colab": {},
        "outputId": "469cf61e-2bea-4cf9-ecaa-258c17c0c1b7"
      },
      "source": [
        "# 81\n",
        "import numpy as np \n",
        "x = np.array([24, 27, 30, 29, 18, 14]) \n",
        "print(\"Original array:\")\n",
        "print(x) \n",
        "y = np.empty_like (x)\n",
        "y[:] = x \n",
        "print(\"\\nCopy of the said array:\")\n",
        "print(y)"
      ],
      "execution_count": null,
      "outputs": [
        {
          "output_type": "stream",
          "text": [
            "Original array:\n",
            "[24 27 30 29 18 14]\n",
            "\n",
            "Copy of the said array:\n",
            "[24 27 30 29 18 14]\n"
          ],
          "name": "stdout"
        }
      ]
    },
    {
      "cell_type": "markdown",
      "metadata": {
        "id": "sKhqjB_C5-pK",
        "colab_type": "text"
      },
      "source": [
        "#Q82. Write the NumPy program to calculate the sum of all columns of the 2D numpy array?\n",
        "Sample OutputOriginal array-\n",
        "\n",
        "\n",
        "[[ 0 1 2 3 4 5 6 7 8]\n",
        "\n",
        "[ 9 10 11 12 13 14 15 16 17]\n",
        "\n",
        "[18 19 20 21 22 23 24 25 26]\n",
        "\n",
        "[27 28 29 30 31 32 33 34 35]]\n",
        "\n",
        "Sum of all columns-\n",
        "\n",
        "[54 58 62 66 70 74 78 82 86]"
      ]
    },
    {
      "cell_type": "code",
      "metadata": {
        "id": "g5BcroWXeuJX",
        "colab_type": "code",
        "colab": {},
        "outputId": "ca4513ba-9007-4c19-873f-965b0dae8251"
      },
      "source": [
        "# 82\n",
        "num = np.arange(36) \n",
        "arr1 = np.reshape(num, [4, 9]) \n",
        "print(\"Original array:\") \n",
        "print(arr1) \n",
        "result  = arr1.sum(axis=0) \n",
        "print(\"\\nSum of all columns:\") \n",
        "print(result) "
      ],
      "execution_count": null,
      "outputs": [
        {
          "output_type": "stream",
          "text": [
            "Original array:\n",
            "[[ 0  1  2  3  4  5  6  7  8]\n",
            " [ 9 10 11 12 13 14 15 16 17]\n",
            " [18 19 20 21 22 23 24 25 26]\n",
            " [27 28 29 30 31 32 33 34 35]]\n",
            "\n",
            "Sum of all columns:\n",
            "[54 58 62 66 70 74 78 82 86]\n"
          ],
          "name": "stdout"
        }
      ]
    },
    {
      "cell_type": "markdown",
      "metadata": {
        "id": "QVAZwtfK6Kr3",
        "colab_type": "text"
      },
      "source": [
        "#Q83. Write the NumPy program to calculate averages without NaNs along the given array?\n",
        "\n",
        "Sample OutputOriginal array-\n",
        "\n",
        "[[10. 20. 30.]\n",
        "\n",
        "[40. 50. nan]\n",
        "\n",
        "[nan 6. nan]\n",
        "\n",
        "[nan nan nan]]\n",
        "\n",
        "Averages without NaNs along the said array-\n",
        "\n",
        "[20. 45. 6. nan]\n"
      ]
    },
    {
      "cell_type": "markdown",
      "metadata": {
        "id": "zOU2HSKm6Rq_",
        "colab_type": "text"
      },
      "source": [
        ""
      ]
    },
    {
      "cell_type": "code",
      "metadata": {
        "id": "wIMZMfMUeuJZ",
        "colab_type": "code",
        "colab": {},
        "outputId": "b2986e23-828f-47c6-abd2-594c2a2625ad"
      },
      "source": [
        "# 83\n",
        "arr1 = np.array([[10, 20 ,30], [40, 50, np.nan], [np.nan, 6, np.nan], [np.nan, np.nan, np.nan]])\n",
        "print(\"Original array:\") \n",
        "print(arr1) \n",
        "temp = np.ma.masked_array(arr1,np.isnan(arr1)) \n",
        "result = np.mean(temp, axis=1) \n",
        "print(\"Averages without NaNs along the said array:\") \n",
        "print(result.filled(np.nan))"
      ],
      "execution_count": null,
      "outputs": [
        {
          "output_type": "stream",
          "text": [
            "Original array:\n",
            "[[10. 20. 30.]\n",
            " [40. 50. nan]\n",
            " [nan  6. nan]\n",
            " [nan nan nan]]\n",
            "Averages without NaNs along the said array:\n",
            "[20. 45.  6. nan]\n"
          ],
          "name": "stdout"
        }
      ]
    },
    {
      "cell_type": "markdown",
      "metadata": {
        "id": "ssKwJ7sN6b96",
        "colab_type": "text"
      },
      "source": [
        "#Q84. Create two arrays of six elements. Write the NumPy program to count the number of instances of a value occurring in one array on the condition of another array.\n",
        "\n",
        "Sample OutputOriginal arrays-\n",
        "\n",
        "[ 10 -10 10 -10 -10 10]\n",
        "\n",
        "[0.85 0.45 0.9 0.8 0.12 0.6 ]\n",
        "\n",
        "Number of instances of a value occurring in one array on the condition of \n",
        "another\n",
        "\n",
        "array: 3\n"
      ]
    },
    {
      "cell_type": "code",
      "metadata": {
        "id": "GRWZtMe8euJd",
        "colab_type": "code",
        "colab": {},
        "outputId": "a881f876-9d45-48ca-c413-57f15c846e0f"
      },
      "source": [
        "# 84\n",
        "import numpy as np \n",
        "x = np.array([10,-10,10,-10,-10,10]) \n",
        "y = np.array([.85,.45,.9,.8,.12,.6]) \n",
        "print(\"Original arrays:\") \n",
        "print(x) \n",
        "print(y) \n",
        "result = np.sum((x == 10) & (y > .5)) \n",
        "print(\"\\nNumber of instances of a value occurring in one aray on the condition of another array:\") \n",
        "print(result)"
      ],
      "execution_count": null,
      "outputs": [
        {
          "output_type": "stream",
          "text": [
            "Original arrays:\n",
            "[ 10 -10  10 -10 -10  10]\n",
            "[0.85 0.45 0.9  0.8  0.12 0.6 ]\n",
            "\n",
            "Number of instances of a value occurring in one aray on the condition of another array:\n",
            "3\n"
          ],
          "name": "stdout"
        }
      ]
    },
    {
      "cell_type": "markdown",
      "metadata": {
        "id": "mcjM5tTQ7wNP",
        "colab_type": "text"
      },
      "source": [
        "#Q85. Write the NumPy program to convert a Python dictionary to a Numpy ndarray ?\n",
        "\n",
        "Original dictionary-\n",
        "\n",
        "{'column0': {'a': 1, 'b': 0.0, 'c': 0.0, 'd': 2.0},\n",
        "\n",
        "'column1': {'a': 3.0, 'b': 1, 'c': 0.0, 'd': -1.0},\n",
        "\n",
        "'column2': {'a': 4, 'b': 1, 'c': 5.0, 'd': -1.0},\n",
        "\n",
        "'column3': {'a': 3.0, 'b': -1.0, 'c': -1.0, 'd': -1.0}}\n",
        "\n",
        "Type: <class 'dict'>\n",
        "\n",
        "ndarray-\n",
        "\n",
        "[[ 1. 0. 0. 2.]\n",
        "\n",
        "[ 3. 1. 0. -1.]\n",
        "\n",
        "[ 4. 1. 5. -1.]\n",
        "\n",
        "[ 3. -1. -1. -1.]]\n",
        "\n",
        "Type: <class 'numpy.ndarray'>\n"
      ]
    },
    {
      "cell_type": "code",
      "metadata": {
        "id": "3ofhOAiheuJg",
        "colab_type": "code",
        "colab": {},
        "outputId": "f00da1d9-7b0c-4348-c126-c9e9c1f7756e"
      },
      "source": [
        "# 85\n",
        "import numpy as np \n",
        "from ast import literal_eval \n",
        "udict = \"\"\"{\"column0\":{\"a\":1,\"b\":0.0,\"c\":0.0,\"d\":2.0},    \"column1\":{\"a\":3.0,\"b\":1,\"c\":0.0,\"d\":-1.0},    \"column2\":{\"a\":4,\"b\":1,\"c\":5.0,\"d\":-1.0},    \"column3\":{\"a\":3.0,\"b\":-1.0,\"c\":-1.0,\"d\":-1.0}   }\"\"\" \n",
        "t = literal_eval(udict)\n",
        "print(\"\\nOriginal dictionary:\") \n",
        "print(t) \n",
        "print(\"Type: \",type(t)) \n",
        "result_nparra = np.array([[v[j] for j in ['a', 'b', 'c', 'd']]\n",
        "for k, v in t.items()]) \n",
        "print(\"\\nndarray:\") \n",
        "print(result_nparra) \n",
        "print(\"Type: \",type(result_nparra))"
      ],
      "execution_count": null,
      "outputs": [
        {
          "output_type": "stream",
          "text": [
            "\n",
            "Original dictionary:\n",
            "{'column0': {'a': 1, 'b': 0.0, 'c': 0.0, 'd': 2.0}, 'column1': {'a': 3.0, 'b': 1, 'c': 0.0, 'd': -1.0}, 'column2': {'a': 4, 'b': 1, 'c': 5.0, 'd': -1.0}, 'column3': {'a': 3.0, 'b': -1.0, 'c': -1.0, 'd': -1.0}}\n",
            "Type:  <class 'dict'>\n",
            "\n",
            "ndarray:\n",
            "[[ 1.  0.  0.  2.]\n",
            " [ 3.  1.  0. -1.]\n",
            " [ 4.  1.  5. -1.]\n",
            " [ 3. -1. -1. -1.]]\n",
            "Type:  <class 'numpy.ndarray'>\n"
          ],
          "name": "stdout"
        }
      ]
    },
    {
      "cell_type": "markdown",
      "metadata": {
        "id": "HGTwGLxb8Fc5",
        "colab_type": "text"
      },
      "source": [
        "#Q86. Write the Numpy program to find and store the non-zero unique rows in an array after comparing each row with other row in the given matrix?\n",
        "\n",
        "\n",
        "Original array-\n",
        "\n",
        "[[ 1 1 0]\n",
        "\n",
        "[ 0 0 0]\n",
        "\n",
        "[ 0 2 3]\n",
        "\n",
        "[ 0 0 0]\n",
        "\n",
        "[ 0 -1 1]\n",
        "\n",
        "[ 0 0 0]]\n",
        "\n",
        "Non-zero unique rows-\n",
        "\n",
        "[[ 1 1 0]\n",
        "\n",
        "[ 0 2 3]\n",
        "\n",
        "[ 0 -1 1]]\n",
        "\n"
      ]
    },
    {
      "cell_type": "code",
      "metadata": {
        "id": "qvTxWIc3euJj",
        "colab_type": "code",
        "colab": {},
        "outputId": "91e65db7-8be6-4da8-e17e-2be9ed76b312"
      },
      "source": [
        "# 86\n",
        "import numpy as np\n",
        "arra = np.array([[ 1,  1,  0], \n",
        "                 [ 0,  0,  0],  \n",
        "                 [ 0,  2,  3],  \n",
        "                 [ 0,  0,  0],  \n",
        "                 [ 0, -1,  1],  \n",
        "                 [ 0,  0,  0]])  \n",
        "print(\"Original array:\") \n",
        "print(arra)\n",
        "temp = {(0, 0, 0)} \n",
        "result = [] \n",
        "for idx, row in enumerate(map(tuple, arra)):   \n",
        "    if row not in temp:     \n",
        "        result.append(idx) \n",
        "print(\"\\nNon-zero unique rows:\")\n",
        "print(arra[result])"
      ],
      "execution_count": null,
      "outputs": [
        {
          "output_type": "stream",
          "text": [
            "Original array:\n",
            "[[ 1  1  0]\n",
            " [ 0  0  0]\n",
            " [ 0  2  3]\n",
            " [ 0  0  0]\n",
            " [ 0 -1  1]\n",
            " [ 0  0  0]]\n",
            "\n",
            "Non-zero unique rows:\n",
            "[[ 1  1  0]\n",
            " [ 0  2  3]\n",
            " [ 0 -1  1]]\n"
          ],
          "name": "stdout"
        }
      ]
    },
    {
      "cell_type": "markdown",
      "metadata": {
        "id": "ZKT3Ym4b8V_U",
        "colab_type": "text"
      },
      "source": [
        "#Q87. Write the NumPy program to multiply the matrix by another matrix of complex numbers and create a new matrix of complex numbers?\n",
        "\n",
        "Sample outputFirst array-\n",
        "\n",
        "[ 1.+2.j 3.+4.j]\n",
        "\n",
        "Second array-\n",
        "\n",
        "[ 5.+6.j 7.+8.j]\n",
        "\n",
        "Product of above two arrays-\n",
        "\n",
        "(70-8j)"
      ]
    },
    {
      "cell_type": "code",
      "metadata": {
        "id": "niro-kQSeuJl",
        "colab_type": "code",
        "colab": {},
        "outputId": "718a03ee-c437-4d87-b4d2-db4744233300"
      },
      "source": [
        "# 87\n",
        "x = np.array([1+2j,3+4j]) \n",
        "print(\"First array:\") \n",
        "print(x) \n",
        "y = np.array([5+6j,7+8j]) \n",
        "print(\"Second array:\") \n",
        "print(y) \n",
        "z = np.vdot(x, y) \n",
        "print(\"Product of above two arrays:\") \n",
        "print(z) "
      ],
      "execution_count": null,
      "outputs": [
        {
          "output_type": "stream",
          "text": [
            "First array:\n",
            "[1.+2.j 3.+4.j]\n",
            "Second array:\n",
            "[5.+6.j 7.+8.j]\n",
            "Product of above two arrays:\n",
            "(70-8j)\n"
          ],
          "name": "stdout"
        }
      ]
    },
    {
      "cell_type": "markdown",
      "metadata": {
        "id": "IkUuZAWY8jKV",
        "colab_type": "text"
      },
      "source": [
        "#Q88. Write a NumPy program to generate the matrix product of two Arrays?\n",
        "\n",
        "Sample OutputMatrices and vectors.\n",
        "\n",
        "x-\n",
        "\n",
        "[[1, 0], [1, 1]]\n",
        "\n",
        "y-\n",
        "\n",
        "[[3, 1], [2, 2]]\n",
        "\n",
        "Matrix product of above two arrays-\n",
        "\n",
        "[[3 1]\n",
        "\n",
        "[5 3]]\n"
      ]
    },
    {
      "cell_type": "code",
      "metadata": {
        "id": "5fzhpoZOeuJn",
        "colab_type": "code",
        "colab": {},
        "outputId": "6795b076-0269-423e-808d-680912b3356b"
      },
      "source": [
        "# 88\n",
        "x = [[1, 0], [1, 1]] \n",
        "y = [[3, 1], [2, 2]] \n",
        "print(\"Matrices and vectors.\") \n",
        "print(\"x:\") \n",
        "print(x) \n",
        "print(\"y:\")\n",
        "print(y) \n",
        "print(\"Matrix product of above two arrays:\") \n",
        "print(np.matmul(x, y))"
      ],
      "execution_count": null,
      "outputs": [
        {
          "output_type": "stream",
          "text": [
            "Matrices and vectors.\n",
            "x:\n",
            "[[1, 0], [1, 1]]\n",
            "y:\n",
            "[[3, 1], [2, 2]]\n",
            "Matrix product of above two arrays:\n",
            "[[3 1]\n",
            " [5 3]]\n"
          ],
          "name": "stdout"
        }
      ]
    },
    {
      "cell_type": "markdown",
      "metadata": {
        "id": "swEvUU-z8rKl",
        "colab_type": "text"
      },
      "source": [
        "#Q89. Write the NumPy program to find roots of the following Polynomials?\n",
        "a) (x2- 4x + 7)\n",
        "\n",
        "\n",
        "b) x4 - 11x3 + 9x2 + 11x ? 10\n",
        "\n",
        "Sample outputRoots of the first polynomial-\n",
        "\n",
        "[ 1. 1.]\n",
        "\n",
        "Roots of the second polynomial-\n",
        "\n",
        "[ 11.04461946+0.j -0.87114210+0.j 0.91326132+0.4531004j\n",
        "0.91326132-0.4531004j ]"
      ]
    },
    {
      "cell_type": "code",
      "metadata": {
        "id": "JSkVQH9reuJq",
        "colab_type": "code",
        "colab": {},
        "outputId": "c7e6af85-9956-4291-d9b5-0637572e1a83"
      },
      "source": [
        "# 89\n",
        "import numpy as np \n",
        "print(\"Roots of the first polynomial:\") \n",
        "print(np.roots([1, -2, 1])) \n",
        "print(\"Roots of the second polynomial:\") \n",
        "print(np.roots([1, -12, 10, 7, -10])) "
      ],
      "execution_count": null,
      "outputs": [
        {
          "output_type": "stream",
          "text": [
            "Roots of the first polynomial:\n",
            "[1. 1.]\n",
            "Roots of the second polynomial:\n",
            "[11.04461946+0.j        -0.8711421 +0.j         0.91326132+0.4531004j\n",
            "  0.91326132-0.4531004j]\n"
          ],
          "name": "stdout"
        }
      ]
    },
    {
      "cell_type": "markdown",
      "metadata": {
        "id": "7JSLgyXZ8-DV",
        "colab_type": "text"
      },
      "source": [
        "#Q90. Write the NumPy program to calculate inverse of sine, cosine, and inverse tangent for all elements in a given array?\n",
        "\n",
        "Sample outputInverse sine- [-1.57079633 0. 1.57079633]\n",
        "\n",
        "Inverse cosine- [3.14159265 1.57079633 0. ]\n",
        "\n",
        "Inverse tangent- [-0.78539816 0. 0.78539816]\n"
      ]
    },
    {
      "cell_type": "code",
      "metadata": {
        "id": "uJ7Oeab0euJs",
        "colab_type": "code",
        "colab": {},
        "outputId": "f54ea54d-48a4-4901-9762-a42b8329b365"
      },
      "source": [
        "# 90\n",
        "import numpy as np \n",
        "x = np.array([-1., 0, 1.]) \n",
        "print(\"Inverse sine:\", np.arcsin(x))\n",
        "print(\"Inverse cosine:\", np.arccos(x))\n",
        "print(\"Inverse tangent:\", np.arctan(x)) "
      ],
      "execution_count": null,
      "outputs": [
        {
          "output_type": "stream",
          "text": [
            "Inverse sine: [-1.57079633  0.          1.57079633]\n",
            "Inverse cosine: [3.14159265 1.57079633 0.        ]\n",
            "Inverse tangent: [-0.78539816  0.          0.78539816]\n"
          ],
          "name": "stdout"
        }
      ]
    },
    {
      "cell_type": "markdown",
      "metadata": {
        "id": "MfbywAqK9JBB",
        "colab_type": "text"
      },
      "source": [
        "#Q91. Write the NumPy program to calculate the difference between in neighbouring elements, element-wise of a given array?\n",
        "\n",
        "\n",
        "Sample outputOriginal array-\n",
        "\n",
        "[1 3 5 7 0]\n",
        "\n",
        "Difference between neighbouring elements, element-wise of the said array-\n",
        "\n",
        "[ 2 2 2 -7]"
      ]
    },
    {
      "cell_type": "code",
      "metadata": {
        "id": "GWbskDuReuJv",
        "colab_type": "code",
        "colab": {},
        "outputId": "819da82d-6c6a-4a1e-9c55-f410934451a6"
      },
      "source": [
        "# 91\n",
        "import numpy as np \n",
        "x = np.array([1, 3, 5, 7, 0]) \n",
        "print(\"Original array: \") \n",
        "print(x) \n",
        "print(\"Difference between neighboring elements, element-wise of the said array.\")\n",
        "print(np.diff(x))  "
      ],
      "execution_count": null,
      "outputs": [
        {
          "output_type": "stream",
          "text": [
            "Original array: \n",
            "[1 3 5 7 0]\n",
            "Difference between neighboring elements, element-wise of the said array.\n",
            "[ 2  2  2 -7]\n"
          ],
          "name": "stdout"
        }
      ]
    },
    {
      "cell_type": "markdown",
      "metadata": {
        "id": "hXxaM2kS9S1p",
        "colab_type": "text"
      },
      "source": [
        "#Q92. Write the Python program to find the maximum and the minimum value of a given flattened array?\n",
        "\n",
        "Expected OutputOriginal flattened array-\n",
        "\n",
        "[[0 1]\n",
        "\n",
        "[2 3]]\n",
        "\n",
        "Maximum value of the above flattened array3\n",
        "\n",
        "Minimum value of the above flattened array0\n"
      ]
    },
    {
      "cell_type": "code",
      "metadata": {
        "id": "cwarSDyzeuJx",
        "colab_type": "code",
        "colab": {},
        "outputId": "f8b48329-5992-4331-a2ae-c0005d83fc17"
      },
      "source": [
        "# 92\n",
        "a = np.arange(4).reshape((2,2)) \n",
        "print(\"Original flattened array:\") \n",
        "print(a) \n",
        "print(\"Maximum value of the above flattened array:\") \n",
        "print(np.amax(a)) \n",
        "print(\"Minimum value of the above flattened array:\") \n",
        "print(np.amin(a)) "
      ],
      "execution_count": null,
      "outputs": [
        {
          "output_type": "stream",
          "text": [
            "Original flattened array:\n",
            "[[0 1]\n",
            " [2 3]]\n",
            "Maximum value of the above flattened array:\n",
            "3\n",
            "Minimum value of the above flattened array:\n",
            "0\n"
          ],
          "name": "stdout"
        }
      ]
    },
    {
      "cell_type": "markdown",
      "metadata": {
        "id": "jUllBk-S9vst",
        "colab_type": "text"
      },
      "source": [
        "#Q93. Write the NumPy program to calculate the difference between in the maximum and the minimum values of a given array along the second axis ?\n",
        "\n",
        "Expected OutputOriginal array-\n",
        "\n",
        "[[ 0 1 2 3 4 5]\n",
        "\n",
        "[ 6 7 8 9 10 11]]\n",
        "\n",
        "Difference between the maximum and the minimum values of the said array-\n",
        "\n",
        "[5 5]"
      ]
    },
    {
      "cell_type": "code",
      "metadata": {
        "id": "FUqzI0ijeuJz",
        "colab_type": "code",
        "colab": {},
        "outputId": "451a61ea-ceb0-47a2-ce47-02d2c3169dd1"
      },
      "source": [
        "# 93\n",
        "x = np.arange(12).reshape((2, 6)) \n",
        "print(\"\\nOriginal array:\")\n",
        "print(x) \n",
        "r1 = np.ptp(x, 1) \n",
        "r2 = np.amax(x, 1) - np.amin(x, 1) \n",
        "assert np.allclose(r1, r2) \n",
        "print(\"\\nDifference between the maximum and the minimum values of the said array:\")\n",
        "print(r1) "
      ],
      "execution_count": null,
      "outputs": [
        {
          "output_type": "stream",
          "text": [
            "\n",
            "Original array:\n",
            "[[ 0  1  2  3  4  5]\n",
            " [ 6  7  8  9 10 11]]\n",
            "\n",
            "Difference between the maximum and the minimum values of the said array:\n",
            "[5 5]\n"
          ],
          "name": "stdout"
        }
      ]
    },
    {
      "cell_type": "markdown",
      "metadata": {
        "id": "zDkSsSbw97S1",
        "colab_type": "text"
      },
      "source": [
        "#Q94. Write the NumPy program to compute the weighted of the given array ?\n",
        "Sample OutputOriginal array-\n",
        "\n",
        "[0 1 2 3 4]\n",
        "\n",
        "Weighted average of the said array2.6666666666666665"
      ]
    },
    {
      "cell_type": "code",
      "metadata": {
        "id": "TOPQ2sU9euJ1",
        "colab_type": "code",
        "colab": {},
        "outputId": "86f6ef70-f29e-4bde-fbe6-3db39a980c4b"
      },
      "source": [
        "# 94\n",
        "import numpy as np \n",
        "x = np.arange(5) \n",
        "print(\"\\nOriginal array:\") \n",
        "print(x) \n",
        "weights = np.arange(1, 6) \n",
        "r1 = np.average(x, weights=weights) \n",
        "r2 = (x*(weights/weights.sum())).sum() \n",
        "assert np.allclose(r1, r2) \n",
        "print(\"\\nWeighted average of the said array:\") \n",
        "print(r1)"
      ],
      "execution_count": null,
      "outputs": [
        {
          "output_type": "stream",
          "text": [
            "\n",
            "Original array:\n",
            "[0 1 2 3 4]\n",
            "\n",
            "Weighted average of the said array:\n",
            "2.6666666666666665\n"
          ],
          "name": "stdout"
        }
      ]
    },
    {
      "cell_type": "markdown",
      "metadata": {
        "id": "7oJFrueU-EQt",
        "colab_type": "text"
      },
      "source": [
        "#Q95. Write the NumPy program to compute the mean, standard deviation, and the variance of a given array along the second axis?\n",
        "\n",
        "Sample outputOriginal array-\n",
        "\n",
        "[0 1 2 3 4 5]\n",
        "\n",
        "Mean- 2.5\n",
        "\n",
        "std- 1\n",
        "\n",
        "variance- 2.9166666666666665"
      ]
    },
    {
      "cell_type": "code",
      "metadata": {
        "id": "zA-jYn26euJ3",
        "colab_type": "code",
        "colab": {},
        "outputId": "580be47e-42f1-4f53-ec04-62400550e3b1"
      },
      "source": [
        "# 95\n",
        "x = np.arange(6) \n",
        "print(\"\\nOriginal array:\")\n",
        "print(x) \n",
        "r1 = np.mean(x) \n",
        "r2 = np.average(x) \n",
        "assert np.allclose(r1, r2) \n",
        "print(\"\\nMean: \", r1) \n",
        "r1 = np.std(x) \n",
        "r2 = np.sqrt(np.mean((x - np.mean(x)) ** 2 )) \n",
        "assert np.allclose(r1, r2)\n",
        "print(\"\\nstd: \", 1) \n",
        "r1= np.var(x) \n",
        "r2 = np.mean((x - np.mean(x)) ** 2 ) \n",
        "assert np.allclose(r1, r2) \n",
        "print(\"\\nvariance: \", r1)"
      ],
      "execution_count": null,
      "outputs": [
        {
          "output_type": "stream",
          "text": [
            "\n",
            "Original array:\n",
            "[0 1 2 3 4 5]\n",
            "\n",
            "Mean:  2.5\n",
            "\n",
            "std:  1\n",
            "\n",
            "variance:  2.9166666666666665\n"
          ],
          "name": "stdout"
        }
      ]
    },
    {
      "cell_type": "markdown",
      "metadata": {
        "id": "UUuykqfG-J3p",
        "colab_type": "text"
      },
      "source": [
        "#Q96. Write the Numpy program to compute the covariance matrix of the two given arrays?\n",
        "Sample OutputOriginal array1-\n",
        "\n",
        "[0 1 2]\n",
        "\n",
        "Original array1-\n",
        "\n",
        "[2 1 0]\n",
        "\n",
        "Covariance matrix of the said arrays-\n",
        "\n",
        "[[ 1. -1.]\n",
        "\n",
        "[-1. 1.]]"
      ]
    },
    {
      "cell_type": "code",
      "metadata": {
        "id": "XcrbLwlkeuJ6",
        "colab_type": "code",
        "colab": {},
        "outputId": "f3a78e1d-61b3-4fc6-d440-b2184e4b1697"
      },
      "source": [
        "# 96\n",
        "import numpy as np \n",
        "x = np.array([0, 1, 2]) \n",
        "y = np.array([2, 1, 0]) \n",
        "print(\"\\nOriginal array1:\") \n",
        "print(x) \n",
        "print(\"\\nOriginal array1:\") \n",
        "print(y) \n",
        "print(\"\\nCovariance matrix of the said arrays:\\n\",np.cov(x, y)) "
      ],
      "execution_count": null,
      "outputs": [
        {
          "output_type": "stream",
          "text": [
            "\n",
            "Original array1:\n",
            "[0 1 2]\n",
            "\n",
            "Original array1:\n",
            "[2 1 0]\n",
            "\n",
            "Covariance matrix of the said arrays:\n",
            " [[ 1. -1.]\n",
            " [-1.  1.]]\n"
          ],
          "name": "stdout"
        }
      ]
    },
    {
      "cell_type": "markdown",
      "metadata": {
        "id": "fDiRsOZH-TjX",
        "colab_type": "text"
      },
      "source": [
        "#Q97. Write a NumPy program to compute the cross-correlation of two given arrays ?\n",
        "\n",
        "Sample OutputOriginal array1-\n",
        "\n",
        "[0 1 3]\n",
        "\n",
        "Original array1-\n",
        "\n",
        "[2 4 5]\n",
        "\n",
        "Cross-correlation of the said arrays-\n",
        "\n",
        "[ [ 2.33333333 2.16666667 ]\n",
        "\n",
        " [ 2.16666667 2.33333333 ] ]"
      ]
    },
    {
      "cell_type": "code",
      "metadata": {
        "id": "p40sH25BeuJ7",
        "colab_type": "code",
        "colab": {},
        "outputId": "41ce5b4c-9c7d-40e7-c027-e734af353a2a"
      },
      "source": [
        "# 97\n",
        "x = np.array([0, 1, 3]) \n",
        "y = np.array([2, 4, 5]) \n",
        "print(\"\\nOriginal array1:\") \n",
        "print(x) \n",
        "print(\"\\nOriginal array1:\") \n",
        "print(y) \n",
        "print(\"\\nCross-correlation of the said arrays:\\n\",np.cov(x, y)) "
      ],
      "execution_count": null,
      "outputs": [
        {
          "output_type": "stream",
          "text": [
            "\n",
            "Original array1:\n",
            "[0 1 3]\n",
            "\n",
            "Original array1:\n",
            "[2 4 5]\n",
            "\n",
            "Cross-correlation of the said arrays:\n",
            " [[2.33333333 2.16666667]\n",
            " [2.16666667 2.33333333]]\n"
          ],
          "name": "stdout"
        }
      ]
    },
    {
      "cell_type": "markdown",
      "metadata": {
        "id": "2KxYZN-9-ifP",
        "colab_type": "text"
      },
      "source": [
        "#Q98. Write the NumPy program to compute Pearson product-moment correlation coefficients of two given arrays?\n",
        "Sample OutputOriginal array1-\n",
        "\n",
        "[0 1 3]\n",
        "\n",
        "Original array1-\n",
        "\n",
        "[2 4 5]\n",
        "\n",
        "Pearson product-moment correlation coefficients of the said arrays-\n",
        "\n",
        "[[1. 0.92857143]\n",
        "\n",
        "[0.92857143 1. ]]"
      ]
    },
    {
      "cell_type": "code",
      "metadata": {
        "id": "JQKdSDizeuJ-",
        "colab_type": "code",
        "colab": {},
        "outputId": "3b21b6d6-3685-4ba1-8797-cfda9ca5f3c8"
      },
      "source": [
        "# 98\n",
        "x = np.array([0, 1, 3]) \n",
        "y = np.array([2, 4, 5]) \n",
        "print(\"\\nOriginal array1:\") \n",
        "print(x) \n",
        "print(\"\\nOriginal array1:\") \n",
        "print(y) \n",
        "print(\"\\nPearson product-moment correlation coefficients of the said arrays:\\n\",np.corrcoef(x, y))"
      ],
      "execution_count": null,
      "outputs": [
        {
          "output_type": "stream",
          "text": [
            "\n",
            "Original array1:\n",
            "[0 1 3]\n",
            "\n",
            "Original array1:\n",
            "[2 4 5]\n",
            "\n",
            "Pearson product-moment correlation coefficients of the said arrays:\n",
            " [[1.         0.92857143]\n",
            " [0.92857143 1.        ]]\n"
          ],
          "name": "stdout"
        }
      ]
    },
    {
      "cell_type": "markdown",
      "metadata": {
        "id": "R5tZosak-tNn",
        "colab_type": "text"
      },
      "source": [
        "#Q99. Write the python program to count the number of occurrences of each value in a given array of non-negative integers?\n",
        " \n",
        " Note: bincount() Function- It count the occurrence of each value in an array of the\n",
        "\n",
        "non- negative integers in the range of the array between the minimum and \n",
        "maximum values including the values that did not occur.\n",
        "\n",
        "Sample OutputOriginal array-\n",
        "\n",
        "[0, 1, 6, 1, 4, 1, 2, 2, 7]\n",
        "\n",
        "Number of occurrences of each value in array-\n",
        "\n",
        "[1 3 2 0 1 0 1 1]"
      ]
    },
    {
      "cell_type": "code",
      "metadata": {
        "id": "K6nHemh3euKD",
        "colab_type": "code",
        "colab": {},
        "outputId": "235c3f99-01d3-4e7b-9fd1-f0b427bf8294"
      },
      "source": [
        "# 99\n",
        "array1 = [0, 1, 6, 1, 4, 1, 2, 2, 7]  \n",
        "print(\"Original array:\") \n",
        "print(array1) \n",
        "print(\"Number of occurrences of each value in array: \") \n",
        "print(np.bincount(array1)) "
      ],
      "execution_count": null,
      "outputs": [
        {
          "output_type": "stream",
          "text": [
            "Original array:\n",
            "[0, 1, 6, 1, 4, 1, 2, 2, 7]\n",
            "Number of occurrences of each value in array: \n",
            "[1 3 2 0 1 0 1 1]\n"
          ],
          "name": "stdout"
        }
      ]
    },
    {
      "cell_type": "markdown",
      "metadata": {
        "id": "ELbnHbXr-7MY",
        "colab_type": "text"
      },
      "source": [
        "#Q100. Write a Numpy program to compute the histogram of nums against the bins?\n",
        "\n",
        "Sample Outputnums- [0.5 0.7 1. 1.2 1.3 2.1]\n",
        "\n",
        "bins- [0 1 2 3]\n",
        "\n",
        "Result- (array([2, 3, 1], dtype=int64), array([0, 1, 2, 3]))"
      ]
    },
    {
      "cell_type": "code",
      "metadata": {
        "scrolled": true,
        "id": "WNGkAnDqeuKG",
        "colab_type": "code",
        "colab": {},
        "outputId": "1936e89a-3769-4b0e-ec2a-a473df8baf23"
      },
      "source": [
        "# 100\n",
        "nums = np.array([0.5, 0.7, 1.0, 1.2, 1.3, 2.1]) \n",
        "bins = np.array([0, 1, 2, 3]) \n",
        "print(\"nums: \",nums)\n",
        "print(\"bins: \",bins) \n",
        "print(\"Result:\", np.histogram(nums, bins))\n",
        "plt.hist(nums, bins=bins) \n",
        "plt.show() "
      ],
      "execution_count": null,
      "outputs": [
        {
          "output_type": "stream",
          "text": [
            "nums:  [0.5 0.7 1.  1.2 1.3 2.1]\n",
            "bins:  [0 1 2 3]\n",
            "Result: (array([2, 3, 1], dtype=int64), array([0, 1, 2, 3]))\n"
          ],
          "name": "stdout"
        },
        {
          "output_type": "display_data",
          "data": {
            "image/png": "[encoded data removed]",
            "text/plain": [
              "<Figure size 432x288 with 1 Axes>"
            ]
          },
          "metadata": {
            "tags": [],
            "needs_background": "light"
          }
        }
      ]
    },
    {
      "cell_type": "markdown",
      "metadata": {
        "id": "9w863jN3_NxW",
        "colab_type": "text"
      },
      "source": [
        "#Q101. Write the Python program to add, subtract, multiply and divide two pandas series ?\n",
        "\n",
        "Sample Series- [2, 4, 6, 8, 10], [1, 3, 5, 7, 9]\n"
      ]
    },
    {
      "cell_type": "code",
      "metadata": {
        "id": "MjYdjjtpeuKI",
        "colab_type": "code",
        "colab": {},
        "outputId": "8ec1fb7a-ab80-43b0-93ea-56e206965da8"
      },
      "source": [
        "# 101\n",
        "import pandas as pd \n",
        "ds1 = pd.Series([2, 4, 6, 8, 10]) \n",
        "ds2 = pd.Series([1, 3, 5, 7, 9]) \n",
        "ds = ds1 + ds2\n",
        "print(\"Add two Series:\") \n",
        "print(ds)\n",
        "print(\"Subtract two Series:\") \n",
        "ds = ds1 - ds2 \n",
        "print(ds) \n",
        "print(\"Multiply two Series:\") \n",
        "ds = ds1 * ds2 \n",
        "print(ds) \n",
        "print(\"Divide Series1 by Series2:\") \n",
        "ds = ds1 / ds2 \n",
        "print(ds)"
      ],
      "execution_count": null,
      "outputs": [
        {
          "output_type": "stream",
          "text": [
            "Add two Series:\n",
            "0     3\n",
            "1     7\n",
            "2    11\n",
            "3    15\n",
            "4    19\n",
            "dtype: int64\n",
            "Subtract two Series:\n",
            "0    1\n",
            "1    1\n",
            "2    1\n",
            "3    1\n",
            "4    1\n",
            "dtype: int64\n",
            "Multiply two Series:\n",
            "0     2\n",
            "1    12\n",
            "2    30\n",
            "3    56\n",
            "4    90\n",
            "dtype: int64\n",
            "Divide Series1 by Series2:\n",
            "0    2.000000\n",
            "1    1.333333\n",
            "2    1.200000\n",
            "3    1.142857\n",
            "4    1.111111\n",
            "dtype: float64\n"
          ],
          "name": "stdout"
        }
      ]
    },
    {
      "cell_type": "markdown",
      "metadata": {
        "id": "PTVOi9WY_qE7",
        "colab_type": "text"
      },
      "source": [
        "#Q102. Write a Python program to convert a dictionary to the Pandas Series?\n",
        "Sample SeriesOriginal dictionary-\n",
        "\n",
        "{'a': 100, 'b': 200, 'c': 300, 'd': 400, 'e': 800}\n",
        "\n",
        "Converted series -\n",
        "\n",
        "a 100\n",
        "\n",
        "b 200\n",
        "\n",
        "c 300\n",
        "\n",
        "d 400\n",
        "\n",
        "e 800\n",
        "\n",
        "dtype- int64"
      ]
    },
    {
      "cell_type": "code",
      "metadata": {
        "id": "3NFI3w-leuKJ",
        "colab_type": "code",
        "colab": {},
        "outputId": "4ed7c954-f7c6-444a-e27b-b05de6c90ef1"
      },
      "source": [
        "# 102\n",
        "d1 = {'a': 100, 'b': 200, 'c':300, 'd':400, 'e':800} \n",
        "print(\"Original dictionary:\") \n",
        "print(d1) \n",
        "new_series = pd.Series(d1)\n",
        "print(\"Converted series:\") \n",
        "print(new_series)"
      ],
      "execution_count": null,
      "outputs": [
        {
          "output_type": "stream",
          "text": [
            "Original dictionary:\n",
            "{'a': 100, 'b': 200, 'c': 300, 'd': 400, 'e': 800}\n",
            "Converted series:\n",
            "a    100\n",
            "b    200\n",
            "c    300\n",
            "d    400\n",
            "e    800\n",
            "dtype: int64\n"
          ],
          "name": "stdout"
        }
      ]
    },
    {
      "cell_type": "markdown",
      "metadata": {
        "id": "2wcpdN0W_5c_",
        "colab_type": "text"
      },
      "source": [
        "#Q103. Write a python program to change the data type of given a column or a Series?\n",
        "Sample SeriesOriginal Data Series0 100\n",
        "\n",
        "\n",
        "1 200\n",
        "\n",
        "2 python\n",
        "\n",
        "3 300.12\n",
        "\n",
        "4 400\n",
        "\n",
        "dtype- object\n",
        "\n",
        "Change the said data type to numeric0 100.00\n",
        "\n",
        "1 200.00\n",
        "\n",
        "2 NaN\n",
        "\n",
        "3 300.12\n",
        "\n",
        "4 400.00\n",
        "\n",
        "dtype- float64"
      ]
    },
    {
      "cell_type": "code",
      "metadata": {
        "id": "-vULu_65euKL",
        "colab_type": "code",
        "colab": {},
        "outputId": "d45d9209-a948-44ed-b2e4-e35385a18c15"
      },
      "source": [
        "# 103\n",
        "s1 = pd.Series(['100', '200', 'python', '300.12', '400']) \n",
        "print(\"Original Data Series:\") \n",
        "print(s1) \n",
        "print(\"Change the said data type to numeric:\") \n",
        "s2 = pd.to_numeric(s1, errors='coerce') \n",
        "print(s2) "
      ],
      "execution_count": null,
      "outputs": [
        {
          "output_type": "stream",
          "text": [
            "Original Data Series:\n",
            "0       100\n",
            "1       200\n",
            "2    python\n",
            "3    300.12\n",
            "4       400\n",
            "dtype: object\n",
            "Change the said data type to numeric:\n",
            "0    100.00\n",
            "1    200.00\n",
            "2       NaN\n",
            "3    300.12\n",
            "4    400.00\n",
            "dtype: float64\n"
          ],
          "name": "stdout"
        }
      ]
    },
    {
      "cell_type": "markdown",
      "metadata": {
        "id": "Ivr-_hbkAJkd",
        "colab_type": "text"
      },
      "source": [
        "#Q104. Write the python pandas program to convert the first column of a DataFrame as a Series?\n",
        "Sample OutputOriginal DataFramecol1 col2 col3\n",
        "\n",
        "0 1 4 7\n",
        "\n",
        "1 2 5 5\n",
        "\n",
        "2 3 6 8\n",
        "\n",
        "3 4 9 12\n",
        "\n",
        "4 7 5 1\n",
        "\n",
        "5 11 0 11\n",
        "\n",
        "1st column as a Series0 1\n",
        "\n",
        "1 2\n",
        "\n",
        "2 3\n",
        "\n",
        "3 4\n",
        "\n",
        "4 7\n",
        "\n",
        "5 11\n",
        "\n",
        "Name- col1, dtype- int64\n",
        "\n",
        "<class 'pandas.core.series.Series'>"
      ]
    },
    {
      "cell_type": "code",
      "metadata": {
        "id": "kMYAlgBfeuKN",
        "colab_type": "code",
        "colab": {},
        "outputId": "1bba25ab-d8a9-4548-dd68-603b35a92da7"
      },
      "source": [
        "# 104\n",
        "d = {'col1': [1, 2, 3, 4, 7, 11], 'col2': [4, 5, 6, 9, 5, 0], 'col3': [7, 5, 8, 12, 1,11]} \n",
        "df = pd.DataFrame(data=d)\n",
        "print(\"Original DataFrame\")\n",
        "print(df) \n",
        "s1 = df.iloc[:,0] \n",
        "print(\"\\n1st column as a Series:\") \n",
        "print(s1) \n",
        "print(type(s1)) \n"
      ],
      "execution_count": null,
      "outputs": [
        {
          "output_type": "stream",
          "text": [
            "Original DataFrame\n",
            "   col1  col2  col3\n",
            "0     1     4     7\n",
            "1     2     5     5\n",
            "2     3     6     8\n",
            "3     4     9    12\n",
            "4     7     5     1\n",
            "5    11     0    11\n",
            "\n",
            "1st column as a Series:\n",
            "0     1\n",
            "1     2\n",
            "2     3\n",
            "3     4\n",
            "4     7\n",
            "5    11\n",
            "Name: col1, dtype: int64\n",
            "<class 'pandas.core.series.Series'>\n"
          ],
          "name": "stdout"
        }
      ]
    },
    {
      "cell_type": "markdown",
      "metadata": {
        "id": "A-a02kcXAR5n",
        "colab_type": "text"
      },
      "source": [
        "#Q105. Write a pandas program to create the mean and standard deviation of the data of a given Series?\n",
        "Sample OutputOriginal Data Series0 1\n",
        "\n",
        "1 2\n",
        "\n",
        "2 3\n",
        "\n",
        "3 4\n",
        "\n",
        "4 5\n",
        "\n",
        "5 6\n",
        "\n",
        "\n",
        "6 7\n",
        "\n",
        "7 8\n",
        "\n",
        "8 9\n",
        "\n",
        "9 5\n",
        "\n",
        "10 3\n",
        "\n",
        "dtype- int64\n",
        "\n",
        "Mean of the said Data Series4.81818181818\n",
        "\n",
        "Standard deviation of the said Data Series2.52262489555\n",
        "\n"
      ]
    },
    {
      "cell_type": "code",
      "metadata": {
        "id": "VBI9LM25euKS",
        "colab_type": "code",
        "colab": {},
        "outputId": "86e73150-f087-4c3c-cd73-1757e114deff"
      },
      "source": [
        "# 105\n",
        "s = pd.Series(data = [1,2,3,4,5,6,7,8,9,5,3]) \n",
        "print(\"Original Data Series:\") \n",
        "print(s) \n",
        "print(\"Mean of the said Data Series:\") \n",
        "print(s.mean()) \n",
        "print(\"Standard deviation of the said Data Series:\") \n",
        "print(s.std())"
      ],
      "execution_count": null,
      "outputs": [
        {
          "output_type": "stream",
          "text": [
            "Original Data Series:\n",
            "0     1\n",
            "1     2\n",
            "2     3\n",
            "3     4\n",
            "4     5\n",
            "5     6\n",
            "6     7\n",
            "7     8\n",
            "8     9\n",
            "9     5\n",
            "10    3\n",
            "dtype: int64\n",
            "Mean of the said Data Series:\n",
            "4.818181818181818\n",
            "Standard deviation of the said Data Series:\n",
            "2.522624895547565\n"
          ],
          "name": "stdout"
        }
      ]
    },
    {
      "cell_type": "markdown",
      "metadata": {
        "id": "J_HzaSr6AgNL",
        "colab_type": "text"
      },
      "source": [
        "#Q106. Write a pandas program to get powers of an array values element-wise?\n",
        "\n",
        " Note First array elements raised the powers from the second array.\n",
        "\n",
        "Sample data: {'X ':[78,85,96,80,86], ' Y ':[84,94,89,83,86],'Z':[86,97,96,72,83]\n",
        "\n",
        "}\n",
        "\n",
        "Expected Output:\n",
        "\n",
        "X Y Z\n",
        "\n",
        "0 78 84 86\n",
        "\n",
        "1 85 94 97\n",
        "\n",
        "2 96 89 96\n",
        "\n",
        "3 80 83 72\n",
        "\n",
        "4 86 86 83"
      ]
    },
    {
      "cell_type": "code",
      "metadata": {
        "id": "O7C01AY7euKT",
        "colab_type": "code",
        "colab": {},
        "outputId": "7d9a19a1-b7c0-4d3c-861d-e7183ed30274"
      },
      "source": [
        "# 106\n",
        "df = pd.DataFrame({'X':[78,85,96,80,86], 'Y':[84,94,89,83,86],'Z':[86,97,96,72,83]});\n",
        "print(df) "
      ],
      "execution_count": null,
      "outputs": [
        {
          "output_type": "stream",
          "text": [
            "    X   Y   Z\n",
            "0  78  84  86\n",
            "1  85  94  97\n",
            "2  96  89  96\n",
            "3  80  83  72\n",
            "4  86  86  83\n"
          ],
          "name": "stdout"
        }
      ]
    },
    {
      "cell_type": "markdown",
      "metadata": {
        "id": "LiaV9OIKAu5j",
        "colab_type": "text"
      },
      "source": [
        "#Q107. Write the pandas program to get the first 3 rows of a given DataFrame?\n",
        "Sample Python dictionary data and list labelsexam_data = {'name': ['Anastasia', 'Dima', 'Katherine', 'James', 'Emily', 'Michael',\n",
        "'Matthew', 'Laura', 'Kevin', 'Jonas'],\n",
        "'score': [12.5, 9, 16.5, np.nan, 9, 20, 14.5, np.nan, 8, 19],\n",
        "'attempts'- [1, 3, 2, 3, 2, 3, 1, 1, 2, 1],\n",
        "'qualify'- [ 'yes', 'no', 'yes' , 'no', ' no ', ' yes ', 'yes', 'no', 'no', 'yes' ] }\n",
        "\n",
        "labels = ['a', 'b', 'c', 'd', 'e', 'f', 'g', 'h', 'i', 'j' ]\n",
        "\n",
        "Expected OutputFirst three rows of the data frameattempts name qualify score\n",
        "\n",
        "a 1 Anastasia yes 12.5\n",
        "\n",
        "b 3 Dima no 9.0\n",
        "\n",
        "c 2 Katherine yes 16.5"
      ]
    },
    {
      "cell_type": "code",
      "metadata": {
        "id": "CrI7XNABeuKV",
        "colab_type": "code",
        "colab": {},
        "outputId": "b6fa66f1-e4cf-4ccd-afc4-895a34ac904f"
      },
      "source": [
        "# 107\n",
        "exam_data  = {'name': ['Anastasia', 'Dima', 'Katherine', 'James', 'Emily', 'Michael', 'Matthew', 'Laura', 'Kevin', 'Jonas'],   \n",
        "              'score': [12.5, 9, 16.5, np.nan, 9, 20, 14.5, np.nan, 8, 19],      \n",
        "              'attempts': [1, 3, 2, 3, 2, 3, 1, 1, 2, 1],      \n",
        "              'qualify': ['yes', 'no', 'yes', 'no', 'no', 'yes', 'yes', 'no', 'no', 'yes']} \n",
        "labels = ['a', 'b', 'c', 'd', 'e', 'f', 'g', 'h', 'i', 'j']  \n",
        "df = pd.DataFrame(exam_data , index=labels) \n",
        "print(\"First three rows of the data frame:\") \n",
        "print(df.iloc[:3]) "
      ],
      "execution_count": null,
      "outputs": [
        {
          "output_type": "stream",
          "text": [
            "First three rows of the data frame:\n",
            "        name  score  attempts qualify\n",
            "a  Anastasia   12.5         1     yes\n",
            "b       Dima    9.0         3      no\n",
            "c  Katherine   16.5         2     yes\n"
          ],
          "name": "stdout"
        }
      ]
    },
    {
      "cell_type": "markdown",
      "metadata": {
        "id": "ejMB3JFBBJtB",
        "colab_type": "text"
      },
      "source": [
        "#Q108: Write the pandas program to select the specified columns and the rows from a given data frame?\n",
        "Sample Python dictionary data and list labelsSelect 'name' and 'score' columns in rows 1, 3, 5, 6 from the following data frame.\n",
        "\n",
        "exam_data = {'name ': [ 'Anastasia', 'Dima', 'Katherine', 'James', 'Emily', 'Michael',\n",
        "'Matthew', 'Laura', 'Kevin', 'Jonas'],\n",
        "'score'- [12.5, 9, 16.5, np.nan, 9, 20, 14.5, np.nan, 8, 19],\n",
        "'attempts'- [1, 3, 2, 3, 2, 3, 1, 1, 2, 1],\n",
        "'qualify'- ['yes', 'no', 'yes', 'no', 'no', 'yes', 'yes', 'no', 'no', 'yes'] }\n",
        "\n",
        "labels = ['a ', ' b ', ' c ', ' d ', ' e ', ' f ', ' g ', 'h', 'i', 'j']\n",
        "\n",
        "\n",
        "Expected OutputSelect specific columns and rowsname score\n",
        "\n",
        "b Dima 9.0\n",
        "\n",
        "d James NaN\n",
        "\n",
        "f Michael 20.0\n",
        "\n",
        "g Matthew 14.5"
      ]
    },
    {
      "cell_type": "code",
      "metadata": {
        "id": "3lbjwBcLeuKX",
        "colab_type": "code",
        "colab": {},
        "outputId": "f875129a-edc3-4fb7-9cc5-c80d81cfbf70"
      },
      "source": [
        "# 108\n",
        "exam_data  = {'name': ['Anastasia', 'Dima', 'Katherine', 'James', 'Emily', 'Michael', 'Matthew', 'Laura', 'Kevin', 'Jonas'], \n",
        "        'score': [12.5, 9, 16.5, np.nan, 9, 20, 14.5, np.nan, 8, 19], \n",
        "        'attempts': [1, 3, 2, 3, 2, 3, 1, 1, 2, 1], \n",
        "        'qualify': ['yes', 'no', 'yes', 'no', 'no', 'yes', 'yes', 'no', 'no', 'yes']} \n",
        "labels = ['a', 'b', 'c', 'd', 'e', 'f', 'g', 'h', 'i', 'j']  \n",
        "df = pd.DataFrame(exam_data , index=labels) \n",
        "print(\"Select specific columns and rows:\") \n",
        "print(df.iloc[[1, 3, 5, 6], [1, 3]]) "
      ],
      "execution_count": null,
      "outputs": [
        {
          "output_type": "stream",
          "text": [
            "Select specific columns and rows:\n",
            "   score qualify\n",
            "b    9.0      no\n",
            "d    NaN      no\n",
            "f   20.0     yes\n",
            "g   14.5     yes\n"
          ],
          "name": "stdout"
        }
      ]
    },
    {
      "cell_type": "markdown",
      "metadata": {
        "id": "1wUoB6jgBg3R",
        "colab_type": "text"
      },
      "source": [
        "#Q109. Write the pandas program to calculate mean score for each different student in DataFrame?\n",
        "Sample Python dictionary data and list labelsexam_data = {'name': ['Anastasia', 'Dima', 'Katherine', 'James', 'Emily', 'Michael',\n",
        "'Matthew', 'Laura', 'Kevin', 'Jonas'],\n",
        "'score': [12.5, 9, 16.5, np.nan, 9, 20, 14.5, np.nan, 8, 19],\n",
        "'attempts'- [1, 3, 2, 3, 2, 3, 1, 1, 2, 1],\n",
        "'qualify'- ['yes', 'no', ' yes ', ' no ', ' no ', ' yes ', ' yes ', ' no ', ' no ', ' yes '] }\n",
        "\n",
        "labels = ['a', 'b', 'c', 'd', 'e', 'f', 'g', 'h', 'i', 'j']\n",
        "\n",
        "Expected OutputMean score for each different student in data frame:\n",
        "13.5625\n"
      ]
    },
    {
      "cell_type": "code",
      "metadata": {
        "id": "j1BTQBpgeuKZ",
        "colab_type": "code",
        "colab": {},
        "outputId": "f9aac659-7d1a-43f9-ce39-6362b2ec7dbb"
      },
      "source": [
        "# 109\n",
        "exam_data  = {'name': ['Anastasia', 'Dima', 'Katherine', 'James', 'Emily', 'Michael',\n",
        "                       'Matthew', 'Laura', 'Kevin', 'Jonas'],  \n",
        "              'score': [12.5, 9, 16.5, np.nan, 9, 20, 14.5, np.nan, 8, 19], \n",
        "              'attempts': [1, 3, 2, 3, 2, 3, 1, 1, 2, 1],     \n",
        "              'qualify': ['yes', 'no', 'yes', 'no', 'no', 'yes', 'yes', 'no', 'no', 'yes']} \n",
        "labels = ['a', 'b', 'c', 'd', 'e', 'f', 'g', 'h', 'i', 'j']  \n",
        "df = pd.DataFrame(exam_data , index=labels)\n",
        "print(\"\\nMean score for each different student in data frame:\") \n",
        "print(df['score'].mean()) "
      ],
      "execution_count": null,
      "outputs": [
        {
          "output_type": "stream",
          "text": [
            "\n",
            "Mean score for each different student in data frame:\n",
            "13.5625\n"
          ],
          "name": "stdout"
        }
      ]
    },
    {
      "cell_type": "markdown",
      "metadata": {
        "id": "dbZ0aZ8BBubP",
        "colab_type": "text"
      },
      "source": [
        "#Q110. Write the Pandas program to rename columns of a given DataFrame ?\n",
        "\n",
        "Sample dataOriginal data frame\n",
        "\n",
        "col1 col2 col3\n",
        "\n",
        "0 1 4 7\n",
        "\n",
        "1 2 5 8\n",
        "\n",
        "2 3 6 9\n",
        "\n",
        "New data frame after renaming columns:\n",
        "\n",
        "Column1 Column2 Column3\n",
        "\n",
        "0 1 4 7\n",
        "\n",
        "1 2 5 8\n",
        "\n",
        "2 3 6 9"
      ]
    },
    {
      "cell_type": "code",
      "metadata": {
        "id": "hidGXpSkeuKb",
        "colab_type": "code",
        "colab": {},
        "outputId": "b14338f2-eff6-44ac-a62f-659fbff72766"
      },
      "source": [
        "# 110\n",
        "d = {'col1': [1, 2, 3], 'col2': [4, 5, 6], 'col3': [7, 8, 9]} \n",
        "df = pd.DataFrame(data=d)\n",
        "print(\"Original DataFrame\") \n",
        "print(df)\n",
        "df.columns = ['Column1', 'Column2', 'Column3'] \n",
        "df = df.rename(columns={'col1': 'Column1', 'col2': 'Column2', 'col3': 'Column3'}) \n",
        "print(\"New DataFrame after renaming columns:\") \n",
        "print(df)"
      ],
      "execution_count": null,
      "outputs": [
        {
          "output_type": "stream",
          "text": [
            "Original DataFrame\n",
            "   col1  col2  col3\n",
            "0     1     4     7\n",
            "1     2     5     8\n",
            "2     3     6     9\n",
            "New DataFrame after renaming columns:\n",
            "   Column1  Column2  Column3\n",
            "0        1        4        7\n",
            "1        2        5        8\n",
            "2        3        6        9\n"
          ],
          "name": "stdout"
        }
      ]
    },
    {
      "cell_type": "markdown",
      "metadata": {
        "id": "K_88SSy2B1Kx",
        "colab_type": "text"
      },
      "source": [
        "#Q111. Write a pandas program to count city-wise number of people from a given of data set (city, name of the person)?\n",
        "\n",
        "Sample data-\n",
        "\n",
        "city Number of people\n",
        "\n",
        "0 California 4\n",
        "\n",
        "1 Georgia 2\n",
        "\n",
        "2 Los Angeles 4"
      ]
    },
    {
      "cell_type": "code",
      "metadata": {
        "id": "Re1Q53OVeuKf",
        "colab_type": "code",
        "colab": {},
        "outputId": "9bf1e22b-4360-42bb-ffde-689aed2aa042"
      },
      "source": [
        "# 111\n",
        "df1 = pd.DataFrame({'name': ['Anastasia', 'Dima', 'Katherine', 'James', 'Emily', 'Michael',\n",
        "                             'Matthew', 'Laura', 'Kevin', 'Jonas'], \n",
        "                    'city': ['California', 'Los Angeles', 'California', 'California', 'California', 'Los Angeles',\n",
        "                             'Los Angeles', 'Georgia', 'Georgia', 'Los Angeles']}) \n",
        "g1 = df1.groupby([\"city\"]).size().reset_index(name='Number of people') \n",
        "print(g1)"
      ],
      "execution_count": null,
      "outputs": [
        {
          "output_type": "stream",
          "text": [
            "          city  Number of people\n",
            "0   California                 4\n",
            "1      Georgia                 2\n",
            "2  Los Angeles                 4\n"
          ],
          "name": "stdout"
        }
      ]
    },
    {
      "cell_type": "markdown",
      "metadata": {
        "id": "1nYjL42gCBpD",
        "colab_type": "text"
      },
      "source": [
        "#Q112. Write a pandas program to widen output display to see more columns?\n",
        "Sample dataOriginal data frame\n",
        "\n",
        "col1 col2 col3\n",
        "\n",
        "0 1 4 7\n",
        "\n",
        "1 4 5 8\n",
        "\n",
        "2 3 6 9\n",
        "\n",
        "3 4 7 0\n",
        "\n",
        "4 5 8 1"
      ]
    },
    {
      "cell_type": "code",
      "metadata": {
        "id": "lrVPU4gmeuKh",
        "colab_type": "code",
        "colab": {},
        "outputId": "de48644f-c264-454c-e66c-1c544a73de4a"
      },
      "source": [
        "# 112\n",
        "d = {'col1': [1, 4, 3, 4, 5], 'col2': [4, 5, 6, 7, 8], 'col3': [7, 8, 9, 0, 1]}\n",
        "df = pd.DataFrame(data=d) \n",
        "pd.set_option('display.max_rows', 500) \n",
        "pd.set_option('display.max_columns', 500) \n",
        "pd.set_option('display.width', 1000) \n",
        "print(\"Original DataFrame\")\n",
        "print(df) "
      ],
      "execution_count": null,
      "outputs": [
        {
          "output_type": "stream",
          "text": [
            "Original DataFrame\n",
            "   col1  col2  col3\n",
            "0     1     4     7\n",
            "1     4     5     8\n",
            "2     3     6     9\n",
            "3     4     7     0\n",
            "4     5     8     1\n"
          ],
          "name": "stdout"
        }
      ]
    },
    {
      "cell_type": "markdown",
      "metadata": {
        "id": "4IOKcHe3CLZ9",
        "colab_type": "text"
      },
      "source": [
        "#Q113. Write a pandas program to convert the data frame column type from string to DateTime?\n",
        "\n",
        "Sample dataString Date0 3/11/2000\n",
        "\n",
        "1 3/12/2000\n",
        "\n",
        "2 3/13/2000\n",
        "\n",
        "dtype- object\n",
        "\n",
        "Original DataFrame (string to datetime)-\n",
        "\n",
        "0\n",
        "\n",
        "0 2000-03-11\n",
        "\n",
        "1 2000-03-12\n",
        "\n",
        "2 2000-03-13"
      ]
    },
    {
      "cell_type": "code",
      "metadata": {
        "id": "Vl7tcTTleuKj",
        "colab_type": "code",
        "colab": {},
        "outputId": "af2d8c29-489f-4679-907b-00b1b910b443"
      },
      "source": [
        "# 113\n",
        "s = pd.Series(['3/11/2000', '3/12/2000', '3/13/2000'])\n",
        "print(\"String Date:\") \n",
        "print(s) \n",
        "r = pd.to_datetime(pd.Series(s)) \n",
        "df = pd.DataFrame(r) \n",
        "print(\"Original DataFrame (string to datetime):\") \n",
        "print(df) "
      ],
      "execution_count": null,
      "outputs": [
        {
          "output_type": "stream",
          "text": [
            "String Date:\n",
            "0    3/11/2000\n",
            "1    3/12/2000\n",
            "2    3/13/2000\n",
            "dtype: object\n",
            "Original DataFrame (string to datetime):\n",
            "           0\n",
            "0 2000-03-11\n",
            "1 2000-03-12\n",
            "2 2000-03-13\n"
          ],
          "name": "stdout"
        }
      ]
    },
    {
      "cell_type": "markdown",
      "metadata": {
        "id": "JbHQag5sCbrr",
        "colab_type": "text"
      },
      "source": [
        "#Q114. Write a pandas program to append the data to an empty DataFrame?\n",
        "\n",
        "Sample dataOriginal DataFrame- After appending some data: col1 col2 0 0 0 1 1 1 2 2 2"
      ]
    },
    {
      "cell_type": "code",
      "metadata": {
        "id": "LXwYQmJKeuKl",
        "colab_type": "code",
        "colab": {},
        "outputId": "97c58db6-00fd-4221-9e0d-8c61d289e406"
      },
      "source": [
        "# 114\n",
        "df = pd.DataFrame() \n",
        "data = pd.DataFrame({\"col1\": range(3),\"col2\": range(3)}) \n",
        "print(\"After appending some data:\") \n",
        "df = df.append(data) \n",
        "print(df)"
      ],
      "execution_count": null,
      "outputs": [
        {
          "output_type": "stream",
          "text": [
            "After appending some data:\n",
            "   col1  col2\n",
            "0     0     0\n",
            "1     1     1\n",
            "2     2     2\n"
          ],
          "name": "stdout"
        }
      ]
    },
    {
      "cell_type": "markdown",
      "metadata": {
        "id": "M3UVEW__CqZw",
        "colab_type": "text"
      },
      "source": [
        "#Q115. Write a pandas program to count the number of columns of a DataFrame?\n",
        "Sample OutputOriginal DataFrame\n",
        "\n",
        "col1 col2 col3\n",
        "\n",
        "0 1 4 7\n",
        "\n",
        "1 2 5 8\n",
        "\n",
        "2 3 6 12\n",
        "\n",
        "3 4 9 1\n",
        "\n",
        "4 7 5 11\n",
        "\n",
        "Number of columns- 3"
      ]
    },
    {
      "cell_type": "code",
      "metadata": {
        "id": "SlRY3RlweuKp",
        "colab_type": "code",
        "colab": {},
        "outputId": "6f8d933d-53b6-4ab4-d701-69df1ed3aacc"
      },
      "source": [
        "# 115\n",
        "d = {'col1': [1, 2, 3, 4, 7], 'col2': [4, 5, 6, 9, 5], 'col3': [7, 8, 12, 1, 11]} \n",
        "df = pd.DataFrame(data=d) \n",
        "print(\"Original DataFrame\") \n",
        "print(df) \n",
        "print(\"\\nNumber of columns:\") \n",
        "print(len(df.columns)) "
      ],
      "execution_count": null,
      "outputs": [
        {
          "output_type": "stream",
          "text": [
            "Original DataFrame\n",
            "   col1  col2  col3\n",
            "0     1     4     7\n",
            "1     2     5     8\n",
            "2     3     6    12\n",
            "3     4     9     1\n",
            "4     7     5    11\n",
            "\n",
            "Number of columns:\n",
            "3\n"
          ],
          "name": "stdout"
        }
      ]
    },
    {
      "cell_type": "markdown",
      "metadata": {
        "id": "RCekmtIyC3uw",
        "colab_type": "text"
      },
      "source": [
        "#Q116. Write a Pandas program to remove the last n rows of a given DataFrame ?\n",
        "Sample Output:\n",
        "\n",
        "Original DataFrame\n",
        "\n",
        "col1 col2 col3\n",
        "\n",
        "0 1 4 7\n",
        "\n",
        "1 2 5 5\n",
        "\n",
        "2 3 6 8\n",
        "\n",
        "3 4 9 12\n",
        "\n",
        "4 7 5 1\n",
        "\n",
        "5 11 0 11\n",
        "\n",
        "After removing last 3 rows of the said DataFramecol1 col2 col3\n",
        "\n",
        "0 1 4 7\n",
        "\n",
        "1 2 5 5\n",
        "\n",
        "2 3 6 8\n"
      ]
    },
    {
      "cell_type": "code",
      "metadata": {
        "id": "R18NVYP7euKq",
        "colab_type": "code",
        "colab": {},
        "outputId": "d41477f9-bb07-4d5d-c55c-bd92a427da51"
      },
      "source": [
        "# 116\n",
        "d = {'col1': [1, 2, 3, 4, 7, 11], 'col2': [4, 5, 6, 9, 5, 0], 'col3': [7, 5, 8, 12, 1,11]} \n",
        "df = pd.DataFrame(data=d) \n",
        "print(\"Original DataFrame\")\n",
        "print(df) \n",
        "print(\"\\nAfter removing last 3 rows of the said DataFrame:\") \n",
        "df1 = df.iloc[:3] \n",
        "print(df1) "
      ],
      "execution_count": null,
      "outputs": [
        {
          "output_type": "stream",
          "text": [
            "Original DataFrame\n",
            "   col1  col2  col3\n",
            "0     1     4     7\n",
            "1     2     5     5\n",
            "2     3     6     8\n",
            "3     4     9    12\n",
            "4     7     5     1\n",
            "5    11     0    11\n",
            "\n",
            "After removing last 3 rows of the said DataFrame:\n",
            "   col1  col2  col3\n",
            "0     1     4     7\n",
            "1     2     5     5\n",
            "2     3     6     8\n"
          ],
          "name": "stdout"
        }
      ]
    },
    {
      "cell_type": "markdown",
      "metadata": {
        "id": "YCnrjuzHDCr3",
        "colab_type": "text"
      },
      "source": [
        "Link for Datasets\n",
        "(https://drive.google.com/drive/folders/105ftuIwN9kqyPNEEm3E6IM7LqywjyvJa?usp=sharing)\n",
        "#Q117. Write a Pandas program to import excel data (coalpublic2013.xlsx) into a Pandas data frame."
      ]
    },
    {
      "cell_type": "code",
      "metadata": {
        "id": "oOYPB1SBeuKs",
        "colab_type": "code",
        "colab": {},
        "outputId": "3c4d104a-9622-4867-9b56-f84674d8af37"
      },
      "source": [
        "# 117\n",
        "import pandas as pd \n",
        "import numpy as np \n",
        "df = pd.read_excel('C:/Users/Satya/ineuron/Python File/9.Python SUbjective_Objective/py sub and obj/data for subjective questions/coalpublic2013.xlsx')\n",
        "print(df.head)"
      ],
      "execution_count": null,
      "outputs": [
        {
          "output_type": "stream",
          "text": [
            "<bound method NDFrame.head of     Year  MSHA ID                       Mine_Name  Production  Labor_Hours\n",
            "0   2013   103381            Tacoa Highwall Miner       56004        22392\n",
            "1   2013   103404                Reid School Mine       28807        28447\n",
            "2   2013   100759  North River #1 Underground Min     1440115       474784\n",
            "3   2013   103246                      Bear Creek       87587        29193\n",
            "4   2013   103451                     Knight Mine      147499        46393\n",
            "5   2013   103433              Crane Central Mine       69339        47195\n",
            "6   2013   100329                    Concord Mine           0       144002\n",
            "7   2013   100851                  Oak Grove Mine     2269014      1001809\n",
            "8   2013   102901                Shoal Creek Mine           0        12396\n",
            "9   2013   102901                Shoal Creek Mine     1453024      1237415\n",
            "10  2013   103180             Sloan Mountain Mine      327780       196963\n",
            "11  2013   103182                        Fishtrap      175058        87314\n",
            "12  2013   103285                     Narley Mine      154861        90584\n",
            "13  2013   103332                   Powhatan Mine      140521        61394\n",
            "14  2013   103375                    Johnson Mine         580         1900\n",
            "15  2013   103419               Maxine-Pratt Mine      125824       107469\n",
            "16  2013   103432                   Skelton Creek        8252          220\n",
            "17  2013   103437         Black Warrior Mine No 1      145924        70926\n",
            "18  2013   102976   Piney Woods Preparation Plant           0        14828\n",
            "19  2013   102976   Piney Woods Preparation Plant           0        23193\n",
            "20  2013   103380                          Calera           0        12621\n",
            "21  2013   103380                          Calera           0         1402\n",
            "22  2013   103422                 Clark No 1 Mine      122727       140250\n",
            "23  2013   103467             Helena Surface Mine       59664        30539\n",
            "24  2013   101247                       No 4 Mine     2622528      1551141\n",
            "25  2013   101401                       No 7 Mine     5405412      2464719\n",
            "26  2013   103172  Searles Mine No. 2, 3, 4, 5, 6      258078       119542\n",
            "27  2013   103179             Fleetwood Mine No 1       75937        63745\n",
            "28  2013   103303                    Shannon Mine      317491       164388\n",
            "29  2013   103323                   Deerlick Mine      133452        46381\n",
            "30  2013   103364           Brc Alabama No. 7 Llc           0        14324\n",
            "31  2013   103436                Swann's Crossing      137511        77190\n",
            "32  2013   100347                    Choctaw Mine      537429       215295\n",
            "33  2013   101362                 Manchester Mine      219457       116914\n",
            "34  2013   102996                  Jap Creek Mine      375715       164093\n",
            "35  2013   103155              Corinth Prep Plant           0        27996\n",
            "36  2013   103155              Corinth Prep Plant           0        51994\n",
            "37  2013   103195     Mccollum/Sparks Branch Mine       71910        17411\n",
            "38  2013   103342             Reese's Branch Mine      263888       115123\n",
            "39  2013   103370             Cresent Valley Mine        2860          621\n",
            "40  2013   103372                 Cane Creek Mine       66258        32401\n",
            "41  2013   103376                      Town Creek      299167       176499\n",
            "42  2013   103389                Carbon Hill Mine       76241        84966\n",
            "43  2013   103410                Coal Valley Mine      407841       158591\n",
            "44  2013   103423                Dutton Hill Mine       37275         9162\n",
            "45  2013  1519322                         Ghm #25       25054         3108\n",
            "46  2013   103321                  Poplar Springs      189370        76366\n",
            "47  2013   103358                       Old Union      284563       161805\n",
            "48  2013  5000030                        Usibelli     1631584       286079\n",
            "49  2013   201195                    Kayenta Mine     7602722      1015333>\n"
          ],
          "name": "stdout"
        }
      ]
    },
    {
      "cell_type": "markdown",
      "metadata": {
        "id": "uNUHgmB6DKSH",
        "colab_type": "text"
      },
      "source": [
        "#Q118. Write a Pandas program to import excel data (coalpublic2013.xlsx) into a data frame and find details where \"Mine Name\" starts with \"P."
      ]
    },
    {
      "cell_type": "code",
      "metadata": {
        "id": "wvbUj_HceuKu",
        "colab_type": "code",
        "colab": {},
        "outputId": "a78e5dab-b8c9-43c5-ddfd-602726e87aab"
      },
      "source": [
        "# 118\n",
        "df = pd.read_excel('C:/Users/Satya/ineuron/Python File/9.Python SUbjective_Objective/py sub and obj/data for subjective questions/coalpublic2013.xlsx')  \n",
        "df[df[\"Mine_Name\"].map(lambda x: x.startswith('P'))].head() "
      ],
      "execution_count": null,
      "outputs": [
        {
          "output_type": "execute_result",
          "data": {
            "text/html": [
              "<div>\n",
              "<style scoped>\n",
              "    .dataframe tbody tr th:only-of-type {\n",
              "        vertical-align: middle;\n",
              "    }\n",
              "\n",
              "    .dataframe tbody tr th {\n",
              "        vertical-align: top;\n",
              "    }\n",
              "\n",
              "    .dataframe thead th {\n",
              "        text-align: right;\n",
              "    }\n",
              "</style>\n",
              "<table border=\"1\" class=\"dataframe\">\n",
              "  <thead>\n",
              "    <tr style=\"text-align: right;\">\n",
              "      <th></th>\n",
              "      <th>Year</th>\n",
              "      <th>MSHA ID</th>\n",
              "      <th>Mine_Name</th>\n",
              "      <th>Production</th>\n",
              "      <th>Labor_Hours</th>\n",
              "    </tr>\n",
              "  </thead>\n",
              "  <tbody>\n",
              "    <tr>\n",
              "      <th>13</th>\n",
              "      <td>2013</td>\n",
              "      <td>103332</td>\n",
              "      <td>Powhatan Mine</td>\n",
              "      <td>140521</td>\n",
              "      <td>61394</td>\n",
              "    </tr>\n",
              "    <tr>\n",
              "      <th>18</th>\n",
              "      <td>2013</td>\n",
              "      <td>102976</td>\n",
              "      <td>Piney Woods Preparation Plant</td>\n",
              "      <td>0</td>\n",
              "      <td>14828</td>\n",
              "    </tr>\n",
              "    <tr>\n",
              "      <th>19</th>\n",
              "      <td>2013</td>\n",
              "      <td>102976</td>\n",
              "      <td>Piney Woods Preparation Plant</td>\n",
              "      <td>0</td>\n",
              "      <td>23193</td>\n",
              "    </tr>\n",
              "    <tr>\n",
              "      <th>46</th>\n",
              "      <td>2013</td>\n",
              "      <td>103321</td>\n",
              "      <td>Poplar Springs</td>\n",
              "      <td>189370</td>\n",
              "      <td>76366</td>\n",
              "    </tr>\n",
              "  </tbody>\n",
              "</table>\n",
              "</div>"
            ],
            "text/plain": [
              "    Year  MSHA ID                      Mine_Name  Production  Labor_Hours\n",
              "13  2013   103332                  Powhatan Mine      140521        61394\n",
              "18  2013   102976  Piney Woods Preparation Plant           0        14828\n",
              "19  2013   102976  Piney Woods Preparation Plant           0        23193\n",
              "46  2013   103321                 Poplar Springs      189370        76366"
            ]
          },
          "metadata": {
            "tags": []
          },
          "execution_count": 118
        }
      ]
    },
    {
      "cell_type": "markdown",
      "metadata": {
        "id": "L9s3MivlDUYm",
        "colab_type": "text"
      },
      "source": [
        "#Q119. Write a Pandas program to import excel data (employee.xlsx ) into a Pandas dataframe and find the list of employees where hire_date> 01-01-07."
      ]
    },
    {
      "cell_type": "code",
      "metadata": {
        "id": "nM1o4EZ3euKw",
        "colab_type": "code",
        "colab": {},
        "outputId": "16356d67-3baa-4e43-8915-a17a42613924"
      },
      "source": [
        "# 119\n",
        "import pandas as pd \n",
        "import numpy as np\n",
        "df1 = pd.read_excel('C:/Users/Satya/ineuron/Python File/9.Python SUbjective_Objective/py sub and obj/data for subjective questions/employee.xlsx')\n",
        "df1[df1['hire_date'] >='20070101'] "
      ],
      "execution_count": null,
      "outputs": [
        {
          "output_type": "execute_result",
          "data": {
            "text/html": [
              "<div>\n",
              "<style scoped>\n",
              "    .dataframe tbody tr th:only-of-type {\n",
              "        vertical-align: middle;\n",
              "    }\n",
              "\n",
              "    .dataframe tbody tr th {\n",
              "        vertical-align: top;\n",
              "    }\n",
              "\n",
              "    .dataframe thead th {\n",
              "        text-align: right;\n",
              "    }\n",
              "</style>\n",
              "<table border=\"1\" class=\"dataframe\">\n",
              "  <thead>\n",
              "    <tr style=\"text-align: right;\">\n",
              "      <th></th>\n",
              "      <th>emp_id</th>\n",
              "      <th>first_name</th>\n",
              "      <th>last_name</th>\n",
              "      <th>hire_date</th>\n",
              "    </tr>\n",
              "  </thead>\n",
              "  <tbody>\n",
              "    <tr>\n",
              "      <th>4</th>\n",
              "      <td>104</td>\n",
              "      <td>Bruce</td>\n",
              "      <td>Ernst</td>\n",
              "      <td>2007-05-21</td>\n",
              "    </tr>\n",
              "    <tr>\n",
              "      <th>7</th>\n",
              "      <td>107</td>\n",
              "      <td>Diana</td>\n",
              "      <td>Lorentz</td>\n",
              "      <td>2007-02-07</td>\n",
              "    </tr>\n",
              "    <tr>\n",
              "      <th>13</th>\n",
              "      <td>113</td>\n",
              "      <td>Luis</td>\n",
              "      <td>Popp</td>\n",
              "      <td>2007-12-07</td>\n",
              "    </tr>\n",
              "    <tr>\n",
              "      <th>19</th>\n",
              "      <td>119</td>\n",
              "      <td>Karen</td>\n",
              "      <td>Colmenares</td>\n",
              "      <td>2007-08-10</td>\n",
              "    </tr>\n",
              "  </tbody>\n",
              "</table>\n",
              "</div>"
            ],
            "text/plain": [
              "    emp_id first_name   last_name  hire_date\n",
              "4      104      Bruce       Ernst 2007-05-21\n",
              "7      107      Diana     Lorentz 2007-02-07\n",
              "13     113       Luis        Popp 2007-12-07\n",
              "19     119      Karen  Colmenares 2007-08-10"
            ]
          },
          "metadata": {
            "tags": []
          },
          "execution_count": 119
        }
      ]
    },
    {
      "cell_type": "markdown",
      "metadata": {
        "id": "rgpv-FhSDcGi",
        "colab_type": "text"
      },
      "source": [
        "#Q120. Write a Pandas program to import excel data (employee.xlsx ) into a Pandas dataframe and find a list of the employees of a specified year"
      ]
    },
    {
      "cell_type": "code",
      "metadata": {
        "id": "K9YtQLgbeuKy",
        "colab_type": "code",
        "colab": {},
        "outputId": "5c39fb6d-8e55-4147-c72f-532a4b3934cc"
      },
      "source": [
        "# 120\n",
        "import pandas as pd\n",
        "import numpy as np\n",
        "df = pd.read_excel('C:/Users/Satya/ineuron/Python File/9.Python SUbjective_Objective/py sub and obj/data for subjective questions/employee.xlsx')\n",
        "df2 = df.set_index(['hire_date']) \n",
        "result = df2[\"2005\"] \n",
        "result"
      ],
      "execution_count": null,
      "outputs": [
        {
          "output_type": "execute_result",
          "data": {
            "text/html": [
              "<div>\n",
              "<style scoped>\n",
              "    .dataframe tbody tr th:only-of-type {\n",
              "        vertical-align: middle;\n",
              "    }\n",
              "\n",
              "    .dataframe tbody tr th {\n",
              "        vertical-align: top;\n",
              "    }\n",
              "\n",
              "    .dataframe thead th {\n",
              "        text-align: right;\n",
              "    }\n",
              "</style>\n",
              "<table border=\"1\" class=\"dataframe\">\n",
              "  <thead>\n",
              "    <tr style=\"text-align: right;\">\n",
              "      <th></th>\n",
              "      <th>emp_id</th>\n",
              "      <th>first_name</th>\n",
              "      <th>last_name</th>\n",
              "    </tr>\n",
              "    <tr>\n",
              "      <th>hire_date</th>\n",
              "      <th></th>\n",
              "      <th></th>\n",
              "      <th></th>\n",
              "    </tr>\n",
              "  </thead>\n",
              "  <tbody>\n",
              "    <tr>\n",
              "      <th>2005-09-21</th>\n",
              "      <td>101</td>\n",
              "      <td>Neena</td>\n",
              "      <td>Kochhar</td>\n",
              "    </tr>\n",
              "    <tr>\n",
              "      <th>2005-06-25</th>\n",
              "      <td>105</td>\n",
              "      <td>David</td>\n",
              "      <td>Austin</td>\n",
              "    </tr>\n",
              "    <tr>\n",
              "      <th>2005-09-28</th>\n",
              "      <td>110</td>\n",
              "      <td>John</td>\n",
              "      <td>Chen</td>\n",
              "    </tr>\n",
              "    <tr>\n",
              "      <th>2005-09-30</th>\n",
              "      <td>111</td>\n",
              "      <td>Ismael</td>\n",
              "      <td>Sciarra</td>\n",
              "    </tr>\n",
              "    <tr>\n",
              "      <th>2005-12-24</th>\n",
              "      <td>116</td>\n",
              "      <td>Shelli</td>\n",
              "      <td>Baida</td>\n",
              "    </tr>\n",
              "    <tr>\n",
              "      <th>2005-07-24</th>\n",
              "      <td>117</td>\n",
              "      <td>Sigal</td>\n",
              "      <td>Tobias</td>\n",
              "    </tr>\n",
              "  </tbody>\n",
              "</table>\n",
              "</div>"
            ],
            "text/plain": [
              "            emp_id first_name last_name\n",
              "hire_date                              \n",
              "2005-09-21     101      Neena   Kochhar\n",
              "2005-06-25     105      David    Austin\n",
              "2005-09-28     110       John      Chen\n",
              "2005-09-30     111     Ismael   Sciarra\n",
              "2005-12-24     116     Shelli     Baida\n",
              "2005-07-24     117      Sigal    Tobias"
            ]
          },
          "metadata": {
            "tags": []
          },
          "execution_count": 120
        }
      ]
    },
    {
      "cell_type": "markdown",
      "metadata": {
        "id": "_7NpljMQDkdT",
        "colab_type": "text"
      },
      "source": [
        "#Q121. Write a pandas program to import three datasheets from a given excel data (coalpublic2013.xlsx ) in to a single dataframe.\n",
        " Note: Structure of three datasheets are same."
      ]
    },
    {
      "cell_type": "code",
      "metadata": {
        "id": "x292oX1KeuK0",
        "colab_type": "code",
        "colab": {},
        "outputId": "b5ebe2cb-7c40-4cea-90f3-c8e436cb9ae6"
      },
      "source": [
        "# 121\n",
        "import pandas as pd \n",
        "import numpy as np\n",
        "df1 = pd.read_excel('C:/Users/Satya/ineuron/Python File/9.Python SUbjective_Objective/py sub and obj/data for subjective questions/employee.xlsx',sheet_name=0) \n",
        "df2 = pd.read_excel('C:/Users/Satya/ineuron/Python File/9.Python SUbjective_Objective/py sub and obj/data for subjective questions/employee.xlsx',sheet_name=1) \n",
        "df3 = pd.read_excel('C:/Users/Satya/ineuron/Python File/9.Python SUbjective_Objective/py sub and obj/data for subjective questions/employee.xlsx',sheet_name=2) \n",
        "df = pd.concat([df1, df2, df3])\n",
        "print(df)"
      ],
      "execution_count": null,
      "outputs": [
        {
          "output_type": "stream",
          "text": [
            "    emp_id   first_name    last_name  hire_date\n",
            "0      100       Steven         King 2003-06-17\n",
            "1      101        Neena      Kochhar 2005-09-21\n",
            "2      102          Lex      De Haan 2001-01-13\n",
            "3      103    Alexander       Hunold 2006-01-03\n",
            "4      104        Bruce        Ernst 2007-05-21\n",
            "5      105        David       Austin 2005-06-25\n",
            "6      106        Valli    Pataballa 2006-02-05\n",
            "7      107        Diana      Lorentz 2007-02-07\n",
            "8      108        Nancy    Greenberg 2002-08-17\n",
            "9      109       Daniel       Faviet 2002-08-16\n",
            "10     110         John         Chen 2005-09-28\n",
            "11     111       Ismael      Sciarra 2005-09-30\n",
            "12     112  Jose Manuel        Urman 2006-03-07\n",
            "13     113         Luis         Popp 2007-12-07\n",
            "14     114          Den     Raphaely 2002-12-07\n",
            "15     115    Alexander         Khoo 2003-05-18\n",
            "16     116       Shelli        Baida 2005-12-24\n",
            "17     117        Sigal       Tobias 2005-07-24\n",
            "18     118          Guy       Himuro 2006-11-15\n",
            "19     119        Karen   Colmenares 2007-08-10\n",
            "0      120      Matthew        Weiss 2004-07-18\n",
            "1      121         Adam        Fripp 2005-04-10\n",
            "2      122        Payam     Kaufling 2003-05-01\n",
            "3      123       Shanta      Vollman 2005-10-10\n",
            "4      124        Kevin      Mourgos 2007-11-16\n",
            "5      125        Julia        Nayer 2005-07-16\n",
            "6      126        Irene  Mikkilineni 2006-09-28\n",
            "7      127        James       Landry 2007-01-14\n",
            "8      128       Steven       Markle 2008-03-08\n",
            "9      129        Laura       Bissot 2005-08-20\n",
            "10     130        Mozhe     Atkinson 2005-10-30\n",
            "11     131        James       Marlow 2005-02-16\n",
            "12     132           TJ        Olson 2007-04-10\n",
            "13     133        Jason       Mallin 2004-06-14\n",
            "14     134      Michael       Rogers 2006-08-26\n",
            "15     135           Ki          Gee 2007-12-12\n",
            "16     136        Hazel   Philtanker 2008-02-06\n",
            "17     137       Renske       Ladwig 2003-07-14\n",
            "18     138      Stephen       Stiles 2005-10-26\n",
            "0      141       Trenna         Rajs 2003-10-17\n",
            "1      142       Curtis       Davies 2005-01-29\n",
            "2      143      Randall        Matos 2006-03-15\n",
            "3      144        Peter       Vargas 2006-07-09\n",
            "4      145         John      Russell 2004-10-01\n",
            "5      146        Karen     Partners 2005-01-05\n",
            "6      147      Alberto    Errazuriz 2005-03-10\n",
            "7      148       Gerald    Cambrault 2007-10-15\n",
            "8      149        Eleni      Zlotkey 2008-01-29\n"
          ],
          "name": "stdout"
        }
      ]
    },
    {
      "cell_type": "markdown",
      "metadata": {
        "id": "E3wQ5Yn8Dtm-",
        "colab_type": "text"
      },
      "source": [
        "#Q 122. Write a pandas program to import three datasheets from a given excel data (employee.xlsx ) into a single data frame and export the result into new Excel file.\n",
        " Note: Structure of three datasheets are same."
      ]
    },
    {
      "cell_type": "code",
      "metadata": {
        "id": "6RBfoF05euK1",
        "colab_type": "code",
        "colab": {}
      },
      "source": [
        "# 122\n",
        "df1 = pd.read_excel('C:/Users/Satya/ineuron/Python File/9.Python SUbjective_Objective/py sub and obj/data for subjective questions/employee.xlsx',sheet_name=0) \n",
        "df2 = pd.read_excel('C:/Users/Satya/ineuron/Python File/9.Python SUbjective_Objective/py sub and obj/data for subjective questions/employee.xlsx',sheet_name=1) \n",
        "df3 = pd.read_excel('C:/Users/Satya/ineuron/Python File/9.Python SUbjective_Objective/py sub and obj/data for subjective questions/employee.xlsx',sheet_name=2) \n",
        "df = pd.concat([df1, df2, df3])\n",
        "df.to_excel('C:/Users/Satya/ineuron/Python File/9.Python SUbjective_Objective/py sub and obj/data for subjective questions/output.xlsx', index=False) "
      ],
      "execution_count": null,
      "outputs": []
    },
    {
      "cell_type": "markdown",
      "metadata": {
        "id": "DXPIZhOqEufe",
        "colab_type": "text"
      },
      "source": [
        "#Q123. Write a pandas program to create the Pivot table with multiple indexes from the data set of the titanic.csv."
      ]
    },
    {
      "cell_type": "code",
      "metadata": {
        "id": "BSRcud8deuK2",
        "colab_type": "code",
        "colab": {},
        "outputId": "7a9ccc77-d08d-4380-ba0a-5ff035a689f5"
      },
      "source": [
        "# 123\n",
        "df = pd.read_csv('titanic.csv') \n",
        "result = pd.pivot_table(df, index = [\"sex\",\"age\"], aggfunc=np.sum)\n",
        "print(result) "
      ],
      "execution_count": null,
      "outputs": [
        {
          "output_type": "stream",
          "text": [
            "              Unnamed: 15  adult_male  alone      fare  parch  pclass  sibsp  survived\n",
            "sex    age                                                                            \n",
            "female 0.75           0.0         0.0    0.0   38.5166      2       6      4         2\n",
            "       1.00           0.0         0.0    0.0   26.8750      3       6      1         2\n",
            "       2.00           0.0         0.0    0.0  259.4750      9      15      9         2\n",
            "       3.00           0.0         0.0    0.0   62.6542      3       5      4         1\n",
            "       4.00           0.0         0.0    0.0  114.1417      6      13      4         5\n",
            "       5.00           0.0         0.0    1.0   90.8708      5      11      7         4\n",
            "       6.00           0.0         0.0    0.0   64.2750      3       5      4         1\n",
            "       7.00           0.0         0.0    0.0   26.2500      2       2      0         1\n",
            "       8.00           0.0         0.0    0.0   47.3250      3       5      3         1\n",
            "       9.00           0.0         0.0    0.0  108.7958      7      12     10         0\n",
            "       10.00          0.0         0.0    0.0   24.1500      2       3      0         0\n",
            "       11.00          0.0         0.0    0.0   31.2750      2       3      4         0\n",
            "       13.00          0.0         0.0    1.0   26.7292      1       5      0         2\n",
            "       14.00          0.0         0.0    1.0  169.1667      2       9      3         3\n",
            "       14.50          0.0         0.0    0.0   14.4542      0       3      1         0\n",
            "       15.00          0.0         0.0    2.0  241.0459      1      10      1         4\n",
            "       16.00          0.0         0.0    3.0  246.2625      4      12      5         5\n",
            "       17.00          0.0         0.0    3.0  210.7833      2      12      6         5\n",
            "       18.00          0.0         0.0    4.0  697.0167      9      31      6         8\n",
            "       19.00          0.0         0.0    3.0  215.0959      2      13      3         7\n",
            "       20.00          0.0         0.0    1.0   18.4875      0       6      1         0\n",
            "       21.00          0.0         0.0    4.0  410.4333      4      16      5         4\n",
            "       22.00          0.0         0.0    7.0  444.1084      6      26      3        10\n",
            "       23.00          0.0         0.0    3.0  405.5417      2      10      4         4\n",
            "       24.00          0.0         0.0    7.0  772.1708     15      31     10        14\n",
            "       25.00          0.0         0.0    1.0  223.2500      4      11      3         2\n",
            "       26.00          0.0         0.0    3.0  136.7292      1      12      2         3\n",
            "       27.00          0.0         0.0    2.0   76.8916      3      15      2         5\n",
            "       28.00          0.0         0.0    4.0  110.9458      1      16      3         5\n",
            "       29.00          0.0         0.0    2.0  320.6208      7      16      3         5\n",
            "       30.00          0.0         0.0    9.0  465.9917      1      20      4         9\n",
            "       30.50          0.0         0.0    1.0    7.7500      0       3      0         0\n",
            "       31.00          0.0         0.0    2.0  359.4542      4      16      4         5\n",
            "       32.00          0.0         0.0    2.0  104.7917      1       6      1         2\n",
            "       32.50          0.0         0.0    1.0   13.0000      0       2      0         1\n",
            "       33.00          0.0         0.0    1.0  299.2000      4      10      6         6\n",
            "       34.00          0.0         0.0    2.0   79.0000      2       8      1         4\n",
            "       35.00          0.0         0.0    3.0  967.7875      1      11      5         8\n",
            "       36.00          0.0         0.0    3.0  396.0333      4      12      3         7\n",
            "       37.00          0.0         0.0    1.0    9.5875      0       3      0         0\n",
            "       38.00          0.0         0.0    3.0  423.1958      5       8      2         4\n",
            "       39.00          0.0         0.0    0.0  389.9916     13      10      5         4\n",
            "       40.00          0.0         0.0    3.0  365.1875      2      11      3         5\n",
            "       41.00          0.0         0.0    1.0  213.9000      8       9      0         2\n",
            "       42.00          0.0         0.0    2.0  266.5250      0       5      1         3\n",
            "       43.00          0.0         0.0    0.0  258.2375      7       4      1         1\n",
            "       44.00          0.0         0.0    1.0  111.7000      1       4      1         2\n",
            "       45.00          0.0         0.0    2.0  254.7209      7      14      3         3\n",
            "       47.00          0.0         0.0    0.0   67.0542      1       4      2         1\n",
            "       48.00          0.0         0.0    1.0  164.9042      5       7      3         3\n",
            "       49.00          0.0         0.0    1.0  102.6584      0       2      1         2\n",
            "       50.00          0.0         0.0    3.0  323.2333      2       8      0         4\n",
            "       51.00          0.0         0.0    0.0   77.9583      0       1      1         1\n",
            "       52.00          0.0         0.0    0.0  171.7667      1       2      2         2\n",
            "       53.00          0.0         0.0    0.0   51.4792      0       1      2         1\n",
            "       54.00          0.0         0.0    0.0  160.6667      3       4      3         3\n",
            "       55.00          0.0         0.0    1.0   16.0000      0       2      0         1\n",
            "       56.00          0.0         0.0    0.0   83.1583      1       1      0         1\n",
            "       57.00          0.0         0.0    1.0   10.5000      0       2      0         0\n",
            "       58.00          0.0         0.0    2.0  326.5333      1       3      0         3\n",
            "       60.00          0.0         0.0    0.0   75.2500      0       1      1         1\n",
            "       62.00          0.0         0.0    1.0   80.0000      0       1      0         1\n",
            "       63.00          0.0         0.0    1.0   87.5458      0       4      1         2\n",
            "male   0.42           0.0         0.0    0.0    8.5167      1       3      0         1\n",
            "       0.67           0.0         0.0    0.0   14.5000      1       2      1         1\n",
            "       0.83           0.0         0.0    0.0   47.7500      3       4      1         2\n",
            "       0.92           0.0         0.0    0.0  151.5500      2       1      1         1\n",
            "       1.00           0.0         0.0    0.0  183.1667      8      13     12         3\n",
            "       2.00           0.0         0.0    0.0  115.8875      4      11     12         1\n",
            "       3.00           0.0         0.0    0.0   92.0375      5      10      7         4\n",
            "       4.00           0.0         0.0    0.0  181.2916      8      13     12         2\n",
            "       6.00           0.0         0.0    0.0   12.4750      1       3      0         1\n",
            "       7.00           0.0         0.0    0.0   68.8125      2       6      8         0\n",
            "       8.00           0.0         0.0    0.0   65.8750      2       5      5         1\n",
            "       9.00           0.0         0.0    0.0  114.7125      7      12     10         2\n",
            "       10.00          0.0         0.0    0.0   27.9000      2       3      3         0\n",
            "       11.00          0.0         0.0    1.0  185.6875      4       7      6         1\n",
            "       12.00          0.0         0.0    0.0   11.2417      0       3      1         1\n",
            "       14.00          0.0         0.0    0.0   86.5875      3       6      9         0\n",
            "       15.00          0.0         0.0    0.0    7.2292      1       3      1         0\n",
            "       16.00          0.0        11.0    7.0  191.4042      5      31      8         1\n",
            "       17.00          0.0         7.0    4.0  158.2792      3      19      2         1\n",
            "       18.00          0.0        13.0    9.0  292.6333      2      33      4         1\n",
            "       19.00          0.0        18.0   15.0  481.6415      3      46      5         2\n",
            "       20.00          0.0        13.0   11.0  110.8751      1      39      2         3\n",
            "       20.50          0.0         1.0    1.0    7.2500      0       3      0         0\n",
            "       21.00          0.0        17.0   14.0  347.1416      1      46      3         1\n",
            "       22.00          0.0        15.0   14.0  244.5207      0      43      1         1\n",
            "       23.00          0.0        10.0    8.0  164.3791      2      22      2         1\n",
            "       23.50          0.0         1.0    1.0    7.2292      0       3      0         0\n",
            "       24.00          0.0        14.0   10.0  518.8999      1      35      5         1\n",
            "       24.50          0.0         1.0    1.0    8.0500      0       3      0         0\n",
            "       25.00          0.0        18.0   11.0  338.3126      2      45      7         4\n",
            "       26.00          0.0        13.0    9.0  206.8333      2      36      5         3\n",
            "       27.00          0.0        12.0    9.0  469.6125      2      25      2         6\n",
            "       28.00          0.0        18.0   14.0  414.5582      1      42      4         2\n",
            "       28.50          0.0         2.0    2.0   23.3292      0       6      0         0\n",
            "       29.00          0.0        13.0    9.0  221.1957      0      32      4         3\n",
            "       30.00          0.0        14.0   12.0  172.5500      0      35      2         1\n",
            "       30.50          0.0         1.0    1.0    8.0500      0       3      0         0\n",
            "       31.00          0.0        10.0    6.0  269.7000      2      20      4         3\n",
            "       32.00          0.0        15.0   12.0  333.0291      0      40      4         7\n",
            "       32.50          0.0         1.0    0.0   30.0708      0       2      1         0\n",
            "       33.00          0.0         9.0    8.0   88.1833      1      24      1         0\n",
            "       34.00          0.0        11.0    7.0  170.5458      1      25      4         2\n",
            "       34.50          0.0         1.0    1.0    6.4375      0       3      0         0\n",
            "       35.00          0.0        10.0   10.0  639.8375      0      22      0         3\n",
            "       36.00          0.0        15.0    9.0  923.1958      6      29      5         4\n",
            "       36.50          0.0         1.0    0.0   26.0000      2       2      0         0\n",
            "       37.00          0.0         5.0    0.0  169.2792      2       8      5         1\n",
            "       38.00          0.0         6.0    4.0  267.0708      1      12      1         1\n",
            "       39.00          0.0         8.0    7.0  123.2750      5      19      1         1\n",
            "       40.00          0.0         7.0    5.0  117.2416      5      15      2         1\n",
            "       40.50          0.0         2.0    1.0   22.2500      2       6      0         0\n",
            "       41.00          0.0         2.0    1.0   21.2333      0       6      2         0\n",
            "       42.00          0.0        10.0    6.0  216.1084      1      21      3         3\n",
            "       43.00          0.0         3.0    2.0   40.7500      1       8      1         0\n",
            "       44.00          0.0         6.0    3.0  156.1250      1      15      3         1\n",
            "       45.00          0.0         6.0    5.0  187.1000      0      10      1         2\n",
            "       45.50          0.0         2.0    2.0   35.7250      0       4      0         0\n",
            "       46.00          0.0         3.0    2.0  166.3750      0       4      1         0\n",
            "       47.00          0.0         7.0    7.0  181.3583      0      12      0         0\n",
            "       48.00          0.0         5.0    3.0  176.1334      0       8      2         3\n",
            "       49.00          0.0         4.0    1.0  256.9167      1       6      3         2\n",
            "       50.00          0.0         5.0    2.0  317.0250      0       8      4         1\n",
            "       51.00          0.0         6.0    5.0  123.3084      1      13      0         1\n",
            "       52.00          0.0         4.0    3.0  136.6500      1       6      1         1\n",
            "       54.00          0.0         5.0    3.0  195.1500      1       8      1         0\n",
            "       55.00          0.0         1.0    1.0   30.5000      0       1      0         0\n",
            "       55.50          0.0         1.0    1.0    8.0500      0       3      0         0\n",
            "       56.00          0.0         3.0    3.0   92.7458      0       3      0         1\n",
            "       57.00          0.0         1.0    1.0   12.3500      0       2      0         0\n",
            "       58.00          0.0         2.0    1.0  142.9750      2       2      0         0\n",
            "       59.00          0.0         2.0    2.0   20.7500      0       5      0         0\n",
            "       60.00          0.0         3.0    1.0  144.7500      2       4      2         1\n",
            "       61.00          0.0         3.0    3.0   72.0583      0       5      0         0\n",
            "       62.00          0.0         3.0    3.0   63.6000      0       4      0         1\n",
            "       64.00          0.0         2.0    1.0  289.0000      4       2      1         0\n",
            "       65.00          0.0         3.0    2.0   96.2792      1       5      0         0\n",
            "       66.00          0.0         1.0    1.0   10.5000      0       2      0         0\n",
            "       70.00          0.0         2.0    1.0   81.5000      1       3      1         0\n",
            "       70.50          0.0         1.0    1.0    7.7500      0       3      0         0\n",
            "       71.00          0.0         2.0    2.0   84.1584      0       2      0         0\n",
            "       74.00          0.0         1.0    1.0    7.7750      0       3      0         0\n",
            "       80.00          0.0         1.0    1.0   30.0000      0       1      0         1\n"
          ],
          "name": "stdout"
        }
      ]
    },
    {
      "cell_type": "markdown",
      "metadata": {
        "id": "Dq-HtgpqE4wA",
        "colab_type": "text"
      },
      "source": [
        "#Q124. Write a Pandas program to create the Pivot table and find survival rate by gender?"
      ]
    },
    {
      "cell_type": "code",
      "metadata": {
        "id": "Spcp2qzQeuK3",
        "colab_type": "code",
        "colab": {},
        "outputId": "cc1ae50f-0991-40b3-b491-a36270d6c8c7"
      },
      "source": [
        "# 124\n",
        "import pandas as pd \n",
        "import numpy as np\n",
        "df = pd.read_csv('titanic.csv') \n",
        "result=df.groupby('sex')[['survived']].mean()\n",
        "print(result) "
      ],
      "execution_count": null,
      "outputs": [
        {
          "output_type": "stream",
          "text": [
            "        survived\n",
            "sex             \n",
            "female  0.742038\n",
            "male    0.188908\n"
          ],
          "name": "stdout"
        }
      ]
    },
    {
      "cell_type": "markdown",
      "metadata": {
        "id": "IQTDZgJ7E82Y",
        "colab_type": "text"
      },
      "source": [
        "#Q125. Write a pandas program to make partition each of the passengers into 4 categories based on their age.\n",
        " Note: Age categories- (0, 10), (10, 30), (30, 60), (60, 80)"
      ]
    },
    {
      "cell_type": "code",
      "metadata": {
        "id": "6zC26xqOeuK5",
        "colab_type": "code",
        "colab": {},
        "outputId": "d07146cd-3345-46df-e749-d18e283e523a"
      },
      "source": [
        "# 125\n",
        "import pandas as pd\n",
        "import numpy as np\n",
        "df = pd.read_csv('titanic.csv') \n",
        "result = pd.cut(df['age'], [0, 10, 30, 60, 80])\n",
        "print(result) "
      ],
      "execution_count": null,
      "outputs": [
        {
          "output_type": "stream",
          "text": [
            "0      (10.0, 30.0]\n",
            "1      (30.0, 60.0]\n",
            "2      (10.0, 30.0]\n",
            "3      (30.0, 60.0]\n",
            "4      (30.0, 60.0]\n",
            "           ...     \n",
            "886    (10.0, 30.0]\n",
            "887    (10.0, 30.0]\n",
            "888             NaN\n",
            "889    (10.0, 30.0]\n",
            "890    (30.0, 60.0]\n",
            "Name: age, Length: 891, dtype: category\n",
            "Categories (4, interval[int64]): [(0, 10] < (10, 30] < (30, 60] < (60, 80]]\n"
          ],
          "name": "stdout"
        }
      ]
    },
    {
      "cell_type": "markdown",
      "metadata": {
        "id": "B8bzv8COFD73",
        "colab_type": "text"
      },
      "source": [
        "#Q126. Write a pandas program to create the Pivot table and find survival rate by the gender, age of the different categories of various classes."
      ]
    },
    {
      "cell_type": "code",
      "metadata": {
        "id": "dlVKwCZUeuK6",
        "colab_type": "code",
        "colab": {},
        "outputId": "6a3feb99-bc5f-4a4e-c535-1f2a9691c53f"
      },
      "source": [
        "# 126\n",
        "df = pd.read_csv('titanic.csv') \n",
        "age = pd.cut(df['age'], [0, 20, 55]) \n",
        "result = df.pivot_table('survived', index=['sex', age], columns='class') \n",
        "print(result)"
      ],
      "execution_count": null,
      "outputs": [
        {
          "output_type": "stream",
          "text": [
            "class               First    Second     Third\n",
            "sex    age                                   \n",
            "female (0, 20]   0.928571  1.000000  0.510638\n",
            "       (20, 55]  0.968750  0.912281  0.407407\n",
            "male   (0, 20]   0.571429  0.526316  0.197368\n",
            "       (20, 55]  0.440000  0.054054  0.134503\n"
          ],
          "name": "stdout"
        }
      ]
    },
    {
      "cell_type": "markdown",
      "metadata": {
        "id": "0WjpdneSFNlL",
        "colab_type": "text"
      },
      "source": [
        "#Q127. Write a pandas program to create the Pivot table and calculate number of women and men were in a particular cabin class."
      ]
    },
    {
      "cell_type": "code",
      "metadata": {
        "id": "KP-l65I8euK8",
        "colab_type": "code",
        "colab": {},
        "outputId": "7b7219a5-ecdc-492f-94a4-40964b16c8a0"
      },
      "source": [
        "# 127\n",
        "df = pd.read_csv('titanic.csv') \n",
        "result = df.pivot_table(index=['sex'], columns=['pclass'], aggfunc='count') \n",
        "print(result)"
      ],
      "execution_count": null,
      "outputs": [
        {
          "output_type": "stream",
          "text": [
            "       Unnamed: 15       adult_male            age          alive           alone           class           deck        embark_town           embarked           fare           parch           sibsp           survived            who          \n",
            "pclass           1  2  3          1    2    3    1   2    3     1    2    3     1    2    3     1    2    3    1   2  3           1    2    3        1    2    3    1    2    3     1    2    3     1    2    3        1    2    3    1    2    3\n",
            "sex                                                                                                                                                                                                                                              \n",
            "female           0  0  0         94   76  144   85  74  102    94   76  144    94   76  144    94   76  144   81  10  6          92   76  144       92   76  144   94   76  144    94   76  144    94   76  144       94   76  144   94   76  144\n",
            "male             0  0  0        122  108  347  101  99  253   122  108  347   122  108  347   122  108  347   94   6  6         122  108  347      122  108  347  122  108  347   122  108  347   122  108  347      122  108  347  122  108  347\n"
          ],
          "name": "stdout"
        }
      ]
    },
    {
      "cell_type": "markdown",
      "metadata": {
        "id": "0C0En-uUFSwJ",
        "colab_type": "text"
      },
      "source": [
        "#Q128. Write a pandas program to create the Pivot table and separate the gender according to whether they travelled alone or not to get the probability of survival.\n"
      ]
    },
    {
      "cell_type": "code",
      "metadata": {
        "id": "UiueuA8eeuK9",
        "colab_type": "code",
        "colab": {},
        "outputId": "477790c9-6aaf-4e21-a3a5-b8cf83a8688d"
      },
      "source": [
        "# 128\n",
        "df = pd.read_csv('titanic.csv') \n",
        "result = df.pivot_table( 'survived' , [ 'sex' , 'alone' ] , 'class' )\n",
        "print(result) "
      ],
      "execution_count": null,
      "outputs": [
        {
          "output_type": "stream",
          "text": [
            "class            First    Second     Third\n",
            "sex    alone                              \n",
            "female False  0.966667  0.931818  0.416667\n",
            "       True   0.970588  0.906250  0.616667\n",
            "male   False  0.425532  0.277778  0.180723\n",
            "       True   0.333333  0.097222  0.121212\n"
          ],
          "name": "stdout"
        }
      ]
    },
    {
      "cell_type": "markdown",
      "metadata": {
        "id": "fKJpKamYFai-",
        "colab_type": "text"
      },
      "source": [
        "#Q129. Write a pandas program to create the Pivot table and find the probability of survival by class, gender, solo boarding, and the port of embarkation."
      ]
    },
    {
      "cell_type": "code",
      "metadata": {
        "id": "lld0F7DWeuLB",
        "colab_type": "code",
        "colab": {},
        "outputId": "3cbae905-f374-479d-c07e-0aa5f1654907"
      },
      "source": [
        "# 129\n",
        "df = pd.read_csv('titanic.csv') \n",
        "result = df.pivot_table('survived', ['sex' , 'alone' ], [ 'embark_town', 'class' ]) \n",
        "print(result)"
      ],
      "execution_count": null,
      "outputs": [
        {
          "output_type": "stream",
          "text": [
            "embark_town  Cherbourg                     Queenstown                  Southampton                    \n",
            "class            First    Second     Third      First Second     Third       First    Second     Third\n",
            "sex    alone                                                                                          \n",
            "female False  1.000000  1.000000  0.611111        1.0    NaN  0.625000    0.941176  0.923077  0.327586\n",
            "       True   0.944444  1.000000  0.800000        NaN    1.0  0.760000    1.000000  0.892857  0.466667\n",
            "male   False  0.473684  0.166667  0.500000        0.0    NaN  0.100000    0.407407  0.300000  0.142857\n",
            "       True   0.347826  0.250000  0.151515        NaN    0.0  0.068966    0.326923  0.089552  0.123762\n"
          ],
          "name": "stdout"
        }
      ]
    },
    {
      "cell_type": "markdown",
      "metadata": {
        "id": "c728KMCrFk4o",
        "colab_type": "text"
      },
      "source": [
        "#Q130. Write a pandas program to get current date, oldest date and number of days between Current date and the oldest date of Ufo dataset."
      ]
    },
    {
      "cell_type": "code",
      "metadata": {
        "id": "wke7wI_geuLD",
        "colab_type": "code",
        "colab": {},
        "outputId": "3bfc8926-e2c9-43f6-dfa2-4e15a8ae41b3"
      },
      "source": [
        "# 130\n",
        "import pandas as pd\n",
        "df = pd.read_csv(r'ufo.csv')\n",
        "df['Date_time'] = df['Date_time'].astype('datetime64[D]')\n",
        "print(\"Original Dataframe:\")\n",
        "print(df.head())\n",
        "print(\"\\nCurrent date of Ufo dataset:\")\n",
        "print(df.Date_time.max())\n",
        "print(\"\\nOldest date of Ufo dataset:\")\n",
        "print(df.Date_time.min())\n",
        "print(\"\\nNumber of days between Current date and oldest date of Ufo dataset:\")\n",
        "print((df.Date_time.max() - df.Date_time.min()).days)"
      ],
      "execution_count": null,
      "outputs": [
        {
          "output_type": "stream",
          "text": [
            "Original Dataframe:\n",
            "   Date_time                  city state/province country UFO_shape  length_of_encounter_seconds described_duration_of_encounter                                        description date_documented   latitude   longitude\n",
            "0 1910-06-01           wills point             tx      us     cigar                          120                       2 minutes       Cigar shaped object moving from West to East      04/16/2005  32.709167  -96.008056\n",
            "1 1920-06-11                cicero             in      us   unknown                           60                        1 minute  ((NUFORC Note:  Probable hoax.  Note date.  PD...      05/12/2009  40.123889  -86.013333\n",
            "2 1929-07-05  buchanan  (or burns)             or      us      disk                           60                            1min  we were traveling east of burns&#44clmbing up ...      08/16/2002  43.642500 -118.627500\n",
            "3 1931-06-01               abilene             ks      us      disk                         1800                 30 min. approx.  This is a what my mother related to me regardi...      02/14/2006  38.917222  -97.213611\n",
            "4 1939-06-01              waterloo             al      us  fireball                          300                       5 minutes  4 high school students see bright&#44 ground-l...      02/21/2014  34.918056  -88.064167\n",
            "\n",
            "Current date of Ufo dataset:\n",
            "2004-12-08 00:00:00\n",
            "\n",
            "Oldest date of Ufo dataset:\n",
            "1910-06-01 00:00:00\n",
            "\n",
            "Number of days between Current date and oldest date of Ufo dataset:\n",
            "34524\n"
          ],
          "name": "stdout"
        }
      ]
    },
    {
      "cell_type": "markdown",
      "metadata": {
        "id": "0Tb_2NKCFza7",
        "colab_type": "text"
      },
      "source": [
        "#Q131. Write a pandas program to get all sighting days of the unidentified flying object (ufo) between 1950-10-10 and 1960-10-10.\n"
      ]
    },
    {
      "cell_type": "code",
      "metadata": {
        "id": "DSS3l4BNeuLF",
        "colab_type": "code",
        "colab": {},
        "outputId": "ba0347ed-79d8-4286-f63c-a01c78654274"
      },
      "source": [
        "# 131\n",
        "df = pd.read_csv('ufo.csv')\n",
        "df['Date_time'] = df['Date_time'].astype('datetime64[D]') \n",
        "print(\"Original Dataframe:\") \n",
        "print(df.head()) \n",
        "print(\"\\nSighting days of the unidentified flying object (ufo) between 1949-10-10 and 1960-10-10:\") \n",
        "selected_period = df[(df['Date_time'] >= '1950-01-01 00:00:00') & (df['Date_time'] <= '1960-12-31 23:59:59')] \n",
        "print(selected_period)"
      ],
      "execution_count": null,
      "outputs": [
        {
          "output_type": "stream",
          "text": [
            "Original Dataframe:\n",
            "   Date_time                  city state/province country UFO_shape  length_of_encounter_seconds described_duration_of_encounter                                        description date_documented   latitude   longitude\n",
            "0 1910-06-01           wills point             tx      us     cigar                          120                       2 minutes       Cigar shaped object moving from West to East      04/16/2005  32.709167  -96.008056\n",
            "1 1920-06-11                cicero             in      us   unknown                           60                        1 minute  ((NUFORC Note:  Probable hoax.  Note date.  PD...      05/12/2009  40.123889  -86.013333\n",
            "2 1929-07-05  buchanan  (or burns)             or      us      disk                           60                            1min  we were traveling east of burns&#44clmbing up ...      08/16/2002  43.642500 -118.627500\n",
            "3 1931-06-01               abilene             ks      us      disk                         1800                 30 min. approx.  This is a what my mother related to me regardi...      02/14/2006  38.917222  -97.213611\n",
            "4 1939-06-01              waterloo             al      us  fireball                          300                       5 minutes  4 high school students see bright&#44 ground-l...      02/21/2014  34.918056  -88.064167\n",
            "\n",
            "Sighting days of the unidentified flying object (ufo) between 1949-10-10 and 1960-10-10:\n",
            "    Date_time                           city state/province country UFO_shape  length_of_encounter_seconds described_duration_of_encounter                                        description date_documented   latitude   longitude\n",
            "29 1950-06-01                   philadelphia             ms      us      disk                          600             ten minutes or less  Childhood sighting of disk witnessed by mother...      03/12/2008  32.771389  -89.116667\n",
            "30 1950-06-01                     pittsburgh             pa      us      oval                         1500                   20/25 minutes  One larger white object &amp; 2 smaller round ...      02/14/2006  40.440556  -79.996111\n",
            "31 1950-08-01                     louisville             ky      us     other                           60                        1 minute  In 1953&#44 at the age of 3 years old I was Co...      10/19/2011  38.254167  -85.759444\n",
            "32 1950-10-01                      pikeville             ky      us      disk                          600                              hr        SEVENTY SOME  FLYING DISK OBSERVED IN  1950      04/16/2005  37.479167  -82.518889\n",
            "33 1951-06-01               brandon (canada)             mb      ca      disk                         1800                      30 minutes  Circular Craft and Man in Black Sighted in Sum...      02/18/2001  49.833333  -99.950000\n",
            "34 1951-07-01                  otis orchards             wa      us      disk                          120                      ~2 minutes  Cigar shaped Disc darting back and forth (East...      12/23/2013  47.700556 -117.105278\n",
            "35 1951-02-03                  thompsonville             ct      us      disk                           30                      30 seconds  A golden-orange glowing bowl&#44 flat on top&#...      07/25/2004  41.996944  -72.599444\n",
            "36 1951-06-03                         jasper             nc      us      oval                          300                       5 minutes  MIDDAY OVAL SHAPE&#44 ANITQUE COLOR OBJECT SIT...      06/20/2005  35.201389  -77.206944\n",
            "37 1952-07-01                         sebeka             mn      us     other                         1800                          30 min  Silver donut shape object sighted over rural M...      12/12/2011  46.630000  -95.088611\n",
            "38 1952-07-01                        detroit             mi      us    sphere                          300                       5 minutes  object sits stationary for 5 minutes and then ...      10/31/2003  42.331389  -83.045833\n",
            "39 1952-08-01                          tampa             fl      us      oval                         9000                  2 hrs. 30 min.  Triangulation radar fix (USAF&#44 civil&#44 Na...      12/02/2000  27.947222  -82.458611\n",
            "40 1952-10-01                    kansas city             mo      us      disk                           90                         90 sec.  1952 daylight sighting of multiple discs in fo...      10/31/2008  39.099722  -94.578333\n",
            "41 1953-04-01                      haverhill             ma      us   chevron                            2                         seconds                Historical account&#44 Haverhill MA      09/02/2005  42.776111  -71.077778\n",
            "42 1953-04-01                      cambridge             ma      us    sphere                          180                       3 minutes  Two red-orange lights skirted Boston rooftops ...      07/14/2013  42.375000  -71.106111\n",
            "43 1953-07-01  colorado springs (mtsn nw of)             co      us      disk                           10                      10 seconds  Absolutely huge UFO hovered 40 feet above hous...      07/25/2004  38.833889 -104.820833\n",
            "44 1953-08-01                       berkeley             mo      us  fireball                          300                       5 minutes    Early 50&#39s sighting in Berkeley&#44 Missouri      01/22/2004  38.754444  -90.331111\n",
            "45 1954-02-01                      fairbanks             ak      us   unknown                         1140                         19 min.  RADAR INTERCEPT OF UFO BY USAF PILOT IN ALASKA...      01/10/2009  64.837778 -147.716389\n",
            "46 1954-06-01                        houston             tx      us      disk                          180                     2-3 minutes  I fulfilled my duty by passing on an unusual a...      06/12/2008  29.763056  -95.363056\n",
            "47 1954-06-01                           ovid             ny      us      disk                          600                         10 min.  I saw two silver/gray objects of different sha...      12/05/2001  42.676389  -76.823333\n",
            "48 1954-06-01  springfield (rural area near)             il      us  cylinder                          600                      5-10 mins.  This happened many years ago when I was a chil...      12/02/2000  39.801667  -89.643611\n",
            "49 1955-05-01                       holbrook             ma      us       egg                           60                        1 minute  I turned around and over the trees was a large...      04/16/2005  42.155000  -71.009167\n",
            "50 1955-06-01                         bagley             mn      us    circle                         7200                         2 hours  I was 5 years old at the time&#44 family of 4 ...      05/24/1999  47.521667  -95.398056\n",
            "51 1955-06-01                     cincinnati             oh      us      disk                          120               approx. 1-1/2 min  June 1955.  Bronze saucer/cylindrical craft; a...      06/18/2003  39.161944  -84.456944\n",
            "52 1955-06-01           martinez (outskirts)             ca      us    circle                         1800                      30 minutes  We observed a large object aprox.size &quot;fo...      02/16/2000  38.019444 -122.133056\n",
            "53 1956-01-01                        weirton             wv      us      disk                           10                      10 seconds  My Uncle Sam was driving to work very early on...      01/07/2000  40.418889  -80.589722\n",
            "54 1956-03-01                       petaluma             ca      us      oval                         1800                      30 minutes  Objects were several thousand feet in altitude...      01/28/1999  38.232500 -122.635556\n",
            "55 1956-05-01                         canton             oh      us     cigar                          120                       2 minutes  At first the silver disc was stationary. As it...      09/15/2005  40.798889  -81.378611\n",
            "56 1956-06-01                         belton             mo      us     other                          600                          10min.  THE EVENT WAS A PERSONAL CONTACT WITH AN ALIEN...      01/28/1999  38.811944  -94.531667\n",
            "57 1957-01-01                         dallas             tx      us   unknown                           20                      20 seconds  I was flying the first of 4 USAF aircraft on a...      08/24/2004  32.783333  -96.800000\n",
            "58 1957-05-01                         canton             oh      us     cigar                          180                       3 minutes  Cigar shaped object is motionless for more tha...      04/27/2004  40.798889  -81.378611\n",
            "59 1957-06-01                        el paso             tx      us      disk                            7                  5 to 7 seconds  The UFO did not make any sounds.  The craft&#3...      07/26/2002  31.758611 -106.486389\n",
            "60 1957-06-01                    glens falls             ny      us      disk                          240                         3or4min  there was no mistakeing what i was looking at ...      12/02/2000  43.309444  -73.644444\n",
            "61 1958-01-01                            pep             tx      us  fireball                            2                            2sec  Green fire balls&#44 Texas Panhandle&#44 late ...      12/12/2009  33.816111 -102.557778\n",
            "62 1958-06-01                      middlesex             nc      us    circle                         3600                          1 hour                               white glowing lights      03/11/2006  35.790000  -78.204167\n",
            "63 1958-06-01                  san francisco             ca      us      oval                          120                       2 minutes  A low flying huge silver flying saucer positio...      10/31/2003  37.775000 -122.418333\n",
            "64 1958-06-01          new york city (bronx)             ny      us      oval                           10                      10 seconds  7 brightly illuminated elliptical discs racing...      04/16/2005  40.714167  -74.006389\n",
            "65 1959-04-01                          miami             fl      us    sphere                         2700                   30-45 minutes  1959 childhood encounter with a spherical&#44 ...      02/14/2008  25.773889  -80.193889\n",
            "66 1959-05-01                       columbus             oh      us     light                          180                         2-3 min  Red-orange lights over seen motionless over Lo...      02/22/2002  39.961111  -82.998889\n",
            "67 1959-06-01                         orange             ct      us  cylinder                         3600                         1 hour?  Sighted craft and transport of object to the g...      03/19/2009  41.278333  -73.026111\n",
            "68 1959-06-01                         sidney             oh      us     light                          300                       5 minutes  Saw a bright light shining down.  Pulled over ...      04/27/2007  40.284167  -84.155556\n",
            "69 1960-02-01                       st. paul             mn      us     cigar                            3                       3 seconds  A cigar-shaped UFO glided down towards the ear...      03/16/2000  44.944444  -93.093056\n",
            "70 1960-02-01                       hartwell             ga      us     cigar                           45         approx 30 to 45 seconds  My father explained an event of a large cigar-...      04/16/2005  34.352778  -82.932222\n",
            "71 1960-04-01                        houston             tx      us     other                          300                      <5 minutes  Sharp right angle turn in flight direction aft...      12/19/2003  29.763056  -95.363056\n",
            "72 1960-05-01                         tucson             az      us     light                          300                     4-5 minutes  Lights only&#44 no sound&#44 moving across the...      09/02/2005  32.221667 -110.925833\n"
          ],
          "name": "stdout"
        }
      ]
    },
    {
      "cell_type": "markdown",
      "metadata": {
        "id": "MVHYT-SuF41U",
        "colab_type": "text"
      },
      "source": [
        "#Q132. Write a Pandas program to extract the year, month, day, hour, minute, second, and weekday from unidentified flying object (UFO) reporting date."
      ]
    },
    {
      "cell_type": "code",
      "metadata": {
        "id": "9_E98IwoeuLH",
        "colab_type": "code",
        "colab": {},
        "outputId": "895a0561-7187-4faf-d64e-692800f7206c"
      },
      "source": [
        "# 132\n",
        "df = pd.read_csv(r'ufo.csv') \n",
        "df['Date_time'] = df['Date_time'].astype('datetime64[D]')\n",
        "print(\"Original Dataframe:\") \n",
        "# print(df.head()) \n",
        "print(\"\\nYear:\") \n",
        "print(df.Date_time.dt.year.head())\n",
        "print(\"\\nMonth:\") \n",
        "print(df.Date_time.dt.month.head()) \n",
        "print(\"\\nDay:\") \n",
        "print(df.Date_time.dt.day.head())\n",
        "print(\"\\nHour:\") \n",
        "print(df.Date_time.dt.hour.head()) \n",
        "print(\"\\nMinute:\") \n",
        "print(df.Date_time.dt.minute.head()) \n",
        "print(\"\\nSecond:\") \n",
        "print(df.Date_time.dt.second.head())\n",
        "# print(\"\\nWeekday:\") \n",
        "# print(df.Date_time.dt.weekday_name.head())"
      ],
      "execution_count": null,
      "outputs": [
        {
          "output_type": "stream",
          "text": [
            "Original Dataframe:\n",
            "\n",
            "Year:\n",
            "0    1910\n",
            "1    1920\n",
            "2    1929\n",
            "3    1931\n",
            "4    1939\n",
            "Name: Date_time, dtype: int64\n",
            "\n",
            "Month:\n",
            "0    6\n",
            "1    6\n",
            "2    7\n",
            "3    6\n",
            "4    6\n",
            "Name: Date_time, dtype: int64\n",
            "\n",
            "Day:\n",
            "0     1\n",
            "1    11\n",
            "2     5\n",
            "3     1\n",
            "4     1\n",
            "Name: Date_time, dtype: int64\n",
            "\n",
            "Hour:\n",
            "0    0\n",
            "1    0\n",
            "2    0\n",
            "3    0\n",
            "4    0\n",
            "Name: Date_time, dtype: int64\n",
            "\n",
            "Minute:\n",
            "0    0\n",
            "1    0\n",
            "2    0\n",
            "3    0\n",
            "4    0\n",
            "Name: Date_time, dtype: int64\n",
            "\n",
            "Second:\n",
            "0    0\n",
            "1    0\n",
            "2    0\n",
            "3    0\n",
            "4    0\n",
            "Name: Date_time, dtype: int64\n"
          ],
          "name": "stdout"
        }
      ]
    },
    {
      "cell_type": "markdown",
      "metadata": {
        "id": "cGCQsgZYGClq",
        "colab_type": "text"
      },
      "source": [
        "#Q133. Write a pandas program to count year-country wise frequency of reporting dates of the unidentified flying object(UFO)."
      ]
    },
    {
      "cell_type": "code",
      "metadata": {
        "id": "ITmVzlugeuLK",
        "colab_type": "code",
        "colab": {},
        "outputId": "d4581816-afb3-4967-c15d-cf31e98f73e5"
      },
      "source": [
        "# 133\n",
        "df = pd.read_csv(r'ufo.csv') \n",
        "df['Date_time'] = df['Date_time'].astype('datetime64[ns]') \n",
        "print(\"Original Dataframe:\") \n",
        "print(df.head()) \n",
        "df['Year'] = df['Date_time'].apply(lambda x: \"%d\" % (x.year)) \n",
        "result = df.groupby(['Year', 'country']).size() \n",
        "print(\"\\nCountry-year wise frequency of reporting dates of UFO:\") \n",
        "print(result)"
      ],
      "execution_count": null,
      "outputs": [
        {
          "output_type": "stream",
          "text": [
            "Original Dataframe:\n",
            "            Date_time                  city state/province country UFO_shape  length_of_encounter_seconds described_duration_of_encounter                                        description date_documented   latitude   longitude\n",
            "0 1910-06-01 15:00:00           wills point             tx      us     cigar                          120                       2 minutes       Cigar shaped object moving from West to East      04/16/2005  32.709167  -96.008056\n",
            "1 1920-06-11 21:00:00                cicero             in      us   unknown                           60                        1 minute  ((NUFORC Note:  Probable hoax.  Note date.  PD...      05/12/2009  40.123889  -86.013333\n",
            "2 1929-07-05 14:00:00  buchanan  (or burns)             or      us      disk                           60                            1min  we were traveling east of burns&#44clmbing up ...      08/16/2002  43.642500 -118.627500\n",
            "3 1931-06-01 13:00:00               abilene             ks      us      disk                         1800                 30 min. approx.  This is a what my mother related to me regardi...      02/14/2006  38.917222  -97.213611\n",
            "4 1939-06-01 20:00:00              waterloo             al      us  fireball                          300                       5 minutes  4 high school students see bright&#44 ground-l...      02/21/2014  34.918056  -88.064167\n",
            "\n",
            "Country-year wise frequency of reporting dates of UFO:\n",
            "Year  country\n",
            "1910  us          1\n",
            "1920  us          1\n",
            "1929  us          1\n",
            "1931  us          1\n",
            "1939  us          2\n",
            "1941  us          1\n",
            "1942  us          1\n",
            "1944  us          3\n",
            "1945  us          4\n",
            "1946  us          3\n",
            "1947  us          4\n",
            "1948  us          3\n",
            "1949  us          4\n",
            "1950  us          4\n",
            "1951  ca          1\n",
            "      us          3\n",
            "1952  us          4\n",
            "1953  us          4\n",
            "1954  us          4\n",
            "1955  us          4\n",
            "1956  us          4\n",
            "1957  us          4\n",
            "1958  us          4\n",
            "1959  us          4\n",
            "1960  us          4\n",
            "1961  us          4\n",
            "1962  us          4\n",
            "1963  us          4\n",
            "1964  us          4\n",
            "1965  us          4\n",
            "1966  us          4\n",
            "1967  us          4\n",
            "1968  us          4\n",
            "1969  us          4\n",
            "1970  us          4\n",
            "1971  ca          1\n",
            "      us          3\n",
            "1972  us          4\n",
            "1973  us          4\n",
            "1974  us          4\n",
            "1975  us          4\n",
            "1976  us          4\n",
            "1977  us          4\n",
            "1978  us          4\n",
            "1979  us          4\n",
            "1980  us          4\n",
            "1981  us          4\n",
            "1982  us          4\n",
            "1983  us          4\n",
            "1984  us          4\n",
            "1985  us          4\n",
            "1986  us          4\n",
            "1987  us          4\n",
            "1988  us          4\n",
            "1989  ca          1\n",
            "      us          3\n",
            "1990  us          4\n",
            "1991  us          4\n",
            "1992  us          8\n",
            "1993  ca          1\n",
            "      us         11\n",
            "1994  ca          1\n",
            "      us         10\n",
            "1995  ca          1\n",
            "      us         11\n",
            "1996  us         12\n",
            "1997  ca          1\n",
            "      us         13\n",
            "1998  us         13\n",
            "1999  us         11\n",
            "2000  ca          1\n",
            "      us         11\n",
            "2001  ca          1\n",
            "      us         14\n",
            "2002  ca          1\n",
            "      us         13\n",
            "2003  us          9\n",
            "2004  ca          1\n",
            "      us          6\n",
            "dtype: int64\n"
          ],
          "name": "stdout"
        }
      ]
    },
    {
      "cell_type": "markdown",
      "metadata": {
        "id": "UnzTOTjlGKeD",
        "colab_type": "text"
      },
      "source": [
        "#Q134. Write a pandas program to get the difference (in days) between documented date and reporting date of unidentified flying object (UFO)."
      ]
    },
    {
      "cell_type": "code",
      "metadata": {
        "id": "WszwjLIOeuLO",
        "colab_type": "code",
        "colab": {},
        "outputId": "7ca6725e-9303-4dea-bcf4-2c45f9a38288"
      },
      "source": [
        "# 134\n",
        "import pandas as pd\n",
        "df = pd.read_csv(r'ufo.csv') \n",
        "df['Date_time'] = df['Date_time'].astype('datetime64[ns]') \n",
        "df['date_documented'] = df['date_documented'].astype('datetime64[ns]') \n",
        "print(\"Original Dataframe:\") \n",
        "print(df.head()) \n",
        "print(\"\\nDifference (in days) between documented date and reporting date of UFO:\") \n",
        "df['Difference'] = (df['date_documented'] - df['Date_time']).dt.days \n",
        "print(df)"
      ],
      "execution_count": null,
      "outputs": [
        {
          "output_type": "stream",
          "text": [
            "Original Dataframe:\n",
            "            Date_time                  city state/province country UFO_shape  length_of_encounter_seconds described_duration_of_encounter                                        description date_documented   latitude   longitude\n",
            "0 1910-06-01 15:00:00           wills point             tx      us     cigar                          120                       2 minutes       Cigar shaped object moving from West to East      2005-04-16  32.709167  -96.008056\n",
            "1 1920-06-11 21:00:00                cicero             in      us   unknown                           60                        1 minute  ((NUFORC Note:  Probable hoax.  Note date.  PD...      2009-05-12  40.123889  -86.013333\n",
            "2 1929-07-05 14:00:00  buchanan  (or burns)             or      us      disk                           60                            1min  we were traveling east of burns&#44clmbing up ...      2002-08-16  43.642500 -118.627500\n",
            "3 1931-06-01 13:00:00               abilene             ks      us      disk                         1800                 30 min. approx.  This is a what my mother related to me regardi...      2006-02-14  38.917222  -97.213611\n",
            "4 1939-06-01 20:00:00              waterloo             al      us  fireball                          300                       5 minutes  4 high school students see bright&#44 ground-l...      2014-02-21  34.918056  -88.064167\n",
            "\n",
            "Difference (in days) between documented date and reporting date of UFO:\n",
            "              Date_time                            city state/province country  UFO_shape  length_of_encounter_seconds described_duration_of_encounter                                        description date_documented   latitude   longitude  Difference\n",
            "0   1910-06-01 15:00:00                     wills point             tx      us      cigar                          120                       2 minutes       Cigar shaped object moving from West to East      2005-04-16  32.709167  -96.008056       34652\n",
            "1   1920-06-11 21:00:00                          cicero             in      us    unknown                           60                        1 minute  ((NUFORC Note:  Probable hoax.  Note date.  PD...      2009-05-12  40.123889  -86.013333       32476\n",
            "2   1929-07-05 14:00:00            buchanan  (or burns)             or      us       disk                           60                            1min  we were traveling east of burns&#44clmbing up ...      2002-08-16  43.642500 -118.627500       26704\n",
            "3   1931-06-01 13:00:00                         abilene             ks      us       disk                         1800                 30 min. approx.  This is a what my mother related to me regardi...      2006-02-14  38.917222  -97.213611       27286\n",
            "4   1939-06-01 20:00:00                        waterloo             al      us   fireball                          300                       5 minutes  4 high school students see bright&#44 ground-l...      2014-02-21  34.918056  -88.064167       27293\n",
            "5   1939-07-07 02:00:00                          keokuk             ia      us       oval                          600                      10 minutes     Mother sees UFO above railroad tracks in 1939.      2005-09-02  40.397222  -91.384722       24163\n",
            "6   1941-06-01 13:00:00         ludington (hamlin lake)             mi      us       disk                           30                      30 seconds  As a boy some 60 plus years ago I saw a round ...      2003-10-07  43.955278  -86.452500       22772\n",
            "7   1942-06-01 22:30:00                       hapeville             ga      us    unknown                          180                         2-3 min       bright object approchjng Venus&#44 1940&#39s      2007-08-07  33.660000  -84.410278       23807\n",
            "8   1944-01-01 12:00:00                       san diego             ca      us      cigar                          180                       3 minutes  A sighting of one silver or white enlongated c...      2004-07-25  32.715278 -117.156389       22120\n",
            "9   1944-06-01 12:00:00                      los alamos             nm      us       disk                         3600                         1+ hour  Disk hovers over Los Alamos during the develop...      2009-05-12  35.888056 -106.306389       23720\n",
            "10  1944-04-02 11:00:00                          clovis             nm      us       disk                           90                           01:30  Saw UFO in 1944 over an airbase in New Mexico&...      2005-04-16  34.404722 -103.204722       22293\n",
            "11  1945-06-01 13:30:00                          jasper             fl      us   fireball                          300                         5minute  I belived it would be to our best Intrest to c...      2010-11-21  30.518056  -82.948333       23913\n",
            "12  1945-06-07 07:00:00                   winston-salem             nc      us       disk                            2                         seconds  I always thought this sighting should be on an...      2005-09-02  36.099722  -80.244444       22001\n",
            "13  1945-08-08 12:00:00                huntington beach             ca      us       disk                          300                       5 minutes  MY DAD SAYS HIS AUNT AND UNCLE SAW THIS CRAFT ...      2004-01-17  33.660278 -117.998333       21345\n",
            "14  1945-07-10 01:30:00                      portsmouth             va      us  formation                          180                           3 min  1945  RED  FLICKERING  V FORMATION  CRAFTS  MO...      2003-11-26  36.835278  -76.298611       21322\n",
            "15  1946-02-01 17:00:00                          merced             ca      us     sphere                           10                      10 seconds  Three luminescent chartreusse spheres moving &...      2005-10-11  37.302222 -120.481944       21801\n",
            "16  1946-07-01 13:30:00                  south portland             me      us       oval                           10                  10 seconds +/-  motionless&#44 dark oblong&#44 noon sky over o...      2008-06-12  43.641389  -70.241389       22626\n",
            "17  1946-01-08 02:00:00        new york city (brooklyn)             ny      us       disk                          300                           5 min  Huge round silver disk hovering over neighbors...      2008-03-04  40.714167  -74.006389       22700\n",
            "18  1947-06-01 02:30:00                       cleveland             oh      us      light                          300               about three hours  It was about 2:15 in the morning when my wife ...      2001-04-28  41.499444  -81.695556       19689\n",
            "19  1947-06-01 17:00:00           espanola (outside of)             nm      us     circle                          300                       5 minutes     Saucer shaped object  about  ten feet in diam.      2013-08-30  35.991111 -106.080000       24196\n",
            "20  1947-07-01 20:00:00                        cashmere             wa      us  formation                          120                       2 minutes  THE SIGHTING.&#9;It was a clear&#44 summer&#82...      2005-04-16  47.522500 -120.468611       21108\n",
            "21  1947-07-01 20:00:00                         maywood             ca      us       disk                          120                      2  minutes  1947 UFO sighting Date: ? sometime in early su...      2005-04-16  33.986667 -118.184444       21108\n",
            "22  1948-08-01 02:00:00        new york city (brooklyn)             ny      us     circle                          600                      10 minutes  A round overing craft over neighbors roof&#44 ...      2005-09-15  40.714167  -74.006389       20863\n",
            "23  1948-05-10 19:00:00                          scipio             in      us     sphere                           10                      10 seconds  Round red glowing ball going west in Northern ...      2005-04-16  39.079167  -85.717500       20794\n",
            "24  1948-12-12 23:30:00                      sharpsburg             md      us     circle                          180                       3 minutes  Small UFO at 100&#39&#44  airspeed less than 2...      2009-03-19  39.457500  -77.749167       22011\n",
            "25  1949-05-01 14:00:00               oak ridge (drive)             wv      us      other                           40                       40seconds  log shape whooshing object observed near charl...      2002-03-19  38.075000  -81.109722       19314\n",
            "26  1949-07-01 11:00:00                       fairbanks             ak      us       disk                          120                       2 minutes     Enormous metallic disc in Alaska sky&#44 1949.      2013-12-23  64.837778 -147.716389       23550\n",
            "27  1949-07-01 16:00:00                          marion             al      us  formation                           60                  under 1 minute  GEORGIA UFO GROUP Report/Tom Sheets:  Witness ...      2004-08-24  32.632222  -87.319167       20142\n",
            "28  1949-04-10 15:00:00                         seattle             wa      us       disk                          600                     ten minutes                        UFO Hovers over Seattle sky      2004-04-27  47.606389 -122.330833       20105\n",
            "29  1950-06-01 16:00:00                    philadelphia             ms      us       disk                          600             ten minutes or less  Childhood sighting of disk witnessed by mother...      2008-03-12  32.771389  -89.116667       21103\n",
            "30  1950-06-01 20:00:00                      pittsburgh             pa      us       oval                         1500                   20/25 minutes  One larger white object &amp; 2 smaller round ...      2006-02-14  40.440556  -79.996111       20346\n",
            "31  1950-08-01 04:00:00                      louisville             ky      us      other                           60                        1 minute  In 1953&#44 at the age of 3 years old I was Co...      2011-10-19  38.254167  -85.759444       22358\n",
            "32  1950-10-01 11:00:00                       pikeville             ky      us       disk                          600                              hr        SEVENTY SOME  FLYING DISK OBSERVED IN  1950      2005-04-16  37.479167  -82.518889       19920\n",
            "33  1951-06-01 07:00:00                brandon (canada)             mb      ca       disk                         1800                      30 minutes  Circular Craft and Man in Black Sighted in Sum...      2001-02-18  49.833333  -99.950000       18159\n",
            "34  1951-07-01 03:00:00                   otis orchards             wa      us       disk                          120                      ~2 minutes  Cigar shaped Disc darting back and forth (East...      2013-12-23  47.700556 -117.105278       22820\n",
            "35  1951-02-03 22:00:00                   thompsonville             ct      us       disk                           30                      30 seconds  A golden-orange glowing bowl&#44 flat on top&#...      2004-07-25  41.996944  -72.599444       19530\n",
            "36  1951-06-03 13:00:00                          jasper             nc      us       oval                          300                       5 minutes  MIDDAY OVAL SHAPE&#44 ANITQUE COLOR OBJECT SIT...      2005-06-20  35.201389  -77.206944       19740\n",
            "37  1952-07-01 15:00:00                          sebeka             mn      us      other                         1800                          30 min  Silver donut shape object sighted over rural M...      2011-12-12  46.630000  -95.088611       21712\n",
            "38  1952-07-01 22:00:00                         detroit             mi      us     sphere                          300                       5 minutes  object sits stationary for 5 minutes and then ...      2003-10-31  42.331389  -83.045833       18748\n",
            "39  1952-08-01 21:30:00                           tampa             fl      us       oval                         9000                  2 hrs. 30 min.  Triangulation radar fix (USAF&#44 civil&#44 Na...      2000-12-02  27.947222  -82.458611       17654\n",
            "40  1952-10-01 12:00:00                     kansas city             mo      us       disk                           90                         90 sec.  1952 daylight sighting of multiple discs in fo...      2008-10-31  39.099722  -94.578333       20483\n",
            "41  1953-04-01 15:00:00                       haverhill             ma      us    chevron                            2                         seconds                Historical account&#44 Haverhill MA      2005-09-02  42.776111  -71.077778       19146\n",
            "42  1953-04-01 18:00:00                       cambridge             ma      us     sphere                          180                       3 minutes  Two red-orange lights skirted Boston rooftops ...      2013-07-14  42.375000  -71.106111       22018\n",
            "43  1953-07-01 05:30:00   colorado springs (mtsn nw of)             co      us       disk                           10                      10 seconds  Absolutely huge UFO hovered 40 feet above hous...      2004-07-25  38.833889 -104.820833       18651\n",
            "44  1953-08-01 12:00:00                        berkeley             mo      us   fireball                          300                       5 minutes    Early 50&#39s sighting in Berkeley&#44 Missouri      2004-01-22  38.754444  -90.331111       18435\n",
            "45  1954-02-01 02:00:00                       fairbanks             ak      us    unknown                         1140                         19 min.  RADAR INTERCEPT OF UFO BY USAF PILOT IN ALASKA...      2009-01-10  64.837778 -147.716389       20066\n",
            "46  1954-06-01 00:00:00                         houston             tx      us       disk                          180                     2-3 minutes  I fulfilled my duty by passing on an unusual a...      2008-06-12  29.763056  -95.363056       19735\n",
            "47  1954-06-01 06:00:00                            ovid             ny      us       disk                          600                         10 min.  I saw two silver/gray objects of different sha...      2001-12-05  42.676389  -76.823333       17353\n",
            "48  1954-06-01 08:00:00   springfield (rural area near)             il      us   cylinder                          600                      5-10 mins.  This happened many years ago when I was a chil...      2000-12-02  39.801667  -89.643611       16985\n",
            "49  1955-05-01 15:00:00                        holbrook             ma      us        egg                           60                        1 minute  I turned around and over the trees was a large...      2005-04-16  42.155000  -71.009167       18247\n",
            "50  1955-06-01 02:00:00                          bagley             mn      us     circle                         7200                         2 hours  I was 5 years old at the time&#44 family of 4 ...      1999-05-24  47.521667  -95.398056       16062\n",
            "51  1955-06-01 15:29:00                      cincinnati             oh      us       disk                          120               approx. 1-1/2 min  June 1955.  Bronze saucer/cylindrical craft; a...      2003-06-18  39.161944  -84.456944       17548\n",
            "52  1955-06-01 17:00:00            martinez (outskirts)             ca      us     circle                         1800                      30 minutes  We observed a large object aprox.size &quot;fo...      2000-02-16  38.019444 -122.133056       16330\n",
            "53  1956-01-01 05:30:00                         weirton             wv      us       disk                           10                      10 seconds  My Uncle Sam was driving to work very early on...      2000-01-07  40.418889  -80.589722       16076\n",
            "54  1956-03-01 13:00:00                        petaluma             ca      us       oval                         1800                      30 minutes  Objects were several thousand feet in altitude...      1999-01-28  38.232500 -122.635556       15672\n",
            "55  1956-05-01 12:00:00                          canton             oh      us      cigar                          120                       2 minutes  At first the silver disc was stationary. As it...      2005-09-15  40.798889  -81.378611       18033\n",
            "56  1956-06-01 19:00:00                          belton             mo      us      other                          600                          10min.  THE EVENT WAS A PERSONAL CONTACT WITH AN ALIEN...      1999-01-28  38.811944  -94.531667       15580\n",
            "57  1957-01-01 21:00:00                          dallas             tx      us    unknown                           20                      20 seconds  I was flying the first of 4 USAF aircraft on a...      2004-08-24  32.783333  -96.800000       17401\n",
            "58  1957-05-01 12:00:00                          canton             oh      us      cigar                          180                       3 minutes  Cigar shaped object is motionless for more tha...      2004-04-27  40.798889  -81.378611       17162\n",
            "59  1957-06-01 10:00:00                         el paso             tx      us       disk                            7                  5 to 7 seconds  The UFO did not make any sounds.  The craft&#3...      2002-07-26  31.758611 -106.486389       16490\n",
            "60  1957-06-01 20:00:00                     glens falls             ny      us       disk                          240                         3or4min  there was no mistakeing what i was looking at ...      2000-12-02  43.309444  -73.644444       15889\n",
            "61  1958-01-01 22:00:00                             pep             tx      us   fireball                            2                            2sec  Green fire balls&#44 Texas Panhandle&#44 late ...      2009-12-12  33.816111 -102.557778       18972\n",
            "62  1958-06-01 02:00:00                       middlesex             nc      us     circle                         3600                          1 hour                               white glowing lights      2006-03-11  35.790000  -78.204167       17449\n",
            "63  1958-06-01 19:00:00                   san francisco             ca      us       oval                          120                       2 minutes  A low flying huge silver flying saucer positio...      2003-10-31  37.775000 -122.418333       16587\n",
            "64  1958-06-01 21:00:00           new york city (bronx)             ny      us       oval                           10                      10 seconds  7 brightly illuminated elliptical discs racing...      2005-04-16  40.714167  -74.006389       17120\n",
            "65  1959-04-01 01:00:00                           miami             fl      us     sphere                         2700                   30-45 minutes  1959 childhood encounter with a spherical&#44 ...      2008-02-14  25.773889  -80.193889       17850\n",
            "66  1959-05-01 18:30:00                        columbus             oh      us      light                          180                         2-3 min  Red-orange lights over seen motionless over Lo...      2002-02-22  39.961111  -82.998889       15637\n",
            "67  1959-06-01 12:00:00                          orange             ct      us   cylinder                         3600                         1 hour?  Sighted craft and transport of object to the g...      2009-03-19  41.278333  -73.026111       18188\n",
            "68  1959-06-01 18:30:00                          sidney             oh      us      light                          300                       5 minutes  Saw a bright light shining down.  Pulled over ...      2007-04-27  40.284167  -84.155556       17496\n",
            "69  1960-02-01 22:15:00                        st. paul             mn      us      cigar                            3                       3 seconds  A cigar-shaped UFO glided down towards the ear...      2000-03-16  44.944444  -93.093056       14653\n",
            "70  1960-02-01 23:00:00                        hartwell             ga      us      cigar                           45         approx 30 to 45 seconds  My father explained an event of a large cigar-...      2005-04-16  34.352778  -82.932222       16510\n",
            "71  1960-04-01 21:00:00                         houston             tx      us      other                          300                      <5 minutes  Sharp right angle turn in flight direction aft...      2003-12-19  29.763056  -95.363056       15966\n",
            "72  1960-05-01 20:00:00                          tucson             az      us      light                          300                     4-5 minutes  Lights only&#44 no sound&#44 moving across the...      2005-09-02  32.221667 -110.925833       16559\n",
            "73  1961-01-01 12:00:00                     santa clara             ca      us     circle                        10800                         3 hours         Stationary circular object 12 oclock high.      2004-01-17  37.354167 -121.954167       15720\n",
            "74  1961-01-01 13:00:00                    kendallville             in      us     circle                           30                      30 seconds  It was a clear Indiana day and I saw something...      2007-10-08  41.441389  -85.265000       17080\n",
            "75  1961-04-01 20:00:00                      shenandoah             pa      us      light                          120                     few minutes           UFOs spotted coming from behind the moon      2003-07-16  40.820278  -76.201111       15445\n",
            "76  1961-05-01 22:00:00                          auburn             wa      us      cigar                          300                           5 min  Grandmother saw a cigar shaped craft which she...      2001-11-20  47.307500 -122.227222       14812\n",
            "77  1962-01-01 08:00:00                        key west             fl      us     sphere                          300                  3 to 5 minutes  in the very early morning hours of 1962&#44 I ...      1998-03-07  24.555278  -81.782778       13213\n",
            "78  1962-03-01 08:00:00                       snohomish             wa      us    diamond                         1500                      25 minutes  I saw a UFO shoot incredibly fast and straight...      2007-11-28  47.913056 -122.096944       16707\n",
            "79  1962-06-01 00:00:00                    bartlesville             ok      us    unknown                          120                    minute or so  Childhood visitation 1962&#44 possible implant...      2012-07-04  36.747222  -95.980556       18296\n",
            "80  1962-06-01 12:00:00                    ellwood city             pa      us       disk                           60                       1 minutes  came down never touched ground had mist like a...      1999-01-28  40.861667  -80.286667       13389\n",
            "81  1963-01-01 22:00:00                   helena (near)             mt      us    diamond                         3600                          1 hour              Diamond shaped UFO blocks USAF runway      2012-02-10  46.592778 -112.035278       17936\n",
            "82  1963-04-01 07:00:00                          tucson             az      us   triangle                          600                      10 minutes  Observed in western sky @ about 100 ft. flying...      1999-08-10  32.221667 -110.925833       13279\n",
            "83  1963-06-01 00:00:00                           cocoa             fl      us    unknown                          900                        one hour  We are not alone&#44  I swear it before God Al...      2006-12-14  28.385833  -80.742222       15902\n",
            "84  1963-06-01 02:00:00                st. louis county             mo      us      cigar                          300                   5 mins approx  Cigar shaped craft hovering over swimming pool...      2007-08-07  38.627222  -90.197778       16137\n",
            "85  1964-05-01 22:00:00                      orangevale             ca      us      light                          300                    five minutes  Chased by a single light - Sacramento&#44 CA 1964      2004-06-18  38.678611 -121.224722       14657\n",
            "86  1964-06-01 04:30:00                     haltom city             tx      us      light                          600                      10 minutes         Light beam travel across roof-tops...1964.      2007-02-01  32.799444  -97.268889       15584\n",
            "87  1964-06-01 15:00:00                        sallisaw             ok      us      light                         1800                      30 minutes  &#39&#39ON ICE PROJECT&#39&#39 - UNDERGROUND C...      2011-05-12  35.460278  -94.787222       17145\n",
            "88  1964-07-01 12:00:00                  laurel springs             nj      us      other                          300                     5 minutes ?  Large glowing rock&#44 covered the sky&#44 ver...      2003-09-28  39.820000  -75.006667       14332\n",
            "89  1965-01-01 17:00:00                          mokena             il      us      light                           20                      20 seconds                         Light over Mokena Illinios      2010-11-21  41.526111  -87.889167       16759\n",
            "90  1965-01-01 20:00:00                          conway             ar      us      light                         3600                          1 hour  At a drive-in during the summer my brother and...      1998-06-02  35.088611  -92.441944       12204\n",
            "91  1965-01-01 20:00:00                      st. ansgar             ia      us   fireball                           20                      20 seconds                                 winter nite wonder      2007-02-01  43.378333  -92.918611       15370\n",
            "92  1965-04-01 15:30:00                         schertz             tx      us       disk                           15                         15 secs  Flying Disk seen approx 150 ft above ground ne...      1999-01-28  29.551944  -98.269444       12354\n",
            "93  1966-01-01 17:00:00                       flagstaff             az      us       disk                          600                      10 minutes  Spotted two black disk shaped objects flying o...      2001-01-03  35.198056 -111.650556       12785\n",
            "94  1966-02-01 01:00:00                        randolph             oh      us       oval                           10             five to ten seconds  extremely fast UFO stopping dead still in mid ...      2008-08-12  41.032778  -81.248611       15532\n",
            "95  1966-04-01 19:00:00                        richmond             mo      us       disk                         3600                          1 hour  Four Teenagers Site UFO on Country Road near R...      2000-12-02  39.278611  -93.976667       12663\n",
            "96  1966-04-01 21:00:00                   new braintree             ma      us     circle                         1800                    ~ 30 minutes  A large red glowing &quot;plasma cloud&quot; a...      2001-04-01  42.316667  -72.126389       12783\n",
            "97  1967-03-01 19:30:00                        whittier             ca      us       oval                            2                       2 seconds  Two observers witnessed 500-foot long oval cra...      2005-04-16  33.979167 -118.031944       13925\n",
            "98  1967-04-01 00:00:00                        valdosta             ga      us       disk                          180                     2-3 minutes  The craft moved about in the sky just like a h...      2008-10-31  30.832500  -83.278611       15189\n",
            "99  1967-04-01 17:45:00                       las vegas             nv      us      light                          120                       2 minutes  pulsating white round  light that changed betw...      2003-07-16  36.175000 -115.136389       13254\n",
            "100 1967-04-01 21:00:00                       homestead             fl      us    unknown                         7200                         2 hours  Red lights along the side&#44 white light in f...      2005-06-20  25.468333  -80.477778       13959\n",
            "101 1968-01-01 00:00:00                      burlington             nj      us     circle                         1200                           20min  New Years night in the late 60&#39s I&#44 my f...      2009-03-19  40.071111  -74.865278       15053\n",
            "102 1968-01-01 00:00:00                        lawndale             ca      us     circle                           60                        1 minute                                Craft with a portal      2009-12-12  33.887222 -118.351667       15321\n",
            "103 1968-01-01 21:00:00                     west monroe             la      us      light                         1200                      20 minutes  On the way into town&#44 a light appeared over...      1999-07-05  32.509167  -92.119167       11507\n",
            "104 1968-01-01 23:00:00                         wheaton             md      us     circle                           60                        1 minute  Woke up by loud noise&#44 parents said to come...      2013-11-11  39.039722  -77.055556       16750\n",
            "105 1969-01-01 20:00:00                     farmerville             la      us      other                          120                       2 minutes  Five bright white&#44 small balls jumped out o...      1999-07-05  32.773333  -92.405556       11141\n",
            "106 1969-03-01 00:00:00                           omaha             ne      us       oval                           30                  thirty seconds  Football shaped glowing orange light drifts st...      2011-12-12  41.258611  -95.937500       15626\n",
            "107 1969-03-01 15:00:00                        oak lawn             il      us       disk                         1800                          30 min  2 Large UFOs seen by my brother and his drivin...      2005-01-19  41.710833  -87.758056       13107\n",
            "108 1969-03-01 21:00:00                     perth amboy             nj      us      light                          120                       2 minutes  While observing Venus through telescopes&#44 m...      2005-06-20  40.506667  -74.265833       13259\n",
            "109 1970-01-01 02:00:00                          joplin             mo      us    unknown                         1800                          30 min            Large object moved slowly over the city      2010-07-06  37.084167  -94.513056       14795\n",
            "110 1970-01-01 12:00:00                    grand rapids             mi      us       disk                         1800                      30 minutes  Low flying&#44 zig-zagging disc with lights in...      2003-11-11  42.963333  -85.668056       12366\n",
            "111 1970-05-01 00:00:00           new york city (bronx)             ny      us      other                          300                       5 minutes  Bronx&#44 NY : It was a  solid silver -colored...      2004-01-17  40.714167  -74.006389       12314\n",
            "112 1970-05-01 00:00:00        new york city (p. s. 54)             ny      us      other                          180                       3 ninutes  I and scores of others witness a silver pyrami...      2004-01-17  40.714167  -74.006389       12314\n",
            "113 1971-01-01 01:00:00          niagara falls (canada)             on      ca       oval                          300                          5 min.  In van driving home. Van stalled beside Winery...      2000-12-02  43.100000  -79.050000       10927\n",
            "114 1971-02-01 18:30:00                    waverly hall             ga      us     circle                         3000                   45-50 minutes  saw bright circular object almosr directly ove...      1998-06-18  32.683333  -84.738333        9998\n",
            "115 1971-02-01 19:00:00                          gorham             nh      us      light                          300                       5 minutes  Bright lite seen moving eraticaly over mountai...      2005-09-02  44.387778  -71.173611       12631\n",
            "116 1971-04-01 21:00:00                   boulder creek             ca      us      cigar                         1200                           20min  I saw the craft slowly and silently gliding al...      2004-01-22  37.126111 -122.121111       11983\n",
            "117 1972-01-01 16:00:00                         seattle             wa      us   triangle                           30                         30 sec.  Man reports sighting in l972 or 1973.  Heard w...      1999-11-02  47.606389 -122.330833       10166\n",
            "118 1972-01-01 20:00:00                      huntsville             al      us    unknown                          120                       2 minutes  3 lights&#44 light speed&#44 no sound&#44 90 d...      2005-04-16  34.730278  -86.586111       12158\n",
            "119 1972-03-01 23:30:00                         salinas             ca      us      cigar                          180                      2 - 3 min.  Huge object. At least 2 football fields long. ...      1999-04-02  36.677778 -121.654444        9892\n",
            "120 1972-04-01 19:00:00                    indianapolis             in      us       disk                         3600                   1 hour aprox.  Indianapolis Multi-Colored Round object 1972-7...      2011-05-02  39.768333  -86.158056       14274\n",
            "121 1973-01-01 23:30:00                     chattanooga             tn      us       oval                           30                         30 sec.  3 objects in a tri-angle formation also in sta...      1999-12-16  35.045556  -85.309722        9844\n",
            "122 1973-02-01 22:00:00                        honolulu             hi      us     sphere                          300                       5 minutes  I was standing on the shore looking out toward...      2008-10-31  21.306944 -157.858333       13055\n",
            "123 1973-02-01 23:00:00                    port sulphur             la      us     circle                            3                       3 seconds                               Drag Racing UFO&#39s      2004-10-27  29.480278  -89.693889       11590\n",
            "124 1973-03-01 01:00:00  santa fe (near&#44 on highway)             nm      us    unknown                          600                      10 minutes  I had an Out of Body experience while driving ...      2004-02-12  35.686944 -105.937222       11304\n",
            "125 1974-01-01 01:00:00                            kent             wa      us      cigar                          300                        5:00 min  Cigar shaped with distint window shapes the wi...      1999-01-28  47.381111 -122.233611        9157\n",
            "126 1974-04-01 07:30:00                          aurora             co      us   changing                            5                       5 seconds  Ever changing Object sighted&#44 Aurora&#44 Co...      2009-03-19  39.729444 -104.831389       12770\n",
            "127 1974-05-01 17:00:00                        franklin             ky      us       oval                          300                       5 minutes                                         Round Disk      2013-02-18  36.722222  -86.577222       14172\n",
            "128 1974-06-01 00:00:00                       bardstown             ky      us       disk                          600                    5-1o minutes  yellowish gold saucer with lights hovering ove...      2009-08-05  37.809167  -85.466944       12849\n",
            "129 1975-01-01 03:00:00                       jamestown             ny      us     sphere                          120                   a few minutes  I was 13-15.  I was in my parent house on Moon...      1998-03-07  42.096944  -79.235556        8465\n",
            "130 1975-01-01 12:00:00                         phoenix             az      us       disk                          300                       5 minutes      Saucer sighting in 1970s near Phoenix&#44 AZ.      2009-03-19  33.448333 -112.073333       12495\n",
            "131 1975-01-01 19:00:00                    waverly hall             ga      us     sphere                          600                      5 - 10 min                                    Hovering Sphere      2003-11-26  32.683333  -84.738333       10555\n",
            "132 1975-01-01 20:00:00                          denver             co      us       disk                          180                       3 minutes  Flying saucer seen by 100 people at drive-in t...      2002-12-23  39.739167 -104.984167       10217\n",
            "133 1976-05-01 12:00:00                      st. thomas             pa      us    diamond                          120                  couple minutes                 2 craft seen for a couple minutes.      2005-07-05  39.917500  -77.798056       10656\n",
            "134 1976-05-01 20:00:00                        coventry             ri      us  formation                          180                            3min      red orbs &#39dancing&#39 around a central orb      2004-06-18  41.700000  -71.683333       10274\n",
            "135 1976-05-01 22:00:00                        lakewood             co      us   triangle                          420                         5-7 min  lighte object over lakewood Colorado. event  l...      2007-11-28  39.704722 -105.080833       11532\n",
            "136 1976-05-01 23:00:00                           miami             fl      us     sphere                         2400                      40 minutes  Orange sphere with alternating sound&#44 30 fe...      2006-10-30  25.773889  -80.193889       11138\n",
            "137 1977-01-01 12:00:00                      great neck             ny      us   cylinder                         1800                      30 minutes  When I was a child&#44 I witnessed shiney gold...      2007-02-01  40.800556  -73.728889       10987\n",
            "138 1977-01-01 19:30:00       new york city (manhattan)             ny      us     sphere                           60                   30-60 seconds  A small gray ball moved past my bedroom window...      2005-09-02  40.714167  -74.006389       10470\n",
            "139 1977-01-01 20:00:00                    la crescenta             ca      us  formation                        10800                    2 to 3 hours                   Triangle formation in foothills.      2007-11-28  34.224167 -118.239167       11287\n",
            "140 1977-01-01 20:00:00                     westminster             ca      us       disk                          300                       5 minutes  There were two ships&#44 saucer shaped&#44 sil...      2010-02-14  33.759167 -118.005833       12096\n",
            "141 1978-01-01 01:00:00                       june lake             ca      us       disk                          900                          15 min                seen flying saucers at june lake ca      2006-02-14  37.779722 -119.074444       10270\n",
            "142 1978-01-01 13:00:00                           sagle             id      us     sphere                           20                      20 seconds  Hovering gray&#44 grapefruit size&#44 shaped s...      2007-10-08  48.202500 -116.546667       10871\n",
            "143 1978-02-01 22:00:00                          dublin             nh      us   triangle                         1200                       15-20 min  I was with five friends at prep school in Dubl...      2000-12-09  42.907500  -72.063056        8346\n",
            "144 1978-03-01 17:00:00                       los gatos             ca      us       oval                           60                 1 min / approx.  Large elipsoid object (greenish hugh) hovering...      1999-01-28  37.226667 -121.973611        7637\n",
            "145 1979-01-01 17:00:00                          orange             ca      us       disk                         1200                      20 minutes  In Broad daylight saucer appeared 50 feet abov...      2005-09-15  33.787778 -117.852222        9753\n",
            "146 1979-01-01 20:00:00                   redondo beach             ca      us       disk                           15                         15 sec.  Low-altitude disk flying slowly; red lights ar...      2000-02-23  33.849167 -118.387500        7722\n",
            "147 1979-02-01 02:30:00                  lake arrowhead             ca      us     circle                          180                           3 min  My husband&#44 3 children&#44 and I moved to L...      2005-04-16  34.248333 -117.188333        9570\n",
            "148 1979-03-01 04:00:00                         medford             or      us    unknown                          300                           5 min  While in flight landing at Medford from Klamma...      1998-09-26  42.326667 -122.874444        7148\n",
            "149 1980-01-01 01:00:00                    indianapolis             in      us      light                          420                       7 minutes  Very bright green light without sound moved ov...      2007-06-12  39.768333  -86.158056       10023\n",
            "150 1980-01-01 23:30:00                        chicopee             ma      us    diamond                          300                       5 minutes  I heard a noise like thunder&#44 went to the k...      2000-02-16  42.148611  -72.608333        7350\n",
            "151 1980-03-01 00:30:00                          oxford             ct      us      cigar                          120                       2 minutes              Large Cigar shaped object very close.      2004-07-25  41.433889  -73.117222        8911\n",
            "152 1980-03-01 18:00:00                          bisbee             az      us      other                         1800                      30 minutes  Large&#44 nearby&#44 stationary&#44 metallic&#...      2003-10-07  31.448056 -109.927778        8619\n",
            "153 1981-01-01 00:01:00                        el cajon             ca      us     sphere                         1800                       30 minute  My husband and I were at home just bringing in...      2004-01-22  32.794722 -116.961667        8420\n",
            "154 1981-01-01 01:00:00                         el reno             ok      us       disk                         1800                         30 mins                       New Years 1981 Crashing Disc      2002-01-11  35.532222  -97.954722        7679\n",
            "155 1981-03-01 17:45:00                   mckinleyville             ca      us      other                           20                        00:00:20  Large (house-sized)&#44 slow moving (45-60 mph...      2012-12-20  40.946667 -124.099444       11616\n",
            "156 1981-03-01 22:00:00                        campbell             ca      us      cigar                          180                       3 minutes  Multiple sighting in Campbell CA of spacecraft...      2006-03-11  37.287222 -121.948889        9140\n",
            "157 1982-01-01 20:00:00                   orange county             nc      us     circle                          900                      15 minutes                       this was no helicopter squad      2002-12-23  35.129444  -78.522500        7660\n",
            "158 1982-05-01 20:00:00                      piscataway             nj      us       disk                          900                      15 minutes  In May 1982&#44 I had a close up day light sig...      2007-03-08  40.499167  -74.399444        9076\n",
            "159 1982-06-01 00:00:00                         oakland             md      us      light                           60                        1 minute  Bright light in woods moves toward witness; wi...      2006-05-15  39.407778  -79.406944        8749\n",
            "160 1982-06-01 01:00:00                         hershey             pa      us       oval                           30                      30 seconds                     Sleath Blimp sighted in Pa&#44      2006-10-30  40.285833  -76.650556        8916\n",
            "161 1983-03-01 19:00:00                       sandpoint             id      us       disk                          180                       3 minutes  Outside in our front yard&#44 we heard a craft...      2001-04-28  48.276667 -116.552222        6632\n",
            "162 1983-03-01 20:00:00                     o&#39fallon             il      us       disk                          180                  2 or 3 minutes  Disk seen hovering over residential area in O&...      2008-10-31  38.592222  -89.911111        9375\n",
            "163 1983-05-01 17:30:00               north kansas city             mo      us      other                          120                       2 minutes                        Something Above Us that Day      2011-12-12  39.130000  -94.561944       10451\n",
            "164 1983-05-01 19:00:00       washington county (rural)             ms      us    diamond                         7200                         2 hours  Diamond shaped craft sighting followed by miss...      2009-03-19  31.578611  -91.299167        9453\n",
            "165 1984-03-01 22:00:00                          eugene             or      us   triangle                          600                      10 minutes  Large Black colored triangle shaped ship. Euge...      2002-07-26  44.052222 -123.085556        6720\n",
            "166 1984-05-01 18:00:00                          joliet             il      us     circle                          180                       3 minutes  Driving with Mom and saw a grey disk hovering ...      2007-08-07  41.525000  -88.081667        8497\n",
            "167 1984-05-01 19:00:00             glen rose (malvern)             ar      us   triangle                         1200                    20 minutes ?  This happened some years ago: I had taken my d...      2005-05-11  34.455556  -92.729444        7679\n",
            "168 1984-05-01 20:00:00                      burnsville             mn      us  rectangle                          300                         5 mins.  Enormous Rectangle object with rows of red and...      2009-06-09  44.767778  -93.277500        9169\n",
            "169 1985-01-01 01:00:00                           holly             mi      us      other                          900                           15min  group of lihtts two circled real fast then the...      2006-03-11  42.791944  -83.627778        7738\n",
            "170 1985-01-01 21:00:00                           largo             fl      us      other                          300                       5 minutes  Very large UFO&#44 irregular in shape&#44  glo...      2005-05-11  27.909167  -82.787500        7434\n",
            "171 1985-02-01 22:30:00                        portland             or      us      light                          900                         15 mins  multiple points of light hovering? over the we...      2001-08-05  45.523611 -122.675000        6028\n",
            "172 1985-03-01 20:30:00                         wichita             ks      us   triangle                            2                     1-2 seconds  I was lying on my pool deck when out of my per...      2000-02-23  37.692222  -97.337222        5471\n",
            "173 1986-01-01 03:00:00                       crestwood             ky      us       oval                          180                     2-3 minutes  A faint beam of white light that seemed to com...      2004-04-27  38.324167  -85.472500        6690\n",
            "174 1986-04-01 14:30:00                         chicago             il      us     sphere                           10                      10 seconds  SOCCER-SIZED CRYTAL-LIKE SPIKED BALL&#44 Easil...      2007-02-01  41.850000  -87.650000        7610\n",
            "175 1986-04-01 22:00:00     red lodge (6 mi n; hwy 212)             mt      us    unknown                           90                         1.5 min  Definitely an aircraft but totally silent and ...      2002-01-11  45.185833 -109.246111        5763\n",
            "176 1986-04-01 22:15:00                     brownsville             tx      us       disk                         1200                10 to 20 minutes                           UFO tries to communicate      2002-03-19  25.901389  -97.497222        5830\n",
            "177 1987-01-01 00:00:00                   castro valley             ca      us       oval                           10                    9-10 seconds  One single&#44 beach ball sized .... &amp;quot...      2013-07-03  37.694167 -122.085278        9680\n",
            "178 1987-02-01 14:00:00                           lucas             tx      us      other                          120                       2 minutes                                 Car in the clouds.      2013-12-02  33.084167  -96.576389        9800\n",
            "179 1987-03-01 01:00:00                          revere             ma      us      light                         3600                          1 hour                  Dancing Lights in sky as a child.      2001-03-06  42.408333  -71.012500        5118\n",
            "180 1987-03-01 19:00:00                     weaverville             nc      us   triangle                          120                           2 min                         UFO IN ASHEVILLE N.C. 1987      2002-01-29  35.696944  -82.560833        5447\n",
            "181 1988-01-01 03:00:00                         roselle             il      us   triangle                          180                         2-3 min  fast moving Triangle with no sound and orange ...      2006-10-30  41.984722  -88.079722        6876\n",
            "182 1988-08-02 20:00:00                         clinton             ms      us     circle                          300                       5 minutes  A colorful ring of lights hovering over someon...      2003-11-08  32.341389  -90.321667        5575\n",
            "183 1988-09-03 15:30:00                         harvard             ma      us     sphere                          180                       3 minutes  Bright silver craft witnessed by many people. ...      2013-12-12  42.500000  -71.583333        9230\n",
            "184 1988-07-04 21:00:00                    jacksonville             fl      us   triangle                            4                       4 seconds  I saw object but my family did not even though...      2003-03-04  30.331944  -81.655833        5355\n",
            "185 1989-01-01 23:59:00                         wagoner             ok      us      light                          120                        1-2 mins  My friend and I who were both 16 at the time w...      1998-03-07  35.959444  -95.369167        3351\n",
            "186 1989-09-02 12:00:00              pickering (canada)             on      ca   triangle                          180                          3 min.  as i was reading a sighting from someboby in o...      2003-10-31  43.866667  -79.033333        5171\n",
            "187 1989-07-03 23:00:00                      belleville             ks      us   triangle                           30                      30 seconds           Triangular craft descends into the water      2007-02-01  39.824444  -97.632222        6421\n",
            "188 1989-01-05 00:15:00                    philadelphia             pa      us      cigar                          600                      10 minutes  An object followed my car parallel to me then ...      2006-10-30  39.952222  -75.164167        6506\n",
            "189 1990-05-01 20:00:00                         kingman             az      us      flash                          300                           5 min                                  Comet in Kingman?      2005-05-11  35.189444 -114.052222        5488\n",
            "190 1990-09-02 21:00:00                          dallas             tx      us      light                           45                          45 sec                  VERY BRIGHT LIGHTS FROM UP ABOVE.      2003-08-28  32.783333  -96.800000        4742\n",
            "191 1990-07-03 23:00:00               north miami beach             fl      us      light                          600                     10 minutes?       90 degree turn&#44 possible missing time (?)      2004-04-27  25.932778  -80.162778        5046\n",
            "192 1990-10-05 22:00:00                          fresno             ca      us   changing                         7200                        1-2hours                          Three objects in the sky.      2005-05-24  36.747778 -119.771389        5344\n",
            "193 1991-03-01 04:30:00                     minneapolis             mn      us        egg                          600                      10 minutes  5-6 silver&#44 egg-shaped craft desending one ...      2000-06-06  44.980000  -93.263611        3384\n",
            "194 1991-09-02 21:30:00                     morgan hill             ca      us    unknown                         1800                          30 min  We witnessed about 12 black objects pass overh...      1999-08-10  37.130556 -121.653333        2898\n",
            "195 1991-06-03 22:00:00                           dixon             il      us       disk                          600                      10 minutes  saw what we thought was a helicopter in troubl...      1999-04-26  41.838889  -89.479444        2883\n",
            "196 1991-07-04 23:00:00                         wichita             ks      us       disk                         3600               more than an hour  It was summer&#44 I had my dauther who is now ...      2008-08-12  37.692222  -97.337222        6248\n",
            "197 1992-02-01 20:00:00                     grants pass             or      us      light                          600                          10 min  Going across sky.  Thought it was airplane at ...      1999-04-02  42.439167 -123.327222        2616\n",
            "198 1992-04-02 22:24:00                    pebble beach             ca      us      light                           20                   15-20 seconds  A green light was iluminating the ocean as we ...      1999-01-28  36.566389 -121.945556        2491\n",
            "199 1992-09-03 19:00:00                      wilmington             nc      us       disk                          540                      5 - 9 mins               multiple saucers&#44 there and gone.      2005-02-08  34.225556  -77.945000        4540\n",
            "200 1992-07-04 23:00:00                          seatac             wa      us    unknown                           20                       15-20 sec  unidentified object in sky over seatac/des moi...      2007-04-27  47.453889 -122.320556        5409\n",
            "201 1992-08-05 23:00:00                      wilmington             ny      us   triangle                           10                      10 seconds  Mystery lights flew over my home and car withi...      2014-03-21  44.388333  -73.815833        7897\n",
            "202 1992-04-08 21:00:00                        hartford             ct      us    unknown                           25                           25sec  stange light in the night sky unlike i never s...      2009-06-09  41.763611  -72.685556        6270\n",
            "203 1992-10-09 08:00:00                        seminole             tx      us  rectangle                           30                      30 seconds  I saw a UFO very clearly and can describe it t...      2013-11-20  32.718889 -102.644444        7711\n",
            "204 1992-10-10 17:00:00                     panama city             fl      us  formation                         3600                       1 hour(?)  During a road trip to Panama City a friend and...      1999-01-28  30.158611  -85.660278        2300\n",
            "205 1993-03-01 05:30:00                          ganado             az      us      other                      6312000                         20years  For many years since 1978 to 2004 there have b...      2007-08-07  35.711389 -109.541389        5271\n",
            "206 1993-11-02 02:00:00                      evansville             in      us   triangle                         1800                      30 minutes  Driving home from work one evening late around...      2004-09-09  37.974722  -87.555833        3963\n",
            "207 1993-09-03 15:00:00                     burnt ranch             ca      us       disk                         1800                         30 min.  Huge disk with hour glass directly above (cent...      1999-02-16  40.809167 -123.473056        1991\n",
            "208 1993-08-04 20:30:00                         lahaina             hi      us    chevron                            4                         3-4 sec  Maui&#44 August 1993&#44 incredibly fast &amp;...      2005-05-24  20.878333 -156.682500        4310\n",
            "209 1993-07-05 20:00:00                       papillion             ne      us  rectangle                          360                  5 or 6 minutes                                  unexplained craft      2005-02-24  41.154444  -96.041944        4251\n",
            "210 1993-09-06 00:30:00                         seattle             wa      us   triangle                            6                       6 seconds                                lights over Seattle      2003-09-09  47.606389 -122.330833        3654\n",
            "211 1993-07-07 23:00:00                          marion             in      us   cylinder                         1800                   20-30 minutes  A black van asked me and the other witness if ...      2004-01-17  40.558333  -85.659167        3845\n",
            "212 1993-09-08 23:30:00               edmonton (canada)             ab      ca      cigar                        18000                       4-5 hours  Lots of different ufo sightings and unexplaina...      2014-01-16  53.550000 -113.500000        7434\n",
            "213 1993-08-09 23:50:00                     westminster             co      us   triangle                           60                        1 minute  A white puffy cottonball appeared and then a t...      1999-08-30  39.836667 -105.036667        2211\n",
            "214 1993-04-10 13:00:00                    three rivers             tx      us     sphere                         1200                      20 minutes                       Spherical UFO tracks vehicle      2009-01-10  28.460000  -98.182222        5753\n",
            "215 1993-06-11 01:00:00                           lusby             md      us      other                        32400                         9 hours  Possible alien encounter and or abduction in 1...      2012-08-05  38.410556  -76.455556        6994\n",
            "216 1993-07-12 23:30:00                   niagara falls             ny      us  formation                           30                      20-30 sec.  While walking with two friends in single file....      1999-04-02  43.094444  -79.056944        2089\n",
            "217 1994-01-01 18:00:00                        ringwood             nj      us    unknown                          240                        4minutes           Strange light&#44 stranger disappearance      2005-04-16  41.113333  -74.245833        4122\n",
            "218 1994-05-02 22:00:00             glassville (canada)             nb      ca    diamond                          300                       5 minutes  My Dad and I were driving down the street when...      1999-04-02  46.483333  -67.416667        1795\n",
            "219 1994-03-03 23:00:00                 moab (south of)             ut      us   triangle                           60                 one full minute         Rotating triangle of lights south of Moab.      2001-08-05  38.573333 -109.549167        2711\n",
            "220 1994-04-04 17:00:00                       hollywood             fl      us     circle                         7200                           2 hrs             Orange Orbs in Broward County Florida.      2005-02-22  26.010833  -80.149722        3976\n",
            "221 1994-05-05 21:00:00            newport beach (near)             ca      us      flash                            5                    five seconds  saw what I first thought was a comet or some o...      1999-01-28  33.618889 -117.928056        1728\n",
            "222 1994-12-06 21:20:00                      farmington             mo      us    chevron                          120                       2 minutes  No lights&#44 no sound&#44 and HUGE.  Quite an...      2003-08-28  37.780833  -90.421667        3186\n",
            "223 1994-08-07 22:30:00                       ypsilanti             mi      us  formation                         2700                         45 min.  3 objects&#44  amber in color&#44  bell shaped...      2009-05-12  42.241111  -83.613056        5391\n",
            "224 1994-03-09 21:00:00                          canton             mi      us    unknown                          120                           2 min                  UFO Encounter in Canton Michigan.      2007-04-27  42.308611  -83.482222        4796\n",
            "225 1994-03-10 18:00:00                         wyoming             mi      us       disk                           60                           1 min  disk shaped looked to be black with colored fl...      2006-05-15  42.913333  -85.705278        4448\n",
            "226 1994-04-11 21:00:00                    harrisonburg             la      us       disk                           30                      30 seconds  large&#44 well-lit saucer passes only a hundre...      2005-02-22  31.771944  -91.821389        3969\n",
            "227 1994-01-12 18:00:00                       cedar key             fl      us    chevron                          300                       5 minutes  Huge bluish black delta  wing 50 feet or less ...      2003-09-04  29.138333  -83.035278        3521\n",
            "228 1995-01-01 02:00:00                      el granada             ca      us   fireball                           45                      45 seconds  Glowing fireball  object crashed at Maverick&#...      2002-11-04  37.502778 -122.468333        2863\n",
            "229 1995-07-02 13:30:00                       pendleton             ny      us      other                          900                        10-15min  It was a bright sunny day.  The wind was wippi...      2002-01-11  43.086944  -78.728056        2384\n",
            "230 1995-07-03 22:00:00              penticton (canada)             bc      ca      light                          300                       5 minutes              Darting lights high over Penticton BC      2007-11-28  49.500000 -119.583333        4530\n",
            "231 1995-04-04 04:00:00                    williamsburg             va      us     sphere                         1500                      25 minutes                             Sphere witnessed in VA      2003-10-31  37.270556  -76.707778        3131\n",
            "232 1995-01-05 20:10:00                          sumner             wa      us       disk                           40                       20-40 sec  ship flew almost over my head and it was commi...      2010-11-21  47.203333 -122.239167        5798\n",
            "233 1995-05-06 21:00:00                       watertown             ct      us      light                          120                       2 minutes  Strange Hovering Light - Noticed and Approache...      2006-07-16  41.606111  -73.118611        4088\n",
            "234 1995-02-07 20:35:00                          tacoma             wa      us    unknown                            7                         5-7 sec  Work crew on railrodad loading dock witness ap...      1999-11-02  47.253056 -122.443056        1728\n",
            "235 1995-07-08 23:00:00                         ravenna             oh      us    unknown                          600                      10 minutes  red lights and slow moving objest over  sait m...      2006-05-15  41.157500  -81.242222        3963\n",
            "236 1995-11-09 16:30:00                       elizabeth             nj      us       oval                           90                    90 seconds ?  While driving on Route 1&amp;9 in Elizabeth Ne...      1999-08-30  40.663889  -74.211111        1389\n",
            "237 1995-06-10 23:00:00                   crescent city             ca      us       oval                         1200                         20 mins  there were two they were around us red white b...      2004-06-04  41.756111 -124.200556        3281\n",
            "238 1995-09-11 16:30:00                     pierce city             mo      us      cigar                            5                          5 sec.  Cigar- shaped metallic object hovers over fiel...      2003-09-24  36.945833  -94.000000        2934\n",
            "239 1995-11-12 23:20:00                             roy             ut      us   triangle                          600                      10 minutes  At 11:20 PM as I saw a triange shaped object w...      1999-01-28  41.161667 -112.025556        1172\n",
            "240 1996-02-01 15:00:00                         doyline             la      us   triangle                          180                       3 minutes                     TRIANGLER CRAFT NEAR BARKSDALE      2005-06-20  32.535556  -93.410833        3426\n",
            "241 1996-08-02 11:33:00                         fishers             in      us     circle                           10                    8-10 seconds  I was raised and served in the military my fir...      2004-10-27  39.955556  -86.013889        3007\n",
            "242 1996-07-03 10:00:00                university place             wa      us   fireball                           30                      30 seconds  It was the fourth of july&#44 actually the eve...      1999-04-02  47.235833 -122.549167        1002\n",
            "243 1996-07-04 22:00:00                      wilmington             nc      us   triangle                           60                        1 minute  My wife and I were stargazing on a beautiful c...      2008-08-12  34.225556  -77.945000        4421\n",
            "244 1996-04-05 23:30:00                       arlington             wa      us       disk                          300                           5 min  Craft hovered over a barn on the side of the r...      2001-08-05  48.198889 -122.123889        1947\n",
            "245 1996-07-05 18:15:00                     springfield             ma      us     circle                           40                       30-40 sec  the object floted inplace&#44 then circled the...      2003-09-24  42.101389  -72.590278        2636\n",
            "246 1996-09-05 01:00:00                           faith             nc      us   triangle                           30                         30 secs  Large black triangle&#44 lights on the corners...      2008-01-21  35.586944  -80.463056        4154\n",
            "247 1996-11-06 17:00:00                        san jose             il      us  formation                          240                     3-4 minutes  Coming home from voting in &quot;96&quot; my w...      1999-01-28  40.305556  -89.602778         812\n",
            "248 1996-08-08 20:30:00                        tularosa             nm      us     sphere                           45                        35-45sec  Glowing orb of light follows test sled and the...      2004-06-18  33.073889 -106.018056        2870\n",
            "249 1996-06-10 22:00:00               blythe (north of)             ca      us     sphere                          120                           2 min  Orange luminescent globe hovering in desert sk...      2007-02-24  33.610278 -114.595556        3910\n",
            "250 1996-05-11 17:00:00                         norwood             pa      us  formation                          120                       2 minutes  18 Bright fast &quot;Pearl&quot; like UFOs in ...      2010-11-21  39.891667  -75.300000        5306\n",
            "251 1996-08-12 13:00:00                     cheektowaga             ny      us       disk                          900                   10-15 minutes  Very large dark grey object  over small commun...      2008-02-14  42.903333  -78.755000        4202\n",
            "252 1997-02-01 21:30:00              vancouver (canada)             bc      ca    unknown                          600                      10 minutes  Stationary up in sky&#44 very high up in cloud...      2004-09-01  49.250000 -123.133333        2768\n",
            "253 1997-03-01 21:20:00                      louisville             ky      us   fireball                            2                       2 seconds  A hovering ball of orange light that came back...      2001-08-05  38.254167  -85.759444        1617\n",
            "254 1997-06-01 10:00:00                 american canyon             ca      us   triangle                           60                           1 min  I SAW A TRIANGULAR SHAPED CRAFT AND I SAW INSI...      2002-02-22  38.175000 -122.259722        1726\n",
            "255 1997-05-02 22:05:00                       oceanside             ca      us      other                          600                      10 minutes  AN ILLUMINATED OBJECT WAS FIRST SIGHTED IN THE...      1999-01-28  33.195833 -117.378611         635\n",
            "256 1997-05-03 21:03:00                        stafford             tx      us      other                           10                      10 seconds  Through telescope&#44observed amoeba or transl...      1999-01-28  29.615833  -95.557500         634\n",
            "257 1997-07-04 21:00:00                            troy             il      us      light                            4                     3-4 seconds  large blue light silently travelling across th...      2005-07-05  38.729167  -89.883056        2922\n",
            "258 1997-10-05 19:00:00                        cheyenne             wy      us      other                           90                         1.5 min  Seen a object in clear sky.looked like commet ...      2002-01-11  41.140000 -104.819722        1558\n",
            "259 1997-09-06 04:47:00                       covington             wa      us   triangle                          900                          15 min  Triangle shaped with six lights underneath.  O...      1999-01-28  47.348333 -122.113611         508\n",
            "260 1997-07-07 23:00:00                    coopersville             mi      us    unknown                        64800                          18 hrs  Fireball impact &#44 intelligent colorful ligh...      2011-01-31  43.063889  -85.934722        4955\n",
            "261 1997-08-08 23:00:00                           kenai             ak      us      cigar                          600                      10 minutis            BACK in 1997 I seen a Cigar shaped UFO.      2005-09-02  60.554444 -151.258333        2946\n",
            "262 1997-12-09 17:55:00                            reno             nv      us      light                         1090                           18:10  Stationary bright red light&#44 simular to jup...      1998-03-07  39.529722 -119.812778          87\n",
            "263 1997-02-10 18:00:00                       brentwood             tn      us      light                          120                       2 minutes                                changing bright orb      2001-11-20  36.033056  -86.782778        1743\n",
            "264 1997-11-11 01:00:00                     o&#39fallon             mo      us   triangle                          120                           2 min  ON THIS PARTICULAR NIGHT I HAD JUST GOTTING OF...      1999-08-10  38.810556  -90.699722         636\n",
            "265 1997-07-12 13:00:00                         trenton             oh      us       disk                          480                     5-8 minutes  Saucer/lights&#44 no sound.  Lasted around 7 m...      2014-02-27  39.480833  -84.457778        6073\n",
            "266 1998-04-01 13:00:00                      providence             ri      us     circle                          240                       4 minutes  Mostly sunny sky very large stayed about 5 min...      2009-04-14  41.823889  -71.413333        4030\n",
            "267 1998-10-02 09:30:00                        el monte             ca      us     circle                          600                   about 10 min.  I noticed three craft flying in a straght line...      1999-02-16  34.068611 -118.026667         136\n",
            "268 1998-03-03 20:00:00                         houston             tx      us     sphere                            7                       7 seconds  Strolling with my wife in the Heights part of ...      2012-07-04  29.763056  -95.363056        5236\n",
            "269 1998-06-04 06:19:00                        ocotillo             ca      us   triangle                          720                      12 minutes  On a morning hike&#44 we settled to rest after...      1999-05-24  32.738611 -115.993333         353\n",
            "270 1998-02-05 00:45:00                         memphis             tn      us   triangle                           10                           00:10  Black triangle near I-55 south of Memphis&#44 ...      2002-01-11  35.149444  -90.048889        1435\n",
            "271 1998-02-06 00:00:00                       worcester             ma      us   fireball                            3                     2-3 seconds  I was driving at midnite and saw a fireball th...      1999-01-28  42.262500  -71.802778         356\n",
            "272 1998-06-07 21:05:00                         phoenix             az      us   fireball                            2                       2 seconds  Bright flickering&#44 lightning like flash&#44...      1999-05-24  33.448333 -112.073333         350\n",
            "273 1998-01-08 22:38:00                       fairbanks             ak      us       oval                            3                          3 secs  A large phlorescent green oval shaped object m...      1999-02-16  64.837778 -147.716389         403\n",
            "274 1998-12-08 20:00:00         vilonia (just south of)             ar      us     circle                          300                  5 min.  aprox.  I was talking to some friends outside. I saw a...      2002-09-28  35.083889  -92.207778        1389\n",
            "275 1998-04-09 21:15:00                colorado springs             co      us      other                          900                         15 mins  Saw object hovering over Co Springs. Couldn&#3...      1999-01-28  38.833889 -104.820833         293\n",
            "276 1998-12-09 01:30:00                         alamosa             co      us       oval                           45                      45 seconds  I am a police officer in alamosa colorado. on ...      1999-01-28  37.469444 -105.869444          49\n",
            "277 1998-04-10 05:45:00                        el cajon             ca      us      cigar                          600                      10 minutes  Observed object&#44 nothing around it.  Pulsin...      1999-01-28  32.794722 -116.961667         292\n",
            "278 1998-07-11 22:43:00           franklin park (60131)             il      us     circle                            1                           00:01    Yellow circle in northeast sky moving northward      1998-11-21  41.935278  -87.865556         132\n",
            "279 1999-06-01 00:00:00                         fremont             mi      us      light                         2700                    45 minutes +  Bounding&#44 glowing neon orbs of light over F...      2012-07-04  43.467500  -85.941944        4782\n",
            "280 1999-07-02 23:54:00                    grand rapids             mi      us      light                           60                40 to 60 seconds  I WAS SITTING ON MY PORCH&#44 I WAS FACING EAS...      2002-07-01  42.963333  -85.668056        1094\n",
            "281 1999-12-05 05:05:00                          dalton             ga      us     circle                           15                     15 seconds?  A bright yellow object traveling from west to ...      1999-12-16  34.769722  -84.970278          10\n",
            "282 1999-07-06 22:00:00          omaha (~ 60 mi. nw of)             ne      us   triangle                          300                       5 minutes                         Triangular object observed      2010-04-13  41.258611  -95.937500        3933\n",
            "283 1999-07-07 16:30:00                         seattle             wa      us      light                         1200                      20 minutes                       Star Wars blows up incoming.      2014-01-10  47.606389 -122.330833        5300\n",
            "284 1999-10-07 23:02:00                     springfield             ma      us  formation                           10                      10 seconds  We saw a v-shaped formation of orangy-yellow r...      1999-10-19  42.101389  -72.590278          11\n",
            "285 1999-07-08 21:45:00                       pottstown             pa      us     sphere                           60                        1 minute  we saw 2 orange spheres appear high over the P...      1999-07-14  40.245278  -75.650000           5\n",
            "286 1999-06-09 21:15:00                       las vegas             nv      us      light                           60                           1 min  4 quickly moving red lights in the NW sky just...      1999-06-23  36.175000 -115.136389          13\n",
            "287 1999-03-10 02:00:00                       johnstown             pa      us      cigar                         3600                       1 hourish                                      My encounter.      2012-01-12  40.326667  -78.922222        4690\n",
            "288 1999-03-11 15:00:00             south san francisco             ca      us       disk                          240                       4 minutes  I was looking up because I  was carring laungr...      2013-04-12  37.654722 -122.406667        5145\n",
            "289 1999-05-12 00:00:00                     bloomington             in      us      light                           15                   10-15 seconds  Light that was in a cloud bank above apartment...      1999-05-24  39.165278  -86.526389          12\n",
            "290 2000-02-01 23:00:00                         babbitt             mn      us      other                          600                    8-10 minutes  Opaque white beams of light that repeatedly  h...      2003-10-31  47.708611  -91.944444        1367\n",
            "291 2000-03-02 22:45:00                        paterson             nj      us      light                          600                      10 minutes  At around 10.45 p.m when I just looked at the ...      2000-03-07  40.916667  -74.172222           4\n",
            "292 2000-05-03 20:00:00                    mt. pleasant             ia      us      light                          300                       5 minutes  One craft crossed in front of an airplane that...      2000-05-11  40.963611  -91.557778           7\n",
            "293 2000-02-04 20:30:00                        prescott             az      us     circle                          120                          2 min.  Bright yellow-orange circular objects flying i...      2000-02-16  34.540000 -112.467778          11\n",
            "294 2000-05-05 20:30:00                  johnson county             ks      us     sphere                         1800                      30 minutes  White light with alternating green and red lights      2000-05-11  37.570556 -101.750556           5\n",
            "295 2000-03-06 19:55:00                   silver spring             md      us      other                          600                           10min  v shape but no lights &#44 very grayand thin t...      2000-03-07  38.990556  -77.026389           0\n",
            "296 2000-12-07 19:30:00             white rock (canada)             bc      ca    unknown                         3600                   approx 1 hour  It was a foggy evening&#44 I was looking out o...      2001-02-18  49.033333 -122.816667          72\n",
            "297 2000-11-08 22:30:00                          eugene             or      us      light                            8                           8sec.  What appeared to be a falling star &#44 change...      2003-02-25  44.052222 -123.085556         838\n",
            "298 2000-12-09 21:00:00                          beaver             pa      us   triangle                           90                             1.3  Like a red traffic light&#44 behind the trees&...      2000-12-20  40.695278  -80.305000          10\n",
            "299 2000-06-10 02:30:00                       polk city             ia      us     circle                          300                       5 minutes  Strange circular object seen moving against th...      2004-08-24  41.771389  -93.712778        1535\n",
            "300 2000-02-11 21:15:00                        rockford             il      us   fireball                          900                   10-15 minutes  While out for a family night we observed five ...      2000-02-23  42.271111  -89.093889          11\n",
            "301 2000-07-12 20:00:00                         gilbert             az      us      light                          900                10 to 15 minutes  The object was south of the phoenix area.  It ...      2000-07-23  33.352778 -111.788333          10\n",
            "302 2001-01-01 01:00:00                      sacramento             ca      us     circle                           10                      10 seconds                                 Big Bouncing Light      2008-10-31  38.581667 -121.493333        2859\n",
            "303 2001-05-02 00:02:00              vancouver (canada)             bc      ca      light                           30                      30 seconds  3 lights travelling very fast with the 2 on th...      2002-07-26  49.250000 -123.133333         449\n",
            "304 2001-03-03 19:00:00                        pontotoc             ms      us      light                         3600                    about 1 hour              Bright light in the sky. UFO or What?      2001-03-16  34.247778  -88.998611          12\n",
            "305 2001-08-04 16:00:00                         wheaton             il      us     circle                          120                        1-2 min.  white/silver circle at first stationary&#44 th...      2001-08-12  41.866111  -88.106944           7\n",
            "306 2001-06-05 00:01:00                          yakima             wa      us      light                          480                       8 minutes                                       Just a light      2001-08-05  46.602222 -120.504722          60\n",
            "307 2001-11-05 21:25:00                        glendale             az      us     circle                            6                     5 to 6 sec.                     UFO Sighting - Glendale&#44 AZ      2001-11-20  33.538611 -112.185278          14\n",
            "308 2001-04-06 21:00:00                    mount carmel             il      us   fireball                         1200                      20 minutes  At an area just west of Mount Carmel Il&#44 my...      2001-04-28  38.410833  -87.761389          21\n",
            "309 2001-02-07 16:00:00         linthicum (bwi airport)             md      us  rectangle                          900                          15 min  This was not any aircraft I have ever seen and...      2001-02-18  39.205000  -76.653056          10\n",
            "310 2001-04-08 20:00:00                         portage             in      us    unknown                         1200                           20:00  unknown blue object that stooped car engine th...      2002-08-16  41.575833  -87.176111         494\n",
            "311 2001-09-09 21:00:00                          groton             nh      us     sphere                          900                          15 min  I went outside that evening with my video came...      2003-03-04  43.701667  -71.836111         540\n",
            "312 2001-06-10 04:00:00                      san carlos             az      us      light                         1800                      30 minutes  Bright Light seen in circular form over the ea...      2001-08-05  33.345278 -110.452500          55\n",
            "313 2001-01-11 21:50:00                       las vegas             nm      us   fireball                            4                     2-4 seconds  Green Fireball&#44 falling from 15 to 20 degre...      2001-02-18  35.593889 -105.223333          37\n",
            "314 2001-12-11 14:03:00                      chesapeake             va      us      cigar                          360                       6 minutes  I saw 5 cigar shaped crafts in a V formation w...      2002-01-11  36.818889  -76.275278          30\n",
            "315 2001-03-12 21:00:00                       beaverton             or      us      light                          600                      10 minutes  3 Red nocturnal &quot;visitors&quot; seen in W...      2001-03-16  45.487222 -122.802500           3\n",
            "316 2001-09-12 00:00:00                     los angeles             ca      us     circle                           60                  1 minute or so                             3 UFO over Los Angeles      2008-08-12  34.052222 -118.242778        2526\n",
            "317 2002-03-01 06:15:00                          naples             fl      us   triangle                          180                       3 minutes  Black Triangle&#44 clearly seen slowly moving ...      2002-03-19  26.141667  -81.795000          17\n",
            "318 2002-08-01 15:25:00                      south bend             in      us       oval                          600                      10 minutes  A red oval-like object flew at constant speed ...      2002-08-16  41.683333  -86.250000          14\n",
            "319 2002-01-02 17:30:00                     osage beach             mo      us      cigar                          600                      10 minutes  Cigar shaped object seen near Lake of the Ozar...      2002-01-11  38.150278  -92.617778           8\n",
            "320 2002-07-03 01:00:00                           akron             oh      us       oval                           20                      20 seconds  white oval object seemed to move out of our si...      2002-08-16  41.081389  -81.519167          43\n",
            "321 2002-07-04 20:23:00                  san bernardino             ca      us    unknown                           15                      15 sec&#44  Flash of halogen-quality light on fast moving ...      2002-07-26  34.108333 -117.288889          21\n",
            "322 2002-09-05 23:00:00                         houston             tx      us       disk                          120                          2 mins  Extreme large&#44 very bright orb gave off no ...      2007-04-27  29.763056  -95.363056        1694\n",
            "323 2002-10-05 23:00:00                         alameda             ca      us      light                            7                       7 seconds                              stationary star moves      2002-10-15  37.765278 -122.240556           9\n",
            "324 2002-05-06 15:50:00            st. louis (kirkwood)             mo      us       disk                          180                  2 or 3 minutes  A saucer that glowed like the moon and was the...      2002-05-14  38.627222  -90.197778           7\n",
            "325 2002-01-07 18:00:00                 fort washington             md      us   teardrop                            2                         seconds  Luminous green&#44 white outlined tear shaped ...      2002-01-11  38.707222  -77.023333           3\n",
            "326 2002-09-08 16:00:00       new york city (manhattan)             ny      us     sphere                         7200                           1-2hr  Eleven objects over Manhatten for nearly 2 hours.      2002-09-13  40.714167  -74.006389           4\n",
            "327 2002-05-09 18:00:00               winnipeg (canada)             mb      ca  formation                         2400                     30to40 mins  they were flashing orbes of light&#44consistin...      2002-05-14  49.883333  -97.166667           4\n",
            "328 2002-05-10 23:30:00                       san diego             ca      us   triangle                          300                       5 minutes  Huge Triangle shaped object with amber lights ...      2002-12-23  32.715278 -117.156389         226\n",
            "329 2002-01-11 18:45:00                   daytona beach             fl      us      light                         3600                more than 1 hour  Bright lights seen over ocean in Daytona Beach...      2002-01-29  29.210556  -81.023056          17\n",
            "330 2002-02-12 20:00:00                          lorain             oh      us       disk                          120                     1-2 minutes    UFO near Cleveland Ohio&#44 evening of 2/12/02.      2002-02-22  41.452778  -82.182500           9\n",
            "331 2003-04-01 01:00:00                         holmdel             nj      us   fireball                            1                        1 second  High speed  blue white streak across the sky t...      2003-06-03  40.345000  -74.184444          62\n",
            "332 2003-10-02 02:45:00                       kerrville             tx      us     circle                           15                      15 seconds  first i saw 8 white lights in a V formation of...      2003-10-07  30.047222  -99.140000           4\n",
            "333 2003-11-04 20:00:00                       belvidere             nc      us      other                          600                      10 minutes  My family saw strange flying object making wil...      2003-11-08  36.268611  -76.536111           3\n",
            "334 2003-01-06 10:10:00                       montclair             ca      us   fireball                           10                         10 sec.  burning or bright object not falling to earth ...      2003-03-11  34.077500 -117.688889          63\n",
            "335 2003-05-07 02:00:00                       jonesboro             ar      us    diamond                           30                      30 seconds  Diamond shaped fuselage with multiple red ligh...      2003-05-09  35.842222  -90.704167           1\n",
            "336 2003-07-08 00:30:00                  grand junction             co      us     sphere                           60                        1 minute                                   orbs in Colorado      2003-07-16  39.063889 -108.550000           7\n",
            "337 2003-04-09 21:00:00                      santa rosa             ca      us      other                           40                          40 sec  STAR LIKE OBJECT FLYING .GENTLEY ACROSS SKY AN...      2003-04-22  38.440556 -122.713333          12\n",
            "338 2003-03-10 20:52:00                  warner springs             ca      us      light                          600                         10 min.  In the eastern sky (over head&#44 not near the...      2003-03-21  33.282222 -116.632778          10\n",
            "339 2003-07-11 20:50:00                          golden             co      us    unknown                          480                     6-8 minutes  3 lights triangular shaped&#44 AAA fire&#44 li...      2003-09-24  39.755556 -105.220556          74\n",
            "340 2004-02-01 01:00:00                      south bend             in      us    unknown                         3600                         >1 hour  We saw some object in the sky move very slowly...      2004-02-12  41.683333  -86.250000          10\n",
            "341 2004-10-02 18:20:00                     west covina             ca      us    unknown                          600                      10 minutes  white&#44 caterpillar contrails over Los Angel...      2004-10-27  34.090000 -117.889444          24\n",
            "342 2004-04-05 20:35:00                           miami             fl      us    unknown                           60                        1 minute  It looked like a star and moved in a circular ...      2004-04-09  25.773889  -80.193889           3\n",
            "343 2004-10-06 23:00:00                     placerville             ca      us       disk                         3600                          1 hour  I saw 5 saucers above Placerville CA.  ((NUFOR...      2004-10-27  38.729722 -120.797500          20\n",
            "344 2004-11-07 20:30:00                   lavina (near)             mt      us       disk                         3600                    over an hour  Many unusual lights on one object.  ((NUFORC N...      2004-11-09  46.294722 -108.937222           1\n",
            "345 2004-12-08 05:30:00               montreal (canada)             qc      ca       oval                           30                about 30 seconds  Bright yellow light at the horizon in the East...      2007-08-07  45.500000  -73.583333         971\n"
          ],
          "name": "stdout"
        },
        {
          "output_type": "stream",
          "text": [
            "346 2004-02-10 05:15:00                       mansfield             oh      us      other                            3                       3 seconds         THE OBJECT WAS STREAKING&#44 THEN VANISHED      2004-02-12  40.758333  -82.515556           1\n"
          ],
          "name": "stdout"
        }
      ]
    },
    {
      "cell_type": "markdown",
      "metadata": {
        "id": "eXFIKFVyGR78",
        "colab_type": "text"
      },
      "source": [
        "#Q135. Write a pandas program to generate sequences of fixedfrequency dates and time spans."
      ]
    },
    {
      "cell_type": "code",
      "metadata": {
        "id": "Co_AkapxeuLQ",
        "colab_type": "code",
        "colab": {},
        "outputId": "999979fb-68f8-4a1e-d701-9c2d74f2bbbf"
      },
      "source": [
        "# 135\n",
        "import pandas as pd\n",
        "dtr = pd.date_range('2018-01-01', periods=12, freq='H')\n",
        "print(\"Hourly frequency:\")\n",
        "print(dtr)\n",
        "dtr = pd.date_range('2018-01-01', periods=12, freq='min')\n",
        "print(\"\\nMinutely frequency:\")\n",
        "print(dtr)\n",
        "dtr = pd.date_range('2018-01-01', periods=12, freq='S')\n",
        "print(\"\\nSecondly frequency:\")\n",
        "print(dtr)\n",
        "dtr = pd.date_range('2018-01-01', periods=12, freq='2H')\n",
        "print(\"nMultiple Hourly frequency:\")\n",
        "print(dtr)\n",
        "dtr = pd.date_range('2018-01-01', periods=12, freq='5min')\n",
        "print(\"\\nMultiple Minutely frequency:\")\n",
        "print(dtr)\n",
        "dtr = pd.date_range('2018-01-01', periods=12, freq='BQ')\n",
        "print(\"\\nMultiple Secondly frequency:\")\n",
        "print(dtr)\n",
        "dtr = pd.date_range('2018-01-01', periods=12, freq='w')\n",
        "print(\"\\nWeekly frequency:\")\n",
        "print(dtr)\n",
        "dtr = pd.date_range('2018-01-01', periods=12, freq='2h20min')\n",
        "print(\"\\nCombine together day and intraday offsets-1:\")\n",
        "print(dtr)\n",
        "dtr = pd.date_range('2018-01-01', periods=12, freq='1D10U')\n",
        "print(\"\\nCombine together day and intraday offsets-2:\")\n",
        "print(dtr)"
      ],
      "execution_count": null,
      "outputs": [
        {
          "output_type": "stream",
          "text": [
            "Hourly frequency:\n",
            "DatetimeIndex(['2018-01-01 00:00:00', '2018-01-01 01:00:00', '2018-01-01 02:00:00', '2018-01-01 03:00:00', '2018-01-01 04:00:00', '2018-01-01 05:00:00', '2018-01-01 06:00:00', '2018-01-01 07:00:00', '2018-01-01 08:00:00', '2018-01-01 09:00:00', '2018-01-01 10:00:00', '2018-01-01 11:00:00'], dtype='datetime64[ns]', freq='H')\n",
            "\n",
            "Minutely frequency:\n",
            "DatetimeIndex(['2018-01-01 00:00:00', '2018-01-01 00:01:00', '2018-01-01 00:02:00', '2018-01-01 00:03:00', '2018-01-01 00:04:00', '2018-01-01 00:05:00', '2018-01-01 00:06:00', '2018-01-01 00:07:00', '2018-01-01 00:08:00', '2018-01-01 00:09:00', '2018-01-01 00:10:00', '2018-01-01 00:11:00'], dtype='datetime64[ns]', freq='T')\n",
            "\n",
            "Secondly frequency:\n",
            "DatetimeIndex(['2018-01-01 00:00:00', '2018-01-01 00:00:01', '2018-01-01 00:00:02', '2018-01-01 00:00:03', '2018-01-01 00:00:04', '2018-01-01 00:00:05', '2018-01-01 00:00:06', '2018-01-01 00:00:07', '2018-01-01 00:00:08', '2018-01-01 00:00:09', '2018-01-01 00:00:10', '2018-01-01 00:00:11'], dtype='datetime64[ns]', freq='S')\n",
            "nMultiple Hourly frequency:\n",
            "DatetimeIndex(['2018-01-01 00:00:00', '2018-01-01 02:00:00', '2018-01-01 04:00:00', '2018-01-01 06:00:00', '2018-01-01 08:00:00', '2018-01-01 10:00:00', '2018-01-01 12:00:00', '2018-01-01 14:00:00', '2018-01-01 16:00:00', '2018-01-01 18:00:00', '2018-01-01 20:00:00', '2018-01-01 22:00:00'], dtype='datetime64[ns]', freq='2H')\n",
            "\n",
            "Multiple Minutely frequency:\n",
            "DatetimeIndex(['2018-01-01 00:00:00', '2018-01-01 00:05:00', '2018-01-01 00:10:00', '2018-01-01 00:15:00', '2018-01-01 00:20:00', '2018-01-01 00:25:00', '2018-01-01 00:30:00', '2018-01-01 00:35:00', '2018-01-01 00:40:00', '2018-01-01 00:45:00', '2018-01-01 00:50:00', '2018-01-01 00:55:00'], dtype='datetime64[ns]', freq='5T')\n",
            "\n",
            "Multiple Secondly frequency:\n",
            "DatetimeIndex(['2018-03-30', '2018-06-29', '2018-09-28', '2018-12-31', '2019-03-29', '2019-06-28', '2019-09-30', '2019-12-31', '2020-03-31', '2020-06-30', '2020-09-30', '2020-12-31'], dtype='datetime64[ns]', freq='BQ-DEC')\n",
            "\n",
            "Weekly frequency:\n",
            "DatetimeIndex(['2018-01-07', '2018-01-14', '2018-01-21', '2018-01-28', '2018-02-04', '2018-02-11', '2018-02-18', '2018-02-25', '2018-03-04', '2018-03-11', '2018-03-18', '2018-03-25'], dtype='datetime64[ns]', freq='W-SUN')\n",
            "\n",
            "Combine together day and intraday offsets-1:\n",
            "DatetimeIndex(['2018-01-01 00:00:00', '2018-01-01 02:20:00', '2018-01-01 04:40:00', '2018-01-01 07:00:00', '2018-01-01 09:20:00', '2018-01-01 11:40:00', '2018-01-01 14:00:00', '2018-01-01 16:20:00', '2018-01-01 18:40:00', '2018-01-01 21:00:00', '2018-01-01 23:20:00', '2018-01-02 01:40:00'], dtype='datetime64[ns]', freq='140T')\n",
            "\n",
            "Combine together day and intraday offsets-2:\n",
            "DatetimeIndex(['2018-01-01 00:00:00', '2018-01-02 00:00:00.000010', '2018-01-03 00:00:00.000020', '2018-01-04 00:00:00.000030', '2018-01-05 00:00:00.000040', '2018-01-06 00:00:00.000050', '2018-01-07 00:00:00.000060', '2018-01-08 00:00:00.000070', '2018-01-09 00:00:00.000080', '2018-01-10 00:00:00.000090', '2018-01-11 00:00:00.000100', '2018-01-12 00:00:00.000110'], dtype='datetime64[ns]', freq='86400000010U')\n"
          ],
          "name": "stdout"
        }
      ]
    },
    {
      "cell_type": "markdown",
      "metadata": {
        "id": "xOFkWsvJGVJ5",
        "colab_type": "text"
      },
      "source": [
        "#Q136. Write a pandas program to manipulate and convert date times with timezone information."
      ]
    },
    {
      "cell_type": "code",
      "metadata": {
        "id": "a_4LhiwfeuLT",
        "colab_type": "code",
        "colab": {},
        "outputId": "7f58bc33-57ec-4199-fa68-fdca4c8c93a4"
      },
      "source": [
        "# 136\n",
        "import pandas as pd\n",
        "dtt = pd.date_range('2018-01-01', periods=3, freq='H')\n",
        "dtt = dtt.tz_localize('UTC')\n",
        "print(dtt)\n",
        "print(\"\\nFrom UTC to America/Los_Angeles:\")\n",
        "dtt = dtt.tz_convert('America/Los_Angeles')\n",
        "print(dtt)"
      ],
      "execution_count": null,
      "outputs": [
        {
          "output_type": "stream",
          "text": [
            "DatetimeIndex(['2018-01-01 00:00:00+00:00', '2018-01-01 01:00:00+00:00', '2018-01-01 02:00:00+00:00'], dtype='datetime64[ns, UTC]', freq='H')\n",
            "\n",
            "From UTC to America/Los_Angeles:\n",
            "DatetimeIndex(['2017-12-31 16:00:00-08:00', '2017-12-31 17:00:00-08:00', '2017-12-31 18:00:00-08:00'], dtype='datetime64[ns, America/Los_Angeles]', freq='H')\n"
          ],
          "name": "stdout"
        }
      ]
    },
    {
      "cell_type": "markdown",
      "metadata": {
        "id": "4e88pbKUGdXG",
        "colab_type": "text"
      },
      "source": [
        "#Q137. Write a pandas program to create the graphical analysis of (unidentified flying object) Sightings year.\n"
      ]
    },
    {
      "cell_type": "code",
      "metadata": {
        "id": "vlq6FdrNeuLV",
        "colab_type": "code",
        "colab": {},
        "outputId": "25d4f365-40fd-4cd6-e778-c54ae6088c2c"
      },
      "source": [
        "# ans 137\n",
        "import pandas as pd\n",
        "import matplotlib.pyplot as plt\n",
        "import seaborn as sns\n",
        "\n",
        "df = pd.read_csv(\"ufo.csv\")\n",
        "df['Date_time'] = df['Date_time'].astype('datetime64[ns]')\n",
        "df[\"ufo_yr\"] = df.Date_time.dt.year\n",
        "years_data = df.ufo_yr.value_counts()\n",
        "years_index = years_data.index # x ticks\n",
        "years_values = years_data.get_values()\n",
        "plt.figure(figsize=(15,8))\n",
        "plt.xticks(rotation = 60)\n",
        "plt.title('UFO Sightings by Year')\n",
        "plt.xlabel(\"Year\")\n",
        "plt.ylabel(\"Number of reports\")\n",
        "years_plot = sns.barplot(x=years_index[:60],y=years_values[:60], palette = \"Reds\")"
      ],
      "execution_count": null,
      "outputs": [
        {
          "output_type": "error",
          "ename": "AttributeError",
          "evalue": "'Series' object has no attribute 'get_values'",
          "traceback": [
            "\u001b[1;31m---------------------------------------------------------------------------\u001b[0m",
            "\u001b[1;31mAttributeError\u001b[0m                            Traceback (most recent call last)",
            "\u001b[1;32m<ipython-input-2-0e05556f75e8>\u001b[0m in \u001b[0;36m<module>\u001b[1;34m\u001b[0m\n\u001b[0;32m      9\u001b[0m \u001b[0myears_data\u001b[0m \u001b[1;33m=\u001b[0m \u001b[0mdf\u001b[0m\u001b[1;33m.\u001b[0m\u001b[0mufo_yr\u001b[0m\u001b[1;33m.\u001b[0m\u001b[0mvalue_counts\u001b[0m\u001b[1;33m(\u001b[0m\u001b[1;33m)\u001b[0m\u001b[1;33m\u001b[0m\u001b[1;33m\u001b[0m\u001b[0m\n\u001b[0;32m     10\u001b[0m \u001b[0myears_index\u001b[0m \u001b[1;33m=\u001b[0m \u001b[0myears_data\u001b[0m\u001b[1;33m.\u001b[0m\u001b[0mindex\u001b[0m \u001b[1;31m# x ticks\u001b[0m\u001b[1;33m\u001b[0m\u001b[1;33m\u001b[0m\u001b[0m\n\u001b[1;32m---> 11\u001b[1;33m \u001b[0myears_values\u001b[0m \u001b[1;33m=\u001b[0m \u001b[0myears_data\u001b[0m\u001b[1;33m.\u001b[0m\u001b[0mget_values\u001b[0m\u001b[1;33m(\u001b[0m\u001b[1;33m)\u001b[0m\u001b[1;33m\u001b[0m\u001b[1;33m\u001b[0m\u001b[0m\n\u001b[0m\u001b[0;32m     12\u001b[0m \u001b[0mplt\u001b[0m\u001b[1;33m.\u001b[0m\u001b[0mfigure\u001b[0m\u001b[1;33m(\u001b[0m\u001b[0mfigsize\u001b[0m\u001b[1;33m=\u001b[0m\u001b[1;33m(\u001b[0m\u001b[1;36m15\u001b[0m\u001b[1;33m,\u001b[0m\u001b[1;36m8\u001b[0m\u001b[1;33m)\u001b[0m\u001b[1;33m)\u001b[0m\u001b[1;33m\u001b[0m\u001b[1;33m\u001b[0m\u001b[0m\n\u001b[0;32m     13\u001b[0m \u001b[0mplt\u001b[0m\u001b[1;33m.\u001b[0m\u001b[0mxticks\u001b[0m\u001b[1;33m(\u001b[0m\u001b[0mrotation\u001b[0m \u001b[1;33m=\u001b[0m \u001b[1;36m60\u001b[0m\u001b[1;33m)\u001b[0m\u001b[1;33m\u001b[0m\u001b[1;33m\u001b[0m\u001b[0m\n",
            "\u001b[1;32m~\\AppData\\Roaming\\Python\\Python37\\site-packages\\pandas\\core\\generic.py\u001b[0m in \u001b[0;36m__getattr__\u001b[1;34m(self, name)\u001b[0m\n\u001b[0;32m   5272\u001b[0m             \u001b[1;32mif\u001b[0m \u001b[0mself\u001b[0m\u001b[1;33m.\u001b[0m\u001b[0m_info_axis\u001b[0m\u001b[1;33m.\u001b[0m\u001b[0m_can_hold_identifiers_and_holds_name\u001b[0m\u001b[1;33m(\u001b[0m\u001b[0mname\u001b[0m\u001b[1;33m)\u001b[0m\u001b[1;33m:\u001b[0m\u001b[1;33m\u001b[0m\u001b[1;33m\u001b[0m\u001b[0m\n\u001b[0;32m   5273\u001b[0m                 \u001b[1;32mreturn\u001b[0m \u001b[0mself\u001b[0m\u001b[1;33m[\u001b[0m\u001b[0mname\u001b[0m\u001b[1;33m]\u001b[0m\u001b[1;33m\u001b[0m\u001b[1;33m\u001b[0m\u001b[0m\n\u001b[1;32m-> 5274\u001b[1;33m             \u001b[1;32mreturn\u001b[0m \u001b[0mobject\u001b[0m\u001b[1;33m.\u001b[0m\u001b[0m__getattribute__\u001b[0m\u001b[1;33m(\u001b[0m\u001b[0mself\u001b[0m\u001b[1;33m,\u001b[0m \u001b[0mname\u001b[0m\u001b[1;33m)\u001b[0m\u001b[1;33m\u001b[0m\u001b[1;33m\u001b[0m\u001b[0m\n\u001b[0m\u001b[0;32m   5275\u001b[0m \u001b[1;33m\u001b[0m\u001b[0m\n\u001b[0;32m   5276\u001b[0m     \u001b[1;32mdef\u001b[0m \u001b[0m__setattr__\u001b[0m\u001b[1;33m(\u001b[0m\u001b[0mself\u001b[0m\u001b[1;33m,\u001b[0m \u001b[0mname\u001b[0m\u001b[1;33m:\u001b[0m \u001b[0mstr\u001b[0m\u001b[1;33m,\u001b[0m \u001b[0mvalue\u001b[0m\u001b[1;33m)\u001b[0m \u001b[1;33m->\u001b[0m \u001b[1;32mNone\u001b[0m\u001b[1;33m:\u001b[0m\u001b[1;33m\u001b[0m\u001b[1;33m\u001b[0m\u001b[0m\n",
            "\u001b[1;31mAttributeError\u001b[0m: 'Series' object has no attribute 'get_values'"
          ]
        }
      ]
    },
    {
      "cell_type": "markdown",
      "metadata": {
        "id": "xmnCIPFoGndh",
        "colab_type": "text"
      },
      "source": [
        "#Q138. Write a pandas program to create a comparison of the top 10 years in which the (UFO) was sighted VS each Month."
      ]
    },
    {
      "cell_type": "code",
      "metadata": {
        "id": "hsrABWTbeuLX",
        "colab_type": "code",
        "colab": {},
        "outputId": "fb7167cc-7d88-493d-de75-ee45e4239ee8"
      },
      "source": [
        "# 138\n",
        "import pandas as pd #Source: https://bit.ly/1l9yjm9 \n",
        "df = pd.read_csv(r'ufo.csv') \n",
        "df['Date_time'] = df['Date_time'].astype('datetime64[ns]') \n",
        "most_sightings_years = df['Date_time'].dt.year.value_counts().head(10) \n",
        "def is_top_years(year):  \n",
        "    if year in most_sightings_years.index:  \n",
        "        return year \n",
        "month_vs_year = df.pivot_table(columns=df['Date_time'].dt.month,index=df['Date_time'].dt.year.apply(is_top_years),aggfunc='count',values='city')\n",
        "month_vs_year.index = month_vs_year.index.astype(int) \n",
        "month_vs_year.columns = month_vs_year.columns.astype(int) \n",
        "print(\"\\nComparison of the top 10 years in which the UFO was sighted vs each month:\")\n",
        "print(month_vs_year.head(10)) "
      ],
      "execution_count": null,
      "outputs": [
        {
          "output_type": "stream",
          "text": [
            "\n",
            "Comparison of the top 10 years in which the UFO was sighted vs each month:\n",
            "Date_time   1    2    3    4    5    6    7    8    9    10   11   12\n",
            "1993       NaN  NaN  1.0  1.0  NaN  1.0  3.0  2.0  3.0  NaN  1.0  NaN\n",
            "1994       2.0  NaN  3.0  2.0  2.0  NaN  NaN  1.0  NaN  NaN  NaN  1.0\n",
            "1995       2.0  1.0  NaN  1.0  1.0  1.0  3.0  NaN  1.0  NaN  2.0  NaN\n",
            "1996       NaN  1.0  NaN  1.0  1.0  1.0  3.0  3.0  1.0  NaN  1.0  NaN\n",
            "1997       NaN  2.0  1.0  NaN  2.0  1.0  3.0  1.0  1.0  1.0  1.0  1.0\n",
            "1998       1.0  2.0  1.0  3.0  NaN  2.0  1.0  NaN  NaN  1.0  NaN  2.0\n",
            "1999       NaN  NaN  2.0  NaN  1.0  2.0  4.0  NaN  NaN  1.0  NaN  1.0\n",
            "2000       NaN  3.0  2.0  NaN  2.0  1.0  1.0  NaN  NaN  NaN  1.0  2.0\n",
            "2001       2.0  1.0  2.0  2.0  1.0  2.0  NaN  1.0  2.0  NaN  1.0  1.0\n",
            "2002       3.0  1.0  1.0  NaN  3.0  NaN  2.0  1.0  2.0  1.0  NaN  NaN\n"
          ],
          "name": "stdout"
        }
      ]
    },
    {
      "cell_type": "markdown",
      "metadata": {
        "id": "e-N8HEAlGuV_",
        "colab_type": "text"
      },
      "source": [
        "#Q139. Write a pandas program to create a heatmap (rectangular data as a colour-encoded matrix) for comparison of top 10 years in which (UFO ) was sighted VS each Month."
      ]
    },
    {
      "cell_type": "code",
      "metadata": {
        "id": "nm9vEq6XeuLY",
        "colab_type": "code",
        "colab": {},
        "outputId": "9bf77b79-754c-458d-981b-541e73841acd"
      },
      "source": [
        "# 139\n",
        "import pandas as pd\n",
        "import matplotlib.pyplot as plt \n",
        "%matplotlib inline\n",
        "import seaborn as sns \n",
        "#Source: https://bit.ly/1l9yjm9\n",
        "df = pd.read_csv(r'ufo.csv') \n",
        "df['Date_time'] = df['Date_time'].astype('datetime64[ns]') \n",
        "most_sightings_years = df['Date_time'].dt.year.value_counts().head(10)\n",
        "def is_top_years(year):   \n",
        "    if year in most_sightings_years.index: \n",
        "         return year\n",
        "month_vs_year = df.pivot_table(columns=df['Date_time'].dt.month,index=df['Date_time'].dt.year.apply(is_top_years),aggfunc='count',values='city')\n",
        "month_vs_year.columns = month_vs_year.columns.astype(int) \n",
        "print(\"\\nHeatmap for comparison of the top 10 years in which the UFO was sighted vs each month:\") \n",
        "plt.figure(figsize=(10,8)) \n",
        "ax = sns.heatmap(month_vs_year, vmin=0, vmax=4) \n",
        "ax.set_xlabel('Month').set_size(20) \n",
        "ax.set_ylabel('Year').set_size(20)"
      ],
      "execution_count": null,
      "outputs": [
        {
          "output_type": "stream",
          "text": [
            "\n",
            "Heatmap for comparison of the top 10 years in which the UFO was sighted vs each month:\n"
          ],
          "name": "stdout"
        },
        {
          "output_type": "display_data",
          "data": {
            "image/png": "[encoded data removed]",
            "text/plain": [
              "<Figure size 720x576 with 2 Axes>"
            ]
          },
          "metadata": {
            "tags": [],
            "needs_background": "light"
          }
        }
      ]
    },
    {
      "cell_type": "markdown",
      "metadata": {
        "id": "dtFkrSR4G1Vn",
        "colab_type": "text"
      },
      "source": [
        "#Q140. Write a pandas program to create a Timewheel of Hour VS Year comparison of the top 10 years in which the (UFO) was sighted."
      ]
    },
    {
      "cell_type": "code",
      "metadata": {
        "id": "8jXevVy3euLa",
        "colab_type": "code",
        "colab": {},
        "outputId": "eb3a6ae1-d9fd-48cb-cbba-f77350c3c386"
      },
      "source": [
        "# 140\n",
        "import matplotlib as mpl\n",
        "import matplotlib.cm as cm\n",
        "#Source: https://bit.ly/2XDY2XN \n",
        "df = pd.read_csv(r'ufo.csv') \n",
        "df['Date_time'] = df['Date_time'].astype('datetime64[ns]') \n",
        "most_sightings_years = df['Date_time'].dt.year.value_counts().head(10) \n",
        "def is_top_years(year):   \n",
        "    if year in most_sightings_years.index:   \n",
        "        return year \n",
        "month_vs_year = df.pivot_table(columns=df['Date_time'].dt.month,index=df['Date_time'].dt.year.apply(is_top_years),aggfunc='count',values='city')\n",
        "month_vs_year.index = month_vs_year.index.astype(int) \n",
        "month_vs_year.columns = month_vs_year.columns.astype(int) \n",
        "print(\"\\nComparison of the top 10 years in which the UFO was sighted vs each month:\") \n",
        "def pie_heatmap(table, cmap='coolwarm_r', vmin=None, vmax=None,inner_r=0.25, pie_args={}):\n",
        "    n, m = table.shape \n",
        "    vmin= table.min().min() if vmin is None else vmin    \n",
        "    vmax= table.max().max() if vmax is None else vmax  \n",
        "    centre_circle = plt.Circle((0,0),inner_r,edgecolor='black',facecolor='white',fill=True,linewidth=0.25) \n",
        "    plt.gcf().gca().add_artist(centre_circle)    \n",
        "    norm = mpl.colors.Normalize(vmin=vmin, vmax=vmax)\n",
        "    cmapper = cm.ScalarMappable(norm=norm, cmap=cmap)  \n",
        "    for i, (row_name, row) in enumerate(table.iterrows()):\n",
        "        labels = None if i > 0 else table.columns \n",
        "        wedges = plt.pie([1] * m,radius=inner_r+float(n-i)/n, colors=[cmapper.to_rgba(x) for x in row.values], labels=labels, startangle=90, counterclock=False, wedgeprops={'linewidth':- 1}, **pie_args)\n",
        "        plt.setp(wedges[0], edgecolor='grey',linewidth=1.5)  \n",
        "        wedges = plt.pie([1], radius=inner_r+float(n-i-1)/n, colors=['w'], labels=[row_name], startangle=-90, wedgeprops={'linewidth':0})     \n",
        "        plt.setp(wedges[0], edgecolor='grey',linewidth=1.5) \n",
        "plt.figure(figsize=(8,8))\n",
        "plt.title(\"Timewheel of Hour Vs Year\",y=1.08,fontsize=30) \n",
        "pie_heatmap(month_vs_year, vmin=-20,vmax=80,inner_r=0.2) "
      ],
      "execution_count": null,
      "outputs": [
        {
          "output_type": "stream",
          "text": [
            "\n",
            "Comparison of the top 10 years in which the UFO was sighted vs each month:\n"
          ],
          "name": "stdout"
        },
        {
          "output_type": "display_data",
          "data": {
            "image/png": "[encoded data removed]",
            "text/plain": [
              "<Figure size 576x576 with 1 Axes>"
            ]
          },
          "metadata": {
            "tags": []
          }
        }
      ]
    },
    {
      "cell_type": "markdown",
      "metadata": {
        "id": "ULzqZgrQG9N5",
        "colab_type": "text"
      },
      "source": [
        "#Q141. Write a python program to draw the line using given axis values with the suitable label in the x-axis, y-axis, and a title."
      ]
    },
    {
      "cell_type": "code",
      "metadata": {
        "id": "N9foRCXaeuLd",
        "colab_type": "code",
        "colab": {},
        "outputId": "2c2630fc-2753-4349-8b72-3930f8f9184a"
      },
      "source": [
        "# 141\n",
        "import matplotlib.pyplot as plt\n",
        "%matplotlib inline\n",
        "# x axis values\n",
        "x = [1,2,3] # y axis values \n",
        "y = [2,4,1] # Plot lines and/or markers to the Axes. \n",
        "plt.plot(x, y) # Set the x axis label of the current axis. \n",
        "plt.xlabel('x - axis') # Set the y axis label of the current axis. \n",
        "plt.ylabel('y - axis') # Set a title  \n",
        "plt.title('Sample graph!') # Display a figure. \n",
        "plt.show() "
      ],
      "execution_count": null,
      "outputs": [
        {
          "output_type": "display_data",
          "data": {
            "image/png": "[encoded data removed]",
            "text/plain": [
              "<Figure size 432x288 with 1 Axes>"
            ]
          },
          "metadata": {
            "tags": [],
            "needs_background": "light"
          }
        }
      ]
    },
    {
      "cell_type": "markdown",
      "metadata": {
        "id": "AOI_xDt5HEPe",
        "colab_type": "text"
      },
      "source": [
        "#Q142. Write a python program to draw the line charts of the financial data of the Alphabet Inc., between October.\n",
        "\n",
        "\n",
        "3, 2016 to October 7 2016.\n",
        "\n",
        "Sample Financial data (fdata.csv)-\n",
        "\n",
        "Date,Open,High,Low,Close\n",
        "\n",
        "10-03-16,774.25,776.065002,769.5,772.559998\n",
        "\n",
        "10-04-16 , 776.030029, 778.710022,772.890015,776.429993\n",
        "\n",
        "P a g e 40 | 44\n",
        "\n",
        "10-05-16 , 779.309998, 782.070007,775.650024,776.469971\n",
        "\n",
        "10-06-16 , 779 , 780.47998,775.539978,776.859985\n",
        "\n",
        "10-07-16,779.659973, 779.659973 , 770.75 , 775.080017\n",
        "\n",
        "The code snippet gives the output shown in the screenshot:\n",
        "\n"
      ]
    },
    {
      "cell_type": "code",
      "metadata": {
        "id": "8BMqYVwpeuLf",
        "colab_type": "code",
        "colab": {},
        "outputId": "1a350ca8-6769-4485-ce18-c2a637533368"
      },
      "source": [
        "\n",
        "# 142\n",
        "import matplotlib.pyplot as plt\n",
        "%matplotlib inline\n",
        "import pandas as pd \n",
        "df = pd.read_csv('fdata.csv', sep=',', parse_dates=True, index_col=0) \n",
        "df.plot() \n",
        "plt.show() "
      ],
      "execution_count": null,
      "outputs": [
        {
          "output_type": "display_data",
          "data": {
            "image/png": "[encoded data removed]",
            "text/plain": [
              "<Figure size 432x288 with 1 Axes>"
            ]
          },
          "metadata": {
            "tags": [],
            "needs_background": "light"
          }
        }
      ]
    },
    {
      "cell_type": "markdown",
      "metadata": {
        "id": "CH3AUGLhHrfh",
        "colab_type": "text"
      },
      "source": [
        "#Q143. Write a Python program to plot two or more lines on same plot with the suitable legends of each line."
      ]
    },
    {
      "cell_type": "code",
      "metadata": {
        "id": "6pVONR8xeuLi",
        "colab_type": "code",
        "colab": {},
        "outputId": "d25906a4-ba21-41b4-f355-d2808081ab6e"
      },
      "source": [
        "# 143\n",
        "import matplotlib.pyplot as plt\n",
        "# line 1 points \n",
        "x1 = [10,20,30]\n",
        "y1 = [20,40,10]\n",
        "# plotting the line 1 points  \n",
        "plt.plot(x1, y1, label = \"line 1\")\n",
        "# line 2 points \n",
        "x2 = [10,20,30] \n",
        "y2 = [40,10,30] \n",
        "# plotting the line 2 points \n",
        "plt.plot(x2, y2, label = \"line 2\") \n",
        "plt.xlabel('x - axis') \n",
        "# Set the y axis label of the current axis. \n",
        "plt.ylabel('y - axis') \n",
        "# Set a title of the current axes. \n",
        "plt.title('Two or more lines on same plot with suitable legends ')\n",
        "# show a legend on the plot \n",
        "plt.legend()\n",
        "# Display a figure. \n",
        "plt.show()"
      ],
      "execution_count": null,
      "outputs": [
        {
          "output_type": "display_data",
          "data": {
            "image/png": "[encoded data removed]",
            "text/plain": [
              "<Figure size 432x288 with 1 Axes>"
            ]
          },
          "metadata": {
            "tags": [],
            "needs_background": "light"
          }
        }
      ]
    },
    {
      "cell_type": "markdown",
      "metadata": {
        "id": "OsfdNeKcH4q2",
        "colab_type": "text"
      },
      "source": [
        "#Q144. Write a python programming to display a bar chart of the popularity of programming languages.\n",
        "\n",
        "Sample data:\n",
        "\n",
        "programming languages- Java, Python, PHP, JavaScript, C#, C++\n",
        "\n",
        "Popularity- 22.2, 17.6, 8.8, 8, 7.7 , 6.7\n",
        "\n",
        "The code snippet gives the output shown in the screenshot:"
      ]
    },
    {
      "cell_type": "code",
      "metadata": {
        "id": "OPFsA6__euLj",
        "colab_type": "code",
        "colab": {},
        "outputId": "a40e672e-fe85-4afa-c936-2eda29cd9a58"
      },
      "source": [
        "#144\n",
        "import matplotlib.pyplot as plt \n",
        "x = ['Java', 'Python', 'PHP', 'JavaScript', 'C#', 'C++'] \n",
        "popularity = [22.2, 17.6, 8.8, 8, 7.7, 6.7] \n",
        "x_pos = [i for i, _ in enumerate(x)]\n",
        "plt.bar(x_pos, popularity, color='blue') \n",
        "plt.xlabel(\"Languages\")\n",
        "plt.ylabel(\"Popularity\")\n",
        "plt.title(\"PopularitY of Programming Language\\n\" + \"Worldwide, Oct 2017 compared to a year ago\") \n",
        "plt.xticks(x_pos, x)\n",
        "# Turn on the grid \n",
        "plt.minorticks_on()\n",
        "plt.grid(which='major', linestyle='-', linewidth='0.5', color='red')\n",
        "# Customize the minor grid \n",
        "plt.grid(which='minor', linestyle=':', linewidth='0.5', color='black')\n",
        "plt.show()"
      ],
      "execution_count": null,
      "outputs": [
        {
          "output_type": "display_data",
          "data": {
            "image/png": "[encoded data removed]",
            "text/plain": [
              "<Figure size 432x288 with 1 Axes>"
            ]
          },
          "metadata": {
            "tags": [],
            "needs_background": "light"
          }
        }
      ]
    },
    {
      "cell_type": "markdown",
      "metadata": {
        "id": "DL-9WprdIGEe",
        "colab_type": "text"
      },
      "source": [
        "#Q145. Write a python programming to display a horizontal bar chart of the popularity of programming languages.\n",
        "\n",
        "Sample data:\n",
        "\n",
        "programming languages- Java, Python, PHP, JavaScript, C#, C++\n",
        "\n",
        "Popularity- 22.2, 17.6, 8.8, 8, 7.7 , 6.7\n",
        "\n",
        "The code snippet gives the output shown in the screenshot:"
      ]
    },
    {
      "cell_type": "code",
      "metadata": {
        "id": "YTRfbCfueuLl",
        "colab_type": "code",
        "colab": {},
        "outputId": "c4a9c856-aaf8-4c8e-b2ff-1a48958389e9"
      },
      "source": [
        "# 145\n",
        "import matplotlib.pyplot as plt \n",
        "x = ['Java', 'Python', 'PHP', 'JS', 'C#', 'C++'] \n",
        "popularity = [22.2, 17.6, 8.8, 8, 7.7, 6.7] \n",
        "x_pos = [i for i, _ in enumerate(x)] \n",
        "plt.barh(x_pos, popularity, color='green')\n",
        "plt.xlabel(\"Popularity\")\n",
        "plt.ylabel(\"Languages\") \n",
        "plt.title(\"PopularitY of Programming Language\\n\" + \"Worldwide, Oct 2017 compared to a year ago\")\n",
        "plt.yticks(x_pos, x) \n",
        "# Turn on the grid \n",
        "plt.minorticks_on()\n",
        "plt.grid(which='major', linestyle='-', linewidth='0.5', color='red')\n",
        "# Customize the minor grid \n",
        "plt.grid(which='minor', linestyle=':', linewidth='0.5', color='black') \n",
        "plt.show()"
      ],
      "execution_count": null,
      "outputs": [
        {
          "output_type": "display_data",
          "data": {
            "image/png": "[encoded data removed]",
            "text/plain": [
              "<Figure size 432x288 with 1 Axes>"
            ]
          },
          "metadata": {
            "tags": [],
            "needs_background": "light"
          }
        }
      ]
    },
    {
      "cell_type": "markdown",
      "metadata": {
        "id": "TZfqI2ybIbvo",
        "colab_type": "text"
      },
      "source": [
        "#Q146. Write a python programming to display a bar chart of the Popularity of programming languages. Increase bottom margin.\n",
        "\n",
        "\n",
        "Sample data:\n",
        "\n",
        "programming languages: Java, Python, PHP, JavaScript, C#, C++\n",
        "\n",
        "Popularity: 22.2, 17.6, 8.8, 8, 7.7 , 6.7\n",
        "\n",
        "The code snippet gives the output shown in the screenshot:\n"
      ]
    },
    {
      "cell_type": "code",
      "metadata": {
        "id": "pfBqFTd5euLn",
        "colab_type": "code",
        "colab": {},
        "outputId": "c6224961-454d-4f6b-ae03-a03b1cc8cef7"
      },
      "source": [
        "# 146\n",
        "import matplotlib.pyplot as plt \n",
        "x = ['Java', 'Python', 'PHP', 'JavaScript', 'C#', 'C++'] \n",
        "popularity = [22.2, 17.6, 8.8, 8, 7.7, 6.7] \n",
        "x_pos = [i for i, _ in enumerate(x)] \n",
        "plt.bar(x_pos, popularity, color=(0.4, 0.6, 0.8, 1.0))\n",
        "plt.xlabel(\"Languages\")\n",
        "plt.ylabel(\"Popularity\") \n",
        "plt.title(\"PopularitY of Programming Language\\n\" + \"Worldwide, Oct 2017 compared to a year ago\") \n",
        "# Rotation of the bars names \n",
        "plt.xticks(x_pos, x, rotation=90) \n",
        "# Custom the subplot layout \n",
        "plt.subplots_adjust(bottom=0.4, top=.8) \n",
        "# Turn on the grid \n",
        "plt.minorticks_on() \n",
        "plt.grid(which='major', linestyle='-', linewidth='0.5', color='red')\n",
        "# Customize the minor grid \n",
        "plt.grid(which='minor', linestyle=':', linewidth='0.5', color='black') \n",
        "plt.show()  "
      ],
      "execution_count": null,
      "outputs": [
        {
          "output_type": "display_data",
          "data": {
            "image/png": "[encoded data removed]",
            "text/plain": [
              "<Figure size 432x288 with 1 Axes>"
            ]
          },
          "metadata": {
            "tags": [],
            "needs_background": "light"
          }
        }
      ]
    },
    {
      "cell_type": "markdown",
      "metadata": {
        "id": "2v0ixPu6ImL9",
        "colab_type": "text"
      },
      "source": [
        "#Q147. Write a python program to create the bar plot from a DataFrame.\n",
        "a b c d e\n",
        "\n",
        "2 4,8,5,7,6\n",
        "\n",
        "4 2,3,4,2,6\n",
        "\n",
        "6 4,7,4,7, 8\n",
        "\n",
        "8 2,6,4,8, 6\n",
        "\n",
        "10 2,4,3,3, 2\n",
        "\n",
        "The code snippet gives the output shown in the following screenshot:"
      ]
    },
    {
      "cell_type": "code",
      "metadata": {
        "id": "OzwW4iAjeuLo",
        "colab_type": "code",
        "colab": {},
        "outputId": "5d16f670-d02b-4b9f-910a-f44465ab0b03"
      },
      "source": [
        "# 147\n",
        "from pandas import DataFrame\n",
        "import matplotlib.pyplot as plt \n",
        "import numpy as np  \n",
        "a=np.array([[4,8,5,7,6],[2,3,4,2,6],[4,7,4,7,8],[2,6,4,8,6],[2,4,3,3,2]]) \n",
        "df=DataFrame(a, columns=['a','b','c','d','e'], index=[2,4,6,8,10])  \n",
        "df.plot(kind='bar') \n",
        "# Turn on the grid \n",
        "plt.minorticks_on() \n",
        "plt.grid(which='major', linestyle='-', linewidth='0.5', color='green') \n",
        "plt.grid(which='minor', linestyle=':', linewidth='0.5', color='black')  \n",
        "plt.show()"
      ],
      "execution_count": null,
      "outputs": [
        {
          "output_type": "display_data",
          "data": {
            "image/png": "[encoded data removed]",
            "text/plain": [
              "<Figure size 432x288 with 1 Axes>"
            ]
          },
          "metadata": {
            "tags": [],
            "needs_background": "light"
          }
        }
      ]
    },
    {
      "cell_type": "markdown",
      "metadata": {
        "id": "EgASlzLyIz38",
        "colab_type": "text"
      },
      "source": [
        "#Q148. Write a python program to draw the scatter plot comparing two subject marks of Mathematics and Science. Use marks of 10 students.\n",
        "\n",
        "\n",
        "Sample data:\n",
        "\n",
        "Test Datamath_marks = [88, 92 , 80, 89, 100, 80, 60, 100, 80, 34]\n",
        "\n",
        "science_marks = [35, 79, 79 , 48, 100, 88, 32, 45, 20, 30]\n",
        "\n",
        "marks_range = [10, 20, 30, 40, 50, 60, 70, 80, 90, 100]"
      ]
    },
    {
      "cell_type": "code",
      "metadata": {
        "id": "2IEa3NjLeuLq",
        "colab_type": "code",
        "colab": {},
        "outputId": "81a5883d-6ef8-4245-e91a-ae0b3eb5c028"
      },
      "source": [
        "# 148\n",
        "import matplotlib.pyplot as plt\n",
        "import pandas as pd\n",
        "math_marks = [88, 92, 80, 89, 100, 80, 60, 100, 80, 34] \n",
        "science_marks = [35, 79, 79, 48, 100, 88, 32, 45, 20, 30] \n",
        "marks_range = [10, 20, 30, 40, 50, 60, 70, 80, 90, 100] \n",
        "plt.scatter(marks_range, math_marks, label='Math marks', color='r')\n",
        "plt.scatter(marks_range, science_marks, label='Science marks', color='g')\n",
        "plt.title('Scatter Plot')\n",
        "plt.xlabel('Marks Range') \n",
        "plt.ylabel('Marks Scored')\n",
        "plt.legend()\n",
        "plt.show() "
      ],
      "execution_count": null,
      "outputs": [
        {
          "output_type": "display_data",
          "data": {
            "image/png": "[encoded data removed]",
            "text/plain": [
              "<Figure size 432x288 with 1 Axes>"
            ]
          },
          "metadata": {
            "tags": [],
            "needs_background": "light"
          }
        }
      ]
    },
    {
      "cell_type": "markdown",
      "metadata": {
        "id": "7uIwOL_KI9OV",
        "colab_type": "text"
      },
      "source": [
        "#Q149. Write a python program to draw the scatter plot for three different groups comparing weights and heights."
      ]
    },
    {
      "cell_type": "code",
      "metadata": {
        "id": "uQWA3QH4euLs",
        "colab_type": "code",
        "colab": {},
        "outputId": "d2845768-e16e-427a-8b22-998faa2a0f25"
      },
      "source": [
        "# 149\n",
        "import matplotlib.pyplot as plt\n",
        "import numpy as np \n",
        "weight1=[67,57.2,59.6,59.64,55.8,61.2,60.45,61,56.23,56]\n",
        "height1=[101.7,197.6,98.3,125.1,113.7,157.7,136,148.9,125.3,114.9] \n",
        "weight2=[61.9,64,62.1,64.2,62.3,65.4,62.4,61.4,62.5,63.6]\n",
        "height2=[152.8,155.3,135.1,125.2,151.3,135,182.2,195.9,165.1,125.1] \n",
        "weight3=[68.2,67.2,68.4,68.7,71,71.3,70.8,70,71.1,71.7]\n",
        "height3=[165.8,170.9,192.8,135.4,161.4,136.1,167.1,235.1,181.1,177.3]\n",
        "weight=np.concatenate((weight1,weight2,weight3))\n",
        "height=np.concatenate((height1,height2,height3))\n",
        "# plotcolor = ['red','green','blue']\n",
        "plt.scatter(weight, height, marker='*')\n",
        "plt.xlabel('weight', fontsize=16)\n",
        "plt.ylabel('height', fontsize=16)\n",
        "plt.title('Group wise Weight vs Height scatter plot',fontsize=20)\n",
        "plt.show()"
      ],
      "execution_count": null,
      "outputs": [
        {
          "output_type": "display_data",
          "data": {
            "image/png": "[encoded data removed]",
            "text/plain": [
              "<Figure size 432x288 with 1 Axes>"
            ]
          },
          "metadata": {
            "tags": [],
            "needs_background": "light"
          }
        }
      ]
    },
    {
      "cell_type": "markdown",
      "metadata": {
        "id": "sUcxIo6eJESx",
        "colab_type": "text"
      },
      "source": [
        "#Q150. Write a python program to draw a scatter plot to find sea-level rise in past 100 years.\n",
        "The output shown in the screenshot:"
      ]
    },
    {
      "cell_type": "code",
      "metadata": {
        "id": "EPl9R0YBeuLv",
        "colab_type": "code",
        "colab": {},
        "outputId": "c7874927-0239-40ec-a2cd-bfc75be586d7"
      },
      "source": [
        "# 150\n",
        "import matplotlib.pyplot as plt\n",
        "import pandas as pd \n",
        "data = pd.read_csv('data.csv') \n",
        "year = data['year'] \n",
        "sea_levels = data['CSIRO_sea_level'] \n",
        "plt.scatter(year, sea_levels, edgecolors='g')\n",
        "plt.xlabel('Year')\n",
        "plt.ylabel('Sea Level (inches)')\n",
        "plt.title('Rise in Sealevel')\n",
        "plt.show()  "
      ],
      "execution_count": null,
      "outputs": [
        {
          "output_type": "display_data",
          "data": {
            "image/png": "[encoded data removed]",
            "text/plain": [
              "<Figure size 432x288 with 1 Axes>"
            ]
          },
          "metadata": {
            "tags": [],
            "needs_background": "light"
          }
        }
      ]
    }
  ]
}