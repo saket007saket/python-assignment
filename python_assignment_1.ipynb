{
 "cells": [
  {
   "cell_type": "markdown",
   "metadata": {},
   "source": [
    "# TASK 1"
   ]
  },
  {
   "cell_type": "markdown",
   "metadata": {},
   "source": [
    "1) Install Jupyter notebook and run the first program and share the screenshot of the output.\n",
    "\n",
    "\n",
    "![](assignment_screen_shot.png)\n",
    "\n",
    "\n"
   ]
  },
  {
   "cell_type": "markdown",
   "metadata": {},
   "source": [
    "2)Write a program which will find all such numbers which are divisible by 7 but are not a multiple\n",
    "of 5, between 2000 and 3200 (both included). The numbers obtained should be printed in a\n",
    "comma-separated sequence on a single line."
   ]
  },
  {
   "cell_type": "code",
   "execution_count": 1,
   "metadata": {},
   "outputs": [
    {
     "name": "stdout",
     "output_type": "stream",
     "text": [
      "printing lists separated by commas\n",
      "2002, 2009, 2016, 2023, 2037, 2044, 2051, 2058, 2072, 2079, 2086, 2093, 2107, 2114, 2121, 2128, 2142, 2149, 2156, 2163, 2177, 2184, 2191, 2198, 2212, 2219, 2226, 2233, 2247, 2254, 2261, 2268, 2282, 2289, 2296, 2303, 2317, 2324, 2331, 2338, 2352, 2359, 2366, 2373, 2387, 2394, 2401, 2408, 2422, 2429, 2436, 2443, 2457, 2464, 2471, 2478, 2492, 2499, 2506, 2513, 2527, 2534, 2541, 2548, 2562, 2569, 2576, 2583, 2597, 2604, 2611, 2618, 2632, 2639, 2646, 2653, 2667, 2674, 2681, 2688, 2702, 2709, 2716, 2723, 2737, 2744, 2751, 2758, 2772, 2779, 2786, 2793, 2807, 2814, 2821, 2828, 2842, 2849, 2856, 2863, 2877, 2884, 2891, 2898, 2912, 2919, 2926, 2933, 2947, 2954, 2961, 2968, 2982, 2989, 2996, 3003, 3017, 3024, 3031, 3038, 3052, 3059, 3066, 3073, 3087, 3094, 3101, 3108, 3122, 3129, 3136, 3143, 3157, 3164, 3171, 3178, 3192, 3199\n"
     ]
    }
   ],
   "source": [
    "l=[]\n",
    "for i in range(2000,3201):\n",
    "    if (i%7==0):\n",
    "        if(i%5!=0):\n",
    "            l.append(i)\n",
    "            \n",
    "l\n",
    "\n",
    "# printing the list using loop \n",
    "#for x in range(len(l)): \n",
    " #   print (l[x],\",\") \n",
    "    \n",
    "# printing the list using * and sep operator \n",
    "print(\"printing lists separated by commas\") \n",
    "  \n",
    "print(*l, sep = \", \")  "
   ]
  },
  {
   "cell_type": "markdown",
   "metadata": {},
   "source": [
    "3)Write a Python program to accept the user's first and last name and then getting them printed in\n",
    "the the reverse order with a space between first name and last name.\n"
   ]
  },
  {
   "cell_type": "code",
   "execution_count": 2,
   "metadata": {},
   "outputs": [],
   "source": [
    "def name_reverse(a,b):\n",
    "    li=[a,b]\n",
    "    li.reverse()\n",
    "    return li[0]+' '+li[1]"
   ]
  },
  {
   "cell_type": "code",
   "execution_count": 3,
   "metadata": {},
   "outputs": [
    {
     "name": "stdout",
     "output_type": "stream",
     "text": [
      "input first name \n",
      "Saket\n",
      "input second name\n",
      "Nandan\n"
     ]
    },
    {
     "data": {
      "text/plain": [
       "'Nandan Saket'"
      ]
     },
     "execution_count": 3,
     "metadata": {},
     "output_type": "execute_result"
    }
   ],
   "source": [
    "print(\"input first name \")\n",
    "j=str(input())\n",
    "print(\"input second name\")\n",
    "k=str(input())\n",
    "name_reverse(j,k)"
   ]
  },
  {
   "cell_type": "markdown",
   "metadata": {},
   "source": [
    "4)Write a Python program to find the volume of a sphere with diameter 12 cm.\n",
    "Formula: V=4/3 * π * r^3\n"
   ]
  },
  {
   "cell_type": "code",
   "execution_count": 4,
   "metadata": {},
   "outputs": [],
   "source": [
    "def vol_sph(a):\n",
    "    pie=22/7\n",
    "    b=a*a*a\n",
    "    return((4*b*pie)/3)"
   ]
  },
  {
   "cell_type": "code",
   "execution_count": 5,
   "metadata": {},
   "outputs": [
    {
     "name": "stdout",
     "output_type": "stream",
     "text": [
      "valume of sphere with diameter is 12 cm  905.1428571428572 cm\n"
     ]
    }
   ],
   "source": [
    "diameter=12\n",
    "r=diameter/2\n",
    "#r\n",
    "print('valume of sphere with diameter is 12 cm '+' '+ str(vol_sph(r))+' '+'cm')"
   ]
  },
  {
   "cell_type": "markdown",
   "metadata": {},
   "source": [
    "# TASK 2 "
   ]
  },
  {
   "cell_type": "markdown",
   "metadata": {},
   "source": [
    "1)  Write a program which accepts a sequence of comma-separated numbers from console and\n",
    "generate a list."
   ]
  },
  {
   "cell_type": "code",
   "execution_count": 6,
   "metadata": {},
   "outputs": [],
   "source": [
    "#suppose if i want to take  numpers from user and generate a list \n",
    "\n",
    "def input_list(a):\n",
    "    l=[]\n",
    "    for i in range(a):\n",
    "        b=input()\n",
    "        l.append(b)\n",
    "        \n",
    "    return l  "
   ]
  },
  {
   "cell_type": "code",
   "execution_count": 7,
   "metadata": {},
   "outputs": [
    {
     "name": "stdout",
     "output_type": "stream",
     "text": [
      "what is the size of list\n",
      "5\n",
      "1\n",
      "2\n",
      "3\n",
      "4\n",
      "5\n"
     ]
    },
    {
     "data": {
      "text/plain": [
       "['1', '2', '3', '4', '5']"
      ]
     },
     "execution_count": 7,
     "metadata": {},
     "output_type": "execute_result"
    }
   ],
   "source": [
    "print('what is the size of list')\n",
    "b=int(input())\n",
    "input_list(b)"
   ]
  },
  {
   "cell_type": "code",
   "execution_count": 8,
   "metadata": {},
   "outputs": [],
   "source": [
    "#2)Create the below pattern using nested for loop in Python.\n",
    "\n",
    "\n",
    "#*\n",
    "#* *\n",
    "#* * *\n",
    "#* * * *\n",
    "#* * * * *\n",
    "#* * * *\n",
    "#* * *\n",
    "#* *\n",
    "#*\n",
    "\n"
   ]
  },
  {
   "cell_type": "code",
   "execution_count": 9,
   "metadata": {},
   "outputs": [],
   "source": [
    "def star_patt(n):\n",
    "    for i in range(0, n): \n",
    "        if(i<5):\n",
    "            for j in range(0, i+1):\n",
    "                print(\"*\",end=\"\") \n",
    "        else:\n",
    "            for j in range(0,n-i):\n",
    "                print(\"*\",end=\"\")\n",
    "                \n",
    "        print(\"\\r\")\n",
    "                \n",
    "      \n"
   ]
  },
  {
   "cell_type": "code",
   "execution_count": 10,
   "metadata": {},
   "outputs": [
    {
     "name": "stdout",
     "output_type": "stream",
     "text": [
      "no of rows we want\n",
      "9\n",
      "*\n",
      "**\n",
      "***\n",
      "****\n",
      "*****\n",
      "****\n",
      "***\n",
      "**\n",
      "*\n"
     ]
    }
   ],
   "source": [
    "print(\"no of rows we want\")\n",
    "b=int(input())\n",
    "star_patt(b)"
   ]
  },
  {
   "cell_type": "markdown",
   "metadata": {},
   "source": [
    "3)Write a Python program to reverse a word after accepting the input from the user.\n",
    "Sample Output:\n",
    "Input word: AcadGild\n",
    "Output: dilGdacA"
   ]
  },
  {
   "cell_type": "code",
   "execution_count": 11,
   "metadata": {},
   "outputs": [],
   "source": [
    "def rev_str(a):\n",
    "    j=''\n",
    "    li=list(a)\n",
    "    li.reverse()\n",
    "    for i in li:\n",
    "        j+=i\n",
    "    return j"
   ]
  },
  {
   "cell_type": "code",
   "execution_count": 12,
   "metadata": {},
   "outputs": [
    {
     "name": "stdout",
     "output_type": "stream",
     "text": [
      "input ur required string\n",
      "dilGdacA\n"
     ]
    },
    {
     "data": {
      "text/plain": [
       "'AcadGlid'"
      ]
     },
     "execution_count": 12,
     "metadata": {},
     "output_type": "execute_result"
    }
   ],
   "source": [
    "print(\"input ur required string\")\n",
    "c=str(input())\n",
    "rev_str(c)"
   ]
  },
  {
   "cell_type": "markdown",
   "metadata": {},
   "source": [
    "4.)Write a Python Program to print the given string in the format specified in the sample output.\n",
    "\n",
    "WE, THE PEOPLE OF INDIA, having solemnly resolved to constitute India into a\n",
    "SOVEREIGN, SOCIALIST, SECULAR, DEMOCRATIC REPUBLIC and to secure to all citizens\n"
   ]
  },
  {
   "cell_type": "markdown",
   "metadata": {},
   "source": [
    "Sample Output:"
   ]
  },
  {
   "cell_type": "markdown",
   "metadata": {},
   "source": [
    "WE, THE PEOPLE OF INDIA,\n",
    "\n",
    "         having solemnly resolved to constitute India into a SOVEREIGN, !\n",
    "         \n",
    "                SOCIALIST, SECULAR, DEMOCRATIC REPUBLIC\n",
    "                \n",
    "                 and to secure to all its citizens\n",
    "                 "
   ]
  },
  {
   "cell_type": "code",
   "execution_count": 13,
   "metadata": {},
   "outputs": [
    {
     "data": {
      "text/plain": [
       "'WE, THE PEOPLE OF INDIA, having solemnly resolved to constitute India into a SOVEREIGN, SOCIALIST, SECULAR, DEMOCRATIC REPUBLIC and to secure to all citizens'"
      ]
     },
     "execution_count": 13,
     "metadata": {},
     "output_type": "execute_result"
    }
   ],
   "source": [
    "s='WE, THE PEOPLE OF INDIA, having solemnly resolved to constitute India into a SOVEREIGN, SOCIALIST, SECULAR, DEMOCRATIC REPUBLIC and to secure to all citizens'\n",
    "s"
   ]
  },
  {
   "cell_type": "code",
   "execution_count": 14,
   "metadata": {},
   "outputs": [
    {
     "name": "stdout",
     "output_type": "stream",
     "text": [
      "WE, THE PEOPLE OF INDIA,\n",
      "\t  having solemnly resolved to constitute India into a SOVEREIGN,!\n",
      "\t \t  SOCIALIST, SECULAR, DEMOCRATIC REPUBLIC \n",
      "\t \t   and to secure to all citizens\n"
     ]
    }
   ],
   "source": [
    "p=s.split(',')\n",
    "#p\n",
    "l=p[5].partition(\"and\")\n",
    "print(p[0]+\",\"+p[1]+\",\")\n",
    "print(\"\\t\",p[2]+\",\"+\"!\")\n",
    "print(\"\\t\",\"\\t\",p[3]+\",\"+p[4]+\",\"+l[0])\n",
    "print(\"\\t\",\"\\t\",\" \",l[1]+l[2])"
   ]
  },
  {
   "cell_type": "code",
   "execution_count": null,
   "metadata": {},
   "outputs": [],
   "source": []
  },
  {
   "cell_type": "code",
   "execution_count": null,
   "metadata": {},
   "outputs": [],
   "source": []
  }
 ],
 "metadata": {
  "kernelspec": {
   "display_name": "Python 3",
   "language": "python",
   "name": "python3"
  },
  "language_info": {
   "codemirror_mode": {
    "name": "ipython",
    "version": 3
   },
   "file_extension": ".py",
   "mimetype": "text/x-python",
   "name": "python",
   "nbconvert_exporter": "python",
   "pygments_lexer": "ipython3",
   "version": "3.7.4"
  }
 },
 "nbformat": 4,
 "nbformat_minor": 2
}
